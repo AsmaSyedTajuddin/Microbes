{
 "cells": [
  {
   "cell_type": "code",
   "execution_count": 1,
   "id": "8b1b4908",
   "metadata": {
    "execution": {
     "iopub.execute_input": "2022-05-17T14:25:40.009924Z",
     "iopub.status.busy": "2022-05-17T14:25:40.009339Z",
     "iopub.status.idle": "2022-05-17T14:25:48.472108Z",
     "shell.execute_reply": "2022-05-17T14:25:48.471312Z"
    },
    "papermill": {
     "duration": 8.495351,
     "end_time": "2022-05-17T14:25:48.474541",
     "exception": false,
     "start_time": "2022-05-17T14:25:39.979190",
     "status": "completed"
    },
    "tags": []
   },
   "outputs": [
    {
     "data": {
      "text/html": [
       "<style type='text/css'>\n",
       ".datatable table.frame { margin-bottom: 0; }\n",
       ".datatable table.frame thead { border-bottom: none; }\n",
       ".datatable table.frame tr.coltypes td {  color: #FFFFFF;  line-height: 6px;  padding: 0 0.5em;}\n",
       ".datatable .bool    { background: #DDDD99; }\n",
       ".datatable .object  { background: #565656; }\n",
       ".datatable .int     { background: #5D9E5D; }\n",
       ".datatable .float   { background: #4040CC; }\n",
       ".datatable .str     { background: #CC4040; }\n",
       ".datatable .time    { background: #40CC40; }\n",
       ".datatable .row_index {  background: var(--jp-border-color3);  border-right: 1px solid var(--jp-border-color0);  color: var(--jp-ui-font-color3);  font-size: 9px;}\n",
       ".datatable .frame tbody td { text-align: left; }\n",
       ".datatable .frame tr.coltypes .row_index {  background: var(--jp-border-color0);}\n",
       ".datatable th:nth-child(2) { padding-left: 12px; }\n",
       ".datatable .hellipsis {  color: var(--jp-cell-editor-border-color);}\n",
       ".datatable .vellipsis {  background: var(--jp-layout-color0);  color: var(--jp-cell-editor-border-color);}\n",
       ".datatable .na {  color: var(--jp-cell-editor-border-color);  font-size: 80%;}\n",
       ".datatable .sp {  opacity: 0.25;}\n",
       ".datatable .footer { font-size: 9px; }\n",
       ".datatable .frame_dimensions {  background: var(--jp-border-color3);  border-top: 1px solid var(--jp-border-color0);  color: var(--jp-ui-font-color3);  display: inline-block;  opacity: 0.6;  padding: 1px 10px 1px 5px;}\n",
       "</style>\n"
      ],
      "text/plain": [
       "<IPython.core.display.HTML object>"
      ]
     },
     "metadata": {},
     "output_type": "display_data"
    }
   ],
   "source": [
    "import os\n",
    "import numpy as np\n",
    "import pandas as pd\n",
    "import random\n",
    "import matplotlib.pyplot as plt\n",
    "import seaborn as sns\n",
    "\n",
    "from contextlib import contextmanager\n",
    "from time import time\n",
    "from tqdm import tqdm\n",
    "import lightgbm as lgbm\n",
    "import category_encoders as ce\n",
    "\n",
    "from tensorflow.keras.utils import to_categorical\n",
    "from sklearn.metrics import classification_report, log_loss, accuracy_score\n",
    "from sklearn.metrics import mean_squared_error\n",
    "from sklearn.model_selection import KFold"
   ]
  },
  {
   "cell_type": "markdown",
   "id": "d7024bbb",
   "metadata": {
    "papermill": {
     "duration": 0.027718,
     "end_time": "2022-05-17T14:25:48.531225",
     "exception": false,
     "start_time": "2022-05-17T14:25:48.503507",
     "status": "completed"
    },
    "tags": []
   },
   "source": [
    "# Microbes Predict and Visualize Importance"
   ]
  },
  {
   "cell_type": "markdown",
   "id": "174cef8d",
   "metadata": {
    "papermill": {
     "duration": 0.028823,
     "end_time": "2022-05-17T14:25:48.587286",
     "exception": false,
     "start_time": "2022-05-17T14:25:48.558463",
     "status": "completed"
    },
    "tags": []
   },
   "source": [
    "# Data preparation"
   ]
  },
  {
   "cell_type": "code",
   "execution_count": 2,
   "id": "475e32d8",
   "metadata": {
    "execution": {
     "iopub.execute_input": "2022-05-17T14:25:48.642971Z",
     "iopub.status.busy": "2022-05-17T14:25:48.642739Z",
     "iopub.status.idle": "2022-05-17T14:25:48.845735Z",
     "shell.execute_reply": "2022-05-17T14:25:48.845013Z"
    },
    "papermill": {
     "duration": 0.233487,
     "end_time": "2022-05-17T14:25:48.847932",
     "exception": false,
     "start_time": "2022-05-17T14:25:48.614445",
     "status": "completed"
    },
    "tags": []
   },
   "outputs": [
    {
     "data": {
      "text/html": [
       "<div>\n",
       "<style scoped>\n",
       "    .dataframe tbody tr th:only-of-type {\n",
       "        vertical-align: middle;\n",
       "    }\n",
       "\n",
       "    .dataframe tbody tr th {\n",
       "        vertical-align: top;\n",
       "    }\n",
       "\n",
       "    .dataframe thead th {\n",
       "        text-align: right;\n",
       "    }\n",
       "</style>\n",
       "<table border=\"1\" class=\"dataframe\">\n",
       "  <thead>\n",
       "    <tr style=\"text-align: right;\">\n",
       "      <th></th>\n",
       "      <th>Unnamed: 0</th>\n",
       "      <th>Solidity</th>\n",
       "      <th>Eccentricity</th>\n",
       "      <th>EquivDiameter</th>\n",
       "      <th>Extrema</th>\n",
       "      <th>FilledArea</th>\n",
       "      <th>Extent</th>\n",
       "      <th>Orientation</th>\n",
       "      <th>EulerNumber</th>\n",
       "      <th>BoundingBox1</th>\n",
       "      <th>...</th>\n",
       "      <th>ConvexHull4</th>\n",
       "      <th>MajorAxisLength</th>\n",
       "      <th>MinorAxisLength</th>\n",
       "      <th>Perimeter</th>\n",
       "      <th>ConvexArea</th>\n",
       "      <th>Centroid1</th>\n",
       "      <th>Centroid2</th>\n",
       "      <th>Area</th>\n",
       "      <th>raddi</th>\n",
       "      <th>microorganisms</th>\n",
       "    </tr>\n",
       "  </thead>\n",
       "  <tbody>\n",
       "    <tr>\n",
       "      <th>0</th>\n",
       "      <td>0</td>\n",
       "      <td>10.70</td>\n",
       "      <td>15.8</td>\n",
       "      <td>5.43</td>\n",
       "      <td>3.75</td>\n",
       "      <td>0.7850</td>\n",
       "      <td>8.14</td>\n",
       "      <td>2.15</td>\n",
       "      <td>22.3</td>\n",
       "      <td>2.97</td>\n",
       "      <td>...</td>\n",
       "      <td>2.97</td>\n",
       "      <td>1.340</td>\n",
       "      <td>1.610</td>\n",
       "      <td>0.683</td>\n",
       "      <td>0.1950</td>\n",
       "      <td>3.63</td>\n",
       "      <td>12.10</td>\n",
       "      <td>1.310</td>\n",
       "      <td>7.99</td>\n",
       "      <td>Spirogyra</td>\n",
       "    </tr>\n",
       "    <tr>\n",
       "      <th>1</th>\n",
       "      <td>1</td>\n",
       "      <td>5.60</td>\n",
       "      <td>18.3</td>\n",
       "      <td>4.14</td>\n",
       "      <td>6.16</td>\n",
       "      <td>0.3640</td>\n",
       "      <td>3.51</td>\n",
       "      <td>18.60</td>\n",
       "      <td>22.5</td>\n",
       "      <td>5.41</td>\n",
       "      <td>...</td>\n",
       "      <td>5.47</td>\n",
       "      <td>1.520</td>\n",
       "      <td>1.520</td>\n",
       "      <td>1.010</td>\n",
       "      <td>0.2150</td>\n",
       "      <td>6.01</td>\n",
       "      <td>20.60</td>\n",
       "      <td>0.765</td>\n",
       "      <td>7.99</td>\n",
       "      <td>Spirogyra</td>\n",
       "    </tr>\n",
       "    <tr>\n",
       "      <th>2</th>\n",
       "      <td>2</td>\n",
       "      <td>8.32</td>\n",
       "      <td>19.8</td>\n",
       "      <td>4.63</td>\n",
       "      <td>6.66</td>\n",
       "      <td>0.4150</td>\n",
       "      <td>5.85</td>\n",
       "      <td>21.00</td>\n",
       "      <td>22.4</td>\n",
       "      <td>5.96</td>\n",
       "      <td>...</td>\n",
       "      <td>5.96</td>\n",
       "      <td>1.630</td>\n",
       "      <td>1.380</td>\n",
       "      <td>1.110</td>\n",
       "      <td>0.1820</td>\n",
       "      <td>6.55</td>\n",
       "      <td>11.50</td>\n",
       "      <td>0.953</td>\n",
       "      <td>7.99</td>\n",
       "      <td>Spirogyra</td>\n",
       "    </tr>\n",
       "    <tr>\n",
       "      <th>3</th>\n",
       "      <td>3</td>\n",
       "      <td>10.10</td>\n",
       "      <td>17.9</td>\n",
       "      <td>7.29</td>\n",
       "      <td>11.10</td>\n",
       "      <td>1.4700</td>\n",
       "      <td>6.30</td>\n",
       "      <td>9.94</td>\n",
       "      <td>21.9</td>\n",
       "      <td>8.81</td>\n",
       "      <td>...</td>\n",
       "      <td>8.88</td>\n",
       "      <td>2.040</td>\n",
       "      <td>2.120</td>\n",
       "      <td>0.715</td>\n",
       "      <td>0.3710</td>\n",
       "      <td>10.30</td>\n",
       "      <td>12.00</td>\n",
       "      <td>2.340</td>\n",
       "      <td>7.99</td>\n",
       "      <td>Spirogyra</td>\n",
       "    </tr>\n",
       "    <tr>\n",
       "      <th>4</th>\n",
       "      <td>4</td>\n",
       "      <td>6.27</td>\n",
       "      <td>20.2</td>\n",
       "      <td>20.10</td>\n",
       "      <td>10.70</td>\n",
       "      <td>14.7000</td>\n",
       "      <td>3.97</td>\n",
       "      <td>2.58</td>\n",
       "      <td>11.9</td>\n",
       "      <td>10.20</td>\n",
       "      <td>...</td>\n",
       "      <td>10.20</td>\n",
       "      <td>7.780</td>\n",
       "      <td>6.210</td>\n",
       "      <td>6.800</td>\n",
       "      <td>4.4400</td>\n",
       "      <td>14.00</td>\n",
       "      <td>9.55</td>\n",
       "      <td>17.600</td>\n",
       "      <td>7.99</td>\n",
       "      <td>Spirogyra</td>\n",
       "    </tr>\n",
       "    <tr>\n",
       "      <th>...</th>\n",
       "      <td>...</td>\n",
       "      <td>...</td>\n",
       "      <td>...</td>\n",
       "      <td>...</td>\n",
       "      <td>...</td>\n",
       "      <td>...</td>\n",
       "      <td>...</td>\n",
       "      <td>...</td>\n",
       "      <td>...</td>\n",
       "      <td>...</td>\n",
       "      <td>...</td>\n",
       "      <td>...</td>\n",
       "      <td>...</td>\n",
       "      <td>...</td>\n",
       "      <td>...</td>\n",
       "      <td>...</td>\n",
       "      <td>...</td>\n",
       "      <td>...</td>\n",
       "      <td>...</td>\n",
       "      <td>...</td>\n",
       "      <td>...</td>\n",
       "    </tr>\n",
       "    <tr>\n",
       "      <th>30522</th>\n",
       "      <td>30522</td>\n",
       "      <td>3.01</td>\n",
       "      <td>22.6</td>\n",
       "      <td>4.90</td>\n",
       "      <td>20.00</td>\n",
       "      <td>0.4340</td>\n",
       "      <td>1.40</td>\n",
       "      <td>19.90</td>\n",
       "      <td>22.1</td>\n",
       "      <td>18.10</td>\n",
       "      <td>...</td>\n",
       "      <td>18.60</td>\n",
       "      <td>4.350</td>\n",
       "      <td>1.350</td>\n",
       "      <td>1.710</td>\n",
       "      <td>0.5490</td>\n",
       "      <td>19.10</td>\n",
       "      <td>13.20</td>\n",
       "      <td>1.070</td>\n",
       "      <td>7.15</td>\n",
       "      <td>Ulothrix</td>\n",
       "    </tr>\n",
       "    <tr>\n",
       "      <th>30523</th>\n",
       "      <td>30523</td>\n",
       "      <td>5.19</td>\n",
       "      <td>22.6</td>\n",
       "      <td>2.07</td>\n",
       "      <td>19.40</td>\n",
       "      <td>0.0788</td>\n",
       "      <td>1.67</td>\n",
       "      <td>5.09</td>\n",
       "      <td>22.8</td>\n",
       "      <td>19.20</td>\n",
       "      <td>...</td>\n",
       "      <td>20.00</td>\n",
       "      <td>1.460</td>\n",
       "      <td>0.411</td>\n",
       "      <td>0.458</td>\n",
       "      <td>0.0597</td>\n",
       "      <td>19.80</td>\n",
       "      <td>17.20</td>\n",
       "      <td>0.197</td>\n",
       "      <td>7.15</td>\n",
       "      <td>Ulothrix</td>\n",
       "    </tr>\n",
       "    <tr>\n",
       "      <th>30524</th>\n",
       "      <td>30524</td>\n",
       "      <td>9.21</td>\n",
       "      <td>22.7</td>\n",
       "      <td>2.07</td>\n",
       "      <td>21.00</td>\n",
       "      <td>0.0790</td>\n",
       "      <td>5.81</td>\n",
       "      <td>12.70</td>\n",
       "      <td>22.8</td>\n",
       "      <td>20.10</td>\n",
       "      <td>...</td>\n",
       "      <td>20.10</td>\n",
       "      <td>1.060</td>\n",
       "      <td>0.257</td>\n",
       "      <td>0.319</td>\n",
       "      <td>0.0341</td>\n",
       "      <td>20.70</td>\n",
       "      <td>11.60</td>\n",
       "      <td>0.198</td>\n",
       "      <td>7.15</td>\n",
       "      <td>Ulothrix</td>\n",
       "    </tr>\n",
       "    <tr>\n",
       "      <th>30525</th>\n",
       "      <td>30525</td>\n",
       "      <td>8.21</td>\n",
       "      <td>22.6</td>\n",
       "      <td>1.87</td>\n",
       "      <td>20.50</td>\n",
       "      <td>0.0641</td>\n",
       "      <td>5.96</td>\n",
       "      <td>11.30</td>\n",
       "      <td>22.8</td>\n",
       "      <td>20.20</td>\n",
       "      <td>...</td>\n",
       "      <td>20.20</td>\n",
       "      <td>1.010</td>\n",
       "      <td>0.285</td>\n",
       "      <td>0.350</td>\n",
       "      <td>0.0314</td>\n",
       "      <td>20.80</td>\n",
       "      <td>20.40</td>\n",
       "      <td>0.162</td>\n",
       "      <td>7.15</td>\n",
       "      <td>Ulothrix</td>\n",
       "    </tr>\n",
       "    <tr>\n",
       "      <th>30526</th>\n",
       "      <td>30526</td>\n",
       "      <td>6.57</td>\n",
       "      <td>21.0</td>\n",
       "      <td>2.13</td>\n",
       "      <td>21.20</td>\n",
       "      <td>0.0840</td>\n",
       "      <td>3.77</td>\n",
       "      <td>16.50</td>\n",
       "      <td>22.8</td>\n",
       "      <td>20.70</td>\n",
       "      <td>...</td>\n",
       "      <td>20.80</td>\n",
       "      <td>0.969</td>\n",
       "      <td>0.642</td>\n",
       "      <td>0.385</td>\n",
       "      <td>0.0502</td>\n",
       "      <td>21.00</td>\n",
       "      <td>18.40</td>\n",
       "      <td>0.208</td>\n",
       "      <td>7.15</td>\n",
       "      <td>Ulothrix</td>\n",
       "    </tr>\n",
       "  </tbody>\n",
       "</table>\n",
       "<p>30527 rows × 26 columns</p>\n",
       "</div>"
      ],
      "text/plain": [
       "       Unnamed: 0  Solidity  Eccentricity  EquivDiameter  Extrema  FilledArea  \\\n",
       "0               0     10.70          15.8           5.43     3.75      0.7850   \n",
       "1               1      5.60          18.3           4.14     6.16      0.3640   \n",
       "2               2      8.32          19.8           4.63     6.66      0.4150   \n",
       "3               3     10.10          17.9           7.29    11.10      1.4700   \n",
       "4               4      6.27          20.2          20.10    10.70     14.7000   \n",
       "...           ...       ...           ...            ...      ...         ...   \n",
       "30522       30522      3.01          22.6           4.90    20.00      0.4340   \n",
       "30523       30523      5.19          22.6           2.07    19.40      0.0788   \n",
       "30524       30524      9.21          22.7           2.07    21.00      0.0790   \n",
       "30525       30525      8.21          22.6           1.87    20.50      0.0641   \n",
       "30526       30526      6.57          21.0           2.13    21.20      0.0840   \n",
       "\n",
       "       Extent  Orientation  EulerNumber  BoundingBox1  ...  ConvexHull4  \\\n",
       "0        8.14         2.15         22.3          2.97  ...         2.97   \n",
       "1        3.51        18.60         22.5          5.41  ...         5.47   \n",
       "2        5.85        21.00         22.4          5.96  ...         5.96   \n",
       "3        6.30         9.94         21.9          8.81  ...         8.88   \n",
       "4        3.97         2.58         11.9         10.20  ...        10.20   \n",
       "...       ...          ...          ...           ...  ...          ...   \n",
       "30522    1.40        19.90         22.1         18.10  ...        18.60   \n",
       "30523    1.67         5.09         22.8         19.20  ...        20.00   \n",
       "30524    5.81        12.70         22.8         20.10  ...        20.10   \n",
       "30525    5.96        11.30         22.8         20.20  ...        20.20   \n",
       "30526    3.77        16.50         22.8         20.70  ...        20.80   \n",
       "\n",
       "       MajorAxisLength  MinorAxisLength  Perimeter  ConvexArea  Centroid1  \\\n",
       "0                1.340            1.610      0.683      0.1950       3.63   \n",
       "1                1.520            1.520      1.010      0.2150       6.01   \n",
       "2                1.630            1.380      1.110      0.1820       6.55   \n",
       "3                2.040            2.120      0.715      0.3710      10.30   \n",
       "4                7.780            6.210      6.800      4.4400      14.00   \n",
       "...                ...              ...        ...         ...        ...   \n",
       "30522            4.350            1.350      1.710      0.5490      19.10   \n",
       "30523            1.460            0.411      0.458      0.0597      19.80   \n",
       "30524            1.060            0.257      0.319      0.0341      20.70   \n",
       "30525            1.010            0.285      0.350      0.0314      20.80   \n",
       "30526            0.969            0.642      0.385      0.0502      21.00   \n",
       "\n",
       "       Centroid2    Area  raddi  microorganisms  \n",
       "0          12.10   1.310   7.99       Spirogyra  \n",
       "1          20.60   0.765   7.99       Spirogyra  \n",
       "2          11.50   0.953   7.99       Spirogyra  \n",
       "3          12.00   2.340   7.99       Spirogyra  \n",
       "4           9.55  17.600   7.99       Spirogyra  \n",
       "...          ...     ...    ...             ...  \n",
       "30522      13.20   1.070   7.15        Ulothrix  \n",
       "30523      17.20   0.197   7.15        Ulothrix  \n",
       "30524      11.60   0.198   7.15        Ulothrix  \n",
       "30525      20.40   0.162   7.15        Ulothrix  \n",
       "30526      18.40   0.208   7.15        Ulothrix  \n",
       "\n",
       "[30527 rows x 26 columns]"
      ]
     },
     "execution_count": 2,
     "metadata": {},
     "output_type": "execute_result"
    }
   ],
   "source": [
    "data0 = pd.read_csv(\"../input/microbes-dataset/microbes.csv\")\n",
    "data0"
   ]
  },
  {
   "cell_type": "code",
   "execution_count": 3,
   "id": "d8a3a264",
   "metadata": {
    "execution": {
     "iopub.execute_input": "2022-05-17T14:25:48.906896Z",
     "iopub.status.busy": "2022-05-17T14:25:48.906313Z",
     "iopub.status.idle": "2022-05-17T14:25:48.923309Z",
     "shell.execute_reply": "2022-05-17T14:25:48.922480Z"
    },
    "papermill": {
     "duration": 0.048161,
     "end_time": "2022-05-17T14:25:48.925455",
     "exception": false,
     "start_time": "2022-05-17T14:25:48.877294",
     "status": "completed"
    },
    "tags": []
   },
   "outputs": [
    {
     "name": "stdout",
     "output_type": "stream",
     "text": [
      "10\n",
      "{'Spirogyra': 0, 'Volvox': 1, 'Pithophora': 2, 'Yeast': 3, 'Raizopus': 4, 'Penicillum': 5, 'Aspergillus sp': 6, 'Protozoa': 7, 'Diatom': 8, 'Ulothrix': 9}\n"
     ]
    }
   ],
   "source": [
    "MName=data0['microorganisms'].unique().tolist()\n",
    "print(len(MName))\n",
    "MN=list(range(len(MName)))\n",
    "normal_mapping=dict(zip(MName,MN)) \n",
    "reverse_mapping=dict(zip(MN,MName))        \n",
    "data0['microorganisms']=data0['microorganisms'].map(normal_mapping)\n",
    "print(normal_mapping)\n"
   ]
  },
  {
   "cell_type": "code",
   "execution_count": 4,
   "id": "2ca6bfa8",
   "metadata": {
    "execution": {
     "iopub.execute_input": "2022-05-17T14:25:48.983246Z",
     "iopub.status.busy": "2022-05-17T14:25:48.982973Z",
     "iopub.status.idle": "2022-05-17T14:25:48.987510Z",
     "shell.execute_reply": "2022-05-17T14:25:48.986730Z"
    },
    "papermill": {
     "duration": 0.036425,
     "end_time": "2022-05-17T14:25:48.989926",
     "exception": false,
     "start_time": "2022-05-17T14:25:48.953501",
     "status": "completed"
    },
    "tags": []
   },
   "outputs": [
    {
     "name": "stdout",
     "output_type": "stream",
     "text": [
      "['Unnamed: 0', 'Solidity', 'Eccentricity', 'EquivDiameter', 'Extrema', 'FilledArea', 'Extent', 'Orientation', 'EulerNumber', 'BoundingBox1', 'BoundingBox2', 'BoundingBox3', 'BoundingBox4', 'ConvexHull1', 'ConvexHull2', 'ConvexHull3', 'ConvexHull4', 'MajorAxisLength', 'MinorAxisLength', 'Perimeter', 'ConvexArea', 'Centroid1', 'Centroid2', 'Area', 'raddi', 'microorganisms']\n"
     ]
    }
   ],
   "source": [
    "print(data0.columns.tolist())"
   ]
  },
  {
   "cell_type": "code",
   "execution_count": 5,
   "id": "1ef029df",
   "metadata": {
    "execution": {
     "iopub.execute_input": "2022-05-17T14:25:49.049148Z",
     "iopub.status.busy": "2022-05-17T14:25:49.048945Z",
     "iopub.status.idle": "2022-05-17T14:25:49.055533Z",
     "shell.execute_reply": "2022-05-17T14:25:49.054890Z"
    },
    "papermill": {
     "duration": 0.038109,
     "end_time": "2022-05-17T14:25:49.057213",
     "exception": false,
     "start_time": "2022-05-17T14:25:49.019104",
     "status": "completed"
    },
    "tags": []
   },
   "outputs": [],
   "source": [
    "data0=data0.drop('Unnamed: 0',axis=1)"
   ]
  },
  {
   "cell_type": "code",
   "execution_count": 6,
   "id": "6c2a4136",
   "metadata": {
    "execution": {
     "iopub.execute_input": "2022-05-17T14:25:49.116216Z",
     "iopub.status.busy": "2022-05-17T14:25:49.115718Z",
     "iopub.status.idle": "2022-05-17T14:25:49.122012Z",
     "shell.execute_reply": "2022-05-17T14:25:49.121338Z"
    },
    "papermill": {
     "duration": 0.03771,
     "end_time": "2022-05-17T14:25:49.123815",
     "exception": false,
     "start_time": "2022-05-17T14:25:49.086105",
     "status": "completed"
    },
    "tags": []
   },
   "outputs": [
    {
     "data": {
      "text/plain": [
       "0        0\n",
       "1        0\n",
       "2        0\n",
       "3        0\n",
       "4        0\n",
       "        ..\n",
       "30522    9\n",
       "30523    9\n",
       "30524    9\n",
       "30525    9\n",
       "30526    9\n",
       "Name: microorganisms, Length: 30527, dtype: int64"
      ]
     },
     "metadata": {},
     "output_type": "display_data"
    }
   ],
   "source": [
    "display(data0['microorganisms'])"
   ]
  },
  {
   "cell_type": "code",
   "execution_count": 7,
   "id": "8c9b4450",
   "metadata": {
    "execution": {
     "iopub.execute_input": "2022-05-17T14:25:49.185662Z",
     "iopub.status.busy": "2022-05-17T14:25:49.185463Z",
     "iopub.status.idle": "2022-05-17T14:25:49.200918Z",
     "shell.execute_reply": "2022-05-17T14:25:49.200183Z"
    },
    "papermill": {
     "duration": 0.0484,
     "end_time": "2022-05-17T14:25:49.202569",
     "exception": false,
     "start_time": "2022-05-17T14:25:49.154169",
     "status": "completed"
    },
    "tags": []
   },
   "outputs": [
    {
     "data": {
      "text/html": [
       "<div>\n",
       "<style scoped>\n",
       "    .dataframe tbody tr th:only-of-type {\n",
       "        vertical-align: middle;\n",
       "    }\n",
       "\n",
       "    .dataframe tbody tr th {\n",
       "        vertical-align: top;\n",
       "    }\n",
       "\n",
       "    .dataframe thead th {\n",
       "        text-align: right;\n",
       "    }\n",
       "</style>\n",
       "<table border=\"1\" class=\"dataframe\">\n",
       "  <thead>\n",
       "    <tr style=\"text-align: right;\">\n",
       "      <th></th>\n",
       "      <th>Spirogyra</th>\n",
       "      <th>Volvox</th>\n",
       "      <th>Pithophora</th>\n",
       "      <th>Yeast</th>\n",
       "      <th>Raizopus</th>\n",
       "      <th>Penicillum</th>\n",
       "      <th>Aspergillus sp</th>\n",
       "      <th>Protozoa</th>\n",
       "      <th>Diatom</th>\n",
       "      <th>Ulothrix</th>\n",
       "    </tr>\n",
       "  </thead>\n",
       "  <tbody>\n",
       "    <tr>\n",
       "      <th>0</th>\n",
       "      <td>1</td>\n",
       "      <td>0</td>\n",
       "      <td>0</td>\n",
       "      <td>0</td>\n",
       "      <td>0</td>\n",
       "      <td>0</td>\n",
       "      <td>0</td>\n",
       "      <td>0</td>\n",
       "      <td>0</td>\n",
       "      <td>0</td>\n",
       "    </tr>\n",
       "    <tr>\n",
       "      <th>1</th>\n",
       "      <td>1</td>\n",
       "      <td>0</td>\n",
       "      <td>0</td>\n",
       "      <td>0</td>\n",
       "      <td>0</td>\n",
       "      <td>0</td>\n",
       "      <td>0</td>\n",
       "      <td>0</td>\n",
       "      <td>0</td>\n",
       "      <td>0</td>\n",
       "    </tr>\n",
       "    <tr>\n",
       "      <th>2</th>\n",
       "      <td>1</td>\n",
       "      <td>0</td>\n",
       "      <td>0</td>\n",
       "      <td>0</td>\n",
       "      <td>0</td>\n",
       "      <td>0</td>\n",
       "      <td>0</td>\n",
       "      <td>0</td>\n",
       "      <td>0</td>\n",
       "      <td>0</td>\n",
       "    </tr>\n",
       "    <tr>\n",
       "      <th>3</th>\n",
       "      <td>1</td>\n",
       "      <td>0</td>\n",
       "      <td>0</td>\n",
       "      <td>0</td>\n",
       "      <td>0</td>\n",
       "      <td>0</td>\n",
       "      <td>0</td>\n",
       "      <td>0</td>\n",
       "      <td>0</td>\n",
       "      <td>0</td>\n",
       "    </tr>\n",
       "    <tr>\n",
       "      <th>4</th>\n",
       "      <td>1</td>\n",
       "      <td>0</td>\n",
       "      <td>0</td>\n",
       "      <td>0</td>\n",
       "      <td>0</td>\n",
       "      <td>0</td>\n",
       "      <td>0</td>\n",
       "      <td>0</td>\n",
       "      <td>0</td>\n",
       "      <td>0</td>\n",
       "    </tr>\n",
       "    <tr>\n",
       "      <th>...</th>\n",
       "      <td>...</td>\n",
       "      <td>...</td>\n",
       "      <td>...</td>\n",
       "      <td>...</td>\n",
       "      <td>...</td>\n",
       "      <td>...</td>\n",
       "      <td>...</td>\n",
       "      <td>...</td>\n",
       "      <td>...</td>\n",
       "      <td>...</td>\n",
       "    </tr>\n",
       "    <tr>\n",
       "      <th>30522</th>\n",
       "      <td>0</td>\n",
       "      <td>0</td>\n",
       "      <td>0</td>\n",
       "      <td>0</td>\n",
       "      <td>0</td>\n",
       "      <td>0</td>\n",
       "      <td>0</td>\n",
       "      <td>0</td>\n",
       "      <td>0</td>\n",
       "      <td>1</td>\n",
       "    </tr>\n",
       "    <tr>\n",
       "      <th>30523</th>\n",
       "      <td>0</td>\n",
       "      <td>0</td>\n",
       "      <td>0</td>\n",
       "      <td>0</td>\n",
       "      <td>0</td>\n",
       "      <td>0</td>\n",
       "      <td>0</td>\n",
       "      <td>0</td>\n",
       "      <td>0</td>\n",
       "      <td>1</td>\n",
       "    </tr>\n",
       "    <tr>\n",
       "      <th>30524</th>\n",
       "      <td>0</td>\n",
       "      <td>0</td>\n",
       "      <td>0</td>\n",
       "      <td>0</td>\n",
       "      <td>0</td>\n",
       "      <td>0</td>\n",
       "      <td>0</td>\n",
       "      <td>0</td>\n",
       "      <td>0</td>\n",
       "      <td>1</td>\n",
       "    </tr>\n",
       "    <tr>\n",
       "      <th>30525</th>\n",
       "      <td>0</td>\n",
       "      <td>0</td>\n",
       "      <td>0</td>\n",
       "      <td>0</td>\n",
       "      <td>0</td>\n",
       "      <td>0</td>\n",
       "      <td>0</td>\n",
       "      <td>0</td>\n",
       "      <td>0</td>\n",
       "      <td>1</td>\n",
       "    </tr>\n",
       "    <tr>\n",
       "      <th>30526</th>\n",
       "      <td>0</td>\n",
       "      <td>0</td>\n",
       "      <td>0</td>\n",
       "      <td>0</td>\n",
       "      <td>0</td>\n",
       "      <td>0</td>\n",
       "      <td>0</td>\n",
       "      <td>0</td>\n",
       "      <td>0</td>\n",
       "      <td>1</td>\n",
       "    </tr>\n",
       "  </tbody>\n",
       "</table>\n",
       "<p>30527 rows × 10 columns</p>\n",
       "</div>"
      ],
      "text/plain": [
       "       Spirogyra  Volvox  Pithophora  Yeast  Raizopus  Penicillum  \\\n",
       "0              1       0           0      0         0           0   \n",
       "1              1       0           0      0         0           0   \n",
       "2              1       0           0      0         0           0   \n",
       "3              1       0           0      0         0           0   \n",
       "4              1       0           0      0         0           0   \n",
       "...          ...     ...         ...    ...       ...         ...   \n",
       "30522          0       0           0      0         0           0   \n",
       "30523          0       0           0      0         0           0   \n",
       "30524          0       0           0      0         0           0   \n",
       "30525          0       0           0      0         0           0   \n",
       "30526          0       0           0      0         0           0   \n",
       "\n",
       "       Aspergillus sp  Protozoa  Diatom  Ulothrix  \n",
       "0                   0         0       0         0  \n",
       "1                   0         0       0         0  \n",
       "2                   0         0       0         0  \n",
       "3                   0         0       0         0  \n",
       "4                   0         0       0         0  \n",
       "...               ...       ...     ...       ...  \n",
       "30522               0         0       0         1  \n",
       "30523               0         0       0         1  \n",
       "30524               0         0       0         1  \n",
       "30525               0         0       0         1  \n",
       "30526               0         0       0         1  \n",
       "\n",
       "[30527 rows x 10 columns]"
      ]
     },
     "metadata": {},
     "output_type": "display_data"
    }
   ],
   "source": [
    "dummies =  pd.get_dummies(data0['microorganisms'])\n",
    "dummies.columns=MName\n",
    "display(dummies)"
   ]
  },
  {
   "cell_type": "code",
   "execution_count": 8,
   "id": "2e8502c3",
   "metadata": {
    "execution": {
     "iopub.execute_input": "2022-05-17T14:25:49.271945Z",
     "iopub.status.busy": "2022-05-17T14:25:49.271747Z",
     "iopub.status.idle": "2022-05-17T14:25:49.299183Z",
     "shell.execute_reply": "2022-05-17T14:25:49.298450Z"
    },
    "papermill": {
     "duration": 0.066158,
     "end_time": "2022-05-17T14:25:49.301225",
     "exception": false,
     "start_time": "2022-05-17T14:25:49.235067",
     "status": "completed"
    },
    "tags": []
   },
   "outputs": [
    {
     "name": "stdout",
     "output_type": "stream",
     "text": [
      "<class 'pandas.core.frame.DataFrame'>\n",
      "RangeIndex: 30527 entries, 0 to 30526\n",
      "Data columns (total 34 columns):\n",
      " #   Column           Non-Null Count  Dtype  \n",
      "---  ------           --------------  -----  \n",
      " 0   Solidity         30527 non-null  float64\n",
      " 1   Eccentricity     30527 non-null  float64\n",
      " 2   EquivDiameter    30527 non-null  float64\n",
      " 3   Extrema          30527 non-null  float64\n",
      " 4   FilledArea       30527 non-null  float64\n",
      " 5   Extent           30527 non-null  float64\n",
      " 6   Orientation      30527 non-null  float64\n",
      " 7   EulerNumber      30527 non-null  float64\n",
      " 8   BoundingBox1     30527 non-null  float64\n",
      " 9   BoundingBox2     30527 non-null  float64\n",
      " 10  BoundingBox3     30527 non-null  float64\n",
      " 11  BoundingBox4     30527 non-null  float64\n",
      " 12  ConvexHull1      30527 non-null  float64\n",
      " 13  ConvexHull2      30527 non-null  float64\n",
      " 14  ConvexHull3      30527 non-null  float64\n",
      " 15  ConvexHull4      30527 non-null  float64\n",
      " 16  MajorAxisLength  30527 non-null  float64\n",
      " 17  MinorAxisLength  30527 non-null  float64\n",
      " 18  Perimeter        30527 non-null  float64\n",
      " 19  ConvexArea       30527 non-null  float64\n",
      " 20  Centroid1        30527 non-null  float64\n",
      " 21  Centroid2        30527 non-null  float64\n",
      " 22  Area             30527 non-null  float64\n",
      " 23  raddi            30527 non-null  float64\n",
      " 24  Spirogyra        30527 non-null  uint8  \n",
      " 25  Volvox           30527 non-null  uint8  \n",
      " 26  Pithophora       30527 non-null  uint8  \n",
      " 27  Yeast            30527 non-null  uint8  \n",
      " 28  Raizopus         30527 non-null  uint8  \n",
      " 29  Penicillum       30527 non-null  uint8  \n",
      " 30  Aspergillus sp   30527 non-null  uint8  \n",
      " 31  Protozoa         30527 non-null  uint8  \n",
      " 32  Diatom           30527 non-null  uint8  \n",
      " 33  Ulothrix         30527 non-null  uint8  \n",
      "dtypes: float64(24), uint8(10)\n",
      "memory usage: 5.9 MB\n"
     ]
    },
    {
     "data": {
      "text/plain": [
       "None"
      ]
     },
     "metadata": {},
     "output_type": "display_data"
    }
   ],
   "source": [
    "data0=pd.concat([data0,dummies],axis=1)\n",
    "data0=data0.drop('microorganisms',axis=1)\n",
    "display(data0.info())"
   ]
  },
  {
   "cell_type": "markdown",
   "id": "770bff30",
   "metadata": {
    "execution": {
     "iopub.status.busy": "2022-05-16T16:23:05.88488Z",
     "iopub.status.idle": "2022-05-16T16:23:05.885197Z",
     "shell.execute_reply": "2022-05-16T16:23:05.885059Z",
     "shell.execute_reply.started": "2022-05-16T16:23:05.885041Z"
    },
    "papermill": {
     "duration": 0.030257,
     "end_time": "2022-05-17T14:25:49.364630",
     "exception": false,
     "start_time": "2022-05-17T14:25:49.334373",
     "status": "completed"
    },
    "tags": []
   },
   "source": [
    "from sklearn.preprocessing import LabelEncoder\n",
    "def labelencoder(df):\n",
    "    for c in df.columns:\n",
    "        if df[c].dtype=='object': \n",
    "            df[c] = df[c].fillna('N')\n",
    "            lbl = LabelEncoder()\n",
    "            lbl.fit(list(df[c].values))\n",
    "            df[c] = lbl.transform(df[c].values)\n",
    "    return df"
   ]
  },
  {
   "cell_type": "markdown",
   "id": "df257208",
   "metadata": {
    "execution": {
     "iopub.status.busy": "2022-05-16T16:23:05.886361Z",
     "iopub.status.idle": "2022-05-16T16:23:05.88665Z",
     "shell.execute_reply": "2022-05-16T16:23:05.886519Z",
     "shell.execute_reply.started": "2022-05-16T16:23:05.886503Z"
    },
    "papermill": {
     "duration": 0.030681,
     "end_time": "2022-05-17T14:25:49.425612",
     "exception": false,
     "start_time": "2022-05-17T14:25:49.394931",
     "status": "completed"
    },
    "tags": []
   },
   "source": [
    "data1=labelencoder(data0)\n",
    "data1=data1.reset_index(drop=True)"
   ]
  },
  {
   "cell_type": "markdown",
   "id": "6f12e087",
   "metadata": {
    "papermill": {
     "duration": 0.031029,
     "end_time": "2022-05-17T14:25:49.486892",
     "exception": false,
     "start_time": "2022-05-17T14:25:49.455863",
     "status": "completed"
    },
    "tags": []
   },
   "source": [
    "# Target setting"
   ]
  },
  {
   "cell_type": "code",
   "execution_count": 9,
   "id": "119724d0",
   "metadata": {
    "execution": {
     "iopub.execute_input": "2022-05-17T14:25:49.550890Z",
     "iopub.status.busy": "2022-05-17T14:25:49.550643Z",
     "iopub.status.idle": "2022-05-17T14:25:49.559585Z",
     "shell.execute_reply": "2022-05-17T14:25:49.558893Z"
    },
    "papermill": {
     "duration": 0.042981,
     "end_time": "2022-05-17T14:25:49.561407",
     "exception": false,
     "start_time": "2022-05-17T14:25:49.518426",
     "status": "completed"
    },
    "tags": []
   },
   "outputs": [],
   "source": [
    "target=MName\n",
    "dataY=data0[target]\n",
    "dataX=data0.drop(target,axis=1)"
   ]
  },
  {
   "cell_type": "code",
   "execution_count": 10,
   "id": "21da3621",
   "metadata": {
    "execution": {
     "iopub.execute_input": "2022-05-17T14:25:49.623917Z",
     "iopub.status.busy": "2022-05-17T14:25:49.623700Z",
     "iopub.status.idle": "2022-05-17T14:25:49.636699Z",
     "shell.execute_reply": "2022-05-17T14:25:49.635959Z"
    },
    "papermill": {
     "duration": 0.047453,
     "end_time": "2022-05-17T14:25:49.640014",
     "exception": false,
     "start_time": "2022-05-17T14:25:49.592561",
     "status": "completed"
    },
    "tags": []
   },
   "outputs": [
    {
     "name": "stdout",
     "output_type": "stream",
     "text": [
      "                0  1  2  3  4\n",
      "Spirogyra       1  1  1  1  1\n",
      "Volvox          0  0  0  0  0\n",
      "Pithophora      0  0  0  0  0\n",
      "Yeast           0  0  0  0  0\n",
      "Raizopus        0  0  0  0  0\n",
      "Penicillum      0  0  0  0  0\n",
      "Aspergillus sp  0  0  0  0  0\n",
      "Protozoa        0  0  0  0  0\n",
      "Diatom          0  0  0  0  0\n",
      "Ulothrix        0  0  0  0  0\n",
      "\n",
      "                      0       1       2       3      4\n",
      "Solidity         10.700   5.600   8.320  10.100   6.27\n",
      "Eccentricity     15.800  18.300  19.800  17.900  20.20\n",
      "EquivDiameter     5.430   4.140   4.630   7.290  20.10\n",
      "Extrema           3.750   6.160   6.660  11.100  10.70\n",
      "FilledArea        0.785   0.364   0.415   1.470  14.70\n",
      "Extent            8.140   3.510   5.850   6.300   3.97\n",
      "Orientation       2.150  18.600  21.000   9.940   2.58\n",
      "EulerNumber      22.300  22.500  22.400  21.900  11.90\n",
      "BoundingBox1      2.970   5.410   5.960   8.810  10.20\n",
      "BoundingBox2     10.900  19.200  10.200  10.700   1.22\n",
      "BoundingBox3      1.750   1.770   1.510   3.340   8.40\n",
      "BoundingBox4      2.970   3.950   3.490   3.630  17.10\n",
      "ConvexHull1       3.120   6.080   5.950   8.930  10.20\n",
      "ConvexHull2       3.120   6.080   5.950   8.930  10.20\n",
      "ConvexHull3       2.970   5.490   5.990   8.900  10.20\n",
      "ConvexHull4       2.970   5.470   5.960   8.880  10.20\n",
      "MajorAxisLength   1.340   1.520   1.630   2.040   7.78\n",
      "MinorAxisLength   1.610   1.520   1.380   2.120   6.21\n",
      "Perimeter         0.683   1.010   1.110   0.715   6.80\n",
      "ConvexArea        0.195   0.215   0.182   0.371   4.44\n",
      "Centroid1         3.630   6.010   6.550  10.300  14.00\n",
      "Centroid2        12.100  20.600  11.500  12.000   9.55\n",
      "Area              1.310   0.765   0.953   2.340  17.60\n",
      "raddi             7.990   7.990   7.990   7.990   7.99\n"
     ]
    }
   ],
   "source": [
    "print(dataY[0:5].T)\n",
    "print()\n",
    "print(dataX[0:5].T)"
   ]
  },
  {
   "cell_type": "code",
   "execution_count": 11,
   "id": "6c40926c",
   "metadata": {
    "execution": {
     "iopub.execute_input": "2022-05-17T14:25:49.713646Z",
     "iopub.status.busy": "2022-05-17T14:25:49.712992Z",
     "iopub.status.idle": "2022-05-17T14:25:49.748734Z",
     "shell.execute_reply": "2022-05-17T14:25:49.747953Z"
    },
    "papermill": {
     "duration": 0.074706,
     "end_time": "2022-05-17T14:25:49.750612",
     "exception": false,
     "start_time": "2022-05-17T14:25:49.675906",
     "status": "completed"
    },
    "tags": []
   },
   "outputs": [],
   "source": [
    "n=len(dataX)\n",
    "N=list(range(n))\n",
    "random.seed(2021)\n",
    "random.shuffle(N)"
   ]
  },
  {
   "cell_type": "code",
   "execution_count": 12,
   "id": "87ce582c",
   "metadata": {
    "execution": {
     "iopub.execute_input": "2022-05-17T14:25:49.818597Z",
     "iopub.status.busy": "2022-05-17T14:25:49.818380Z",
     "iopub.status.idle": "2022-05-17T14:25:49.842229Z",
     "shell.execute_reply": "2022-05-17T14:25:49.841583Z"
    },
    "papermill": {
     "duration": 0.059232,
     "end_time": "2022-05-17T14:25:49.844085",
     "exception": false,
     "start_time": "2022-05-17T14:25:49.784853",
     "status": "completed"
    },
    "tags": []
   },
   "outputs": [],
   "source": [
    "trainX=dataX.loc[N[0:(n//4)*3]]\n",
    "trainY=dataY.loc[N[0:(n//4)*3]]\n",
    "testX=dataX.loc[N[(n//4)*3:]]\n",
    "testY=dataY.loc[N[(n//4)*3:]]"
   ]
  },
  {
   "cell_type": "code",
   "execution_count": 13,
   "id": "2a8e6aba",
   "metadata": {
    "execution": {
     "iopub.execute_input": "2022-05-17T14:25:49.909395Z",
     "iopub.status.busy": "2022-05-17T14:25:49.908812Z",
     "iopub.status.idle": "2022-05-17T14:25:49.913751Z",
     "shell.execute_reply": "2022-05-17T14:25:49.912620Z"
    },
    "papermill": {
     "duration": 0.03824,
     "end_time": "2022-05-17T14:25:49.915329",
     "exception": false,
     "start_time": "2022-05-17T14:25:49.877089",
     "status": "completed"
    },
    "tags": []
   },
   "outputs": [
    {
     "name": "stdout",
     "output_type": "stream",
     "text": [
      "['Solidity', 'Eccentricity', 'EquivDiameter', 'Extrema', 'FilledArea', 'Extent', 'Orientation', 'EulerNumber', 'BoundingBox1', 'BoundingBox2', 'BoundingBox3', 'BoundingBox4', 'ConvexHull1', 'ConvexHull2', 'ConvexHull3', 'ConvexHull4', 'MajorAxisLength', 'MinorAxisLength', 'Perimeter', 'ConvexArea', 'Centroid1', 'Centroid2', 'Area', 'raddi']\n"
     ]
    }
   ],
   "source": [
    "df_columns = list(dataX.columns)\n",
    "print(df_columns)"
   ]
  },
  {
   "cell_type": "code",
   "execution_count": 14,
   "id": "32c19ea6",
   "metadata": {
    "execution": {
     "iopub.execute_input": "2022-05-17T14:25:49.978410Z",
     "iopub.status.busy": "2022-05-17T14:25:49.977877Z",
     "iopub.status.idle": "2022-05-17T14:25:49.981410Z",
     "shell.execute_reply": "2022-05-17T14:25:49.980749Z"
    },
    "papermill": {
     "duration": 0.036823,
     "end_time": "2022-05-17T14:25:49.983051",
     "exception": false,
     "start_time": "2022-05-17T14:25:49.946228",
     "status": "completed"
    },
    "tags": []
   },
   "outputs": [],
   "source": [
    "def create_numeric_feature(input_df):\n",
    "    use_columns = df_columns \n",
    "    return input_df[use_columns].copy()"
   ]
  },
  {
   "cell_type": "code",
   "execution_count": 15,
   "id": "cba34258",
   "metadata": {
    "execution": {
     "iopub.execute_input": "2022-05-17T14:25:50.046717Z",
     "iopub.status.busy": "2022-05-17T14:25:50.046157Z",
     "iopub.status.idle": "2022-05-17T14:25:50.054674Z",
     "shell.execute_reply": "2022-05-17T14:25:50.054008Z"
    },
    "papermill": {
     "duration": 0.042175,
     "end_time": "2022-05-17T14:25:50.056376",
     "exception": false,
     "start_time": "2022-05-17T14:25:50.014201",
     "status": "completed"
    },
    "tags": []
   },
   "outputs": [],
   "source": [
    "from contextlib import contextmanager\n",
    "from time import time\n",
    "\n",
    "class Timer:\n",
    "    def __init__(self, logger=None, format_str='{:.3f}[s]', prefix=None, suffix=None, sep=' '):\n",
    "\n",
    "        if prefix: format_str = str(prefix) + sep + format_str\n",
    "        if suffix: format_str = format_str + sep + str(suffix)\n",
    "        self.format_str = format_str\n",
    "        self.logger = logger\n",
    "        self.start = None\n",
    "        self.end = None\n",
    "\n",
    "    @property\n",
    "    def duration(self):\n",
    "        if self.end is None:\n",
    "            return 0\n",
    "        return self.end - self.start\n",
    "\n",
    "    def __enter__(self):\n",
    "        self.start = time()\n",
    "\n",
    "    def __exit__(self, exc_type, exc_val, exc_tb):\n",
    "        self.end = time()\n",
    "        out_str = self.format_str.format(self.duration)\n",
    "        if self.logger:\n",
    "            self.logger.info(out_str)\n",
    "        else:\n",
    "            print(out_str)"
   ]
  },
  {
   "cell_type": "code",
   "execution_count": 16,
   "id": "8d7b6714",
   "metadata": {
    "execution": {
     "iopub.execute_input": "2022-05-17T14:25:50.119688Z",
     "iopub.status.busy": "2022-05-17T14:25:50.119145Z",
     "iopub.status.idle": "2022-05-17T14:25:50.124452Z",
     "shell.execute_reply": "2022-05-17T14:25:50.123825Z"
    },
    "papermill": {
     "duration": 0.038757,
     "end_time": "2022-05-17T14:25:50.126045",
     "exception": false,
     "start_time": "2022-05-17T14:25:50.087288",
     "status": "completed"
    },
    "tags": []
   },
   "outputs": [],
   "source": [
    "from tqdm import tqdm\n",
    "\n",
    "def to_feature(input_df):\n",
    "\n",
    "    processors = [\n",
    "        create_numeric_feature,\n",
    "    ]\n",
    "    \n",
    "    out_df = pd.DataFrame()\n",
    "    \n",
    "    for func in tqdm(processors, total=len(processors)):\n",
    "        with Timer(prefix='create' + func.__name__ + ' '):\n",
    "            _df = func(input_df)\n",
    "\n",
    "        assert len(_df) == len(input_df), func.__name__\n",
    "        out_df = pd.concat([out_df, _df], axis=1)\n",
    "        \n",
    "    return out_df"
   ]
  },
  {
   "cell_type": "code",
   "execution_count": 17,
   "id": "64425456",
   "metadata": {
    "execution": {
     "iopub.execute_input": "2022-05-17T14:25:50.189455Z",
     "iopub.status.busy": "2022-05-17T14:25:50.188941Z",
     "iopub.status.idle": "2022-05-17T14:25:50.213053Z",
     "shell.execute_reply": "2022-05-17T14:25:50.212116Z"
    },
    "papermill": {
     "duration": 0.057703,
     "end_time": "2022-05-17T14:25:50.215075",
     "exception": false,
     "start_time": "2022-05-17T14:25:50.157372",
     "status": "completed"
    },
    "tags": []
   },
   "outputs": [
    {
     "name": "stderr",
     "output_type": "stream",
     "text": [
      "100%|██████████| 1/1 [00:00<00:00, 138.87it/s]\n"
     ]
    },
    {
     "name": "stdout",
     "output_type": "stream",
     "text": [
      "createcreate_numeric_feature  0.006[s]\n"
     ]
    },
    {
     "name": "stderr",
     "output_type": "stream",
     "text": [
      "100%|██████████| 1/1 [00:00<00:00, 325.75it/s]"
     ]
    },
    {
     "name": "stdout",
     "output_type": "stream",
     "text": [
      "createcreate_numeric_feature  0.001[s]\n"
     ]
    },
    {
     "name": "stderr",
     "output_type": "stream",
     "text": [
      "\n"
     ]
    }
   ],
   "source": [
    "train_feat_df = to_feature(trainX)\n",
    "test_feat_df = to_feature(testX)"
   ]
  },
  {
   "cell_type": "markdown",
   "id": "d4ca98e0",
   "metadata": {
    "papermill": {
     "duration": 0.033934,
     "end_time": "2022-05-17T14:25:50.283047",
     "exception": false,
     "start_time": "2022-05-17T14:25:50.249113",
     "status": "completed"
    },
    "tags": []
   },
   "source": [
    "# Model"
   ]
  },
  {
   "cell_type": "code",
   "execution_count": 18,
   "id": "ea50e1ea",
   "metadata": {
    "execution": {
     "iopub.execute_input": "2022-05-17T14:25:50.353019Z",
     "iopub.status.busy": "2022-05-17T14:25:50.352813Z",
     "iopub.status.idle": "2022-05-17T14:25:50.361367Z",
     "shell.execute_reply": "2022-05-17T14:25:50.360613Z"
    },
    "papermill": {
     "duration": 0.045422,
     "end_time": "2022-05-17T14:25:50.362964",
     "exception": false,
     "start_time": "2022-05-17T14:25:50.317542",
     "status": "completed"
    },
    "tags": []
   },
   "outputs": [],
   "source": [
    "import lightgbm as lgbm\n",
    "from sklearn.metrics import mean_squared_error\n",
    "\n",
    "def fit_lgbm(X, y, cv, \n",
    "             params: dict=None, \n",
    "             verbose: int=50):\n",
    "\n",
    "    if params is None:\n",
    "        params = {}\n",
    "\n",
    "    models = []\n",
    "    oof_pred = np.zeros_like(y, dtype=np.float)\n",
    "\n",
    "    for i, (idx_train, idx_valid) in enumerate(cv): \n",
    "        x_train, y_train = X[idx_train], y[idx_train]\n",
    "        x_valid, y_valid = X[idx_valid], y[idx_valid]\n",
    "\n",
    "        clf = lgbm.LGBMRegressor(**params)\n",
    "        \n",
    "        with Timer(prefix='fit fold={} '.format(i)):\n",
    "            clf.fit(x_train, y_train, \n",
    "                    eval_set=[(x_valid, y_valid)],  \n",
    "                    early_stopping_rounds=100,\n",
    "                    verbose=verbose)\n",
    "\n",
    "        pred_i = clf.predict(x_valid)\n",
    "        oof_pred[idx_valid] = pred_i\n",
    "        models.append(clf)\n",
    "        print(f'Fold {i} RMSLE: {mean_squared_error(y_valid, pred_i) ** .5:.4f}')\n",
    "        print()\n",
    "\n",
    "    score = mean_squared_error(y, oof_pred) ** .5\n",
    "    print('-' * 50)\n",
    "    print('FINISHED | Whole RMSLE: {:.4f}'.format(score))\n",
    "    return oof_pred, models"
   ]
  },
  {
   "cell_type": "code",
   "execution_count": 19,
   "id": "25607770",
   "metadata": {
    "execution": {
     "iopub.execute_input": "2022-05-17T14:25:50.432139Z",
     "iopub.status.busy": "2022-05-17T14:25:50.431612Z",
     "iopub.status.idle": "2022-05-17T14:25:50.435799Z",
     "shell.execute_reply": "2022-05-17T14:25:50.435154Z"
    },
    "papermill": {
     "duration": 0.040784,
     "end_time": "2022-05-17T14:25:50.437450",
     "exception": false,
     "start_time": "2022-05-17T14:25:50.396666",
     "status": "completed"
    },
    "tags": []
   },
   "outputs": [],
   "source": [
    "params = {\n",
    "    'objective': 'rmse', \n",
    "    'learning_rate': .1,\n",
    "    'reg_lambda': 1.,\n",
    "    'reg_alpha': .1,\n",
    "    'max_depth': 5, \n",
    "    'n_estimators': 10000, \n",
    "    'colsample_bytree': .5, \n",
    "    'min_child_samples': 10,\n",
    "    'subsample_freq': 3,\n",
    "    'subsample': .9,\n",
    "    'importance_type': 'gain', \n",
    "    'random_state': 71,\n",
    "    'num_leaves': 62\n",
    "}"
   ]
  },
  {
   "cell_type": "code",
   "execution_count": 20,
   "id": "19068d6c",
   "metadata": {
    "execution": {
     "iopub.execute_input": "2022-05-17T14:25:50.505472Z",
     "iopub.status.busy": "2022-05-17T14:25:50.504896Z",
     "iopub.status.idle": "2022-05-17T14:25:50.509259Z",
     "shell.execute_reply": "2022-05-17T14:25:50.508609Z"
    },
    "papermill": {
     "duration": 0.040575,
     "end_time": "2022-05-17T14:25:50.511419",
     "exception": false,
     "start_time": "2022-05-17T14:25:50.470844",
     "status": "completed"
    },
    "tags": []
   },
   "outputs": [
    {
     "name": "stdout",
     "output_type": "stream",
     "text": [
      "(22893, 10)\n",
      "<class 'pandas.core.frame.DataFrame'>\n"
     ]
    }
   ],
   "source": [
    "y = trainY\n",
    "print(y.shape)\n",
    "print(type(y))"
   ]
  },
  {
   "cell_type": "code",
   "execution_count": 21,
   "id": "c1696ce3",
   "metadata": {
    "execution": {
     "iopub.execute_input": "2022-05-17T14:25:50.583300Z",
     "iopub.status.busy": "2022-05-17T14:25:50.582699Z",
     "iopub.status.idle": "2022-05-17T14:25:50.594806Z",
     "shell.execute_reply": "2022-05-17T14:25:50.594094Z"
    },
    "papermill": {
     "duration": 0.049655,
     "end_time": "2022-05-17T14:25:50.596546",
     "exception": false,
     "start_time": "2022-05-17T14:25:50.546891",
     "status": "completed"
    },
    "tags": []
   },
   "outputs": [
    {
     "data": {
      "text/html": [
       "<div>\n",
       "<style scoped>\n",
       "    .dataframe tbody tr th:only-of-type {\n",
       "        vertical-align: middle;\n",
       "    }\n",
       "\n",
       "    .dataframe tbody tr th {\n",
       "        vertical-align: top;\n",
       "    }\n",
       "\n",
       "    .dataframe thead th {\n",
       "        text-align: right;\n",
       "    }\n",
       "</style>\n",
       "<table border=\"1\" class=\"dataframe\">\n",
       "  <thead>\n",
       "    <tr style=\"text-align: right;\">\n",
       "      <th></th>\n",
       "      <th>Spirogyra</th>\n",
       "      <th>Volvox</th>\n",
       "      <th>Pithophora</th>\n",
       "      <th>Yeast</th>\n",
       "      <th>Raizopus</th>\n",
       "      <th>Penicillum</th>\n",
       "      <th>Aspergillus sp</th>\n",
       "      <th>Protozoa</th>\n",
       "      <th>Diatom</th>\n",
       "      <th>Ulothrix</th>\n",
       "    </tr>\n",
       "  </thead>\n",
       "  <tbody>\n",
       "    <tr>\n",
       "      <th>4717</th>\n",
       "      <td>0</td>\n",
       "      <td>1</td>\n",
       "      <td>0</td>\n",
       "      <td>0</td>\n",
       "      <td>0</td>\n",
       "      <td>0</td>\n",
       "      <td>0</td>\n",
       "      <td>0</td>\n",
       "      <td>0</td>\n",
       "      <td>0</td>\n",
       "    </tr>\n",
       "    <tr>\n",
       "      <th>28380</th>\n",
       "      <td>0</td>\n",
       "      <td>0</td>\n",
       "      <td>0</td>\n",
       "      <td>0</td>\n",
       "      <td>0</td>\n",
       "      <td>0</td>\n",
       "      <td>0</td>\n",
       "      <td>0</td>\n",
       "      <td>0</td>\n",
       "      <td>1</td>\n",
       "    </tr>\n",
       "    <tr>\n",
       "      <th>17548</th>\n",
       "      <td>0</td>\n",
       "      <td>0</td>\n",
       "      <td>0</td>\n",
       "      <td>0</td>\n",
       "      <td>0</td>\n",
       "      <td>0</td>\n",
       "      <td>0</td>\n",
       "      <td>1</td>\n",
       "      <td>0</td>\n",
       "      <td>0</td>\n",
       "    </tr>\n",
       "    <tr>\n",
       "      <th>28762</th>\n",
       "      <td>0</td>\n",
       "      <td>0</td>\n",
       "      <td>0</td>\n",
       "      <td>0</td>\n",
       "      <td>0</td>\n",
       "      <td>0</td>\n",
       "      <td>0</td>\n",
       "      <td>0</td>\n",
       "      <td>0</td>\n",
       "      <td>1</td>\n",
       "    </tr>\n",
       "    <tr>\n",
       "      <th>28580</th>\n",
       "      <td>0</td>\n",
       "      <td>0</td>\n",
       "      <td>0</td>\n",
       "      <td>0</td>\n",
       "      <td>0</td>\n",
       "      <td>0</td>\n",
       "      <td>0</td>\n",
       "      <td>0</td>\n",
       "      <td>0</td>\n",
       "      <td>1</td>\n",
       "    </tr>\n",
       "    <tr>\n",
       "      <th>...</th>\n",
       "      <td>...</td>\n",
       "      <td>...</td>\n",
       "      <td>...</td>\n",
       "      <td>...</td>\n",
       "      <td>...</td>\n",
       "      <td>...</td>\n",
       "      <td>...</td>\n",
       "      <td>...</td>\n",
       "      <td>...</td>\n",
       "      <td>...</td>\n",
       "    </tr>\n",
       "    <tr>\n",
       "      <th>27245</th>\n",
       "      <td>0</td>\n",
       "      <td>0</td>\n",
       "      <td>0</td>\n",
       "      <td>0</td>\n",
       "      <td>0</td>\n",
       "      <td>0</td>\n",
       "      <td>0</td>\n",
       "      <td>0</td>\n",
       "      <td>0</td>\n",
       "      <td>1</td>\n",
       "    </tr>\n",
       "    <tr>\n",
       "      <th>12284</th>\n",
       "      <td>0</td>\n",
       "      <td>0</td>\n",
       "      <td>0</td>\n",
       "      <td>0</td>\n",
       "      <td>1</td>\n",
       "      <td>0</td>\n",
       "      <td>0</td>\n",
       "      <td>0</td>\n",
       "      <td>0</td>\n",
       "      <td>0</td>\n",
       "    </tr>\n",
       "    <tr>\n",
       "      <th>26466</th>\n",
       "      <td>0</td>\n",
       "      <td>0</td>\n",
       "      <td>0</td>\n",
       "      <td>0</td>\n",
       "      <td>0</td>\n",
       "      <td>0</td>\n",
       "      <td>0</td>\n",
       "      <td>0</td>\n",
       "      <td>0</td>\n",
       "      <td>1</td>\n",
       "    </tr>\n",
       "    <tr>\n",
       "      <th>12225</th>\n",
       "      <td>0</td>\n",
       "      <td>0</td>\n",
       "      <td>0</td>\n",
       "      <td>0</td>\n",
       "      <td>1</td>\n",
       "      <td>0</td>\n",
       "      <td>0</td>\n",
       "      <td>0</td>\n",
       "      <td>0</td>\n",
       "      <td>0</td>\n",
       "    </tr>\n",
       "    <tr>\n",
       "      <th>28846</th>\n",
       "      <td>0</td>\n",
       "      <td>0</td>\n",
       "      <td>0</td>\n",
       "      <td>0</td>\n",
       "      <td>0</td>\n",
       "      <td>0</td>\n",
       "      <td>0</td>\n",
       "      <td>0</td>\n",
       "      <td>0</td>\n",
       "      <td>1</td>\n",
       "    </tr>\n",
       "  </tbody>\n",
       "</table>\n",
       "<p>22893 rows × 10 columns</p>\n",
       "</div>"
      ],
      "text/plain": [
       "       Spirogyra  Volvox  Pithophora  Yeast  Raizopus  Penicillum  \\\n",
       "4717           0       1           0      0         0           0   \n",
       "28380          0       0           0      0         0           0   \n",
       "17548          0       0           0      0         0           0   \n",
       "28762          0       0           0      0         0           0   \n",
       "28580          0       0           0      0         0           0   \n",
       "...          ...     ...         ...    ...       ...         ...   \n",
       "27245          0       0           0      0         0           0   \n",
       "12284          0       0           0      0         1           0   \n",
       "26466          0       0           0      0         0           0   \n",
       "12225          0       0           0      0         1           0   \n",
       "28846          0       0           0      0         0           0   \n",
       "\n",
       "       Aspergillus sp  Protozoa  Diatom  Ulothrix  \n",
       "4717                0         0       0         0  \n",
       "28380               0         0       0         1  \n",
       "17548               0         1       0         0  \n",
       "28762               0         0       0         1  \n",
       "28580               0         0       0         1  \n",
       "...               ...       ...     ...       ...  \n",
       "27245               0         0       0         1  \n",
       "12284               0         0       0         0  \n",
       "26466               0         0       0         1  \n",
       "12225               0         0       0         0  \n",
       "28846               0         0       0         1  \n",
       "\n",
       "[22893 rows x 10 columns]"
      ]
     },
     "execution_count": 21,
     "metadata": {},
     "output_type": "execute_result"
    }
   ],
   "source": [
    "ydf=pd.DataFrame(y)\n",
    "ydf"
   ]
  },
  {
   "cell_type": "code",
   "execution_count": 22,
   "id": "c6f6c0ed",
   "metadata": {
    "execution": {
     "iopub.execute_input": "2022-05-17T14:25:50.667183Z",
     "iopub.status.busy": "2022-05-17T14:25:50.666630Z",
     "iopub.status.idle": "2022-05-17T14:44:50.335852Z",
     "shell.execute_reply": "2022-05-17T14:44:50.335079Z"
    },
    "papermill": {
     "duration": 1139.706842,
     "end_time": "2022-05-17T14:44:50.337926",
     "exception": false,
     "start_time": "2022-05-17T14:25:50.631084",
     "status": "completed"
    },
    "tags": []
   },
   "outputs": [
    {
     "name": "stderr",
     "output_type": "stream",
     "text": [
      "/opt/conda/lib/python3.7/site-packages/ipykernel_launcher.py:12: DeprecationWarning: `np.float` is a deprecated alias for the builtin `float`. To silence this warning, use `float` by itself. Doing this will not modify any behavior and is safe. If you specifically wanted the numpy scalar type, use `np.float64` here.\n",
      "Deprecated in NumPy 1.20; for more details and guidance: https://numpy.org/devdocs/release/1.20.0-notes.html#deprecations\n",
      "  if sys.path[0] == '':\n",
      "/opt/conda/lib/python3.7/site-packages/lightgbm/sklearn.py:726: UserWarning: 'early_stopping_rounds' argument is deprecated and will be removed in a future release of LightGBM. Pass 'early_stopping()' callback via 'callbacks' argument instead.\n",
      "  _log_warning(\"'early_stopping_rounds' argument is deprecated and will be removed in a future release of LightGBM. \"\n",
      "/opt/conda/lib/python3.7/site-packages/lightgbm/sklearn.py:736: UserWarning: 'verbose' argument is deprecated and will be removed in a future release of LightGBM. Pass 'log_evaluation()' callback via 'callbacks' argument instead.\n",
      "  _log_warning(\"'verbose' argument is deprecated and will be removed in a future release of LightGBM. \"\n"
     ]
    },
    {
     "name": "stdout",
     "output_type": "stream",
     "text": [
      "[500]\tvalid_0's rmse: 0.0609638\n",
      "[1000]\tvalid_0's rmse: 0.0577356\n",
      "[1500]\tvalid_0's rmse: 0.0564432\n",
      "[2000]\tvalid_0's rmse: 0.0558882\n",
      "[2500]\tvalid_0's rmse: 0.0556554\n",
      "[3000]\tvalid_0's rmse: 0.0555032\n",
      "[3500]\tvalid_0's rmse: 0.0554317\n",
      "[4000]\tvalid_0's rmse: 0.0553888\n",
      "fit fold=0  13.416[s]\n",
      "Fold 0 RMSLE: 0.0554\n",
      "\n"
     ]
    },
    {
     "name": "stderr",
     "output_type": "stream",
     "text": [
      "/opt/conda/lib/python3.7/site-packages/lightgbm/sklearn.py:726: UserWarning: 'early_stopping_rounds' argument is deprecated and will be removed in a future release of LightGBM. Pass 'early_stopping()' callback via 'callbacks' argument instead.\n",
      "  _log_warning(\"'early_stopping_rounds' argument is deprecated and will be removed in a future release of LightGBM. \"\n",
      "/opt/conda/lib/python3.7/site-packages/lightgbm/sklearn.py:736: UserWarning: 'verbose' argument is deprecated and will be removed in a future release of LightGBM. Pass 'log_evaluation()' callback via 'callbacks' argument instead.\n",
      "  _log_warning(\"'verbose' argument is deprecated and will be removed in a future release of LightGBM. \"\n"
     ]
    },
    {
     "name": "stdout",
     "output_type": "stream",
     "text": [
      "[500]\tvalid_0's rmse: 0.0524712\n",
      "[1000]\tvalid_0's rmse: 0.0498459\n",
      "[1500]\tvalid_0's rmse: 0.0483548\n",
      "[2000]\tvalid_0's rmse: 0.0476713\n",
      "[2500]\tvalid_0's rmse: 0.0473498\n",
      "[3000]\tvalid_0's rmse: 0.0472262\n",
      "[3500]\tvalid_0's rmse: 0.0471423\n",
      "[4000]\tvalid_0's rmse: 0.0470865\n",
      "[4500]\tvalid_0's rmse: 0.047041\n",
      "[5000]\tvalid_0's rmse: 0.04701\n",
      "[5500]\tvalid_0's rmse: 0.0469903\n",
      "[6000]\tvalid_0's rmse: 0.0469738\n",
      "[6500]\tvalid_0's rmse: 0.0469608\n",
      "[7000]\tvalid_0's rmse: 0.0469489\n",
      "fit fold=1  21.928[s]\n",
      "Fold 1 RMSLE: 0.0469\n",
      "\n"
     ]
    },
    {
     "name": "stderr",
     "output_type": "stream",
     "text": [
      "/opt/conda/lib/python3.7/site-packages/lightgbm/sklearn.py:726: UserWarning: 'early_stopping_rounds' argument is deprecated and will be removed in a future release of LightGBM. Pass 'early_stopping()' callback via 'callbacks' argument instead.\n",
      "  _log_warning(\"'early_stopping_rounds' argument is deprecated and will be removed in a future release of LightGBM. \"\n",
      "/opt/conda/lib/python3.7/site-packages/lightgbm/sklearn.py:736: UserWarning: 'verbose' argument is deprecated and will be removed in a future release of LightGBM. Pass 'log_evaluation()' callback via 'callbacks' argument instead.\n",
      "  _log_warning(\"'verbose' argument is deprecated and will be removed in a future release of LightGBM. \"\n"
     ]
    },
    {
     "name": "stdout",
     "output_type": "stream",
     "text": [
      "[500]\tvalid_0's rmse: 0.0710162\n",
      "[1000]\tvalid_0's rmse: 0.0686147\n",
      "[1500]\tvalid_0's rmse: 0.0671792\n",
      "[2000]\tvalid_0's rmse: 0.0665596\n",
      "[2500]\tvalid_0's rmse: 0.0662103\n",
      "[3000]\tvalid_0's rmse: 0.0660431\n",
      "[3500]\tvalid_0's rmse: 0.0659689\n",
      "[4000]\tvalid_0's rmse: 0.0659208\n",
      "[4500]\tvalid_0's rmse: 0.0658681\n",
      "[5000]\tvalid_0's rmse: 0.0658383\n",
      "[5500]\tvalid_0's rmse: 0.0658181\n",
      "[6000]\tvalid_0's rmse: 0.0657977\n",
      "[6500]\tvalid_0's rmse: 0.0657868\n",
      "[7000]\tvalid_0's rmse: 0.065779\n",
      "[7500]\tvalid_0's rmse: 0.0657698\n",
      "[8000]\tvalid_0's rmse: 0.0657617\n",
      "fit fold=2  24.400[s]\n",
      "Fold 2 RMSLE: 0.0658\n",
      "\n"
     ]
    },
    {
     "name": "stderr",
     "output_type": "stream",
     "text": [
      "/opt/conda/lib/python3.7/site-packages/lightgbm/sklearn.py:726: UserWarning: 'early_stopping_rounds' argument is deprecated and will be removed in a future release of LightGBM. Pass 'early_stopping()' callback via 'callbacks' argument instead.\n",
      "  _log_warning(\"'early_stopping_rounds' argument is deprecated and will be removed in a future release of LightGBM. \"\n",
      "/opt/conda/lib/python3.7/site-packages/lightgbm/sklearn.py:736: UserWarning: 'verbose' argument is deprecated and will be removed in a future release of LightGBM. Pass 'log_evaluation()' callback via 'callbacks' argument instead.\n",
      "  _log_warning(\"'verbose' argument is deprecated and will be removed in a future release of LightGBM. \"\n"
     ]
    },
    {
     "name": "stdout",
     "output_type": "stream",
     "text": [
      "[500]\tvalid_0's rmse: 0.0694295\n",
      "[1000]\tvalid_0's rmse: 0.0664013\n",
      "[1500]\tvalid_0's rmse: 0.0651915\n",
      "[2000]\tvalid_0's rmse: 0.0646802\n",
      "[2500]\tvalid_0's rmse: 0.0643374\n",
      "[3000]\tvalid_0's rmse: 0.0642297\n",
      "[3500]\tvalid_0's rmse: 0.064145\n",
      "[4000]\tvalid_0's rmse: 0.0641055\n",
      "[4500]\tvalid_0's rmse: 0.0640795\n",
      "[5000]\tvalid_0's rmse: 0.0640545\n",
      "[5500]\tvalid_0's rmse: 0.0640383\n",
      "fit fold=3  17.172[s]\n",
      "Fold 3 RMSLE: 0.0640\n",
      "\n"
     ]
    },
    {
     "name": "stderr",
     "output_type": "stream",
     "text": [
      "/opt/conda/lib/python3.7/site-packages/lightgbm/sklearn.py:726: UserWarning: 'early_stopping_rounds' argument is deprecated and will be removed in a future release of LightGBM. Pass 'early_stopping()' callback via 'callbacks' argument instead.\n",
      "  _log_warning(\"'early_stopping_rounds' argument is deprecated and will be removed in a future release of LightGBM. \"\n",
      "/opt/conda/lib/python3.7/site-packages/lightgbm/sklearn.py:736: UserWarning: 'verbose' argument is deprecated and will be removed in a future release of LightGBM. Pass 'log_evaluation()' callback via 'callbacks' argument instead.\n",
      "  _log_warning(\"'verbose' argument is deprecated and will be removed in a future release of LightGBM. \"\n"
     ]
    },
    {
     "name": "stdout",
     "output_type": "stream",
     "text": [
      "[500]\tvalid_0's rmse: 0.0565566\n",
      "[1000]\tvalid_0's rmse: 0.0536618\n",
      "[1500]\tvalid_0's rmse: 0.0521568\n",
      "[2000]\tvalid_0's rmse: 0.0516538\n",
      "[2500]\tvalid_0's rmse: 0.0514009\n",
      "[3000]\tvalid_0's rmse: 0.0513097\n",
      "[3500]\tvalid_0's rmse: 0.0512623\n",
      "[4000]\tvalid_0's rmse: 0.0512151\n",
      "[4500]\tvalid_0's rmse: 0.0511908\n",
      "[5000]\tvalid_0's rmse: 0.0511722\n",
      "fit fold=4  17.026[s]\n",
      "Fold 4 RMSLE: 0.0512\n",
      "\n",
      "--------------------------------------------------\n",
      "FINISHED | Whole RMSLE: 0.0571\n"
     ]
    },
    {
     "name": "stderr",
     "output_type": "stream",
     "text": [
      "/opt/conda/lib/python3.7/site-packages/ipykernel_launcher.py:12: DeprecationWarning: `np.float` is a deprecated alias for the builtin `float`. To silence this warning, use `float` by itself. Doing this will not modify any behavior and is safe. If you specifically wanted the numpy scalar type, use `np.float64` here.\n",
      "Deprecated in NumPy 1.20; for more details and guidance: https://numpy.org/devdocs/release/1.20.0-notes.html#deprecations\n",
      "  if sys.path[0] == '':\n",
      "/opt/conda/lib/python3.7/site-packages/lightgbm/sklearn.py:726: UserWarning: 'early_stopping_rounds' argument is deprecated and will be removed in a future release of LightGBM. Pass 'early_stopping()' callback via 'callbacks' argument instead.\n",
      "  _log_warning(\"'early_stopping_rounds' argument is deprecated and will be removed in a future release of LightGBM. \"\n",
      "/opt/conda/lib/python3.7/site-packages/lightgbm/sklearn.py:736: UserWarning: 'verbose' argument is deprecated and will be removed in a future release of LightGBM. Pass 'log_evaluation()' callback via 'callbacks' argument instead.\n",
      "  _log_warning(\"'verbose' argument is deprecated and will be removed in a future release of LightGBM. \"\n"
     ]
    },
    {
     "name": "stdout",
     "output_type": "stream",
     "text": [
      "[500]\tvalid_0's rmse: 0.0664567\n",
      "[1000]\tvalid_0's rmse: 0.0410308\n",
      "[1500]\tvalid_0's rmse: 0.0347083\n",
      "[2000]\tvalid_0's rmse: 0.0325675\n",
      "[2500]\tvalid_0's rmse: 0.031663\n",
      "[3000]\tvalid_0's rmse: 0.0312316\n",
      "[3500]\tvalid_0's rmse: 0.0310058\n",
      "[4000]\tvalid_0's rmse: 0.0308614\n",
      "[4500]\tvalid_0's rmse: 0.0307723\n",
      "[5000]\tvalid_0's rmse: 0.0307152\n",
      "[5500]\tvalid_0's rmse: 0.0306718\n",
      "[6000]\tvalid_0's rmse: 0.0306379\n",
      "[6500]\tvalid_0's rmse: 0.0306115\n",
      "[7000]\tvalid_0's rmse: 0.0305964\n",
      "fit fold=0  21.757[s]\n",
      "Fold 0 RMSLE: 0.0306\n",
      "\n"
     ]
    },
    {
     "name": "stderr",
     "output_type": "stream",
     "text": [
      "/opt/conda/lib/python3.7/site-packages/lightgbm/sklearn.py:726: UserWarning: 'early_stopping_rounds' argument is deprecated and will be removed in a future release of LightGBM. Pass 'early_stopping()' callback via 'callbacks' argument instead.\n",
      "  _log_warning(\"'early_stopping_rounds' argument is deprecated and will be removed in a future release of LightGBM. \"\n",
      "/opt/conda/lib/python3.7/site-packages/lightgbm/sklearn.py:736: UserWarning: 'verbose' argument is deprecated and will be removed in a future release of LightGBM. Pass 'log_evaluation()' callback via 'callbacks' argument instead.\n",
      "  _log_warning(\"'verbose' argument is deprecated and will be removed in a future release of LightGBM. \"\n"
     ]
    },
    {
     "name": "stdout",
     "output_type": "stream",
     "text": [
      "[500]\tvalid_0's rmse: 0.0722731\n",
      "[1000]\tvalid_0's rmse: 0.0484233\n",
      "[1500]\tvalid_0's rmse: 0.0431123\n",
      "[2000]\tvalid_0's rmse: 0.0414875\n",
      "[2500]\tvalid_0's rmse: 0.0408503\n",
      "[3000]\tvalid_0's rmse: 0.0405691\n",
      "[3500]\tvalid_0's rmse: 0.0404136\n",
      "[4000]\tvalid_0's rmse: 0.040318\n",
      "[4500]\tvalid_0's rmse: 0.0402493\n",
      "[5000]\tvalid_0's rmse: 0.0401977\n",
      "[5500]\tvalid_0's rmse: 0.0401694\n",
      "[6000]\tvalid_0's rmse: 0.040142\n",
      "[6500]\tvalid_0's rmse: 0.0401195\n",
      "[7000]\tvalid_0's rmse: 0.040103\n",
      "fit fold=1  21.168[s]\n",
      "Fold 1 RMSLE: 0.0401\n",
      "\n"
     ]
    },
    {
     "name": "stderr",
     "output_type": "stream",
     "text": [
      "/opt/conda/lib/python3.7/site-packages/lightgbm/sklearn.py:726: UserWarning: 'early_stopping_rounds' argument is deprecated and will be removed in a future release of LightGBM. Pass 'early_stopping()' callback via 'callbacks' argument instead.\n",
      "  _log_warning(\"'early_stopping_rounds' argument is deprecated and will be removed in a future release of LightGBM. \"\n",
      "/opt/conda/lib/python3.7/site-packages/lightgbm/sklearn.py:736: UserWarning: 'verbose' argument is deprecated and will be removed in a future release of LightGBM. Pass 'log_evaluation()' callback via 'callbacks' argument instead.\n",
      "  _log_warning(\"'verbose' argument is deprecated and will be removed in a future release of LightGBM. \"\n"
     ]
    },
    {
     "name": "stdout",
     "output_type": "stream",
     "text": [
      "[500]\tvalid_0's rmse: 0.069912\n",
      "[1000]\tvalid_0's rmse: 0.0437422\n",
      "[1500]\tvalid_0's rmse: 0.0370191\n",
      "[2000]\tvalid_0's rmse: 0.0347417\n",
      "[2500]\tvalid_0's rmse: 0.0338833\n",
      "[3000]\tvalid_0's rmse: 0.0334658\n",
      "[3500]\tvalid_0's rmse: 0.033243\n",
      "[4000]\tvalid_0's rmse: 0.0330989\n",
      "[4500]\tvalid_0's rmse: 0.0330178\n",
      "[5000]\tvalid_0's rmse: 0.0329506\n",
      "[5500]\tvalid_0's rmse: 0.0329017\n",
      "[6000]\tvalid_0's rmse: 0.0328647\n",
      "[6500]\tvalid_0's rmse: 0.0328374\n",
      "[7000]\tvalid_0's rmse: 0.0328177\n",
      "[7500]\tvalid_0's rmse: 0.0328003\n",
      "[8000]\tvalid_0's rmse: 0.0327842\n",
      "[8500]\tvalid_0's rmse: 0.0327735\n",
      "fit fold=2  25.768[s]\n",
      "Fold 2 RMSLE: 0.0328\n",
      "\n"
     ]
    },
    {
     "name": "stderr",
     "output_type": "stream",
     "text": [
      "/opt/conda/lib/python3.7/site-packages/lightgbm/sklearn.py:726: UserWarning: 'early_stopping_rounds' argument is deprecated and will be removed in a future release of LightGBM. Pass 'early_stopping()' callback via 'callbacks' argument instead.\n",
      "  _log_warning(\"'early_stopping_rounds' argument is deprecated and will be removed in a future release of LightGBM. \"\n",
      "/opt/conda/lib/python3.7/site-packages/lightgbm/sklearn.py:736: UserWarning: 'verbose' argument is deprecated and will be removed in a future release of LightGBM. Pass 'log_evaluation()' callback via 'callbacks' argument instead.\n",
      "  _log_warning(\"'verbose' argument is deprecated and will be removed in a future release of LightGBM. \"\n"
     ]
    },
    {
     "name": "stdout",
     "output_type": "stream",
     "text": [
      "[500]\tvalid_0's rmse: 0.0700618\n",
      "[1000]\tvalid_0's rmse: 0.0421032\n",
      "[1500]\tvalid_0's rmse: 0.0357858\n",
      "[2000]\tvalid_0's rmse: 0.0338686\n",
      "[2500]\tvalid_0's rmse: 0.0331073\n",
      "[3000]\tvalid_0's rmse: 0.0327415\n",
      "[3500]\tvalid_0's rmse: 0.0325731\n",
      "[4000]\tvalid_0's rmse: 0.0324589\n",
      "[4500]\tvalid_0's rmse: 0.0324002\n",
      "[5000]\tvalid_0's rmse: 0.0323494\n",
      "[5500]\tvalid_0's rmse: 0.0323167\n",
      "[6000]\tvalid_0's rmse: 0.0322926\n",
      "[6500]\tvalid_0's rmse: 0.0322759\n",
      "[7000]\tvalid_0's rmse: 0.0322631\n",
      "[7500]\tvalid_0's rmse: 0.0322495\n",
      "[8000]\tvalid_0's rmse: 0.0322403\n",
      "[8500]\tvalid_0's rmse: 0.032231\n",
      "fit fold=3  26.466[s]\n",
      "Fold 3 RMSLE: 0.0322\n",
      "\n"
     ]
    },
    {
     "name": "stderr",
     "output_type": "stream",
     "text": [
      "/opt/conda/lib/python3.7/site-packages/lightgbm/sklearn.py:726: UserWarning: 'early_stopping_rounds' argument is deprecated and will be removed in a future release of LightGBM. Pass 'early_stopping()' callback via 'callbacks' argument instead.\n",
      "  _log_warning(\"'early_stopping_rounds' argument is deprecated and will be removed in a future release of LightGBM. \"\n",
      "/opt/conda/lib/python3.7/site-packages/lightgbm/sklearn.py:736: UserWarning: 'verbose' argument is deprecated and will be removed in a future release of LightGBM. Pass 'log_evaluation()' callback via 'callbacks' argument instead.\n",
      "  _log_warning(\"'verbose' argument is deprecated and will be removed in a future release of LightGBM. \"\n"
     ]
    },
    {
     "name": "stdout",
     "output_type": "stream",
     "text": [
      "[500]\tvalid_0's rmse: 0.0674812\n",
      "[1000]\tvalid_0's rmse: 0.043863\n",
      "[1500]\tvalid_0's rmse: 0.0380719\n",
      "[2000]\tvalid_0's rmse: 0.0360291\n",
      "[2500]\tvalid_0's rmse: 0.0352581\n",
      "[3000]\tvalid_0's rmse: 0.0348969\n",
      "[3500]\tvalid_0's rmse: 0.0347127\n",
      "[4000]\tvalid_0's rmse: 0.034609\n",
      "[4500]\tvalid_0's rmse: 0.0345418\n",
      "[5000]\tvalid_0's rmse: 0.0344887\n",
      "[5500]\tvalid_0's rmse: 0.0344519\n",
      "[6000]\tvalid_0's rmse: 0.0344268\n",
      "[6500]\tvalid_0's rmse: 0.0344012\n",
      "[7000]\tvalid_0's rmse: 0.0343871\n",
      "[7500]\tvalid_0's rmse: 0.0343752\n",
      "[8000]\tvalid_0's rmse: 0.0343635\n",
      "fit fold=4  24.374[s]\n",
      "Fold 4 RMSLE: 0.0344\n",
      "\n",
      "--------------------------------------------------\n",
      "FINISHED | Whole RMSLE: 0.0342\n"
     ]
    },
    {
     "name": "stderr",
     "output_type": "stream",
     "text": [
      "/opt/conda/lib/python3.7/site-packages/ipykernel_launcher.py:12: DeprecationWarning: `np.float` is a deprecated alias for the builtin `float`. To silence this warning, use `float` by itself. Doing this will not modify any behavior and is safe. If you specifically wanted the numpy scalar type, use `np.float64` here.\n",
      "Deprecated in NumPy 1.20; for more details and guidance: https://numpy.org/devdocs/release/1.20.0-notes.html#deprecations\n",
      "  if sys.path[0] == '':\n",
      "/opt/conda/lib/python3.7/site-packages/lightgbm/sklearn.py:726: UserWarning: 'early_stopping_rounds' argument is deprecated and will be removed in a future release of LightGBM. Pass 'early_stopping()' callback via 'callbacks' argument instead.\n",
      "  _log_warning(\"'early_stopping_rounds' argument is deprecated and will be removed in a future release of LightGBM. \"\n",
      "/opt/conda/lib/python3.7/site-packages/lightgbm/sklearn.py:736: UserWarning: 'verbose' argument is deprecated and will be removed in a future release of LightGBM. Pass 'log_evaluation()' callback via 'callbacks' argument instead.\n",
      "  _log_warning(\"'verbose' argument is deprecated and will be removed in a future release of LightGBM. \"\n"
     ]
    },
    {
     "name": "stdout",
     "output_type": "stream",
     "text": [
      "[500]\tvalid_0's rmse: 0.078441\n",
      "[1000]\tvalid_0's rmse: 0.0651559\n",
      "[1500]\tvalid_0's rmse: 0.0605106\n",
      "[2000]\tvalid_0's rmse: 0.0587877\n",
      "[2500]\tvalid_0's rmse: 0.0580563\n",
      "[3000]\tvalid_0's rmse: 0.0577283\n",
      "[3500]\tvalid_0's rmse: 0.0575698\n",
      "[4000]\tvalid_0's rmse: 0.0574654\n",
      "[4500]\tvalid_0's rmse: 0.0573961\n",
      "[5000]\tvalid_0's rmse: 0.0573476\n",
      "[5500]\tvalid_0's rmse: 0.0573138\n",
      "[6000]\tvalid_0's rmse: 0.0572915\n",
      "[6500]\tvalid_0's rmse: 0.0572764\n",
      "[7000]\tvalid_0's rmse: 0.0572568\n",
      "[7500]\tvalid_0's rmse: 0.0572429\n",
      "[8000]\tvalid_0's rmse: 0.0572345\n",
      "[8500]\tvalid_0's rmse: 0.0572281\n",
      "[9000]\tvalid_0's rmse: 0.0572223\n",
      "fit fold=0  26.999[s]\n",
      "Fold 0 RMSLE: 0.0572\n",
      "\n"
     ]
    },
    {
     "name": "stderr",
     "output_type": "stream",
     "text": [
      "/opt/conda/lib/python3.7/site-packages/lightgbm/sklearn.py:726: UserWarning: 'early_stopping_rounds' argument is deprecated and will be removed in a future release of LightGBM. Pass 'early_stopping()' callback via 'callbacks' argument instead.\n",
      "  _log_warning(\"'early_stopping_rounds' argument is deprecated and will be removed in a future release of LightGBM. \"\n",
      "/opt/conda/lib/python3.7/site-packages/lightgbm/sklearn.py:736: UserWarning: 'verbose' argument is deprecated and will be removed in a future release of LightGBM. Pass 'log_evaluation()' callback via 'callbacks' argument instead.\n",
      "  _log_warning(\"'verbose' argument is deprecated and will be removed in a future release of LightGBM. \"\n"
     ]
    },
    {
     "name": "stdout",
     "output_type": "stream",
     "text": [
      "[500]\tvalid_0's rmse: 0.0892113\n",
      "[1000]\tvalid_0's rmse: 0.0764739\n",
      "[1500]\tvalid_0's rmse: 0.0722161\n",
      "[2000]\tvalid_0's rmse: 0.0704453\n",
      "[2500]\tvalid_0's rmse: 0.0697081\n",
      "[3000]\tvalid_0's rmse: 0.0694283\n",
      "[3500]\tvalid_0's rmse: 0.0692483\n",
      "[4000]\tvalid_0's rmse: 0.0691589\n",
      "[4500]\tvalid_0's rmse: 0.0691014\n",
      "[5000]\tvalid_0's rmse: 0.0690578\n",
      "[5500]\tvalid_0's rmse: 0.0690292\n",
      "[6000]\tvalid_0's rmse: 0.0690093\n",
      "[6500]\tvalid_0's rmse: 0.0689952\n",
      "[7000]\tvalid_0's rmse: 0.0689831\n",
      "[7500]\tvalid_0's rmse: 0.0689722\n",
      "fit fold=1  23.315[s]\n",
      "Fold 1 RMSLE: 0.0690\n",
      "\n"
     ]
    },
    {
     "name": "stderr",
     "output_type": "stream",
     "text": [
      "/opt/conda/lib/python3.7/site-packages/lightgbm/sklearn.py:726: UserWarning: 'early_stopping_rounds' argument is deprecated and will be removed in a future release of LightGBM. Pass 'early_stopping()' callback via 'callbacks' argument instead.\n",
      "  _log_warning(\"'early_stopping_rounds' argument is deprecated and will be removed in a future release of LightGBM. \"\n",
      "/opt/conda/lib/python3.7/site-packages/lightgbm/sklearn.py:736: UserWarning: 'verbose' argument is deprecated and will be removed in a future release of LightGBM. Pass 'log_evaluation()' callback via 'callbacks' argument instead.\n",
      "  _log_warning(\"'verbose' argument is deprecated and will be removed in a future release of LightGBM. \"\n"
     ]
    },
    {
     "name": "stdout",
     "output_type": "stream",
     "text": [
      "[500]\tvalid_0's rmse: 0.0909033\n",
      "[1000]\tvalid_0's rmse: 0.0792985\n",
      "[1500]\tvalid_0's rmse: 0.0753229\n",
      "[2000]\tvalid_0's rmse: 0.073449\n",
      "[2500]\tvalid_0's rmse: 0.0727673\n",
      "[3000]\tvalid_0's rmse: 0.0724743\n",
      "[3500]\tvalid_0's rmse: 0.072323\n",
      "[4000]\tvalid_0's rmse: 0.0722239\n",
      "[4500]\tvalid_0's rmse: 0.0721603\n",
      "[5000]\tvalid_0's rmse: 0.0721271\n",
      "fit fold=2  15.209[s]\n",
      "Fold 2 RMSLE: 0.0721\n",
      "\n"
     ]
    },
    {
     "name": "stderr",
     "output_type": "stream",
     "text": [
      "/opt/conda/lib/python3.7/site-packages/lightgbm/sklearn.py:726: UserWarning: 'early_stopping_rounds' argument is deprecated and will be removed in a future release of LightGBM. Pass 'early_stopping()' callback via 'callbacks' argument instead.\n",
      "  _log_warning(\"'early_stopping_rounds' argument is deprecated and will be removed in a future release of LightGBM. \"\n",
      "/opt/conda/lib/python3.7/site-packages/lightgbm/sklearn.py:736: UserWarning: 'verbose' argument is deprecated and will be removed in a future release of LightGBM. Pass 'log_evaluation()' callback via 'callbacks' argument instead.\n",
      "  _log_warning(\"'verbose' argument is deprecated and will be removed in a future release of LightGBM. \"\n"
     ]
    },
    {
     "name": "stdout",
     "output_type": "stream",
     "text": [
      "[500]\tvalid_0's rmse: 0.0887357\n",
      "[1000]\tvalid_0's rmse: 0.07543\n",
      "[1500]\tvalid_0's rmse: 0.0711117\n",
      "[2000]\tvalid_0's rmse: 0.0694478\n",
      "[2500]\tvalid_0's rmse: 0.0686434\n",
      "[3000]\tvalid_0's rmse: 0.0683223\n",
      "[3500]\tvalid_0's rmse: 0.0681717\n",
      "[4000]\tvalid_0's rmse: 0.0680393\n",
      "[4500]\tvalid_0's rmse: 0.06798\n",
      "[5000]\tvalid_0's rmse: 0.0679328\n",
      "[5500]\tvalid_0's rmse: 0.0679057\n",
      "[6000]\tvalid_0's rmse: 0.0678813\n",
      "[6500]\tvalid_0's rmse: 0.0678619\n",
      "[7000]\tvalid_0's rmse: 0.0678511\n",
      "fit fold=3  22.447[s]\n",
      "Fold 3 RMSLE: 0.0678\n",
      "\n"
     ]
    },
    {
     "name": "stderr",
     "output_type": "stream",
     "text": [
      "/opt/conda/lib/python3.7/site-packages/lightgbm/sklearn.py:726: UserWarning: 'early_stopping_rounds' argument is deprecated and will be removed in a future release of LightGBM. Pass 'early_stopping()' callback via 'callbacks' argument instead.\n",
      "  _log_warning(\"'early_stopping_rounds' argument is deprecated and will be removed in a future release of LightGBM. \"\n",
      "/opt/conda/lib/python3.7/site-packages/lightgbm/sklearn.py:736: UserWarning: 'verbose' argument is deprecated and will be removed in a future release of LightGBM. Pass 'log_evaluation()' callback via 'callbacks' argument instead.\n",
      "  _log_warning(\"'verbose' argument is deprecated and will be removed in a future release of LightGBM. \"\n"
     ]
    },
    {
     "name": "stdout",
     "output_type": "stream",
     "text": [
      "[500]\tvalid_0's rmse: 0.0843846\n",
      "[1000]\tvalid_0's rmse: 0.0709032\n",
      "[1500]\tvalid_0's rmse: 0.0654851\n",
      "[2000]\tvalid_0's rmse: 0.0633132\n",
      "[2500]\tvalid_0's rmse: 0.0623905\n",
      "[3000]\tvalid_0's rmse: 0.0620002\n",
      "[3500]\tvalid_0's rmse: 0.0617807\n",
      "[4000]\tvalid_0's rmse: 0.0616699\n",
      "[4500]\tvalid_0's rmse: 0.0616009\n",
      "[5000]\tvalid_0's rmse: 0.0615517\n",
      "[5500]\tvalid_0's rmse: 0.0615084\n",
      "[6000]\tvalid_0's rmse: 0.0614844\n",
      "[6500]\tvalid_0's rmse: 0.0614687\n",
      "[7000]\tvalid_0's rmse: 0.061449\n",
      "fit fold=4  21.146[s]\n",
      "Fold 4 RMSLE: 0.0614\n",
      "\n",
      "--------------------------------------------------\n",
      "FINISHED | Whole RMSLE: 0.0657\n"
     ]
    },
    {
     "name": "stderr",
     "output_type": "stream",
     "text": [
      "/opt/conda/lib/python3.7/site-packages/ipykernel_launcher.py:12: DeprecationWarning: `np.float` is a deprecated alias for the builtin `float`. To silence this warning, use `float` by itself. Doing this will not modify any behavior and is safe. If you specifically wanted the numpy scalar type, use `np.float64` here.\n",
      "Deprecated in NumPy 1.20; for more details and guidance: https://numpy.org/devdocs/release/1.20.0-notes.html#deprecations\n",
      "  if sys.path[0] == '':\n",
      "/opt/conda/lib/python3.7/site-packages/lightgbm/sklearn.py:726: UserWarning: 'early_stopping_rounds' argument is deprecated and will be removed in a future release of LightGBM. Pass 'early_stopping()' callback via 'callbacks' argument instead.\n",
      "  _log_warning(\"'early_stopping_rounds' argument is deprecated and will be removed in a future release of LightGBM. \"\n",
      "/opt/conda/lib/python3.7/site-packages/lightgbm/sklearn.py:736: UserWarning: 'verbose' argument is deprecated and will be removed in a future release of LightGBM. Pass 'log_evaluation()' callback via 'callbacks' argument instead.\n",
      "  _log_warning(\"'verbose' argument is deprecated and will be removed in a future release of LightGBM. \"\n"
     ]
    },
    {
     "name": "stdout",
     "output_type": "stream",
     "text": [
      "[500]\tvalid_0's rmse: 0.0694965\n",
      "[1000]\tvalid_0's rmse: 0.0508367\n",
      "[1500]\tvalid_0's rmse: 0.0448114\n",
      "[2000]\tvalid_0's rmse: 0.0427142\n",
      "[2500]\tvalid_0's rmse: 0.0418712\n",
      "[3000]\tvalid_0's rmse: 0.0414633\n",
      "[3500]\tvalid_0's rmse: 0.0412425\n",
      "[4000]\tvalid_0's rmse: 0.041108\n",
      "[4500]\tvalid_0's rmse: 0.041021\n",
      "[5000]\tvalid_0's rmse: 0.0409596\n",
      "[5500]\tvalid_0's rmse: 0.0409109\n",
      "[6000]\tvalid_0's rmse: 0.0408737\n",
      "[6500]\tvalid_0's rmse: 0.0408479\n",
      "[7000]\tvalid_0's rmse: 0.0408333\n",
      "[7500]\tvalid_0's rmse: 0.0408213\n",
      "[8000]\tvalid_0's rmse: 0.0408036\n",
      "fit fold=0  23.729[s]\n",
      "Fold 0 RMSLE: 0.0408\n",
      "\n"
     ]
    },
    {
     "name": "stderr",
     "output_type": "stream",
     "text": [
      "/opt/conda/lib/python3.7/site-packages/lightgbm/sklearn.py:726: UserWarning: 'early_stopping_rounds' argument is deprecated and will be removed in a future release of LightGBM. Pass 'early_stopping()' callback via 'callbacks' argument instead.\n",
      "  _log_warning(\"'early_stopping_rounds' argument is deprecated and will be removed in a future release of LightGBM. \"\n",
      "/opt/conda/lib/python3.7/site-packages/lightgbm/sklearn.py:736: UserWarning: 'verbose' argument is deprecated and will be removed in a future release of LightGBM. Pass 'log_evaluation()' callback via 'callbacks' argument instead.\n",
      "  _log_warning(\"'verbose' argument is deprecated and will be removed in a future release of LightGBM. \"\n"
     ]
    },
    {
     "name": "stdout",
     "output_type": "stream",
     "text": [
      "[500]\tvalid_0's rmse: 0.067779\n",
      "[1000]\tvalid_0's rmse: 0.0470259\n",
      "[1500]\tvalid_0's rmse: 0.0414438\n",
      "[2000]\tvalid_0's rmse: 0.0398281\n",
      "[2500]\tvalid_0's rmse: 0.0392399\n",
      "[3000]\tvalid_0's rmse: 0.0389704\n",
      "[3500]\tvalid_0's rmse: 0.0388226\n",
      "[4000]\tvalid_0's rmse: 0.0387436\n",
      "[4500]\tvalid_0's rmse: 0.0386808\n",
      "[5000]\tvalid_0's rmse: 0.0386453\n",
      "[5500]\tvalid_0's rmse: 0.0386239\n",
      "[6000]\tvalid_0's rmse: 0.0386095\n",
      "[6500]\tvalid_0's rmse: 0.0385937\n",
      "[7000]\tvalid_0's rmse: 0.0385849\n",
      "fit fold=1  21.571[s]\n",
      "Fold 1 RMSLE: 0.0386\n",
      "\n"
     ]
    },
    {
     "name": "stderr",
     "output_type": "stream",
     "text": [
      "/opt/conda/lib/python3.7/site-packages/lightgbm/sklearn.py:726: UserWarning: 'early_stopping_rounds' argument is deprecated and will be removed in a future release of LightGBM. Pass 'early_stopping()' callback via 'callbacks' argument instead.\n",
      "  _log_warning(\"'early_stopping_rounds' argument is deprecated and will be removed in a future release of LightGBM. \"\n",
      "/opt/conda/lib/python3.7/site-packages/lightgbm/sklearn.py:736: UserWarning: 'verbose' argument is deprecated and will be removed in a future release of LightGBM. Pass 'log_evaluation()' callback via 'callbacks' argument instead.\n",
      "  _log_warning(\"'verbose' argument is deprecated and will be removed in a future release of LightGBM. \"\n"
     ]
    },
    {
     "name": "stdout",
     "output_type": "stream",
     "text": [
      "[500]\tvalid_0's rmse: 0.0708661\n",
      "[1000]\tvalid_0's rmse: 0.0493572\n",
      "[1500]\tvalid_0's rmse: 0.0430022\n",
      "[2000]\tvalid_0's rmse: 0.0408477\n",
      "[2500]\tvalid_0's rmse: 0.0400469\n",
      "[3000]\tvalid_0's rmse: 0.0396253\n",
      "[3500]\tvalid_0's rmse: 0.0394394\n",
      "[4000]\tvalid_0's rmse: 0.0393176\n",
      "[4500]\tvalid_0's rmse: 0.039235\n",
      "[5000]\tvalid_0's rmse: 0.0391901\n",
      "[5500]\tvalid_0's rmse: 0.0391516\n",
      "[6000]\tvalid_0's rmse: 0.0391189\n",
      "[6500]\tvalid_0's rmse: 0.0390943\n",
      "[7000]\tvalid_0's rmse: 0.0390796\n",
      "[7500]\tvalid_0's rmse: 0.0390668\n",
      "[8000]\tvalid_0's rmse: 0.0390584\n",
      "fit fold=2  24.301[s]\n",
      "Fold 2 RMSLE: 0.0391\n",
      "\n"
     ]
    },
    {
     "name": "stderr",
     "output_type": "stream",
     "text": [
      "/opt/conda/lib/python3.7/site-packages/lightgbm/sklearn.py:726: UserWarning: 'early_stopping_rounds' argument is deprecated and will be removed in a future release of LightGBM. Pass 'early_stopping()' callback via 'callbacks' argument instead.\n",
      "  _log_warning(\"'early_stopping_rounds' argument is deprecated and will be removed in a future release of LightGBM. \"\n",
      "/opt/conda/lib/python3.7/site-packages/lightgbm/sklearn.py:736: UserWarning: 'verbose' argument is deprecated and will be removed in a future release of LightGBM. Pass 'log_evaluation()' callback via 'callbacks' argument instead.\n",
      "  _log_warning(\"'verbose' argument is deprecated and will be removed in a future release of LightGBM. \"\n"
     ]
    },
    {
     "name": "stdout",
     "output_type": "stream",
     "text": [
      "[500]\tvalid_0's rmse: 0.0714015\n",
      "[1000]\tvalid_0's rmse: 0.0470625\n",
      "[1500]\tvalid_0's rmse: 0.0393735\n",
      "[2000]\tvalid_0's rmse: 0.0367816\n",
      "[2500]\tvalid_0's rmse: 0.0357834\n",
      "[3000]\tvalid_0's rmse: 0.0353498\n",
      "[3500]\tvalid_0's rmse: 0.0351192\n",
      "[4000]\tvalid_0's rmse: 0.0349784\n",
      "[4500]\tvalid_0's rmse: 0.0348843\n",
      "[5000]\tvalid_0's rmse: 0.0348206\n",
      "[5500]\tvalid_0's rmse: 0.034769\n",
      "[6000]\tvalid_0's rmse: 0.0347323\n",
      "[6500]\tvalid_0's rmse: 0.0347032\n",
      "[7000]\tvalid_0's rmse: 0.0346791\n",
      "[7500]\tvalid_0's rmse: 0.0346598\n",
      "[8000]\tvalid_0's rmse: 0.0346422\n",
      "[8500]\tvalid_0's rmse: 0.0346301\n",
      "[9000]\tvalid_0's rmse: 0.0346215\n",
      "fit fold=3  26.910[s]\n",
      "Fold 3 RMSLE: 0.0346\n",
      "\n"
     ]
    },
    {
     "name": "stderr",
     "output_type": "stream",
     "text": [
      "/opt/conda/lib/python3.7/site-packages/lightgbm/sklearn.py:726: UserWarning: 'early_stopping_rounds' argument is deprecated and will be removed in a future release of LightGBM. Pass 'early_stopping()' callback via 'callbacks' argument instead.\n",
      "  _log_warning(\"'early_stopping_rounds' argument is deprecated and will be removed in a future release of LightGBM. \"\n",
      "/opt/conda/lib/python3.7/site-packages/lightgbm/sklearn.py:736: UserWarning: 'verbose' argument is deprecated and will be removed in a future release of LightGBM. Pass 'log_evaluation()' callback via 'callbacks' argument instead.\n",
      "  _log_warning(\"'verbose' argument is deprecated and will be removed in a future release of LightGBM. \"\n"
     ]
    },
    {
     "name": "stdout",
     "output_type": "stream",
     "text": [
      "[500]\tvalid_0's rmse: 0.0680488\n",
      "[1000]\tvalid_0's rmse: 0.0492021\n",
      "[1500]\tvalid_0's rmse: 0.0441403\n",
      "[2000]\tvalid_0's rmse: 0.0426707\n",
      "[2500]\tvalid_0's rmse: 0.0421442\n",
      "[3000]\tvalid_0's rmse: 0.0419128\n",
      "[3500]\tvalid_0's rmse: 0.0417692\n",
      "[4000]\tvalid_0's rmse: 0.0417014\n",
      "[4500]\tvalid_0's rmse: 0.0416517\n",
      "[5000]\tvalid_0's rmse: 0.0416086\n",
      "[5500]\tvalid_0's rmse: 0.0415814\n",
      "[6000]\tvalid_0's rmse: 0.041559\n",
      "[6500]\tvalid_0's rmse: 0.0415456\n",
      "[7000]\tvalid_0's rmse: 0.0415321\n",
      "[7500]\tvalid_0's rmse: 0.0415246\n",
      "[8000]\tvalid_0's rmse: 0.0415193\n",
      "fit fold=4  23.197[s]\n",
      "Fold 4 RMSLE: 0.0415\n",
      "\n",
      "--------------------------------------------------\n",
      "FINISHED | Whole RMSLE: 0.0390\n"
     ]
    },
    {
     "name": "stderr",
     "output_type": "stream",
     "text": [
      "/opt/conda/lib/python3.7/site-packages/ipykernel_launcher.py:12: DeprecationWarning: `np.float` is a deprecated alias for the builtin `float`. To silence this warning, use `float` by itself. Doing this will not modify any behavior and is safe. If you specifically wanted the numpy scalar type, use `np.float64` here.\n",
      "Deprecated in NumPy 1.20; for more details and guidance: https://numpy.org/devdocs/release/1.20.0-notes.html#deprecations\n",
      "  if sys.path[0] == '':\n",
      "/opt/conda/lib/python3.7/site-packages/lightgbm/sklearn.py:726: UserWarning: 'early_stopping_rounds' argument is deprecated and will be removed in a future release of LightGBM. Pass 'early_stopping()' callback via 'callbacks' argument instead.\n",
      "  _log_warning(\"'early_stopping_rounds' argument is deprecated and will be removed in a future release of LightGBM. \"\n",
      "/opt/conda/lib/python3.7/site-packages/lightgbm/sklearn.py:736: UserWarning: 'verbose' argument is deprecated and will be removed in a future release of LightGBM. Pass 'log_evaluation()' callback via 'callbacks' argument instead.\n",
      "  _log_warning(\"'verbose' argument is deprecated and will be removed in a future release of LightGBM. \"\n"
     ]
    },
    {
     "name": "stdout",
     "output_type": "stream",
     "text": [
      "[500]\tvalid_0's rmse: 0.00727441\n",
      "[1000]\tvalid_0's rmse: 0.00491189\n",
      "[1500]\tvalid_0's rmse: 0.00431054\n",
      "[2000]\tvalid_0's rmse: 0.00406677\n",
      "[2500]\tvalid_0's rmse: 0.00393055\n",
      "fit fold=0  7.762[s]\n",
      "Fold 0 RMSLE: 0.0039\n",
      "\n"
     ]
    },
    {
     "name": "stderr",
     "output_type": "stream",
     "text": [
      "/opt/conda/lib/python3.7/site-packages/lightgbm/sklearn.py:726: UserWarning: 'early_stopping_rounds' argument is deprecated and will be removed in a future release of LightGBM. Pass 'early_stopping()' callback via 'callbacks' argument instead.\n",
      "  _log_warning(\"'early_stopping_rounds' argument is deprecated and will be removed in a future release of LightGBM. \"\n",
      "/opt/conda/lib/python3.7/site-packages/lightgbm/sklearn.py:736: UserWarning: 'verbose' argument is deprecated and will be removed in a future release of LightGBM. Pass 'log_evaluation()' callback via 'callbacks' argument instead.\n",
      "  _log_warning(\"'verbose' argument is deprecated and will be removed in a future release of LightGBM. \"\n"
     ]
    },
    {
     "name": "stdout",
     "output_type": "stream",
     "text": [
      "[500]\tvalid_0's rmse: 0.00949856\n",
      "[1000]\tvalid_0's rmse: 0.00645902\n",
      "[1500]\tvalid_0's rmse: 0.00567964\n",
      "[2000]\tvalid_0's rmse: 0.00541646\n",
      "[2500]\tvalid_0's rmse: 0.00527764\n",
      "fit fold=1  7.735[s]\n",
      "Fold 1 RMSLE: 0.0052\n",
      "\n"
     ]
    },
    {
     "name": "stderr",
     "output_type": "stream",
     "text": [
      "/opt/conda/lib/python3.7/site-packages/lightgbm/sklearn.py:726: UserWarning: 'early_stopping_rounds' argument is deprecated and will be removed in a future release of LightGBM. Pass 'early_stopping()' callback via 'callbacks' argument instead.\n",
      "  _log_warning(\"'early_stopping_rounds' argument is deprecated and will be removed in a future release of LightGBM. \"\n",
      "/opt/conda/lib/python3.7/site-packages/lightgbm/sklearn.py:736: UserWarning: 'verbose' argument is deprecated and will be removed in a future release of LightGBM. Pass 'log_evaluation()' callback via 'callbacks' argument instead.\n",
      "  _log_warning(\"'verbose' argument is deprecated and will be removed in a future release of LightGBM. \"\n"
     ]
    },
    {
     "name": "stdout",
     "output_type": "stream",
     "text": [
      "[500]\tvalid_0's rmse: 0.00869679\n",
      "[1000]\tvalid_0's rmse: 0.00621334\n",
      "[1500]\tvalid_0's rmse: 0.0054886\n",
      "[2000]\tvalid_0's rmse: 0.00515322\n",
      "[2500]\tvalid_0's rmse: 0.00499192\n",
      "fit fold=2  7.236[s]\n",
      "Fold 2 RMSLE: 0.0050\n",
      "\n"
     ]
    },
    {
     "name": "stderr",
     "output_type": "stream",
     "text": [
      "/opt/conda/lib/python3.7/site-packages/lightgbm/sklearn.py:726: UserWarning: 'early_stopping_rounds' argument is deprecated and will be removed in a future release of LightGBM. Pass 'early_stopping()' callback via 'callbacks' argument instead.\n",
      "  _log_warning(\"'early_stopping_rounds' argument is deprecated and will be removed in a future release of LightGBM. \"\n",
      "/opt/conda/lib/python3.7/site-packages/lightgbm/sklearn.py:736: UserWarning: 'verbose' argument is deprecated and will be removed in a future release of LightGBM. Pass 'log_evaluation()' callback via 'callbacks' argument instead.\n",
      "  _log_warning(\"'verbose' argument is deprecated and will be removed in a future release of LightGBM. \"\n"
     ]
    },
    {
     "name": "stdout",
     "output_type": "stream",
     "text": [
      "[500]\tvalid_0's rmse: 0.00832648\n",
      "[1000]\tvalid_0's rmse: 0.00651016\n",
      "[1500]\tvalid_0's rmse: 0.00620834\n",
      "[2000]\tvalid_0's rmse: 0.00610618\n",
      "fit fold=3  5.829[s]\n",
      "Fold 3 RMSLE: 0.0061\n",
      "\n"
     ]
    },
    {
     "name": "stderr",
     "output_type": "stream",
     "text": [
      "/opt/conda/lib/python3.7/site-packages/lightgbm/sklearn.py:726: UserWarning: 'early_stopping_rounds' argument is deprecated and will be removed in a future release of LightGBM. Pass 'early_stopping()' callback via 'callbacks' argument instead.\n",
      "  _log_warning(\"'early_stopping_rounds' argument is deprecated and will be removed in a future release of LightGBM. \"\n",
      "/opt/conda/lib/python3.7/site-packages/lightgbm/sklearn.py:736: UserWarning: 'verbose' argument is deprecated and will be removed in a future release of LightGBM. Pass 'log_evaluation()' callback via 'callbacks' argument instead.\n",
      "  _log_warning(\"'verbose' argument is deprecated and will be removed in a future release of LightGBM. \"\n"
     ]
    },
    {
     "name": "stdout",
     "output_type": "stream",
     "text": [
      "[500]\tvalid_0's rmse: 0.0222615\n",
      "[1000]\tvalid_0's rmse: 0.0215027\n",
      "[1500]\tvalid_0's rmse: 0.0213946\n",
      "[2000]\tvalid_0's rmse: 0.0213458\n",
      "fit fold=4  7.462[s]\n",
      "Fold 4 RMSLE: 0.0213\n",
      "\n",
      "--------------------------------------------------\n",
      "FINISHED | Whole RMSLE: 0.0106\n"
     ]
    },
    {
     "name": "stderr",
     "output_type": "stream",
     "text": [
      "/opt/conda/lib/python3.7/site-packages/ipykernel_launcher.py:12: DeprecationWarning: `np.float` is a deprecated alias for the builtin `float`. To silence this warning, use `float` by itself. Doing this will not modify any behavior and is safe. If you specifically wanted the numpy scalar type, use `np.float64` here.\n",
      "Deprecated in NumPy 1.20; for more details and guidance: https://numpy.org/devdocs/release/1.20.0-notes.html#deprecations\n",
      "  if sys.path[0] == '':\n",
      "/opt/conda/lib/python3.7/site-packages/lightgbm/sklearn.py:726: UserWarning: 'early_stopping_rounds' argument is deprecated and will be removed in a future release of LightGBM. Pass 'early_stopping()' callback via 'callbacks' argument instead.\n",
      "  _log_warning(\"'early_stopping_rounds' argument is deprecated and will be removed in a future release of LightGBM. \"\n",
      "/opt/conda/lib/python3.7/site-packages/lightgbm/sklearn.py:736: UserWarning: 'verbose' argument is deprecated and will be removed in a future release of LightGBM. Pass 'log_evaluation()' callback via 'callbacks' argument instead.\n",
      "  _log_warning(\"'verbose' argument is deprecated and will be removed in a future release of LightGBM. \"\n"
     ]
    },
    {
     "name": "stdout",
     "output_type": "stream",
     "text": [
      "[500]\tvalid_0's rmse: 0.024652\n",
      "[1000]\tvalid_0's rmse: 0.0193985\n",
      "[1500]\tvalid_0's rmse: 0.0181\n",
      "[2000]\tvalid_0's rmse: 0.017646\n",
      "[2500]\tvalid_0's rmse: 0.0174282\n",
      "[3000]\tvalid_0's rmse: 0.0173128\n",
      "[3500]\tvalid_0's rmse: 0.0172369\n",
      "[4000]\tvalid_0's rmse: 0.0171892\n",
      "fit fold=0  12.673[s]\n",
      "Fold 0 RMSLE: 0.0172\n",
      "\n"
     ]
    },
    {
     "name": "stderr",
     "output_type": "stream",
     "text": [
      "/opt/conda/lib/python3.7/site-packages/lightgbm/sklearn.py:726: UserWarning: 'early_stopping_rounds' argument is deprecated and will be removed in a future release of LightGBM. Pass 'early_stopping()' callback via 'callbacks' argument instead.\n",
      "  _log_warning(\"'early_stopping_rounds' argument is deprecated and will be removed in a future release of LightGBM. \"\n",
      "/opt/conda/lib/python3.7/site-packages/lightgbm/sklearn.py:736: UserWarning: 'verbose' argument is deprecated and will be removed in a future release of LightGBM. Pass 'log_evaluation()' callback via 'callbacks' argument instead.\n",
      "  _log_warning(\"'verbose' argument is deprecated and will be removed in a future release of LightGBM. \"\n"
     ]
    },
    {
     "name": "stdout",
     "output_type": "stream",
     "text": [
      "[500]\tvalid_0's rmse: 0.0336976\n",
      "[1000]\tvalid_0's rmse: 0.0270646\n",
      "[1500]\tvalid_0's rmse: 0.0256803\n",
      "[2000]\tvalid_0's rmse: 0.0252436\n",
      "[2500]\tvalid_0's rmse: 0.0250793\n",
      "[3000]\tvalid_0's rmse: 0.0249858\n",
      "[3500]\tvalid_0's rmse: 0.0249252\n",
      "[4000]\tvalid_0's rmse: 0.0248819\n",
      "[4500]\tvalid_0's rmse: 0.0248519\n",
      "[5000]\tvalid_0's rmse: 0.0248231\n",
      "[5500]\tvalid_0's rmse: 0.0248068\n",
      "[6000]\tvalid_0's rmse: 0.0247903\n",
      "fit fold=1  18.063[s]\n",
      "Fold 1 RMSLE: 0.0248\n",
      "\n"
     ]
    },
    {
     "name": "stderr",
     "output_type": "stream",
     "text": [
      "/opt/conda/lib/python3.7/site-packages/lightgbm/sklearn.py:726: UserWarning: 'early_stopping_rounds' argument is deprecated and will be removed in a future release of LightGBM. Pass 'early_stopping()' callback via 'callbacks' argument instead.\n",
      "  _log_warning(\"'early_stopping_rounds' argument is deprecated and will be removed in a future release of LightGBM. \"\n",
      "/opt/conda/lib/python3.7/site-packages/lightgbm/sklearn.py:736: UserWarning: 'verbose' argument is deprecated and will be removed in a future release of LightGBM. Pass 'log_evaluation()' callback via 'callbacks' argument instead.\n",
      "  _log_warning(\"'verbose' argument is deprecated and will be removed in a future release of LightGBM. \"\n"
     ]
    },
    {
     "name": "stdout",
     "output_type": "stream",
     "text": [
      "[500]\tvalid_0's rmse: 0.023141\n",
      "[1000]\tvalid_0's rmse: 0.0169221\n",
      "[1500]\tvalid_0's rmse: 0.0155944\n",
      "[2000]\tvalid_0's rmse: 0.0151267\n",
      "[2500]\tvalid_0's rmse: 0.0149402\n",
      "[3000]\tvalid_0's rmse: 0.0148368\n",
      "[3500]\tvalid_0's rmse: 0.0147682\n",
      "[4000]\tvalid_0's rmse: 0.0147243\n",
      "[4500]\tvalid_0's rmse: 0.0146946\n",
      "fit fold=2  13.666[s]\n",
      "Fold 2 RMSLE: 0.0147\n",
      "\n"
     ]
    },
    {
     "name": "stderr",
     "output_type": "stream",
     "text": [
      "/opt/conda/lib/python3.7/site-packages/lightgbm/sklearn.py:726: UserWarning: 'early_stopping_rounds' argument is deprecated and will be removed in a future release of LightGBM. Pass 'early_stopping()' callback via 'callbacks' argument instead.\n",
      "  _log_warning(\"'early_stopping_rounds' argument is deprecated and will be removed in a future release of LightGBM. \"\n",
      "/opt/conda/lib/python3.7/site-packages/lightgbm/sklearn.py:736: UserWarning: 'verbose' argument is deprecated and will be removed in a future release of LightGBM. Pass 'log_evaluation()' callback via 'callbacks' argument instead.\n",
      "  _log_warning(\"'verbose' argument is deprecated and will be removed in a future release of LightGBM. \"\n"
     ]
    },
    {
     "name": "stdout",
     "output_type": "stream",
     "text": [
      "[500]\tvalid_0's rmse: 0.025828\n",
      "[1000]\tvalid_0's rmse: 0.0169639\n",
      "[1500]\tvalid_0's rmse: 0.0146026\n",
      "[2000]\tvalid_0's rmse: 0.0138666\n",
      "[2500]\tvalid_0's rmse: 0.0135475\n",
      "[3000]\tvalid_0's rmse: 0.0133783\n",
      "[3500]\tvalid_0's rmse: 0.0132776\n",
      "[4000]\tvalid_0's rmse: 0.0132063\n",
      "[4500]\tvalid_0's rmse: 0.0131526\n",
      "[5000]\tvalid_0's rmse: 0.0131127\n",
      "fit fold=3  15.047[s]\n",
      "Fold 3 RMSLE: 0.0131\n",
      "\n"
     ]
    },
    {
     "name": "stderr",
     "output_type": "stream",
     "text": [
      "/opt/conda/lib/python3.7/site-packages/lightgbm/sklearn.py:726: UserWarning: 'early_stopping_rounds' argument is deprecated and will be removed in a future release of LightGBM. Pass 'early_stopping()' callback via 'callbacks' argument instead.\n",
      "  _log_warning(\"'early_stopping_rounds' argument is deprecated and will be removed in a future release of LightGBM. \"\n",
      "/opt/conda/lib/python3.7/site-packages/lightgbm/sklearn.py:736: UserWarning: 'verbose' argument is deprecated and will be removed in a future release of LightGBM. Pass 'log_evaluation()' callback via 'callbacks' argument instead.\n",
      "  _log_warning(\"'verbose' argument is deprecated and will be removed in a future release of LightGBM. \"\n"
     ]
    },
    {
     "name": "stdout",
     "output_type": "stream",
     "text": [
      "[500]\tvalid_0's rmse: 0.0368121\n",
      "[1000]\tvalid_0's rmse: 0.0309464\n",
      "[1500]\tvalid_0's rmse: 0.0298957\n",
      "[2000]\tvalid_0's rmse: 0.0296378\n",
      "[2500]\tvalid_0's rmse: 0.0295013\n",
      "fit fold=4  8.299[s]\n",
      "Fold 4 RMSLE: 0.0295\n",
      "\n",
      "--------------------------------------------------\n",
      "FINISHED | Whole RMSLE: 0.0208\n"
     ]
    },
    {
     "name": "stderr",
     "output_type": "stream",
     "text": [
      "/opt/conda/lib/python3.7/site-packages/ipykernel_launcher.py:12: DeprecationWarning: `np.float` is a deprecated alias for the builtin `float`. To silence this warning, use `float` by itself. Doing this will not modify any behavior and is safe. If you specifically wanted the numpy scalar type, use `np.float64` here.\n",
      "Deprecated in NumPy 1.20; for more details and guidance: https://numpy.org/devdocs/release/1.20.0-notes.html#deprecations\n",
      "  if sys.path[0] == '':\n",
      "/opt/conda/lib/python3.7/site-packages/lightgbm/sklearn.py:726: UserWarning: 'early_stopping_rounds' argument is deprecated and will be removed in a future release of LightGBM. Pass 'early_stopping()' callback via 'callbacks' argument instead.\n",
      "  _log_warning(\"'early_stopping_rounds' argument is deprecated and will be removed in a future release of LightGBM. \"\n",
      "/opt/conda/lib/python3.7/site-packages/lightgbm/sklearn.py:736: UserWarning: 'verbose' argument is deprecated and will be removed in a future release of LightGBM. Pass 'log_evaluation()' callback via 'callbacks' argument instead.\n",
      "  _log_warning(\"'verbose' argument is deprecated and will be removed in a future release of LightGBM. \"\n"
     ]
    },
    {
     "name": "stdout",
     "output_type": "stream",
     "text": [
      "[500]\tvalid_0's rmse: 0.115062\n",
      "[1000]\tvalid_0's rmse: 0.0829632\n",
      "[1500]\tvalid_0's rmse: 0.069975\n",
      "[2000]\tvalid_0's rmse: 0.0639953\n",
      "[2500]\tvalid_0's rmse: 0.0615629\n",
      "[3000]\tvalid_0's rmse: 0.0605253\n",
      "[3500]\tvalid_0's rmse: 0.0599822\n",
      "[4000]\tvalid_0's rmse: 0.0597014\n",
      "[4500]\tvalid_0's rmse: 0.0595402\n",
      "[5000]\tvalid_0's rmse: 0.0594322\n",
      "[5500]\tvalid_0's rmse: 0.0593641\n",
      "[6000]\tvalid_0's rmse: 0.0593117\n",
      "[6500]\tvalid_0's rmse: 0.059271\n",
      "[7000]\tvalid_0's rmse: 0.0592388\n",
      "[7500]\tvalid_0's rmse: 0.0592152\n",
      "[8000]\tvalid_0's rmse: 0.0591987\n",
      "[8500]\tvalid_0's rmse: 0.0591864\n",
      "[9000]\tvalid_0's rmse: 0.0591727\n",
      "[9500]\tvalid_0's rmse: 0.0591619\n",
      "[10000]\tvalid_0's rmse: 0.0591522\n",
      "fit fold=0  29.961[s]\n",
      "Fold 0 RMSLE: 0.0592\n",
      "\n"
     ]
    },
    {
     "name": "stderr",
     "output_type": "stream",
     "text": [
      "/opt/conda/lib/python3.7/site-packages/lightgbm/sklearn.py:726: UserWarning: 'early_stopping_rounds' argument is deprecated and will be removed in a future release of LightGBM. Pass 'early_stopping()' callback via 'callbacks' argument instead.\n",
      "  _log_warning(\"'early_stopping_rounds' argument is deprecated and will be removed in a future release of LightGBM. \"\n",
      "/opt/conda/lib/python3.7/site-packages/lightgbm/sklearn.py:736: UserWarning: 'verbose' argument is deprecated and will be removed in a future release of LightGBM. Pass 'log_evaluation()' callback via 'callbacks' argument instead.\n",
      "  _log_warning(\"'verbose' argument is deprecated and will be removed in a future release of LightGBM. \"\n"
     ]
    },
    {
     "name": "stdout",
     "output_type": "stream",
     "text": [
      "[500]\tvalid_0's rmse: 0.123525\n",
      "[1000]\tvalid_0's rmse: 0.0957345\n",
      "[1500]\tvalid_0's rmse: 0.0847926\n",
      "[2000]\tvalid_0's rmse: 0.0800441\n",
      "[2500]\tvalid_0's rmse: 0.0779486\n",
      "[3000]\tvalid_0's rmse: 0.0769473\n",
      "[3500]\tvalid_0's rmse: 0.0765493\n",
      "[4000]\tvalid_0's rmse: 0.0763447\n",
      "[4500]\tvalid_0's rmse: 0.0762075\n",
      "[5000]\tvalid_0's rmse: 0.0761208\n",
      "[5500]\tvalid_0's rmse: 0.0760686\n",
      "[6000]\tvalid_0's rmse: 0.0760335\n",
      "[6500]\tvalid_0's rmse: 0.0760079\n",
      "[7000]\tvalid_0's rmse: 0.0759847\n",
      "[7500]\tvalid_0's rmse: 0.0759711\n",
      "[8000]\tvalid_0's rmse: 0.0759562\n",
      "fit fold=1  24.950[s]\n",
      "Fold 1 RMSLE: 0.0760\n",
      "\n"
     ]
    },
    {
     "name": "stderr",
     "output_type": "stream",
     "text": [
      "/opt/conda/lib/python3.7/site-packages/lightgbm/sklearn.py:726: UserWarning: 'early_stopping_rounds' argument is deprecated and will be removed in a future release of LightGBM. Pass 'early_stopping()' callback via 'callbacks' argument instead.\n",
      "  _log_warning(\"'early_stopping_rounds' argument is deprecated and will be removed in a future release of LightGBM. \"\n",
      "/opt/conda/lib/python3.7/site-packages/lightgbm/sklearn.py:736: UserWarning: 'verbose' argument is deprecated and will be removed in a future release of LightGBM. Pass 'log_evaluation()' callback via 'callbacks' argument instead.\n",
      "  _log_warning(\"'verbose' argument is deprecated and will be removed in a future release of LightGBM. \"\n"
     ]
    },
    {
     "name": "stdout",
     "output_type": "stream",
     "text": [
      "[500]\tvalid_0's rmse: 0.118069\n",
      "[1000]\tvalid_0's rmse: 0.0876961\n",
      "[1500]\tvalid_0's rmse: 0.0763868\n",
      "[2000]\tvalid_0's rmse: 0.0714582\n",
      "[2500]\tvalid_0's rmse: 0.0695216\n",
      "[3000]\tvalid_0's rmse: 0.0686238\n",
      "[3500]\tvalid_0's rmse: 0.0681893\n",
      "[4000]\tvalid_0's rmse: 0.0679524\n",
      "[4500]\tvalid_0's rmse: 0.0678141\n",
      "[5000]\tvalid_0's rmse: 0.0677079\n",
      "[5500]\tvalid_0's rmse: 0.067642\n",
      "[6000]\tvalid_0's rmse: 0.0675896\n",
      "[6500]\tvalid_0's rmse: 0.0675572\n",
      "[7000]\tvalid_0's rmse: 0.0675249\n",
      "[7500]\tvalid_0's rmse: 0.0675061\n",
      "[8000]\tvalid_0's rmse: 0.0674924\n",
      "[8500]\tvalid_0's rmse: 0.0674787\n",
      "[9000]\tvalid_0's rmse: 0.0674646\n",
      "[9500]\tvalid_0's rmse: 0.0674543\n",
      "[10000]\tvalid_0's rmse: 0.0674495\n",
      "fit fold=2  29.972[s]\n",
      "Fold 2 RMSLE: 0.0674\n",
      "\n"
     ]
    },
    {
     "name": "stderr",
     "output_type": "stream",
     "text": [
      "/opt/conda/lib/python3.7/site-packages/lightgbm/sklearn.py:726: UserWarning: 'early_stopping_rounds' argument is deprecated and will be removed in a future release of LightGBM. Pass 'early_stopping()' callback via 'callbacks' argument instead.\n",
      "  _log_warning(\"'early_stopping_rounds' argument is deprecated and will be removed in a future release of LightGBM. \"\n",
      "/opt/conda/lib/python3.7/site-packages/lightgbm/sklearn.py:736: UserWarning: 'verbose' argument is deprecated and will be removed in a future release of LightGBM. Pass 'log_evaluation()' callback via 'callbacks' argument instead.\n",
      "  _log_warning(\"'verbose' argument is deprecated and will be removed in a future release of LightGBM. \"\n"
     ]
    },
    {
     "name": "stdout",
     "output_type": "stream",
     "text": [
      "[500]\tvalid_0's rmse: 0.120111\n",
      "[1000]\tvalid_0's rmse: 0.0936576\n",
      "[1500]\tvalid_0's rmse: 0.0836886\n",
      "[2000]\tvalid_0's rmse: 0.0797811\n",
      "[2500]\tvalid_0's rmse: 0.0779581\n",
      "[3000]\tvalid_0's rmse: 0.0771704\n",
      "[3500]\tvalid_0's rmse: 0.0767878\n",
      "[4000]\tvalid_0's rmse: 0.0766091\n",
      "[4500]\tvalid_0's rmse: 0.0764837\n",
      "[5000]\tvalid_0's rmse: 0.076414\n",
      "[5500]\tvalid_0's rmse: 0.0763666\n",
      "[6000]\tvalid_0's rmse: 0.076326\n",
      "[6500]\tvalid_0's rmse: 0.0763041\n",
      "[7000]\tvalid_0's rmse: 0.0762827\n",
      "fit fold=3  22.506[s]\n",
      "Fold 3 RMSLE: 0.0763\n",
      "\n"
     ]
    },
    {
     "name": "stderr",
     "output_type": "stream",
     "text": [
      "/opt/conda/lib/python3.7/site-packages/lightgbm/sklearn.py:726: UserWarning: 'early_stopping_rounds' argument is deprecated and will be removed in a future release of LightGBM. Pass 'early_stopping()' callback via 'callbacks' argument instead.\n",
      "  _log_warning(\"'early_stopping_rounds' argument is deprecated and will be removed in a future release of LightGBM. \"\n",
      "/opt/conda/lib/python3.7/site-packages/lightgbm/sklearn.py:736: UserWarning: 'verbose' argument is deprecated and will be removed in a future release of LightGBM. Pass 'log_evaluation()' callback via 'callbacks' argument instead.\n",
      "  _log_warning(\"'verbose' argument is deprecated and will be removed in a future release of LightGBM. \"\n"
     ]
    },
    {
     "name": "stdout",
     "output_type": "stream",
     "text": [
      "[500]\tvalid_0's rmse: 0.120144\n",
      "[1000]\tvalid_0's rmse: 0.0950745\n",
      "[1500]\tvalid_0's rmse: 0.08672\n",
      "[2000]\tvalid_0's rmse: 0.0831796\n",
      "[2500]\tvalid_0's rmse: 0.0818102\n",
      "[3000]\tvalid_0's rmse: 0.0811565\n",
      "[3500]\tvalid_0's rmse: 0.0808751\n",
      "[4000]\tvalid_0's rmse: 0.0807125\n",
      "[4500]\tvalid_0's rmse: 0.0806154\n",
      "[5000]\tvalid_0's rmse: 0.0805705\n",
      "[5500]\tvalid_0's rmse: 0.0805308\n",
      "[6000]\tvalid_0's rmse: 0.0805046\n",
      "[6500]\tvalid_0's rmse: 0.0804856\n",
      "[7000]\tvalid_0's rmse: 0.0804675\n",
      "[7500]\tvalid_0's rmse: 0.0804553\n",
      "fit fold=4  24.147[s]\n",
      "Fold 4 RMSLE: 0.0805\n",
      "\n",
      "--------------------------------------------------\n",
      "FINISHED | Whole RMSLE: 0.0723\n"
     ]
    },
    {
     "name": "stderr",
     "output_type": "stream",
     "text": [
      "/opt/conda/lib/python3.7/site-packages/ipykernel_launcher.py:12: DeprecationWarning: `np.float` is a deprecated alias for the builtin `float`. To silence this warning, use `float` by itself. Doing this will not modify any behavior and is safe. If you specifically wanted the numpy scalar type, use `np.float64` here.\n",
      "Deprecated in NumPy 1.20; for more details and guidance: https://numpy.org/devdocs/release/1.20.0-notes.html#deprecations\n",
      "  if sys.path[0] == '':\n",
      "/opt/conda/lib/python3.7/site-packages/lightgbm/sklearn.py:726: UserWarning: 'early_stopping_rounds' argument is deprecated and will be removed in a future release of LightGBM. Pass 'early_stopping()' callback via 'callbacks' argument instead.\n",
      "  _log_warning(\"'early_stopping_rounds' argument is deprecated and will be removed in a future release of LightGBM. \"\n",
      "/opt/conda/lib/python3.7/site-packages/lightgbm/sklearn.py:736: UserWarning: 'verbose' argument is deprecated and will be removed in a future release of LightGBM. Pass 'log_evaluation()' callback via 'callbacks' argument instead.\n",
      "  _log_warning(\"'verbose' argument is deprecated and will be removed in a future release of LightGBM. \"\n"
     ]
    },
    {
     "name": "stdout",
     "output_type": "stream",
     "text": [
      "[500]\tvalid_0's rmse: 0.0392232\n",
      "[1000]\tvalid_0's rmse: 0.028632\n",
      "[1500]\tvalid_0's rmse: 0.0258074\n",
      "[2000]\tvalid_0's rmse: 0.024821\n",
      "[2500]\tvalid_0's rmse: 0.0244146\n",
      "[3000]\tvalid_0's rmse: 0.0242021\n",
      "[3500]\tvalid_0's rmse: 0.0240772\n",
      "[4000]\tvalid_0's rmse: 0.0240019\n",
      "[4500]\tvalid_0's rmse: 0.0239493\n",
      "[5000]\tvalid_0's rmse: 0.0239103\n",
      "[5500]\tvalid_0's rmse: 0.0238827\n",
      "[6000]\tvalid_0's rmse: 0.0238593\n",
      "fit fold=0  19.212[s]\n",
      "Fold 0 RMSLE: 0.0239\n",
      "\n"
     ]
    },
    {
     "name": "stderr",
     "output_type": "stream",
     "text": [
      "/opt/conda/lib/python3.7/site-packages/lightgbm/sklearn.py:726: UserWarning: 'early_stopping_rounds' argument is deprecated and will be removed in a future release of LightGBM. Pass 'early_stopping()' callback via 'callbacks' argument instead.\n",
      "  _log_warning(\"'early_stopping_rounds' argument is deprecated and will be removed in a future release of LightGBM. \"\n",
      "/opt/conda/lib/python3.7/site-packages/lightgbm/sklearn.py:736: UserWarning: 'verbose' argument is deprecated and will be removed in a future release of LightGBM. Pass 'log_evaluation()' callback via 'callbacks' argument instead.\n",
      "  _log_warning(\"'verbose' argument is deprecated and will be removed in a future release of LightGBM. \"\n"
     ]
    },
    {
     "name": "stdout",
     "output_type": "stream",
     "text": [
      "[500]\tvalid_0's rmse: 0.0402601\n",
      "[1000]\tvalid_0's rmse: 0.0273334\n",
      "[1500]\tvalid_0's rmse: 0.023498\n",
      "[2000]\tvalid_0's rmse: 0.0220975\n",
      "[2500]\tvalid_0's rmse: 0.0215364\n",
      "[3000]\tvalid_0's rmse: 0.0212553\n",
      "[3500]\tvalid_0's rmse: 0.0210888\n",
      "[4000]\tvalid_0's rmse: 0.0209826\n",
      "[4500]\tvalid_0's rmse: 0.0209208\n",
      "[5000]\tvalid_0's rmse: 0.0208683\n",
      "[5500]\tvalid_0's rmse: 0.0208362\n",
      "[6000]\tvalid_0's rmse: 0.0208051\n",
      "[6500]\tvalid_0's rmse: 0.0207834\n",
      "[7000]\tvalid_0's rmse: 0.020764\n",
      "[7500]\tvalid_0's rmse: 0.0207473\n",
      "fit fold=1  23.362[s]\n",
      "Fold 1 RMSLE: 0.0207\n",
      "\n"
     ]
    },
    {
     "name": "stderr",
     "output_type": "stream",
     "text": [
      "/opt/conda/lib/python3.7/site-packages/lightgbm/sklearn.py:726: UserWarning: 'early_stopping_rounds' argument is deprecated and will be removed in a future release of LightGBM. Pass 'early_stopping()' callback via 'callbacks' argument instead.\n",
      "  _log_warning(\"'early_stopping_rounds' argument is deprecated and will be removed in a future release of LightGBM. \"\n",
      "/opt/conda/lib/python3.7/site-packages/lightgbm/sklearn.py:736: UserWarning: 'verbose' argument is deprecated and will be removed in a future release of LightGBM. Pass 'log_evaluation()' callback via 'callbacks' argument instead.\n",
      "  _log_warning(\"'verbose' argument is deprecated and will be removed in a future release of LightGBM. \"\n"
     ]
    },
    {
     "name": "stdout",
     "output_type": "stream",
     "text": [
      "[500]\tvalid_0's rmse: 0.039771\n",
      "[1000]\tvalid_0's rmse: 0.03048\n",
      "[1500]\tvalid_0's rmse: 0.0280081\n",
      "[2000]\tvalid_0's rmse: 0.0271038\n",
      "[2500]\tvalid_0's rmse: 0.0267175\n",
      "[3000]\tvalid_0's rmse: 0.026506\n",
      "[3500]\tvalid_0's rmse: 0.026385\n",
      "[4000]\tvalid_0's rmse: 0.0263033\n",
      "[4500]\tvalid_0's rmse: 0.0262497\n",
      "[5000]\tvalid_0's rmse: 0.0262088\n",
      "[5500]\tvalid_0's rmse: 0.0261812\n",
      "[6000]\tvalid_0's rmse: 0.0261598\n",
      "[6500]\tvalid_0's rmse: 0.0261462\n",
      "[7000]\tvalid_0's rmse: 0.0261342\n",
      "[7500]\tvalid_0's rmse: 0.0261212\n",
      "fit fold=2  25.957[s]\n",
      "Fold 2 RMSLE: 0.0261\n",
      "\n"
     ]
    },
    {
     "name": "stderr",
     "output_type": "stream",
     "text": [
      "/opt/conda/lib/python3.7/site-packages/lightgbm/sklearn.py:726: UserWarning: 'early_stopping_rounds' argument is deprecated and will be removed in a future release of LightGBM. Pass 'early_stopping()' callback via 'callbacks' argument instead.\n",
      "  _log_warning(\"'early_stopping_rounds' argument is deprecated and will be removed in a future release of LightGBM. \"\n",
      "/opt/conda/lib/python3.7/site-packages/lightgbm/sklearn.py:736: UserWarning: 'verbose' argument is deprecated and will be removed in a future release of LightGBM. Pass 'log_evaluation()' callback via 'callbacks' argument instead.\n",
      "  _log_warning(\"'verbose' argument is deprecated and will be removed in a future release of LightGBM. \"\n"
     ]
    },
    {
     "name": "stdout",
     "output_type": "stream",
     "text": [
      "[500]\tvalid_0's rmse: 0.0379319\n",
      "[1000]\tvalid_0's rmse: 0.0268024\n",
      "[1500]\tvalid_0's rmse: 0.0235927\n",
      "[2000]\tvalid_0's rmse: 0.0224258\n",
      "[2500]\tvalid_0's rmse: 0.0219283\n",
      "[3000]\tvalid_0's rmse: 0.021668\n",
      "[3500]\tvalid_0's rmse: 0.0215314\n",
      "[4000]\tvalid_0's rmse: 0.0214439\n",
      "[4500]\tvalid_0's rmse: 0.0213742\n",
      "[5000]\tvalid_0's rmse: 0.0213245\n",
      "[5500]\tvalid_0's rmse: 0.021293\n",
      "[6000]\tvalid_0's rmse: 0.0212646\n",
      "fit fold=3  18.591[s]\n",
      "Fold 3 RMSLE: 0.0212\n",
      "\n"
     ]
    },
    {
     "name": "stderr",
     "output_type": "stream",
     "text": [
      "/opt/conda/lib/python3.7/site-packages/lightgbm/sklearn.py:726: UserWarning: 'early_stopping_rounds' argument is deprecated and will be removed in a future release of LightGBM. Pass 'early_stopping()' callback via 'callbacks' argument instead.\n",
      "  _log_warning(\"'early_stopping_rounds' argument is deprecated and will be removed in a future release of LightGBM. \"\n",
      "/opt/conda/lib/python3.7/site-packages/lightgbm/sklearn.py:736: UserWarning: 'verbose' argument is deprecated and will be removed in a future release of LightGBM. Pass 'log_evaluation()' callback via 'callbacks' argument instead.\n",
      "  _log_warning(\"'verbose' argument is deprecated and will be removed in a future release of LightGBM. \"\n"
     ]
    },
    {
     "name": "stdout",
     "output_type": "stream",
     "text": [
      "[500]\tvalid_0's rmse: 0.0377597\n",
      "[1000]\tvalid_0's rmse: 0.0273013\n",
      "[1500]\tvalid_0's rmse: 0.0239856\n",
      "[2000]\tvalid_0's rmse: 0.0227421\n",
      "[2500]\tvalid_0's rmse: 0.0221621\n",
      "[3000]\tvalid_0's rmse: 0.0218925\n",
      "[3500]\tvalid_0's rmse: 0.0217333\n",
      "[4000]\tvalid_0's rmse: 0.0216339\n",
      "[4500]\tvalid_0's rmse: 0.0215541\n",
      "[5000]\tvalid_0's rmse: 0.0215064\n",
      "[5500]\tvalid_0's rmse: 0.0214694\n",
      "[6000]\tvalid_0's rmse: 0.0214423\n",
      "[6500]\tvalid_0's rmse: 0.0214177\n",
      "[7000]\tvalid_0's rmse: 0.0214027\n",
      "fit fold=4  21.189[s]\n",
      "Fold 4 RMSLE: 0.0214\n",
      "\n",
      "--------------------------------------------------\n",
      "FINISHED | Whole RMSLE: 0.0228\n"
     ]
    },
    {
     "name": "stderr",
     "output_type": "stream",
     "text": [
      "/opt/conda/lib/python3.7/site-packages/ipykernel_launcher.py:12: DeprecationWarning: `np.float` is a deprecated alias for the builtin `float`. To silence this warning, use `float` by itself. Doing this will not modify any behavior and is safe. If you specifically wanted the numpy scalar type, use `np.float64` here.\n",
      "Deprecated in NumPy 1.20; for more details and guidance: https://numpy.org/devdocs/release/1.20.0-notes.html#deprecations\n",
      "  if sys.path[0] == '':\n",
      "/opt/conda/lib/python3.7/site-packages/lightgbm/sklearn.py:726: UserWarning: 'early_stopping_rounds' argument is deprecated and will be removed in a future release of LightGBM. Pass 'early_stopping()' callback via 'callbacks' argument instead.\n",
      "  _log_warning(\"'early_stopping_rounds' argument is deprecated and will be removed in a future release of LightGBM. \"\n",
      "/opt/conda/lib/python3.7/site-packages/lightgbm/sklearn.py:736: UserWarning: 'verbose' argument is deprecated and will be removed in a future release of LightGBM. Pass 'log_evaluation()' callback via 'callbacks' argument instead.\n",
      "  _log_warning(\"'verbose' argument is deprecated and will be removed in a future release of LightGBM. \"\n"
     ]
    },
    {
     "name": "stdout",
     "output_type": "stream",
     "text": [
      "[500]\tvalid_0's rmse: 0.0573218\n",
      "[1000]\tvalid_0's rmse: 0.0366572\n",
      "[1500]\tvalid_0's rmse: 0.0309607\n",
      "[2000]\tvalid_0's rmse: 0.0291515\n",
      "[2500]\tvalid_0's rmse: 0.0284647\n",
      "[3000]\tvalid_0's rmse: 0.0281415\n",
      "[3500]\tvalid_0's rmse: 0.0279513\n",
      "[4000]\tvalid_0's rmse: 0.0278478\n",
      "[4500]\tvalid_0's rmse: 0.0277771\n",
      "[5000]\tvalid_0's rmse: 0.027726\n",
      "[5500]\tvalid_0's rmse: 0.0276954\n",
      "[6000]\tvalid_0's rmse: 0.0276721\n",
      "[6500]\tvalid_0's rmse: 0.027646\n",
      "[7000]\tvalid_0's rmse: 0.027631\n",
      "[7500]\tvalid_0's rmse: 0.0276179\n",
      "fit fold=0  23.163[s]\n",
      "Fold 0 RMSLE: 0.0276\n",
      "\n"
     ]
    },
    {
     "name": "stderr",
     "output_type": "stream",
     "text": [
      "/opt/conda/lib/python3.7/site-packages/lightgbm/sklearn.py:726: UserWarning: 'early_stopping_rounds' argument is deprecated and will be removed in a future release of LightGBM. Pass 'early_stopping()' callback via 'callbacks' argument instead.\n",
      "  _log_warning(\"'early_stopping_rounds' argument is deprecated and will be removed in a future release of LightGBM. \"\n",
      "/opt/conda/lib/python3.7/site-packages/lightgbm/sklearn.py:736: UserWarning: 'verbose' argument is deprecated and will be removed in a future release of LightGBM. Pass 'log_evaluation()' callback via 'callbacks' argument instead.\n",
      "  _log_warning(\"'verbose' argument is deprecated and will be removed in a future release of LightGBM. \"\n"
     ]
    },
    {
     "name": "stdout",
     "output_type": "stream",
     "text": [
      "[500]\tvalid_0's rmse: 0.0527567\n",
      "[1000]\tvalid_0's rmse: 0.0341603\n",
      "[1500]\tvalid_0's rmse: 0.0284711\n",
      "[2000]\tvalid_0's rmse: 0.0265924\n",
      "[2500]\tvalid_0's rmse: 0.0258964\n",
      "[3000]\tvalid_0's rmse: 0.0255866\n",
      "[3500]\tvalid_0's rmse: 0.0254072\n",
      "[4000]\tvalid_0's rmse: 0.0253041\n",
      "[4500]\tvalid_0's rmse: 0.0252439\n",
      "[5000]\tvalid_0's rmse: 0.025196\n",
      "[5500]\tvalid_0's rmse: 0.025162\n",
      "[6000]\tvalid_0's rmse: 0.0251341\n",
      "[6500]\tvalid_0's rmse: 0.025114\n",
      "[7000]\tvalid_0's rmse: 0.0250979\n",
      "[7500]\tvalid_0's rmse: 0.0250858\n",
      "fit fold=1  22.352[s]\n",
      "Fold 1 RMSLE: 0.0251\n",
      "\n"
     ]
    },
    {
     "name": "stderr",
     "output_type": "stream",
     "text": [
      "/opt/conda/lib/python3.7/site-packages/lightgbm/sklearn.py:726: UserWarning: 'early_stopping_rounds' argument is deprecated and will be removed in a future release of LightGBM. Pass 'early_stopping()' callback via 'callbacks' argument instead.\n",
      "  _log_warning(\"'early_stopping_rounds' argument is deprecated and will be removed in a future release of LightGBM. \"\n",
      "/opt/conda/lib/python3.7/site-packages/lightgbm/sklearn.py:736: UserWarning: 'verbose' argument is deprecated and will be removed in a future release of LightGBM. Pass 'log_evaluation()' callback via 'callbacks' argument instead.\n",
      "  _log_warning(\"'verbose' argument is deprecated and will be removed in a future release of LightGBM. \"\n"
     ]
    },
    {
     "name": "stdout",
     "output_type": "stream",
     "text": [
      "[500]\tvalid_0's rmse: 0.064336\n",
      "[1000]\tvalid_0's rmse: 0.0453972\n",
      "[1500]\tvalid_0's rmse: 0.0402985\n",
      "[2000]\tvalid_0's rmse: 0.0385172\n",
      "[2500]\tvalid_0's rmse: 0.0377917\n",
      "[3000]\tvalid_0's rmse: 0.0374745\n",
      "[3500]\tvalid_0's rmse: 0.0372894\n",
      "[4000]\tvalid_0's rmse: 0.0371633\n",
      "[4500]\tvalid_0's rmse: 0.0370865\n",
      "[5000]\tvalid_0's rmse: 0.03703\n",
      "[5500]\tvalid_0's rmse: 0.0369923\n",
      "[6000]\tvalid_0's rmse: 0.036962\n",
      "[6500]\tvalid_0's rmse: 0.0369364\n",
      "[7000]\tvalid_0's rmse: 0.0369138\n",
      "[7500]\tvalid_0's rmse: 0.0368954\n",
      "fit fold=2  24.264[s]\n",
      "Fold 2 RMSLE: 0.0369\n",
      "\n"
     ]
    },
    {
     "name": "stderr",
     "output_type": "stream",
     "text": [
      "/opt/conda/lib/python3.7/site-packages/lightgbm/sklearn.py:726: UserWarning: 'early_stopping_rounds' argument is deprecated and will be removed in a future release of LightGBM. Pass 'early_stopping()' callback via 'callbacks' argument instead.\n",
      "  _log_warning(\"'early_stopping_rounds' argument is deprecated and will be removed in a future release of LightGBM. \"\n",
      "/opt/conda/lib/python3.7/site-packages/lightgbm/sklearn.py:736: UserWarning: 'verbose' argument is deprecated and will be removed in a future release of LightGBM. Pass 'log_evaluation()' callback via 'callbacks' argument instead.\n",
      "  _log_warning(\"'verbose' argument is deprecated and will be removed in a future release of LightGBM. \"\n"
     ]
    },
    {
     "name": "stdout",
     "output_type": "stream",
     "text": [
      "[500]\tvalid_0's rmse: 0.0595758\n",
      "[1000]\tvalid_0's rmse: 0.0415219\n",
      "[1500]\tvalid_0's rmse: 0.0364658\n",
      "[2000]\tvalid_0's rmse: 0.0350421\n",
      "[2500]\tvalid_0's rmse: 0.0344624\n",
      "[3000]\tvalid_0's rmse: 0.0341818\n",
      "[3500]\tvalid_0's rmse: 0.0340599\n",
      "[4000]\tvalid_0's rmse: 0.0339863\n",
      "[4500]\tvalid_0's rmse: 0.0339335\n",
      "[5000]\tvalid_0's rmse: 0.0339007\n",
      "[5500]\tvalid_0's rmse: 0.0338738\n",
      "fit fold=3  17.714[s]\n",
      "Fold 3 RMSLE: 0.0339\n",
      "\n"
     ]
    },
    {
     "name": "stderr",
     "output_type": "stream",
     "text": [
      "/opt/conda/lib/python3.7/site-packages/lightgbm/sklearn.py:726: UserWarning: 'early_stopping_rounds' argument is deprecated and will be removed in a future release of LightGBM. Pass 'early_stopping()' callback via 'callbacks' argument instead.\n",
      "  _log_warning(\"'early_stopping_rounds' argument is deprecated and will be removed in a future release of LightGBM. \"\n",
      "/opt/conda/lib/python3.7/site-packages/lightgbm/sklearn.py:736: UserWarning: 'verbose' argument is deprecated and will be removed in a future release of LightGBM. Pass 'log_evaluation()' callback via 'callbacks' argument instead.\n",
      "  _log_warning(\"'verbose' argument is deprecated and will be removed in a future release of LightGBM. \"\n"
     ]
    },
    {
     "name": "stdout",
     "output_type": "stream",
     "text": [
      "[500]\tvalid_0's rmse: 0.0571309\n",
      "[1000]\tvalid_0's rmse: 0.0387315\n",
      "[1500]\tvalid_0's rmse: 0.0339092\n",
      "[2000]\tvalid_0's rmse: 0.0323571\n",
      "[2500]\tvalid_0's rmse: 0.031769\n",
      "[3000]\tvalid_0's rmse: 0.0314724\n",
      "[3500]\tvalid_0's rmse: 0.031308\n",
      "[4000]\tvalid_0's rmse: 0.0312065\n",
      "[4500]\tvalid_0's rmse: 0.0311408\n",
      "[5000]\tvalid_0's rmse: 0.0310926\n",
      "[5500]\tvalid_0's rmse: 0.0310599\n",
      "[6000]\tvalid_0's rmse: 0.0310323\n",
      "[6500]\tvalid_0's rmse: 0.0310112\n",
      "[7000]\tvalid_0's rmse: 0.030994\n",
      "[7500]\tvalid_0's rmse: 0.0309825\n",
      "[8000]\tvalid_0's rmse: 0.0309703\n",
      "fit fold=4  23.774[s]\n",
      "Fold 4 RMSLE: 0.0310\n",
      "\n",
      "--------------------------------------------------\n",
      "FINISHED | Whole RMSLE: 0.0312\n"
     ]
    },
    {
     "name": "stderr",
     "output_type": "stream",
     "text": [
      "/opt/conda/lib/python3.7/site-packages/ipykernel_launcher.py:12: DeprecationWarning: `np.float` is a deprecated alias for the builtin `float`. To silence this warning, use `float` by itself. Doing this will not modify any behavior and is safe. If you specifically wanted the numpy scalar type, use `np.float64` here.\n",
      "Deprecated in NumPy 1.20; for more details and guidance: https://numpy.org/devdocs/release/1.20.0-notes.html#deprecations\n",
      "  if sys.path[0] == '':\n",
      "/opt/conda/lib/python3.7/site-packages/lightgbm/sklearn.py:726: UserWarning: 'early_stopping_rounds' argument is deprecated and will be removed in a future release of LightGBM. Pass 'early_stopping()' callback via 'callbacks' argument instead.\n",
      "  _log_warning(\"'early_stopping_rounds' argument is deprecated and will be removed in a future release of LightGBM. \"\n",
      "/opt/conda/lib/python3.7/site-packages/lightgbm/sklearn.py:736: UserWarning: 'verbose' argument is deprecated and will be removed in a future release of LightGBM. Pass 'log_evaluation()' callback via 'callbacks' argument instead.\n",
      "  _log_warning(\"'verbose' argument is deprecated and will be removed in a future release of LightGBM. \"\n"
     ]
    },
    {
     "name": "stdout",
     "output_type": "stream",
     "text": [
      "[500]\tvalid_0's rmse: 0.135657\n",
      "[1000]\tvalid_0's rmse: 0.09626\n",
      "[1500]\tvalid_0's rmse: 0.0817126\n",
      "[2000]\tvalid_0's rmse: 0.0761184\n",
      "[2500]\tvalid_0's rmse: 0.0737332\n",
      "[3000]\tvalid_0's rmse: 0.0725827\n",
      "[3500]\tvalid_0's rmse: 0.0720122\n",
      "[4000]\tvalid_0's rmse: 0.0717067\n",
      "[4500]\tvalid_0's rmse: 0.0715458\n",
      "[5000]\tvalid_0's rmse: 0.0714371\n",
      "[5500]\tvalid_0's rmse: 0.0713539\n",
      "[6000]\tvalid_0's rmse: 0.0713115\n",
      "[6500]\tvalid_0's rmse: 0.0712726\n",
      "[7000]\tvalid_0's rmse: 0.0712451\n",
      "[7500]\tvalid_0's rmse: 0.0712206\n",
      "[8000]\tvalid_0's rmse: 0.0712008\n",
      "[8500]\tvalid_0's rmse: 0.0711882\n",
      "[9000]\tvalid_0's rmse: 0.0711753\n",
      "[9500]\tvalid_0's rmse: 0.0711637\n",
      "[10000]\tvalid_0's rmse: 0.0711545\n",
      "fit fold=0  29.793[s]\n",
      "Fold 0 RMSLE: 0.0712\n",
      "\n"
     ]
    },
    {
     "name": "stderr",
     "output_type": "stream",
     "text": [
      "/opt/conda/lib/python3.7/site-packages/lightgbm/sklearn.py:726: UserWarning: 'early_stopping_rounds' argument is deprecated and will be removed in a future release of LightGBM. Pass 'early_stopping()' callback via 'callbacks' argument instead.\n",
      "  _log_warning(\"'early_stopping_rounds' argument is deprecated and will be removed in a future release of LightGBM. \"\n",
      "/opt/conda/lib/python3.7/site-packages/lightgbm/sklearn.py:736: UserWarning: 'verbose' argument is deprecated and will be removed in a future release of LightGBM. Pass 'log_evaluation()' callback via 'callbacks' argument instead.\n",
      "  _log_warning(\"'verbose' argument is deprecated and will be removed in a future release of LightGBM. \"\n"
     ]
    },
    {
     "name": "stdout",
     "output_type": "stream",
     "text": [
      "[500]\tvalid_0's rmse: 0.133881\n",
      "[1000]\tvalid_0's rmse: 0.0979525\n",
      "[1500]\tvalid_0's rmse: 0.0866018\n",
      "[2000]\tvalid_0's rmse: 0.0824913\n",
      "[2500]\tvalid_0's rmse: 0.0807016\n",
      "[3000]\tvalid_0's rmse: 0.0799241\n",
      "[3500]\tvalid_0's rmse: 0.0795134\n",
      "[4000]\tvalid_0's rmse: 0.0793133\n",
      "[4500]\tvalid_0's rmse: 0.0791941\n",
      "[5000]\tvalid_0's rmse: 0.0791163\n",
      "[5500]\tvalid_0's rmse: 0.0790507\n",
      "[6000]\tvalid_0's rmse: 0.0790084\n",
      "[6500]\tvalid_0's rmse: 0.0789839\n",
      "[7000]\tvalid_0's rmse: 0.0789623\n",
      "[7500]\tvalid_0's rmse: 0.078947\n",
      "[8000]\tvalid_0's rmse: 0.0789363\n",
      "fit fold=1  25.276[s]\n",
      "Fold 1 RMSLE: 0.0789\n",
      "\n"
     ]
    },
    {
     "name": "stderr",
     "output_type": "stream",
     "text": [
      "/opt/conda/lib/python3.7/site-packages/lightgbm/sklearn.py:726: UserWarning: 'early_stopping_rounds' argument is deprecated and will be removed in a future release of LightGBM. Pass 'early_stopping()' callback via 'callbacks' argument instead.\n",
      "  _log_warning(\"'early_stopping_rounds' argument is deprecated and will be removed in a future release of LightGBM. \"\n",
      "/opt/conda/lib/python3.7/site-packages/lightgbm/sklearn.py:736: UserWarning: 'verbose' argument is deprecated and will be removed in a future release of LightGBM. Pass 'log_evaluation()' callback via 'callbacks' argument instead.\n",
      "  _log_warning(\"'verbose' argument is deprecated and will be removed in a future release of LightGBM. \"\n"
     ]
    },
    {
     "name": "stdout",
     "output_type": "stream",
     "text": [
      "[500]\tvalid_0's rmse: 0.141576\n",
      "[1000]\tvalid_0's rmse: 0.103342\n",
      "[1500]\tvalid_0's rmse: 0.090688\n",
      "[2000]\tvalid_0's rmse: 0.0858999\n",
      "[2500]\tvalid_0's rmse: 0.0840091\n",
      "[3000]\tvalid_0's rmse: 0.0832147\n",
      "[3500]\tvalid_0's rmse: 0.0828001\n",
      "[4000]\tvalid_0's rmse: 0.0826047\n",
      "[4500]\tvalid_0's rmse: 0.0824746\n",
      "[5000]\tvalid_0's rmse: 0.0823945\n",
      "[5500]\tvalid_0's rmse: 0.0823302\n",
      "[6000]\tvalid_0's rmse: 0.0822925\n",
      "[6500]\tvalid_0's rmse: 0.082266\n",
      "[7000]\tvalid_0's rmse: 0.0822499\n",
      "[7500]\tvalid_0's rmse: 0.0822353\n",
      "[8000]\tvalid_0's rmse: 0.0822207\n",
      "fit fold=2  27.049[s]\n",
      "Fold 2 RMSLE: 0.0822\n",
      "\n"
     ]
    },
    {
     "name": "stderr",
     "output_type": "stream",
     "text": [
      "/opt/conda/lib/python3.7/site-packages/lightgbm/sklearn.py:726: UserWarning: 'early_stopping_rounds' argument is deprecated and will be removed in a future release of LightGBM. Pass 'early_stopping()' callback via 'callbacks' argument instead.\n",
      "  _log_warning(\"'early_stopping_rounds' argument is deprecated and will be removed in a future release of LightGBM. \"\n",
      "/opt/conda/lib/python3.7/site-packages/lightgbm/sklearn.py:736: UserWarning: 'verbose' argument is deprecated and will be removed in a future release of LightGBM. Pass 'log_evaluation()' callback via 'callbacks' argument instead.\n",
      "  _log_warning(\"'verbose' argument is deprecated and will be removed in a future release of LightGBM. \"\n"
     ]
    },
    {
     "name": "stdout",
     "output_type": "stream",
     "text": [
      "[500]\tvalid_0's rmse: 0.138136\n",
      "[1000]\tvalid_0's rmse: 0.0989811\n",
      "[1500]\tvalid_0's rmse: 0.0853837\n",
      "[2000]\tvalid_0's rmse: 0.0804422\n",
      "[2500]\tvalid_0's rmse: 0.0783934\n",
      "[3000]\tvalid_0's rmse: 0.0773961\n",
      "[3500]\tvalid_0's rmse: 0.0769444\n",
      "[4000]\tvalid_0's rmse: 0.0767117\n",
      "[4500]\tvalid_0's rmse: 0.0765574\n",
      "[5000]\tvalid_0's rmse: 0.076452\n",
      "[5500]\tvalid_0's rmse: 0.0763819\n",
      "[6000]\tvalid_0's rmse: 0.0763485\n",
      "[6500]\tvalid_0's rmse: 0.0763154\n",
      "[7000]\tvalid_0's rmse: 0.0762862\n",
      "[7500]\tvalid_0's rmse: 0.0762655\n",
      "[8000]\tvalid_0's rmse: 0.0762461\n",
      "[8500]\tvalid_0's rmse: 0.0762282\n",
      "[9000]\tvalid_0's rmse: 0.0762155\n",
      "[9500]\tvalid_0's rmse: 0.0762066\n",
      "[10000]\tvalid_0's rmse: 0.0761983\n",
      "fit fold=3  30.703[s]\n",
      "Fold 3 RMSLE: 0.0762\n",
      "\n"
     ]
    },
    {
     "name": "stderr",
     "output_type": "stream",
     "text": [
      "/opt/conda/lib/python3.7/site-packages/lightgbm/sklearn.py:726: UserWarning: 'early_stopping_rounds' argument is deprecated and will be removed in a future release of LightGBM. Pass 'early_stopping()' callback via 'callbacks' argument instead.\n",
      "  _log_warning(\"'early_stopping_rounds' argument is deprecated and will be removed in a future release of LightGBM. \"\n",
      "/opt/conda/lib/python3.7/site-packages/lightgbm/sklearn.py:736: UserWarning: 'verbose' argument is deprecated and will be removed in a future release of LightGBM. Pass 'log_evaluation()' callback via 'callbacks' argument instead.\n",
      "  _log_warning(\"'verbose' argument is deprecated and will be removed in a future release of LightGBM. \"\n"
     ]
    },
    {
     "name": "stdout",
     "output_type": "stream",
     "text": [
      "[500]\tvalid_0's rmse: 0.14156\n",
      "[1000]\tvalid_0's rmse: 0.105176\n",
      "[1500]\tvalid_0's rmse: 0.0938139\n",
      "[2000]\tvalid_0's rmse: 0.0892573\n",
      "[2500]\tvalid_0's rmse: 0.0873742\n",
      "[3000]\tvalid_0's rmse: 0.0865812\n",
      "[3500]\tvalid_0's rmse: 0.0862172\n",
      "[4000]\tvalid_0's rmse: 0.0859853\n",
      "[4500]\tvalid_0's rmse: 0.085858\n",
      "[5000]\tvalid_0's rmse: 0.085793\n",
      "[5500]\tvalid_0's rmse: 0.0857536\n",
      "[6000]\tvalid_0's rmse: 0.0857222\n",
      "[6500]\tvalid_0's rmse: 0.0856984\n",
      "[7000]\tvalid_0's rmse: 0.0856801\n",
      "[7500]\tvalid_0's rmse: 0.085666\n",
      "[8000]\tvalid_0's rmse: 0.085652\n",
      "[8500]\tvalid_0's rmse: 0.085642\n",
      "fit fold=4  27.296[s]\n",
      "Fold 4 RMSLE: 0.0856\n",
      "\n",
      "--------------------------------------------------\n",
      "FINISHED | Whole RMSLE: 0.0790\n"
     ]
    },
    {
     "data": {
      "image/png": "[encoded data removed]",
      "text/plain": [
       "<Figure size 432x432 with 1 Axes>"
      ]
     },
     "metadata": {
      "needs_background": "light"
     },
     "output_type": "display_data"
    },
    {
     "data": {
      "image/png": "[encoded data removed]",
      "text/plain": [
       "<Figure size 432x432 with 1 Axes>"
      ]
     },
     "metadata": {
      "needs_background": "light"
     },
     "output_type": "display_data"
    },
    {
     "data": {
      "image/png": "[encoded data removed]",
      "text/plain": [
       "<Figure size 432x432 with 1 Axes>"
      ]
     },
     "metadata": {
      "needs_background": "light"
     },
     "output_type": "display_data"
    },
    {
     "data": {
      "image/png": "[encoded data removed]",
      "text/plain": [
       "<Figure size 432x432 with 1 Axes>"
      ]
     },
     "metadata": {
      "needs_background": "light"
     },
     "output_type": "display_data"
    },
    {
     "data": {
      "image/png": "[encoded data removed]",
      "text/plain": [
       "<Figure size 432x432 with 1 Axes>"
      ]
     },
     "metadata": {
      "needs_background": "light"
     },
     "output_type": "display_data"
    },
    {
     "data": {
      "image/png": "[encoded data removed]",
      "text/plain": [
       "<Figure size 432x432 with 1 Axes>"
      ]
     },
     "metadata": {
      "needs_background": "light"
     },
     "output_type": "display_data"
    },
    {
     "data": {
      "image/png": "[encoded data removed]",
      "text/plain": [
       "<Figure size 432x432 with 1 Axes>"
      ]
     },
     "metadata": {
      "needs_background": "light"
     },
     "output_type": "display_data"
    },
    {
     "data": {
      "image/png": "[encoded data removed]",
      "text/plain": [
       "<Figure size 432x432 with 1 Axes>"
      ]
     },
     "metadata": {
      "needs_background": "light"
     },
     "output_type": "display_data"
    },
    {
     "data": {
      "image/png": "[encoded data removed]",
      "text/plain": [
       "<Figure size 432x432 with 1 Axes>"
      ]
     },
     "metadata": {
      "needs_background": "light"
     },
     "output_type": "display_data"
    },
    {
     "data": {
      "image/png": "[encoded data removed]",
      "text/plain": [
       "<Figure size 432x432 with 1 Axes>"
      ]
     },
     "metadata": {
      "needs_background": "light"
     },
     "output_type": "display_data"
    }
   ],
   "source": [
    "from sklearn.model_selection import KFold\n",
    "\n",
    "for i in range(10):\n",
    "    fold = KFold(n_splits=5, shuffle=True, random_state=71)\n",
    "    ydfi=ydf.iloc[:,i]\n",
    "    y=np.array(ydfi)\n",
    "    cv = list(fold.split(train_feat_df, y))\n",
    "    oof, models = fit_lgbm(train_feat_df.values, y, cv, params=params, verbose=500)\n",
    "    \n",
    "    fig,ax = plt.subplots(figsize=(6,6))\n",
    "    ax.set_title(target[i],fontsize=20)\n",
    "    ax.set_xlabel('Train Actual',fontsize=12)\n",
    "    ax.set_ylabel('Train Predicted',fontsize=12)\n",
    "    ax.scatter(y,oof)\n"
   ]
  },
  {
   "cell_type": "markdown",
   "id": "24adf4cf",
   "metadata": {
    "papermill": {
     "duration": 0.299521,
     "end_time": "2022-05-17T14:44:50.940997",
     "exception": false,
     "start_time": "2022-05-17T14:44:50.641476",
     "status": "completed"
    },
    "tags": []
   },
   "source": [
    "# Visualize Importance"
   ]
  },
  {
   "cell_type": "code",
   "execution_count": 23,
   "id": "9dc94a70",
   "metadata": {
    "execution": {
     "iopub.execute_input": "2022-05-17T14:44:51.543294Z",
     "iopub.status.busy": "2022-05-17T14:44:51.543026Z",
     "iopub.status.idle": "2022-05-17T14:44:51.552035Z",
     "shell.execute_reply": "2022-05-17T14:44:51.551391Z"
    },
    "papermill": {
     "duration": 0.309873,
     "end_time": "2022-05-17T14:44:51.553631",
     "exception": false,
     "start_time": "2022-05-17T14:44:51.243758",
     "status": "completed"
    },
    "tags": []
   },
   "outputs": [],
   "source": [
    "def visualize_importance(models, feat_train_df):\n",
    "\n",
    "    feature_importance_df = pd.DataFrame()\n",
    "    for i, model in enumerate(models):\n",
    "        _df = pd.DataFrame()\n",
    "        _df['feature_importance'] = model.feature_importances_\n",
    "        _df['column'] = feat_train_df.columns\n",
    "        _df['fold'] = i + 1\n",
    "        feature_importance_df = pd.concat([feature_importance_df, _df], \n",
    "                                          axis=0, ignore_index=True)\n",
    "\n",
    "    order = feature_importance_df.groupby('column')\\\n",
    "        .sum()[['feature_importance']]\\\n",
    "        .sort_values('feature_importance', ascending=False).index[:50]\n",
    "\n",
    "    fig, ax = plt.subplots(figsize=(8, max(6, len(order) * .25)))\n",
    "    sns.boxenplot(data=feature_importance_df, \n",
    "                  x='feature_importance', \n",
    "                  y='column', \n",
    "                  order=order, \n",
    "                  ax=ax, \n",
    "                  palette='viridis', \n",
    "                  orient='h')\n",
    "    \n",
    "    ax.tick_params(axis='x', rotation=0)\n",
    "    #ax.set_title('Importance')\n",
    "    ax.grid()\n",
    "    fig.tight_layout()\n",
    "    \n",
    "    return fig,ax\n",
    "\n",
    "#fig, ax = visualize_importance(models, train_feat_df)"
   ]
  },
  {
   "cell_type": "code",
   "execution_count": 24,
   "id": "9064ad6c",
   "metadata": {
    "execution": {
     "iopub.execute_input": "2022-05-17T14:44:52.166317Z",
     "iopub.status.busy": "2022-05-17T14:44:52.166035Z",
     "iopub.status.idle": "2022-05-17T15:06:55.565963Z",
     "shell.execute_reply": "2022-05-17T15:06:55.565043Z"
    },
    "papermill": {
     "duration": 1323.710751,
     "end_time": "2022-05-17T15:06:55.568576",
     "exception": false,
     "start_time": "2022-05-17T14:44:51.857825",
     "status": "completed"
    },
    "tags": []
   },
   "outputs": [
    {
     "name": "stderr",
     "output_type": "stream",
     "text": [
      "/opt/conda/lib/python3.7/site-packages/ipykernel_launcher.py:12: DeprecationWarning: `np.float` is a deprecated alias for the builtin `float`. To silence this warning, use `float` by itself. Doing this will not modify any behavior and is safe. If you specifically wanted the numpy scalar type, use `np.float64` here.\n",
      "Deprecated in NumPy 1.20; for more details and guidance: https://numpy.org/devdocs/release/1.20.0-notes.html#deprecations\n",
      "  if sys.path[0] == '':\n",
      "/opt/conda/lib/python3.7/site-packages/lightgbm/sklearn.py:726: UserWarning: 'early_stopping_rounds' argument is deprecated and will be removed in a future release of LightGBM. Pass 'early_stopping()' callback via 'callbacks' argument instead.\n",
      "  _log_warning(\"'early_stopping_rounds' argument is deprecated and will be removed in a future release of LightGBM. \"\n",
      "/opt/conda/lib/python3.7/site-packages/lightgbm/sklearn.py:736: UserWarning: 'verbose' argument is deprecated and will be removed in a future release of LightGBM. Pass 'log_evaluation()' callback via 'callbacks' argument instead.\n",
      "  _log_warning(\"'verbose' argument is deprecated and will be removed in a future release of LightGBM. \"\n"
     ]
    },
    {
     "name": "stdout",
     "output_type": "stream",
     "text": [
      "[500]\tvalid_0's rmse: 0.0609638\n",
      "[1000]\tvalid_0's rmse: 0.0577356\n",
      "[1500]\tvalid_0's rmse: 0.0564432\n",
      "[2000]\tvalid_0's rmse: 0.0558882\n",
      "[2500]\tvalid_0's rmse: 0.0556554\n",
      "[3000]\tvalid_0's rmse: 0.0555032\n",
      "[3500]\tvalid_0's rmse: 0.0554317\n",
      "[4000]\tvalid_0's rmse: 0.0553888\n",
      "fit fold=0  13.358[s]\n",
      "Fold 0 RMSLE: 0.0554\n",
      "\n"
     ]
    },
    {
     "name": "stderr",
     "output_type": "stream",
     "text": [
      "/opt/conda/lib/python3.7/site-packages/lightgbm/sklearn.py:726: UserWarning: 'early_stopping_rounds' argument is deprecated and will be removed in a future release of LightGBM. Pass 'early_stopping()' callback via 'callbacks' argument instead.\n",
      "  _log_warning(\"'early_stopping_rounds' argument is deprecated and will be removed in a future release of LightGBM. \"\n",
      "/opt/conda/lib/python3.7/site-packages/lightgbm/sklearn.py:736: UserWarning: 'verbose' argument is deprecated and will be removed in a future release of LightGBM. Pass 'log_evaluation()' callback via 'callbacks' argument instead.\n",
      "  _log_warning(\"'verbose' argument is deprecated and will be removed in a future release of LightGBM. \"\n"
     ]
    },
    {
     "name": "stdout",
     "output_type": "stream",
     "text": [
      "[500]\tvalid_0's rmse: 0.0524712\n",
      "[1000]\tvalid_0's rmse: 0.0498459\n",
      "[1500]\tvalid_0's rmse: 0.0483548\n",
      "[2000]\tvalid_0's rmse: 0.0476713\n",
      "[2500]\tvalid_0's rmse: 0.0473498\n",
      "[3000]\tvalid_0's rmse: 0.0472262\n",
      "[3500]\tvalid_0's rmse: 0.0471423\n",
      "[4000]\tvalid_0's rmse: 0.0470865\n",
      "[4500]\tvalid_0's rmse: 0.047041\n",
      "[5000]\tvalid_0's rmse: 0.04701\n",
      "[5500]\tvalid_0's rmse: 0.0469903\n",
      "[6000]\tvalid_0's rmse: 0.0469738\n",
      "[6500]\tvalid_0's rmse: 0.0469608\n",
      "[7000]\tvalid_0's rmse: 0.0469489\n",
      "fit fold=1  22.447[s]\n",
      "Fold 1 RMSLE: 0.0469\n",
      "\n"
     ]
    },
    {
     "name": "stderr",
     "output_type": "stream",
     "text": [
      "/opt/conda/lib/python3.7/site-packages/lightgbm/sklearn.py:726: UserWarning: 'early_stopping_rounds' argument is deprecated and will be removed in a future release of LightGBM. Pass 'early_stopping()' callback via 'callbacks' argument instead.\n",
      "  _log_warning(\"'early_stopping_rounds' argument is deprecated and will be removed in a future release of LightGBM. \"\n",
      "/opt/conda/lib/python3.7/site-packages/lightgbm/sklearn.py:736: UserWarning: 'verbose' argument is deprecated and will be removed in a future release of LightGBM. Pass 'log_evaluation()' callback via 'callbacks' argument instead.\n",
      "  _log_warning(\"'verbose' argument is deprecated and will be removed in a future release of LightGBM. \"\n"
     ]
    },
    {
     "name": "stdout",
     "output_type": "stream",
     "text": [
      "[500]\tvalid_0's rmse: 0.0710162\n",
      "[1000]\tvalid_0's rmse: 0.0686147\n",
      "[1500]\tvalid_0's rmse: 0.0671792\n",
      "[2000]\tvalid_0's rmse: 0.0665596\n",
      "[2500]\tvalid_0's rmse: 0.0662103\n",
      "[3000]\tvalid_0's rmse: 0.0660431\n",
      "[3500]\tvalid_0's rmse: 0.0659689\n",
      "[4000]\tvalid_0's rmse: 0.0659208\n",
      "[4500]\tvalid_0's rmse: 0.0658681\n",
      "[5000]\tvalid_0's rmse: 0.0658383\n",
      "[5500]\tvalid_0's rmse: 0.0658181\n",
      "[6000]\tvalid_0's rmse: 0.0657977\n",
      "[6500]\tvalid_0's rmse: 0.0657868\n",
      "[7000]\tvalid_0's rmse: 0.065779\n",
      "[7500]\tvalid_0's rmse: 0.0657698\n",
      "[8000]\tvalid_0's rmse: 0.0657617\n",
      "fit fold=2  25.297[s]\n",
      "Fold 2 RMSLE: 0.0658\n",
      "\n"
     ]
    },
    {
     "name": "stderr",
     "output_type": "stream",
     "text": [
      "/opt/conda/lib/python3.7/site-packages/lightgbm/sklearn.py:726: UserWarning: 'early_stopping_rounds' argument is deprecated and will be removed in a future release of LightGBM. Pass 'early_stopping()' callback via 'callbacks' argument instead.\n",
      "  _log_warning(\"'early_stopping_rounds' argument is deprecated and will be removed in a future release of LightGBM. \"\n",
      "/opt/conda/lib/python3.7/site-packages/lightgbm/sklearn.py:736: UserWarning: 'verbose' argument is deprecated and will be removed in a future release of LightGBM. Pass 'log_evaluation()' callback via 'callbacks' argument instead.\n",
      "  _log_warning(\"'verbose' argument is deprecated and will be removed in a future release of LightGBM. \"\n"
     ]
    },
    {
     "name": "stdout",
     "output_type": "stream",
     "text": [
      "[500]\tvalid_0's rmse: 0.0694295\n",
      "[1000]\tvalid_0's rmse: 0.0664013\n",
      "[1500]\tvalid_0's rmse: 0.0651915\n",
      "[2000]\tvalid_0's rmse: 0.0646802\n",
      "[2500]\tvalid_0's rmse: 0.0643374\n",
      "[3000]\tvalid_0's rmse: 0.0642297\n",
      "[3500]\tvalid_0's rmse: 0.064145\n",
      "[4000]\tvalid_0's rmse: 0.0641055\n",
      "[4500]\tvalid_0's rmse: 0.0640795\n",
      "[5000]\tvalid_0's rmse: 0.0640545\n",
      "[5500]\tvalid_0's rmse: 0.0640383\n",
      "fit fold=3  17.162[s]\n",
      "Fold 3 RMSLE: 0.0640\n",
      "\n"
     ]
    },
    {
     "name": "stderr",
     "output_type": "stream",
     "text": [
      "/opt/conda/lib/python3.7/site-packages/lightgbm/sklearn.py:726: UserWarning: 'early_stopping_rounds' argument is deprecated and will be removed in a future release of LightGBM. Pass 'early_stopping()' callback via 'callbacks' argument instead.\n",
      "  _log_warning(\"'early_stopping_rounds' argument is deprecated and will be removed in a future release of LightGBM. \"\n",
      "/opt/conda/lib/python3.7/site-packages/lightgbm/sklearn.py:736: UserWarning: 'verbose' argument is deprecated and will be removed in a future release of LightGBM. Pass 'log_evaluation()' callback via 'callbacks' argument instead.\n",
      "  _log_warning(\"'verbose' argument is deprecated and will be removed in a future release of LightGBM. \"\n"
     ]
    },
    {
     "name": "stdout",
     "output_type": "stream",
     "text": [
      "[500]\tvalid_0's rmse: 0.0565566\n",
      "[1000]\tvalid_0's rmse: 0.0536618\n",
      "[1500]\tvalid_0's rmse: 0.0521568\n",
      "[2000]\tvalid_0's rmse: 0.0516538\n",
      "[2500]\tvalid_0's rmse: 0.0514009\n",
      "[3000]\tvalid_0's rmse: 0.0513097\n",
      "[3500]\tvalid_0's rmse: 0.0512623\n",
      "[4000]\tvalid_0's rmse: 0.0512151\n",
      "[4500]\tvalid_0's rmse: 0.0511908\n",
      "[5000]\tvalid_0's rmse: 0.0511722\n",
      "fit fold=4  16.405[s]\n",
      "Fold 4 RMSLE: 0.0512\n",
      "\n",
      "--------------------------------------------------\n",
      "FINISHED | Whole RMSLE: 0.0571\n"
     ]
    },
    {
     "name": "stderr",
     "output_type": "stream",
     "text": [
      "/opt/conda/lib/python3.7/site-packages/ipykernel_launcher.py:12: DeprecationWarning: `np.float` is a deprecated alias for the builtin `float`. To silence this warning, use `float` by itself. Doing this will not modify any behavior and is safe. If you specifically wanted the numpy scalar type, use `np.float64` here.\n",
      "Deprecated in NumPy 1.20; for more details and guidance: https://numpy.org/devdocs/release/1.20.0-notes.html#deprecations\n",
      "  if sys.path[0] == '':\n",
      "/opt/conda/lib/python3.7/site-packages/lightgbm/sklearn.py:726: UserWarning: 'early_stopping_rounds' argument is deprecated and will be removed in a future release of LightGBM. Pass 'early_stopping()' callback via 'callbacks' argument instead.\n",
      "  _log_warning(\"'early_stopping_rounds' argument is deprecated and will be removed in a future release of LightGBM. \"\n",
      "/opt/conda/lib/python3.7/site-packages/lightgbm/sklearn.py:736: UserWarning: 'verbose' argument is deprecated and will be removed in a future release of LightGBM. Pass 'log_evaluation()' callback via 'callbacks' argument instead.\n",
      "  _log_warning(\"'verbose' argument is deprecated and will be removed in a future release of LightGBM. \"\n"
     ]
    },
    {
     "name": "stdout",
     "output_type": "stream",
     "text": [
      "[500]\tvalid_0's rmse: 0.0664567\n",
      "[1000]\tvalid_0's rmse: 0.0410308\n",
      "[1500]\tvalid_0's rmse: 0.0347083\n",
      "[2000]\tvalid_0's rmse: 0.0325675\n",
      "[2500]\tvalid_0's rmse: 0.031663\n",
      "[3000]\tvalid_0's rmse: 0.0312316\n",
      "[3500]\tvalid_0's rmse: 0.0310058\n",
      "[4000]\tvalid_0's rmse: 0.0308614\n",
      "[4500]\tvalid_0's rmse: 0.0307723\n",
      "[5000]\tvalid_0's rmse: 0.0307152\n",
      "[5500]\tvalid_0's rmse: 0.0306718\n",
      "[6000]\tvalid_0's rmse: 0.0306379\n",
      "[6500]\tvalid_0's rmse: 0.0306115\n",
      "[7000]\tvalid_0's rmse: 0.0305964\n",
      "fit fold=0  23.152[s]\n",
      "Fold 0 RMSLE: 0.0306\n",
      "\n"
     ]
    },
    {
     "name": "stderr",
     "output_type": "stream",
     "text": [
      "/opt/conda/lib/python3.7/site-packages/lightgbm/sklearn.py:726: UserWarning: 'early_stopping_rounds' argument is deprecated and will be removed in a future release of LightGBM. Pass 'early_stopping()' callback via 'callbacks' argument instead.\n",
      "  _log_warning(\"'early_stopping_rounds' argument is deprecated and will be removed in a future release of LightGBM. \"\n",
      "/opt/conda/lib/python3.7/site-packages/lightgbm/sklearn.py:736: UserWarning: 'verbose' argument is deprecated and will be removed in a future release of LightGBM. Pass 'log_evaluation()' callback via 'callbacks' argument instead.\n",
      "  _log_warning(\"'verbose' argument is deprecated and will be removed in a future release of LightGBM. \"\n"
     ]
    },
    {
     "name": "stdout",
     "output_type": "stream",
     "text": [
      "[500]\tvalid_0's rmse: 0.0722731\n",
      "[1000]\tvalid_0's rmse: 0.0484233\n",
      "[1500]\tvalid_0's rmse: 0.0431123\n",
      "[2000]\tvalid_0's rmse: 0.0414875\n",
      "[2500]\tvalid_0's rmse: 0.0408503\n",
      "[3000]\tvalid_0's rmse: 0.0405691\n",
      "[3500]\tvalid_0's rmse: 0.0404136\n",
      "[4000]\tvalid_0's rmse: 0.040318\n",
      "[4500]\tvalid_0's rmse: 0.0402493\n",
      "[5000]\tvalid_0's rmse: 0.0401977\n",
      "[5500]\tvalid_0's rmse: 0.0401694\n",
      "[6000]\tvalid_0's rmse: 0.040142\n",
      "[6500]\tvalid_0's rmse: 0.0401195\n",
      "[7000]\tvalid_0's rmse: 0.040103\n",
      "fit fold=1  22.086[s]\n",
      "Fold 1 RMSLE: 0.0401\n",
      "\n"
     ]
    },
    {
     "name": "stderr",
     "output_type": "stream",
     "text": [
      "/opt/conda/lib/python3.7/site-packages/lightgbm/sklearn.py:726: UserWarning: 'early_stopping_rounds' argument is deprecated and will be removed in a future release of LightGBM. Pass 'early_stopping()' callback via 'callbacks' argument instead.\n",
      "  _log_warning(\"'early_stopping_rounds' argument is deprecated and will be removed in a future release of LightGBM. \"\n",
      "/opt/conda/lib/python3.7/site-packages/lightgbm/sklearn.py:736: UserWarning: 'verbose' argument is deprecated and will be removed in a future release of LightGBM. Pass 'log_evaluation()' callback via 'callbacks' argument instead.\n",
      "  _log_warning(\"'verbose' argument is deprecated and will be removed in a future release of LightGBM. \"\n"
     ]
    },
    {
     "name": "stdout",
     "output_type": "stream",
     "text": [
      "[500]\tvalid_0's rmse: 0.069912\n",
      "[1000]\tvalid_0's rmse: 0.0437422\n",
      "[1500]\tvalid_0's rmse: 0.0370191\n",
      "[2000]\tvalid_0's rmse: 0.0347417\n",
      "[2500]\tvalid_0's rmse: 0.0338833\n",
      "[3000]\tvalid_0's rmse: 0.0334658\n",
      "[3500]\tvalid_0's rmse: 0.033243\n",
      "[4000]\tvalid_0's rmse: 0.0330989\n",
      "[4500]\tvalid_0's rmse: 0.0330178\n",
      "[5000]\tvalid_0's rmse: 0.0329506\n",
      "[5500]\tvalid_0's rmse: 0.0329017\n",
      "[6000]\tvalid_0's rmse: 0.0328647\n",
      "[6500]\tvalid_0's rmse: 0.0328374\n",
      "[7000]\tvalid_0's rmse: 0.0328177\n",
      "[7500]\tvalid_0's rmse: 0.0328003\n",
      "[8000]\tvalid_0's rmse: 0.0327842\n",
      "[8500]\tvalid_0's rmse: 0.0327735\n",
      "fit fold=2  26.134[s]\n",
      "Fold 2 RMSLE: 0.0328\n",
      "\n"
     ]
    },
    {
     "name": "stderr",
     "output_type": "stream",
     "text": [
      "/opt/conda/lib/python3.7/site-packages/lightgbm/sklearn.py:726: UserWarning: 'early_stopping_rounds' argument is deprecated and will be removed in a future release of LightGBM. Pass 'early_stopping()' callback via 'callbacks' argument instead.\n",
      "  _log_warning(\"'early_stopping_rounds' argument is deprecated and will be removed in a future release of LightGBM. \"\n",
      "/opt/conda/lib/python3.7/site-packages/lightgbm/sklearn.py:736: UserWarning: 'verbose' argument is deprecated and will be removed in a future release of LightGBM. Pass 'log_evaluation()' callback via 'callbacks' argument instead.\n",
      "  _log_warning(\"'verbose' argument is deprecated and will be removed in a future release of LightGBM. \"\n"
     ]
    },
    {
     "name": "stdout",
     "output_type": "stream",
     "text": [
      "[500]\tvalid_0's rmse: 0.0700618\n",
      "[1000]\tvalid_0's rmse: 0.0421032\n",
      "[1500]\tvalid_0's rmse: 0.0357858\n",
      "[2000]\tvalid_0's rmse: 0.0338686\n",
      "[2500]\tvalid_0's rmse: 0.0331073\n",
      "[3000]\tvalid_0's rmse: 0.0327415\n",
      "[3500]\tvalid_0's rmse: 0.0325731\n",
      "[4000]\tvalid_0's rmse: 0.0324589\n",
      "[4500]\tvalid_0's rmse: 0.0324002\n",
      "[5000]\tvalid_0's rmse: 0.0323494\n",
      "[5500]\tvalid_0's rmse: 0.0323167\n",
      "[6000]\tvalid_0's rmse: 0.0322926\n",
      "[6500]\tvalid_0's rmse: 0.0322759\n",
      "[7000]\tvalid_0's rmse: 0.0322631\n",
      "[7500]\tvalid_0's rmse: 0.0322495\n",
      "[8000]\tvalid_0's rmse: 0.0322403\n",
      "[8500]\tvalid_0's rmse: 0.032231\n",
      "fit fold=3  26.138[s]\n",
      "Fold 3 RMSLE: 0.0322\n",
      "\n"
     ]
    },
    {
     "name": "stderr",
     "output_type": "stream",
     "text": [
      "/opt/conda/lib/python3.7/site-packages/lightgbm/sklearn.py:726: UserWarning: 'early_stopping_rounds' argument is deprecated and will be removed in a future release of LightGBM. Pass 'early_stopping()' callback via 'callbacks' argument instead.\n",
      "  _log_warning(\"'early_stopping_rounds' argument is deprecated and will be removed in a future release of LightGBM. \"\n",
      "/opt/conda/lib/python3.7/site-packages/lightgbm/sklearn.py:736: UserWarning: 'verbose' argument is deprecated and will be removed in a future release of LightGBM. Pass 'log_evaluation()' callback via 'callbacks' argument instead.\n",
      "  _log_warning(\"'verbose' argument is deprecated and will be removed in a future release of LightGBM. \"\n"
     ]
    },
    {
     "name": "stdout",
     "output_type": "stream",
     "text": [
      "[500]\tvalid_0's rmse: 0.0674812\n",
      "[1000]\tvalid_0's rmse: 0.043863\n",
      "[1500]\tvalid_0's rmse: 0.0380719\n",
      "[2000]\tvalid_0's rmse: 0.0360291\n",
      "[2500]\tvalid_0's rmse: 0.0352581\n",
      "[3000]\tvalid_0's rmse: 0.0348969\n",
      "[3500]\tvalid_0's rmse: 0.0347127\n",
      "[4000]\tvalid_0's rmse: 0.034609\n",
      "[4500]\tvalid_0's rmse: 0.0345418\n",
      "[5000]\tvalid_0's rmse: 0.0344887\n",
      "[5500]\tvalid_0's rmse: 0.0344519\n",
      "[6000]\tvalid_0's rmse: 0.0344268\n",
      "[6500]\tvalid_0's rmse: 0.0344012\n",
      "[7000]\tvalid_0's rmse: 0.0343871\n",
      "[7500]\tvalid_0's rmse: 0.0343752\n",
      "[8000]\tvalid_0's rmse: 0.0343635\n",
      "fit fold=4  25.137[s]\n",
      "Fold 4 RMSLE: 0.0344\n",
      "\n",
      "--------------------------------------------------\n",
      "FINISHED | Whole RMSLE: 0.0342\n"
     ]
    },
    {
     "name": "stderr",
     "output_type": "stream",
     "text": [
      "/opt/conda/lib/python3.7/site-packages/ipykernel_launcher.py:12: DeprecationWarning: `np.float` is a deprecated alias for the builtin `float`. To silence this warning, use `float` by itself. Doing this will not modify any behavior and is safe. If you specifically wanted the numpy scalar type, use `np.float64` here.\n",
      "Deprecated in NumPy 1.20; for more details and guidance: https://numpy.org/devdocs/release/1.20.0-notes.html#deprecations\n",
      "  if sys.path[0] == '':\n",
      "/opt/conda/lib/python3.7/site-packages/lightgbm/sklearn.py:726: UserWarning: 'early_stopping_rounds' argument is deprecated and will be removed in a future release of LightGBM. Pass 'early_stopping()' callback via 'callbacks' argument instead.\n",
      "  _log_warning(\"'early_stopping_rounds' argument is deprecated and will be removed in a future release of LightGBM. \"\n",
      "/opt/conda/lib/python3.7/site-packages/lightgbm/sklearn.py:736: UserWarning: 'verbose' argument is deprecated and will be removed in a future release of LightGBM. Pass 'log_evaluation()' callback via 'callbacks' argument instead.\n",
      "  _log_warning(\"'verbose' argument is deprecated and will be removed in a future release of LightGBM. \"\n"
     ]
    },
    {
     "name": "stdout",
     "output_type": "stream",
     "text": [
      "[500]\tvalid_0's rmse: 0.078441\n",
      "[1000]\tvalid_0's rmse: 0.0651559\n",
      "[1500]\tvalid_0's rmse: 0.0605106\n",
      "[2000]\tvalid_0's rmse: 0.0587877\n",
      "[2500]\tvalid_0's rmse: 0.0580563\n",
      "[3000]\tvalid_0's rmse: 0.0577283\n",
      "[3500]\tvalid_0's rmse: 0.0575698\n",
      "[4000]\tvalid_0's rmse: 0.0574654\n",
      "[4500]\tvalid_0's rmse: 0.0573961\n",
      "[5000]\tvalid_0's rmse: 0.0573476\n",
      "[5500]\tvalid_0's rmse: 0.0573138\n",
      "[6000]\tvalid_0's rmse: 0.0572915\n",
      "[6500]\tvalid_0's rmse: 0.0572764\n",
      "[7000]\tvalid_0's rmse: 0.0572568\n",
      "[7500]\tvalid_0's rmse: 0.0572429\n",
      "[8000]\tvalid_0's rmse: 0.0572345\n",
      "[8500]\tvalid_0's rmse: 0.0572281\n",
      "[9000]\tvalid_0's rmse: 0.0572223\n",
      "fit fold=0  26.568[s]\n",
      "Fold 0 RMSLE: 0.0572\n",
      "\n"
     ]
    },
    {
     "name": "stderr",
     "output_type": "stream",
     "text": [
      "/opt/conda/lib/python3.7/site-packages/lightgbm/sklearn.py:726: UserWarning: 'early_stopping_rounds' argument is deprecated and will be removed in a future release of LightGBM. Pass 'early_stopping()' callback via 'callbacks' argument instead.\n",
      "  _log_warning(\"'early_stopping_rounds' argument is deprecated and will be removed in a future release of LightGBM. \"\n",
      "/opt/conda/lib/python3.7/site-packages/lightgbm/sklearn.py:736: UserWarning: 'verbose' argument is deprecated and will be removed in a future release of LightGBM. Pass 'log_evaluation()' callback via 'callbacks' argument instead.\n",
      "  _log_warning(\"'verbose' argument is deprecated and will be removed in a future release of LightGBM. \"\n"
     ]
    },
    {
     "name": "stdout",
     "output_type": "stream",
     "text": [
      "[500]\tvalid_0's rmse: 0.0892113\n",
      "[1000]\tvalid_0's rmse: 0.0764739\n",
      "[1500]\tvalid_0's rmse: 0.0722161\n",
      "[2000]\tvalid_0's rmse: 0.0704453\n",
      "[2500]\tvalid_0's rmse: 0.0697081\n",
      "[3000]\tvalid_0's rmse: 0.0694283\n",
      "[3500]\tvalid_0's rmse: 0.0692483\n",
      "[4000]\tvalid_0's rmse: 0.0691589\n",
      "[4500]\tvalid_0's rmse: 0.0691014\n",
      "[5000]\tvalid_0's rmse: 0.0690578\n",
      "[5500]\tvalid_0's rmse: 0.0690292\n",
      "[6000]\tvalid_0's rmse: 0.0690093\n",
      "[6500]\tvalid_0's rmse: 0.0689952\n",
      "[7000]\tvalid_0's rmse: 0.0689831\n",
      "[7500]\tvalid_0's rmse: 0.0689722\n",
      "fit fold=1  23.568[s]\n",
      "Fold 1 RMSLE: 0.0690\n",
      "\n"
     ]
    },
    {
     "name": "stderr",
     "output_type": "stream",
     "text": [
      "/opt/conda/lib/python3.7/site-packages/lightgbm/sklearn.py:726: UserWarning: 'early_stopping_rounds' argument is deprecated and will be removed in a future release of LightGBM. Pass 'early_stopping()' callback via 'callbacks' argument instead.\n",
      "  _log_warning(\"'early_stopping_rounds' argument is deprecated and will be removed in a future release of LightGBM. \"\n",
      "/opt/conda/lib/python3.7/site-packages/lightgbm/sklearn.py:736: UserWarning: 'verbose' argument is deprecated and will be removed in a future release of LightGBM. Pass 'log_evaluation()' callback via 'callbacks' argument instead.\n",
      "  _log_warning(\"'verbose' argument is deprecated and will be removed in a future release of LightGBM. \"\n"
     ]
    },
    {
     "name": "stdout",
     "output_type": "stream",
     "text": [
      "[500]\tvalid_0's rmse: 0.0909033\n",
      "[1000]\tvalid_0's rmse: 0.0792985\n",
      "[1500]\tvalid_0's rmse: 0.0753229\n",
      "[2000]\tvalid_0's rmse: 0.073449\n",
      "[2500]\tvalid_0's rmse: 0.0727673\n",
      "[3000]\tvalid_0's rmse: 0.0724743\n",
      "[3500]\tvalid_0's rmse: 0.072323\n",
      "[4000]\tvalid_0's rmse: 0.0722239\n",
      "[4500]\tvalid_0's rmse: 0.0721603\n",
      "[5000]\tvalid_0's rmse: 0.0721271\n",
      "fit fold=2  16.353[s]\n",
      "Fold 2 RMSLE: 0.0721\n",
      "\n"
     ]
    },
    {
     "name": "stderr",
     "output_type": "stream",
     "text": [
      "/opt/conda/lib/python3.7/site-packages/lightgbm/sklearn.py:726: UserWarning: 'early_stopping_rounds' argument is deprecated and will be removed in a future release of LightGBM. Pass 'early_stopping()' callback via 'callbacks' argument instead.\n",
      "  _log_warning(\"'early_stopping_rounds' argument is deprecated and will be removed in a future release of LightGBM. \"\n",
      "/opt/conda/lib/python3.7/site-packages/lightgbm/sklearn.py:736: UserWarning: 'verbose' argument is deprecated and will be removed in a future release of LightGBM. Pass 'log_evaluation()' callback via 'callbacks' argument instead.\n",
      "  _log_warning(\"'verbose' argument is deprecated and will be removed in a future release of LightGBM. \"\n"
     ]
    },
    {
     "name": "stdout",
     "output_type": "stream",
     "text": [
      "[500]\tvalid_0's rmse: 0.0887357\n",
      "[1000]\tvalid_0's rmse: 0.07543\n",
      "[1500]\tvalid_0's rmse: 0.0711117\n",
      "[2000]\tvalid_0's rmse: 0.0694478\n",
      "[2500]\tvalid_0's rmse: 0.0686434\n",
      "[3000]\tvalid_0's rmse: 0.0683223\n",
      "[3500]\tvalid_0's rmse: 0.0681717\n",
      "[4000]\tvalid_0's rmse: 0.0680393\n",
      "[4500]\tvalid_0's rmse: 0.06798\n",
      "[5000]\tvalid_0's rmse: 0.0679328\n",
      "[5500]\tvalid_0's rmse: 0.0679057\n",
      "[6000]\tvalid_0's rmse: 0.0678813\n",
      "[6500]\tvalid_0's rmse: 0.0678619\n",
      "[7000]\tvalid_0's rmse: 0.0678511\n",
      "fit fold=3  20.966[s]\n",
      "Fold 3 RMSLE: 0.0678\n",
      "\n"
     ]
    },
    {
     "name": "stderr",
     "output_type": "stream",
     "text": [
      "/opt/conda/lib/python3.7/site-packages/lightgbm/sklearn.py:726: UserWarning: 'early_stopping_rounds' argument is deprecated and will be removed in a future release of LightGBM. Pass 'early_stopping()' callback via 'callbacks' argument instead.\n",
      "  _log_warning(\"'early_stopping_rounds' argument is deprecated and will be removed in a future release of LightGBM. \"\n",
      "/opt/conda/lib/python3.7/site-packages/lightgbm/sklearn.py:736: UserWarning: 'verbose' argument is deprecated and will be removed in a future release of LightGBM. Pass 'log_evaluation()' callback via 'callbacks' argument instead.\n",
      "  _log_warning(\"'verbose' argument is deprecated and will be removed in a future release of LightGBM. \"\n"
     ]
    },
    {
     "name": "stdout",
     "output_type": "stream",
     "text": [
      "[500]\tvalid_0's rmse: 0.0843846\n",
      "[1000]\tvalid_0's rmse: 0.0709032\n",
      "[1500]\tvalid_0's rmse: 0.0654851\n",
      "[2000]\tvalid_0's rmse: 0.0633132\n",
      "[2500]\tvalid_0's rmse: 0.0623905\n",
      "[3000]\tvalid_0's rmse: 0.0620002\n",
      "[3500]\tvalid_0's rmse: 0.0617807\n",
      "[4000]\tvalid_0's rmse: 0.0616699\n",
      "[4500]\tvalid_0's rmse: 0.0616009\n",
      "[5000]\tvalid_0's rmse: 0.0615517\n",
      "[5500]\tvalid_0's rmse: 0.0615084\n",
      "[6000]\tvalid_0's rmse: 0.0614844\n",
      "[6500]\tvalid_0's rmse: 0.0614687\n",
      "[7000]\tvalid_0's rmse: 0.061449\n",
      "fit fold=4  22.529[s]\n",
      "Fold 4 RMSLE: 0.0614\n",
      "\n",
      "--------------------------------------------------\n",
      "FINISHED | Whole RMSLE: 0.0657\n"
     ]
    },
    {
     "name": "stderr",
     "output_type": "stream",
     "text": [
      "/opt/conda/lib/python3.7/site-packages/ipykernel_launcher.py:12: DeprecationWarning: `np.float` is a deprecated alias for the builtin `float`. To silence this warning, use `float` by itself. Doing this will not modify any behavior and is safe. If you specifically wanted the numpy scalar type, use `np.float64` here.\n",
      "Deprecated in NumPy 1.20; for more details and guidance: https://numpy.org/devdocs/release/1.20.0-notes.html#deprecations\n",
      "  if sys.path[0] == '':\n",
      "/opt/conda/lib/python3.7/site-packages/lightgbm/sklearn.py:726: UserWarning: 'early_stopping_rounds' argument is deprecated and will be removed in a future release of LightGBM. Pass 'early_stopping()' callback via 'callbacks' argument instead.\n",
      "  _log_warning(\"'early_stopping_rounds' argument is deprecated and will be removed in a future release of LightGBM. \"\n",
      "/opt/conda/lib/python3.7/site-packages/lightgbm/sklearn.py:736: UserWarning: 'verbose' argument is deprecated and will be removed in a future release of LightGBM. Pass 'log_evaluation()' callback via 'callbacks' argument instead.\n",
      "  _log_warning(\"'verbose' argument is deprecated and will be removed in a future release of LightGBM. \"\n"
     ]
    },
    {
     "name": "stdout",
     "output_type": "stream",
     "text": [
      "[500]\tvalid_0's rmse: 0.0694965\n",
      "[1000]\tvalid_0's rmse: 0.0508367\n",
      "[1500]\tvalid_0's rmse: 0.0448114\n",
      "[2000]\tvalid_0's rmse: 0.0427142\n",
      "[2500]\tvalid_0's rmse: 0.0418712\n",
      "[3000]\tvalid_0's rmse: 0.0414633\n",
      "[3500]\tvalid_0's rmse: 0.0412425\n",
      "[4000]\tvalid_0's rmse: 0.041108\n",
      "[4500]\tvalid_0's rmse: 0.041021\n",
      "[5000]\tvalid_0's rmse: 0.0409596\n",
      "[5500]\tvalid_0's rmse: 0.0409109\n",
      "[6000]\tvalid_0's rmse: 0.0408737\n",
      "[6500]\tvalid_0's rmse: 0.0408479\n",
      "[7000]\tvalid_0's rmse: 0.0408333\n",
      "[7500]\tvalid_0's rmse: 0.0408213\n",
      "[8000]\tvalid_0's rmse: 0.0408036\n",
      "fit fold=0  23.704[s]\n",
      "Fold 0 RMSLE: 0.0408\n",
      "\n"
     ]
    },
    {
     "name": "stderr",
     "output_type": "stream",
     "text": [
      "/opt/conda/lib/python3.7/site-packages/lightgbm/sklearn.py:726: UserWarning: 'early_stopping_rounds' argument is deprecated and will be removed in a future release of LightGBM. Pass 'early_stopping()' callback via 'callbacks' argument instead.\n",
      "  _log_warning(\"'early_stopping_rounds' argument is deprecated and will be removed in a future release of LightGBM. \"\n",
      "/opt/conda/lib/python3.7/site-packages/lightgbm/sklearn.py:736: UserWarning: 'verbose' argument is deprecated and will be removed in a future release of LightGBM. Pass 'log_evaluation()' callback via 'callbacks' argument instead.\n",
      "  _log_warning(\"'verbose' argument is deprecated and will be removed in a future release of LightGBM. \"\n"
     ]
    },
    {
     "name": "stdout",
     "output_type": "stream",
     "text": [
      "[500]\tvalid_0's rmse: 0.067779\n",
      "[1000]\tvalid_0's rmse: 0.0470259\n",
      "[1500]\tvalid_0's rmse: 0.0414438\n",
      "[2000]\tvalid_0's rmse: 0.0398281\n",
      "[2500]\tvalid_0's rmse: 0.0392399\n",
      "[3000]\tvalid_0's rmse: 0.0389704\n",
      "[3500]\tvalid_0's rmse: 0.0388226\n",
      "[4000]\tvalid_0's rmse: 0.0387436\n",
      "[4500]\tvalid_0's rmse: 0.0386808\n",
      "[5000]\tvalid_0's rmse: 0.0386453\n",
      "[5500]\tvalid_0's rmse: 0.0386239\n",
      "[6000]\tvalid_0's rmse: 0.0386095\n",
      "[6500]\tvalid_0's rmse: 0.0385937\n",
      "[7000]\tvalid_0's rmse: 0.0385849\n",
      "fit fold=1  22.663[s]\n",
      "Fold 1 RMSLE: 0.0386\n",
      "\n"
     ]
    },
    {
     "name": "stderr",
     "output_type": "stream",
     "text": [
      "/opt/conda/lib/python3.7/site-packages/lightgbm/sklearn.py:726: UserWarning: 'early_stopping_rounds' argument is deprecated and will be removed in a future release of LightGBM. Pass 'early_stopping()' callback via 'callbacks' argument instead.\n",
      "  _log_warning(\"'early_stopping_rounds' argument is deprecated and will be removed in a future release of LightGBM. \"\n",
      "/opt/conda/lib/python3.7/site-packages/lightgbm/sklearn.py:736: UserWarning: 'verbose' argument is deprecated and will be removed in a future release of LightGBM. Pass 'log_evaluation()' callback via 'callbacks' argument instead.\n",
      "  _log_warning(\"'verbose' argument is deprecated and will be removed in a future release of LightGBM. \"\n"
     ]
    },
    {
     "name": "stdout",
     "output_type": "stream",
     "text": [
      "[500]\tvalid_0's rmse: 0.0708661\n",
      "[1000]\tvalid_0's rmse: 0.0493572\n",
      "[1500]\tvalid_0's rmse: 0.0430022\n",
      "[2000]\tvalid_0's rmse: 0.0408477\n",
      "[2500]\tvalid_0's rmse: 0.0400469\n",
      "[3000]\tvalid_0's rmse: 0.0396253\n",
      "[3500]\tvalid_0's rmse: 0.0394394\n",
      "[4000]\tvalid_0's rmse: 0.0393176\n",
      "[4500]\tvalid_0's rmse: 0.039235\n",
      "[5000]\tvalid_0's rmse: 0.0391901\n",
      "[5500]\tvalid_0's rmse: 0.0391516\n",
      "[6000]\tvalid_0's rmse: 0.0391189\n",
      "[6500]\tvalid_0's rmse: 0.0390943\n",
      "[7000]\tvalid_0's rmse: 0.0390796\n",
      "[7500]\tvalid_0's rmse: 0.0390668\n",
      "[8000]\tvalid_0's rmse: 0.0390584\n",
      "fit fold=2  25.061[s]\n",
      "Fold 2 RMSLE: 0.0391\n",
      "\n"
     ]
    },
    {
     "name": "stderr",
     "output_type": "stream",
     "text": [
      "/opt/conda/lib/python3.7/site-packages/lightgbm/sklearn.py:726: UserWarning: 'early_stopping_rounds' argument is deprecated and will be removed in a future release of LightGBM. Pass 'early_stopping()' callback via 'callbacks' argument instead.\n",
      "  _log_warning(\"'early_stopping_rounds' argument is deprecated and will be removed in a future release of LightGBM. \"\n",
      "/opt/conda/lib/python3.7/site-packages/lightgbm/sklearn.py:736: UserWarning: 'verbose' argument is deprecated and will be removed in a future release of LightGBM. Pass 'log_evaluation()' callback via 'callbacks' argument instead.\n",
      "  _log_warning(\"'verbose' argument is deprecated and will be removed in a future release of LightGBM. \"\n"
     ]
    },
    {
     "name": "stdout",
     "output_type": "stream",
     "text": [
      "[500]\tvalid_0's rmse: 0.0714015\n",
      "[1000]\tvalid_0's rmse: 0.0470625\n",
      "[1500]\tvalid_0's rmse: 0.0393735\n",
      "[2000]\tvalid_0's rmse: 0.0367816\n",
      "[2500]\tvalid_0's rmse: 0.0357834\n",
      "[3000]\tvalid_0's rmse: 0.0353498\n",
      "[3500]\tvalid_0's rmse: 0.0351192\n",
      "[4000]\tvalid_0's rmse: 0.0349784\n",
      "[4500]\tvalid_0's rmse: 0.0348843\n",
      "[5000]\tvalid_0's rmse: 0.0348206\n",
      "[5500]\tvalid_0's rmse: 0.034769\n",
      "[6000]\tvalid_0's rmse: 0.0347323\n",
      "[6500]\tvalid_0's rmse: 0.0347032\n",
      "[7000]\tvalid_0's rmse: 0.0346791\n",
      "[7500]\tvalid_0's rmse: 0.0346598\n",
      "[8000]\tvalid_0's rmse: 0.0346422\n",
      "[8500]\tvalid_0's rmse: 0.0346301\n",
      "[9000]\tvalid_0's rmse: 0.0346215\n",
      "fit fold=3  27.311[s]\n",
      "Fold 3 RMSLE: 0.0346\n",
      "\n"
     ]
    },
    {
     "name": "stderr",
     "output_type": "stream",
     "text": [
      "/opt/conda/lib/python3.7/site-packages/lightgbm/sklearn.py:726: UserWarning: 'early_stopping_rounds' argument is deprecated and will be removed in a future release of LightGBM. Pass 'early_stopping()' callback via 'callbacks' argument instead.\n",
      "  _log_warning(\"'early_stopping_rounds' argument is deprecated and will be removed in a future release of LightGBM. \"\n",
      "/opt/conda/lib/python3.7/site-packages/lightgbm/sklearn.py:736: UserWarning: 'verbose' argument is deprecated and will be removed in a future release of LightGBM. Pass 'log_evaluation()' callback via 'callbacks' argument instead.\n",
      "  _log_warning(\"'verbose' argument is deprecated and will be removed in a future release of LightGBM. \"\n"
     ]
    },
    {
     "name": "stdout",
     "output_type": "stream",
     "text": [
      "[500]\tvalid_0's rmse: 0.0680488\n",
      "[1000]\tvalid_0's rmse: 0.0492021\n",
      "[1500]\tvalid_0's rmse: 0.0441403\n",
      "[2000]\tvalid_0's rmse: 0.0426707\n",
      "[2500]\tvalid_0's rmse: 0.0421442\n",
      "[3000]\tvalid_0's rmse: 0.0419128\n",
      "[3500]\tvalid_0's rmse: 0.0417692\n",
      "[4000]\tvalid_0's rmse: 0.0417014\n",
      "[4500]\tvalid_0's rmse: 0.0416517\n",
      "[5000]\tvalid_0's rmse: 0.0416086\n",
      "[5500]\tvalid_0's rmse: 0.0415814\n",
      "[6000]\tvalid_0's rmse: 0.041559\n",
      "[6500]\tvalid_0's rmse: 0.0415456\n",
      "[7000]\tvalid_0's rmse: 0.0415321\n",
      "[7500]\tvalid_0's rmse: 0.0415246\n",
      "[8000]\tvalid_0's rmse: 0.0415193\n",
      "fit fold=4  24.502[s]\n",
      "Fold 4 RMSLE: 0.0415\n",
      "\n",
      "--------------------------------------------------\n",
      "FINISHED | Whole RMSLE: 0.0390\n"
     ]
    },
    {
     "name": "stderr",
     "output_type": "stream",
     "text": [
      "/opt/conda/lib/python3.7/site-packages/ipykernel_launcher.py:12: DeprecationWarning: `np.float` is a deprecated alias for the builtin `float`. To silence this warning, use `float` by itself. Doing this will not modify any behavior and is safe. If you specifically wanted the numpy scalar type, use `np.float64` here.\n",
      "Deprecated in NumPy 1.20; for more details and guidance: https://numpy.org/devdocs/release/1.20.0-notes.html#deprecations\n",
      "  if sys.path[0] == '':\n",
      "/opt/conda/lib/python3.7/site-packages/lightgbm/sklearn.py:726: UserWarning: 'early_stopping_rounds' argument is deprecated and will be removed in a future release of LightGBM. Pass 'early_stopping()' callback via 'callbacks' argument instead.\n",
      "  _log_warning(\"'early_stopping_rounds' argument is deprecated and will be removed in a future release of LightGBM. \"\n",
      "/opt/conda/lib/python3.7/site-packages/lightgbm/sklearn.py:736: UserWarning: 'verbose' argument is deprecated and will be removed in a future release of LightGBM. Pass 'log_evaluation()' callback via 'callbacks' argument instead.\n",
      "  _log_warning(\"'verbose' argument is deprecated and will be removed in a future release of LightGBM. \"\n"
     ]
    },
    {
     "name": "stdout",
     "output_type": "stream",
     "text": [
      "[500]\tvalid_0's rmse: 0.00727441\n",
      "[1000]\tvalid_0's rmse: 0.00491189\n",
      "[1500]\tvalid_0's rmse: 0.00431054\n",
      "[2000]\tvalid_0's rmse: 0.00406677\n",
      "[2500]\tvalid_0's rmse: 0.00393055\n",
      "fit fold=0  7.890[s]\n",
      "Fold 0 RMSLE: 0.0039\n",
      "\n"
     ]
    },
    {
     "name": "stderr",
     "output_type": "stream",
     "text": [
      "/opt/conda/lib/python3.7/site-packages/lightgbm/sklearn.py:726: UserWarning: 'early_stopping_rounds' argument is deprecated and will be removed in a future release of LightGBM. Pass 'early_stopping()' callback via 'callbacks' argument instead.\n",
      "  _log_warning(\"'early_stopping_rounds' argument is deprecated and will be removed in a future release of LightGBM. \"\n",
      "/opt/conda/lib/python3.7/site-packages/lightgbm/sklearn.py:736: UserWarning: 'verbose' argument is deprecated and will be removed in a future release of LightGBM. Pass 'log_evaluation()' callback via 'callbacks' argument instead.\n",
      "  _log_warning(\"'verbose' argument is deprecated and will be removed in a future release of LightGBM. \"\n"
     ]
    },
    {
     "name": "stdout",
     "output_type": "stream",
     "text": [
      "[500]\tvalid_0's rmse: 0.00949856\n",
      "[1000]\tvalid_0's rmse: 0.00645902\n",
      "[1500]\tvalid_0's rmse: 0.00567964\n",
      "[2000]\tvalid_0's rmse: 0.00541646\n",
      "[2500]\tvalid_0's rmse: 0.00527764\n",
      "fit fold=1  7.454[s]\n",
      "Fold 1 RMSLE: 0.0052\n",
      "\n"
     ]
    },
    {
     "name": "stderr",
     "output_type": "stream",
     "text": [
      "/opt/conda/lib/python3.7/site-packages/lightgbm/sklearn.py:726: UserWarning: 'early_stopping_rounds' argument is deprecated and will be removed in a future release of LightGBM. Pass 'early_stopping()' callback via 'callbacks' argument instead.\n",
      "  _log_warning(\"'early_stopping_rounds' argument is deprecated and will be removed in a future release of LightGBM. \"\n",
      "/opt/conda/lib/python3.7/site-packages/lightgbm/sklearn.py:736: UserWarning: 'verbose' argument is deprecated and will be removed in a future release of LightGBM. Pass 'log_evaluation()' callback via 'callbacks' argument instead.\n",
      "  _log_warning(\"'verbose' argument is deprecated and will be removed in a future release of LightGBM. \"\n"
     ]
    },
    {
     "name": "stdout",
     "output_type": "stream",
     "text": [
      "[500]\tvalid_0's rmse: 0.00869679\n",
      "[1000]\tvalid_0's rmse: 0.00621334\n",
      "[1500]\tvalid_0's rmse: 0.0054886\n",
      "[2000]\tvalid_0's rmse: 0.00515322\n",
      "[2500]\tvalid_0's rmse: 0.00499192\n",
      "fit fold=2  6.988[s]\n",
      "Fold 2 RMSLE: 0.0050\n",
      "\n"
     ]
    },
    {
     "name": "stderr",
     "output_type": "stream",
     "text": [
      "/opt/conda/lib/python3.7/site-packages/lightgbm/sklearn.py:726: UserWarning: 'early_stopping_rounds' argument is deprecated and will be removed in a future release of LightGBM. Pass 'early_stopping()' callback via 'callbacks' argument instead.\n",
      "  _log_warning(\"'early_stopping_rounds' argument is deprecated and will be removed in a future release of LightGBM. \"\n",
      "/opt/conda/lib/python3.7/site-packages/lightgbm/sklearn.py:736: UserWarning: 'verbose' argument is deprecated and will be removed in a future release of LightGBM. Pass 'log_evaluation()' callback via 'callbacks' argument instead.\n",
      "  _log_warning(\"'verbose' argument is deprecated and will be removed in a future release of LightGBM. \"\n"
     ]
    },
    {
     "name": "stdout",
     "output_type": "stream",
     "text": [
      "[500]\tvalid_0's rmse: 0.00832648\n",
      "[1000]\tvalid_0's rmse: 0.00651016\n",
      "[1500]\tvalid_0's rmse: 0.00620834\n",
      "[2000]\tvalid_0's rmse: 0.00610618\n",
      "fit fold=3  5.723[s]\n",
      "Fold 3 RMSLE: 0.0061\n",
      "\n"
     ]
    },
    {
     "name": "stderr",
     "output_type": "stream",
     "text": [
      "/opt/conda/lib/python3.7/site-packages/lightgbm/sklearn.py:726: UserWarning: 'early_stopping_rounds' argument is deprecated and will be removed in a future release of LightGBM. Pass 'early_stopping()' callback via 'callbacks' argument instead.\n",
      "  _log_warning(\"'early_stopping_rounds' argument is deprecated and will be removed in a future release of LightGBM. \"\n",
      "/opt/conda/lib/python3.7/site-packages/lightgbm/sklearn.py:736: UserWarning: 'verbose' argument is deprecated and will be removed in a future release of LightGBM. Pass 'log_evaluation()' callback via 'callbacks' argument instead.\n",
      "  _log_warning(\"'verbose' argument is deprecated and will be removed in a future release of LightGBM. \"\n"
     ]
    },
    {
     "name": "stdout",
     "output_type": "stream",
     "text": [
      "[500]\tvalid_0's rmse: 0.0222615\n",
      "[1000]\tvalid_0's rmse: 0.0215027\n",
      "[1500]\tvalid_0's rmse: 0.0213946\n",
      "[2000]\tvalid_0's rmse: 0.0213458\n",
      "fit fold=4  7.940[s]\n",
      "Fold 4 RMSLE: 0.0213\n",
      "\n",
      "--------------------------------------------------\n",
      "FINISHED | Whole RMSLE: 0.0106\n"
     ]
    },
    {
     "name": "stderr",
     "output_type": "stream",
     "text": [
      "/opt/conda/lib/python3.7/site-packages/ipykernel_launcher.py:12: DeprecationWarning: `np.float` is a deprecated alias for the builtin `float`. To silence this warning, use `float` by itself. Doing this will not modify any behavior and is safe. If you specifically wanted the numpy scalar type, use `np.float64` here.\n",
      "Deprecated in NumPy 1.20; for more details and guidance: https://numpy.org/devdocs/release/1.20.0-notes.html#deprecations\n",
      "  if sys.path[0] == '':\n",
      "/opt/conda/lib/python3.7/site-packages/lightgbm/sklearn.py:726: UserWarning: 'early_stopping_rounds' argument is deprecated and will be removed in a future release of LightGBM. Pass 'early_stopping()' callback via 'callbacks' argument instead.\n",
      "  _log_warning(\"'early_stopping_rounds' argument is deprecated and will be removed in a future release of LightGBM. \"\n",
      "/opt/conda/lib/python3.7/site-packages/lightgbm/sklearn.py:736: UserWarning: 'verbose' argument is deprecated and will be removed in a future release of LightGBM. Pass 'log_evaluation()' callback via 'callbacks' argument instead.\n",
      "  _log_warning(\"'verbose' argument is deprecated and will be removed in a future release of LightGBM. \"\n"
     ]
    },
    {
     "name": "stdout",
     "output_type": "stream",
     "text": [
      "[500]\tvalid_0's rmse: 0.024652\n",
      "[1000]\tvalid_0's rmse: 0.0193985\n",
      "[1500]\tvalid_0's rmse: 0.0181\n",
      "[2000]\tvalid_0's rmse: 0.017646\n",
      "[2500]\tvalid_0's rmse: 0.0174282\n",
      "[3000]\tvalid_0's rmse: 0.0173128\n",
      "[3500]\tvalid_0's rmse: 0.0172369\n",
      "[4000]\tvalid_0's rmse: 0.0171892\n",
      "fit fold=0  12.453[s]\n",
      "Fold 0 RMSLE: 0.0172\n",
      "\n"
     ]
    },
    {
     "name": "stderr",
     "output_type": "stream",
     "text": [
      "/opt/conda/lib/python3.7/site-packages/lightgbm/sklearn.py:726: UserWarning: 'early_stopping_rounds' argument is deprecated and will be removed in a future release of LightGBM. Pass 'early_stopping()' callback via 'callbacks' argument instead.\n",
      "  _log_warning(\"'early_stopping_rounds' argument is deprecated and will be removed in a future release of LightGBM. \"\n",
      "/opt/conda/lib/python3.7/site-packages/lightgbm/sklearn.py:736: UserWarning: 'verbose' argument is deprecated and will be removed in a future release of LightGBM. Pass 'log_evaluation()' callback via 'callbacks' argument instead.\n",
      "  _log_warning(\"'verbose' argument is deprecated and will be removed in a future release of LightGBM. \"\n"
     ]
    },
    {
     "name": "stdout",
     "output_type": "stream",
     "text": [
      "[500]\tvalid_0's rmse: 0.0336976\n",
      "[1000]\tvalid_0's rmse: 0.0270646\n",
      "[1500]\tvalid_0's rmse: 0.0256803\n",
      "[2000]\tvalid_0's rmse: 0.0252436\n",
      "[2500]\tvalid_0's rmse: 0.0250793\n",
      "[3000]\tvalid_0's rmse: 0.0249858\n",
      "[3500]\tvalid_0's rmse: 0.0249252\n",
      "[4000]\tvalid_0's rmse: 0.0248819\n",
      "[4500]\tvalid_0's rmse: 0.0248519\n",
      "[5000]\tvalid_0's rmse: 0.0248231\n",
      "[5500]\tvalid_0's rmse: 0.0248068\n",
      "[6000]\tvalid_0's rmse: 0.0247903\n",
      "fit fold=1  18.602[s]\n",
      "Fold 1 RMSLE: 0.0248\n",
      "\n"
     ]
    },
    {
     "name": "stderr",
     "output_type": "stream",
     "text": [
      "/opt/conda/lib/python3.7/site-packages/lightgbm/sklearn.py:726: UserWarning: 'early_stopping_rounds' argument is deprecated and will be removed in a future release of LightGBM. Pass 'early_stopping()' callback via 'callbacks' argument instead.\n",
      "  _log_warning(\"'early_stopping_rounds' argument is deprecated and will be removed in a future release of LightGBM. \"\n",
      "/opt/conda/lib/python3.7/site-packages/lightgbm/sklearn.py:736: UserWarning: 'verbose' argument is deprecated and will be removed in a future release of LightGBM. Pass 'log_evaluation()' callback via 'callbacks' argument instead.\n",
      "  _log_warning(\"'verbose' argument is deprecated and will be removed in a future release of LightGBM. \"\n"
     ]
    },
    {
     "name": "stdout",
     "output_type": "stream",
     "text": [
      "[500]\tvalid_0's rmse: 0.023141\n",
      "[1000]\tvalid_0's rmse: 0.0169221\n",
      "[1500]\tvalid_0's rmse: 0.0155944\n",
      "[2000]\tvalid_0's rmse: 0.0151267\n",
      "[2500]\tvalid_0's rmse: 0.0149402\n",
      "[3000]\tvalid_0's rmse: 0.0148368\n",
      "[3500]\tvalid_0's rmse: 0.0147682\n",
      "[4000]\tvalid_0's rmse: 0.0147243\n",
      "[4500]\tvalid_0's rmse: 0.0146946\n",
      "fit fold=2  13.284[s]\n",
      "Fold 2 RMSLE: 0.0147\n",
      "\n"
     ]
    },
    {
     "name": "stderr",
     "output_type": "stream",
     "text": [
      "/opt/conda/lib/python3.7/site-packages/lightgbm/sklearn.py:726: UserWarning: 'early_stopping_rounds' argument is deprecated and will be removed in a future release of LightGBM. Pass 'early_stopping()' callback via 'callbacks' argument instead.\n",
      "  _log_warning(\"'early_stopping_rounds' argument is deprecated and will be removed in a future release of LightGBM. \"\n",
      "/opt/conda/lib/python3.7/site-packages/lightgbm/sklearn.py:736: UserWarning: 'verbose' argument is deprecated and will be removed in a future release of LightGBM. Pass 'log_evaluation()' callback via 'callbacks' argument instead.\n",
      "  _log_warning(\"'verbose' argument is deprecated and will be removed in a future release of LightGBM. \"\n"
     ]
    },
    {
     "name": "stdout",
     "output_type": "stream",
     "text": [
      "[500]\tvalid_0's rmse: 0.025828\n",
      "[1000]\tvalid_0's rmse: 0.0169639\n",
      "[1500]\tvalid_0's rmse: 0.0146026\n",
      "[2000]\tvalid_0's rmse: 0.0138666\n",
      "[2500]\tvalid_0's rmse: 0.0135475\n",
      "[3000]\tvalid_0's rmse: 0.0133783\n",
      "[3500]\tvalid_0's rmse: 0.0132776\n",
      "[4000]\tvalid_0's rmse: 0.0132063\n",
      "[4500]\tvalid_0's rmse: 0.0131526\n",
      "[5000]\tvalid_0's rmse: 0.0131127\n",
      "fit fold=3  15.318[s]\n",
      "Fold 3 RMSLE: 0.0131\n",
      "\n"
     ]
    },
    {
     "name": "stderr",
     "output_type": "stream",
     "text": [
      "/opt/conda/lib/python3.7/site-packages/lightgbm/sklearn.py:726: UserWarning: 'early_stopping_rounds' argument is deprecated and will be removed in a future release of LightGBM. Pass 'early_stopping()' callback via 'callbacks' argument instead.\n",
      "  _log_warning(\"'early_stopping_rounds' argument is deprecated and will be removed in a future release of LightGBM. \"\n",
      "/opt/conda/lib/python3.7/site-packages/lightgbm/sklearn.py:736: UserWarning: 'verbose' argument is deprecated and will be removed in a future release of LightGBM. Pass 'log_evaluation()' callback via 'callbacks' argument instead.\n",
      "  _log_warning(\"'verbose' argument is deprecated and will be removed in a future release of LightGBM. \"\n"
     ]
    },
    {
     "name": "stdout",
     "output_type": "stream",
     "text": [
      "[500]\tvalid_0's rmse: 0.0368121\n",
      "[1000]\tvalid_0's rmse: 0.0309464\n",
      "[1500]\tvalid_0's rmse: 0.0298957\n",
      "[2000]\tvalid_0's rmse: 0.0296378\n",
      "[2500]\tvalid_0's rmse: 0.0295013\n",
      "fit fold=4  8.981[s]\n",
      "Fold 4 RMSLE: 0.0295\n",
      "\n",
      "--------------------------------------------------\n",
      "FINISHED | Whole RMSLE: 0.0208\n"
     ]
    },
    {
     "name": "stderr",
     "output_type": "stream",
     "text": [
      "/opt/conda/lib/python3.7/site-packages/ipykernel_launcher.py:12: DeprecationWarning: `np.float` is a deprecated alias for the builtin `float`. To silence this warning, use `float` by itself. Doing this will not modify any behavior and is safe. If you specifically wanted the numpy scalar type, use `np.float64` here.\n",
      "Deprecated in NumPy 1.20; for more details and guidance: https://numpy.org/devdocs/release/1.20.0-notes.html#deprecations\n",
      "  if sys.path[0] == '':\n",
      "/opt/conda/lib/python3.7/site-packages/lightgbm/sklearn.py:726: UserWarning: 'early_stopping_rounds' argument is deprecated and will be removed in a future release of LightGBM. Pass 'early_stopping()' callback via 'callbacks' argument instead.\n",
      "  _log_warning(\"'early_stopping_rounds' argument is deprecated and will be removed in a future release of LightGBM. \"\n",
      "/opt/conda/lib/python3.7/site-packages/lightgbm/sklearn.py:736: UserWarning: 'verbose' argument is deprecated and will be removed in a future release of LightGBM. Pass 'log_evaluation()' callback via 'callbacks' argument instead.\n",
      "  _log_warning(\"'verbose' argument is deprecated and will be removed in a future release of LightGBM. \"\n"
     ]
    },
    {
     "name": "stdout",
     "output_type": "stream",
     "text": [
      "[500]\tvalid_0's rmse: 0.115062\n",
      "[1000]\tvalid_0's rmse: 0.0829632\n",
      "[1500]\tvalid_0's rmse: 0.069975\n",
      "[2000]\tvalid_0's rmse: 0.0639953\n",
      "[2500]\tvalid_0's rmse: 0.0615629\n",
      "[3000]\tvalid_0's rmse: 0.0605253\n",
      "[3500]\tvalid_0's rmse: 0.0599822\n",
      "[4000]\tvalid_0's rmse: 0.0597014\n",
      "[4500]\tvalid_0's rmse: 0.0595402\n",
      "[5000]\tvalid_0's rmse: 0.0594322\n",
      "[5500]\tvalid_0's rmse: 0.0593641\n",
      "[6000]\tvalid_0's rmse: 0.0593117\n",
      "[6500]\tvalid_0's rmse: 0.059271\n",
      "[7000]\tvalid_0's rmse: 0.0592388\n",
      "[7500]\tvalid_0's rmse: 0.0592152\n",
      "[8000]\tvalid_0's rmse: 0.0591987\n",
      "[8500]\tvalid_0's rmse: 0.0591864\n",
      "[9000]\tvalid_0's rmse: 0.0591727\n",
      "[9500]\tvalid_0's rmse: 0.0591619\n",
      "[10000]\tvalid_0's rmse: 0.0591522\n",
      "fit fold=0  30.471[s]\n",
      "Fold 0 RMSLE: 0.0592\n",
      "\n"
     ]
    },
    {
     "name": "stderr",
     "output_type": "stream",
     "text": [
      "/opt/conda/lib/python3.7/site-packages/lightgbm/sklearn.py:726: UserWarning: 'early_stopping_rounds' argument is deprecated and will be removed in a future release of LightGBM. Pass 'early_stopping()' callback via 'callbacks' argument instead.\n",
      "  _log_warning(\"'early_stopping_rounds' argument is deprecated and will be removed in a future release of LightGBM. \"\n",
      "/opt/conda/lib/python3.7/site-packages/lightgbm/sklearn.py:736: UserWarning: 'verbose' argument is deprecated and will be removed in a future release of LightGBM. Pass 'log_evaluation()' callback via 'callbacks' argument instead.\n",
      "  _log_warning(\"'verbose' argument is deprecated and will be removed in a future release of LightGBM. \"\n"
     ]
    },
    {
     "name": "stdout",
     "output_type": "stream",
     "text": [
      "[500]\tvalid_0's rmse: 0.123525\n",
      "[1000]\tvalid_0's rmse: 0.0957345\n",
      "[1500]\tvalid_0's rmse: 0.0847926\n",
      "[2000]\tvalid_0's rmse: 0.0800441\n",
      "[2500]\tvalid_0's rmse: 0.0779486\n",
      "[3000]\tvalid_0's rmse: 0.0769473\n",
      "[3500]\tvalid_0's rmse: 0.0765493\n",
      "[4000]\tvalid_0's rmse: 0.0763447\n",
      "[4500]\tvalid_0's rmse: 0.0762075\n",
      "[5000]\tvalid_0's rmse: 0.0761208\n",
      "[5500]\tvalid_0's rmse: 0.0760686\n",
      "[6000]\tvalid_0's rmse: 0.0760335\n",
      "[6500]\tvalid_0's rmse: 0.0760079\n",
      "[7000]\tvalid_0's rmse: 0.0759847\n",
      "[7500]\tvalid_0's rmse: 0.0759711\n",
      "[8000]\tvalid_0's rmse: 0.0759562\n",
      "fit fold=1  25.963[s]\n",
      "Fold 1 RMSLE: 0.0760\n",
      "\n"
     ]
    },
    {
     "name": "stderr",
     "output_type": "stream",
     "text": [
      "/opt/conda/lib/python3.7/site-packages/lightgbm/sklearn.py:726: UserWarning: 'early_stopping_rounds' argument is deprecated and will be removed in a future release of LightGBM. Pass 'early_stopping()' callback via 'callbacks' argument instead.\n",
      "  _log_warning(\"'early_stopping_rounds' argument is deprecated and will be removed in a future release of LightGBM. \"\n",
      "/opt/conda/lib/python3.7/site-packages/lightgbm/sklearn.py:736: UserWarning: 'verbose' argument is deprecated and will be removed in a future release of LightGBM. Pass 'log_evaluation()' callback via 'callbacks' argument instead.\n",
      "  _log_warning(\"'verbose' argument is deprecated and will be removed in a future release of LightGBM. \"\n"
     ]
    },
    {
     "name": "stdout",
     "output_type": "stream",
     "text": [
      "[500]\tvalid_0's rmse: 0.118069\n",
      "[1000]\tvalid_0's rmse: 0.0876961\n",
      "[1500]\tvalid_0's rmse: 0.0763868\n",
      "[2000]\tvalid_0's rmse: 0.0714582\n",
      "[2500]\tvalid_0's rmse: 0.0695216\n",
      "[3000]\tvalid_0's rmse: 0.0686238\n",
      "[3500]\tvalid_0's rmse: 0.0681893\n",
      "[4000]\tvalid_0's rmse: 0.0679524\n",
      "[4500]\tvalid_0's rmse: 0.0678141\n",
      "[5000]\tvalid_0's rmse: 0.0677079\n",
      "[5500]\tvalid_0's rmse: 0.067642\n",
      "[6000]\tvalid_0's rmse: 0.0675896\n",
      "[6500]\tvalid_0's rmse: 0.0675572\n",
      "[7000]\tvalid_0's rmse: 0.0675249\n",
      "[7500]\tvalid_0's rmse: 0.0675061\n",
      "[8000]\tvalid_0's rmse: 0.0674924\n",
      "[8500]\tvalid_0's rmse: 0.0674787\n",
      "[9000]\tvalid_0's rmse: 0.0674646\n",
      "[9500]\tvalid_0's rmse: 0.0674543\n",
      "[10000]\tvalid_0's rmse: 0.0674495\n",
      "fit fold=2  29.529[s]\n",
      "Fold 2 RMSLE: 0.0674\n",
      "\n"
     ]
    },
    {
     "name": "stderr",
     "output_type": "stream",
     "text": [
      "/opt/conda/lib/python3.7/site-packages/lightgbm/sklearn.py:726: UserWarning: 'early_stopping_rounds' argument is deprecated and will be removed in a future release of LightGBM. Pass 'early_stopping()' callback via 'callbacks' argument instead.\n",
      "  _log_warning(\"'early_stopping_rounds' argument is deprecated and will be removed in a future release of LightGBM. \"\n",
      "/opt/conda/lib/python3.7/site-packages/lightgbm/sklearn.py:736: UserWarning: 'verbose' argument is deprecated and will be removed in a future release of LightGBM. Pass 'log_evaluation()' callback via 'callbacks' argument instead.\n",
      "  _log_warning(\"'verbose' argument is deprecated and will be removed in a future release of LightGBM. \"\n"
     ]
    },
    {
     "name": "stdout",
     "output_type": "stream",
     "text": [
      "[500]\tvalid_0's rmse: 0.120111\n",
      "[1000]\tvalid_0's rmse: 0.0936576\n",
      "[1500]\tvalid_0's rmse: 0.0836886\n",
      "[2000]\tvalid_0's rmse: 0.0797811\n",
      "[2500]\tvalid_0's rmse: 0.0779581\n",
      "[3000]\tvalid_0's rmse: 0.0771704\n",
      "[3500]\tvalid_0's rmse: 0.0767878\n",
      "[4000]\tvalid_0's rmse: 0.0766091\n",
      "[4500]\tvalid_0's rmse: 0.0764837\n",
      "[5000]\tvalid_0's rmse: 0.076414\n",
      "[5500]\tvalid_0's rmse: 0.0763666\n",
      "[6000]\tvalid_0's rmse: 0.076326\n",
      "[6500]\tvalid_0's rmse: 0.0763041\n",
      "[7000]\tvalid_0's rmse: 0.0762827\n",
      "fit fold=3  23.981[s]\n",
      "Fold 3 RMSLE: 0.0763\n",
      "\n"
     ]
    },
    {
     "name": "stderr",
     "output_type": "stream",
     "text": [
      "/opt/conda/lib/python3.7/site-packages/lightgbm/sklearn.py:726: UserWarning: 'early_stopping_rounds' argument is deprecated and will be removed in a future release of LightGBM. Pass 'early_stopping()' callback via 'callbacks' argument instead.\n",
      "  _log_warning(\"'early_stopping_rounds' argument is deprecated and will be removed in a future release of LightGBM. \"\n",
      "/opt/conda/lib/python3.7/site-packages/lightgbm/sklearn.py:736: UserWarning: 'verbose' argument is deprecated and will be removed in a future release of LightGBM. Pass 'log_evaluation()' callback via 'callbacks' argument instead.\n",
      "  _log_warning(\"'verbose' argument is deprecated and will be removed in a future release of LightGBM. \"\n"
     ]
    },
    {
     "name": "stdout",
     "output_type": "stream",
     "text": [
      "[500]\tvalid_0's rmse: 0.120144\n",
      "[1000]\tvalid_0's rmse: 0.0950745\n",
      "[1500]\tvalid_0's rmse: 0.08672\n",
      "[2000]\tvalid_0's rmse: 0.0831796\n",
      "[2500]\tvalid_0's rmse: 0.0818102\n",
      "[3000]\tvalid_0's rmse: 0.0811565\n",
      "[3500]\tvalid_0's rmse: 0.0808751\n",
      "[4000]\tvalid_0's rmse: 0.0807125\n",
      "[4500]\tvalid_0's rmse: 0.0806154\n",
      "[5000]\tvalid_0's rmse: 0.0805705\n",
      "[5500]\tvalid_0's rmse: 0.0805308\n",
      "[6000]\tvalid_0's rmse: 0.0805046\n",
      "[6500]\tvalid_0's rmse: 0.0804856\n",
      "[7000]\tvalid_0's rmse: 0.0804675\n",
      "[7500]\tvalid_0's rmse: 0.0804553\n",
      "fit fold=4  24.454[s]\n",
      "Fold 4 RMSLE: 0.0805\n",
      "\n",
      "--------------------------------------------------\n",
      "FINISHED | Whole RMSLE: 0.0723\n"
     ]
    },
    {
     "name": "stderr",
     "output_type": "stream",
     "text": [
      "/opt/conda/lib/python3.7/site-packages/ipykernel_launcher.py:12: DeprecationWarning: `np.float` is a deprecated alias for the builtin `float`. To silence this warning, use `float` by itself. Doing this will not modify any behavior and is safe. If you specifically wanted the numpy scalar type, use `np.float64` here.\n",
      "Deprecated in NumPy 1.20; for more details and guidance: https://numpy.org/devdocs/release/1.20.0-notes.html#deprecations\n",
      "  if sys.path[0] == '':\n",
      "/opt/conda/lib/python3.7/site-packages/lightgbm/sklearn.py:726: UserWarning: 'early_stopping_rounds' argument is deprecated and will be removed in a future release of LightGBM. Pass 'early_stopping()' callback via 'callbacks' argument instead.\n",
      "  _log_warning(\"'early_stopping_rounds' argument is deprecated and will be removed in a future release of LightGBM. \"\n",
      "/opt/conda/lib/python3.7/site-packages/lightgbm/sklearn.py:736: UserWarning: 'verbose' argument is deprecated and will be removed in a future release of LightGBM. Pass 'log_evaluation()' callback via 'callbacks' argument instead.\n",
      "  _log_warning(\"'verbose' argument is deprecated and will be removed in a future release of LightGBM. \"\n"
     ]
    },
    {
     "name": "stdout",
     "output_type": "stream",
     "text": [
      "[500]\tvalid_0's rmse: 0.0392232\n",
      "[1000]\tvalid_0's rmse: 0.028632\n",
      "[1500]\tvalid_0's rmse: 0.0258074\n",
      "[2000]\tvalid_0's rmse: 0.024821\n",
      "[2500]\tvalid_0's rmse: 0.0244146\n",
      "[3000]\tvalid_0's rmse: 0.0242021\n",
      "[3500]\tvalid_0's rmse: 0.0240772\n",
      "[4000]\tvalid_0's rmse: 0.0240019\n",
      "[4500]\tvalid_0's rmse: 0.0239493\n",
      "[5000]\tvalid_0's rmse: 0.0239103\n",
      "[5500]\tvalid_0's rmse: 0.0238827\n",
      "[6000]\tvalid_0's rmse: 0.0238593\n",
      "fit fold=0  18.950[s]\n",
      "Fold 0 RMSLE: 0.0239\n",
      "\n"
     ]
    },
    {
     "name": "stderr",
     "output_type": "stream",
     "text": [
      "/opt/conda/lib/python3.7/site-packages/lightgbm/sklearn.py:726: UserWarning: 'early_stopping_rounds' argument is deprecated and will be removed in a future release of LightGBM. Pass 'early_stopping()' callback via 'callbacks' argument instead.\n",
      "  _log_warning(\"'early_stopping_rounds' argument is deprecated and will be removed in a future release of LightGBM. \"\n",
      "/opt/conda/lib/python3.7/site-packages/lightgbm/sklearn.py:736: UserWarning: 'verbose' argument is deprecated and will be removed in a future release of LightGBM. Pass 'log_evaluation()' callback via 'callbacks' argument instead.\n",
      "  _log_warning(\"'verbose' argument is deprecated and will be removed in a future release of LightGBM. \"\n"
     ]
    },
    {
     "name": "stdout",
     "output_type": "stream",
     "text": [
      "[500]\tvalid_0's rmse: 0.0402601\n",
      "[1000]\tvalid_0's rmse: 0.0273334\n",
      "[1500]\tvalid_0's rmse: 0.023498\n",
      "[2000]\tvalid_0's rmse: 0.0220975\n",
      "[2500]\tvalid_0's rmse: 0.0215364\n",
      "[3000]\tvalid_0's rmse: 0.0212553\n",
      "[3500]\tvalid_0's rmse: 0.0210888\n",
      "[4000]\tvalid_0's rmse: 0.0209826\n",
      "[4500]\tvalid_0's rmse: 0.0209208\n",
      "[5000]\tvalid_0's rmse: 0.0208683\n",
      "[5500]\tvalid_0's rmse: 0.0208362\n",
      "[6000]\tvalid_0's rmse: 0.0208051\n",
      "[6500]\tvalid_0's rmse: 0.0207834\n",
      "[7000]\tvalid_0's rmse: 0.020764\n",
      "[7500]\tvalid_0's rmse: 0.0207473\n",
      "fit fold=1  23.380[s]\n",
      "Fold 1 RMSLE: 0.0207\n",
      "\n"
     ]
    },
    {
     "name": "stderr",
     "output_type": "stream",
     "text": [
      "/opt/conda/lib/python3.7/site-packages/lightgbm/sklearn.py:726: UserWarning: 'early_stopping_rounds' argument is deprecated and will be removed in a future release of LightGBM. Pass 'early_stopping()' callback via 'callbacks' argument instead.\n",
      "  _log_warning(\"'early_stopping_rounds' argument is deprecated and will be removed in a future release of LightGBM. \"\n",
      "/opt/conda/lib/python3.7/site-packages/lightgbm/sklearn.py:736: UserWarning: 'verbose' argument is deprecated and will be removed in a future release of LightGBM. Pass 'log_evaluation()' callback via 'callbacks' argument instead.\n",
      "  _log_warning(\"'verbose' argument is deprecated and will be removed in a future release of LightGBM. \"\n"
     ]
    },
    {
     "name": "stdout",
     "output_type": "stream",
     "text": [
      "[500]\tvalid_0's rmse: 0.039771\n",
      "[1000]\tvalid_0's rmse: 0.03048\n",
      "[1500]\tvalid_0's rmse: 0.0280081\n",
      "[2000]\tvalid_0's rmse: 0.0271038\n",
      "[2500]\tvalid_0's rmse: 0.0267175\n",
      "[3000]\tvalid_0's rmse: 0.026506\n",
      "[3500]\tvalid_0's rmse: 0.026385\n",
      "[4000]\tvalid_0's rmse: 0.0263033\n",
      "[4500]\tvalid_0's rmse: 0.0262497\n",
      "[5000]\tvalid_0's rmse: 0.0262088\n",
      "[5500]\tvalid_0's rmse: 0.0261812\n",
      "[6000]\tvalid_0's rmse: 0.0261598\n",
      "[6500]\tvalid_0's rmse: 0.0261462\n",
      "[7000]\tvalid_0's rmse: 0.0261342\n",
      "[7500]\tvalid_0's rmse: 0.0261212\n",
      "fit fold=2  22.726[s]\n",
      "Fold 2 RMSLE: 0.0261\n",
      "\n"
     ]
    },
    {
     "name": "stderr",
     "output_type": "stream",
     "text": [
      "/opt/conda/lib/python3.7/site-packages/lightgbm/sklearn.py:726: UserWarning: 'early_stopping_rounds' argument is deprecated and will be removed in a future release of LightGBM. Pass 'early_stopping()' callback via 'callbacks' argument instead.\n",
      "  _log_warning(\"'early_stopping_rounds' argument is deprecated and will be removed in a future release of LightGBM. \"\n",
      "/opt/conda/lib/python3.7/site-packages/lightgbm/sklearn.py:736: UserWarning: 'verbose' argument is deprecated and will be removed in a future release of LightGBM. Pass 'log_evaluation()' callback via 'callbacks' argument instead.\n",
      "  _log_warning(\"'verbose' argument is deprecated and will be removed in a future release of LightGBM. \"\n"
     ]
    },
    {
     "name": "stdout",
     "output_type": "stream",
     "text": [
      "[500]\tvalid_0's rmse: 0.0379319\n",
      "[1000]\tvalid_0's rmse: 0.0268024\n",
      "[1500]\tvalid_0's rmse: 0.0235927\n",
      "[2000]\tvalid_0's rmse: 0.0224258\n",
      "[2500]\tvalid_0's rmse: 0.0219283\n",
      "[3000]\tvalid_0's rmse: 0.021668\n",
      "[3500]\tvalid_0's rmse: 0.0215314\n",
      "[4000]\tvalid_0's rmse: 0.0214439\n",
      "[4500]\tvalid_0's rmse: 0.0213742\n",
      "[5000]\tvalid_0's rmse: 0.0213245\n",
      "[5500]\tvalid_0's rmse: 0.021293\n",
      "[6000]\tvalid_0's rmse: 0.0212646\n",
      "fit fold=3  18.432[s]\n",
      "Fold 3 RMSLE: 0.0212\n",
      "\n"
     ]
    },
    {
     "name": "stderr",
     "output_type": "stream",
     "text": [
      "/opt/conda/lib/python3.7/site-packages/lightgbm/sklearn.py:726: UserWarning: 'early_stopping_rounds' argument is deprecated and will be removed in a future release of LightGBM. Pass 'early_stopping()' callback via 'callbacks' argument instead.\n",
      "  _log_warning(\"'early_stopping_rounds' argument is deprecated and will be removed in a future release of LightGBM. \"\n",
      "/opt/conda/lib/python3.7/site-packages/lightgbm/sklearn.py:736: UserWarning: 'verbose' argument is deprecated and will be removed in a future release of LightGBM. Pass 'log_evaluation()' callback via 'callbacks' argument instead.\n",
      "  _log_warning(\"'verbose' argument is deprecated and will be removed in a future release of LightGBM. \"\n"
     ]
    },
    {
     "name": "stdout",
     "output_type": "stream",
     "text": [
      "[500]\tvalid_0's rmse: 0.0377597\n",
      "[1000]\tvalid_0's rmse: 0.0273013\n",
      "[1500]\tvalid_0's rmse: 0.0239856\n",
      "[2000]\tvalid_0's rmse: 0.0227421\n",
      "[2500]\tvalid_0's rmse: 0.0221621\n",
      "[3000]\tvalid_0's rmse: 0.0218925\n",
      "[3500]\tvalid_0's rmse: 0.0217333\n",
      "[4000]\tvalid_0's rmse: 0.0216339\n",
      "[4500]\tvalid_0's rmse: 0.0215541\n",
      "[5000]\tvalid_0's rmse: 0.0215064\n",
      "[5500]\tvalid_0's rmse: 0.0214694\n",
      "[6000]\tvalid_0's rmse: 0.0214423\n",
      "[6500]\tvalid_0's rmse: 0.0214177\n",
      "[7000]\tvalid_0's rmse: 0.0214027\n",
      "fit fold=4  21.696[s]\n",
      "Fold 4 RMSLE: 0.0214\n",
      "\n",
      "--------------------------------------------------\n",
      "FINISHED | Whole RMSLE: 0.0228\n"
     ]
    },
    {
     "name": "stderr",
     "output_type": "stream",
     "text": [
      "/opt/conda/lib/python3.7/site-packages/ipykernel_launcher.py:12: DeprecationWarning: `np.float` is a deprecated alias for the builtin `float`. To silence this warning, use `float` by itself. Doing this will not modify any behavior and is safe. If you specifically wanted the numpy scalar type, use `np.float64` here.\n",
      "Deprecated in NumPy 1.20; for more details and guidance: https://numpy.org/devdocs/release/1.20.0-notes.html#deprecations\n",
      "  if sys.path[0] == '':\n",
      "/opt/conda/lib/python3.7/site-packages/lightgbm/sklearn.py:726: UserWarning: 'early_stopping_rounds' argument is deprecated and will be removed in a future release of LightGBM. Pass 'early_stopping()' callback via 'callbacks' argument instead.\n",
      "  _log_warning(\"'early_stopping_rounds' argument is deprecated and will be removed in a future release of LightGBM. \"\n",
      "/opt/conda/lib/python3.7/site-packages/lightgbm/sklearn.py:736: UserWarning: 'verbose' argument is deprecated and will be removed in a future release of LightGBM. Pass 'log_evaluation()' callback via 'callbacks' argument instead.\n",
      "  _log_warning(\"'verbose' argument is deprecated and will be removed in a future release of LightGBM. \"\n"
     ]
    },
    {
     "name": "stdout",
     "output_type": "stream",
     "text": [
      "[500]\tvalid_0's rmse: 0.0573218\n",
      "[1000]\tvalid_0's rmse: 0.0366572\n",
      "[1500]\tvalid_0's rmse: 0.0309607\n",
      "[2000]\tvalid_0's rmse: 0.0291515\n",
      "[2500]\tvalid_0's rmse: 0.0284647\n",
      "[3000]\tvalid_0's rmse: 0.0281415\n",
      "[3500]\tvalid_0's rmse: 0.0279513\n",
      "[4000]\tvalid_0's rmse: 0.0278478\n",
      "[4500]\tvalid_0's rmse: 0.0277771\n",
      "[5000]\tvalid_0's rmse: 0.027726\n",
      "[5500]\tvalid_0's rmse: 0.0276954\n",
      "[6000]\tvalid_0's rmse: 0.0276721\n",
      "[6500]\tvalid_0's rmse: 0.027646\n",
      "[7000]\tvalid_0's rmse: 0.027631\n",
      "[7500]\tvalid_0's rmse: 0.0276179\n",
      "fit fold=0  23.198[s]\n",
      "Fold 0 RMSLE: 0.0276\n",
      "\n"
     ]
    },
    {
     "name": "stderr",
     "output_type": "stream",
     "text": [
      "/opt/conda/lib/python3.7/site-packages/lightgbm/sklearn.py:726: UserWarning: 'early_stopping_rounds' argument is deprecated and will be removed in a future release of LightGBM. Pass 'early_stopping()' callback via 'callbacks' argument instead.\n",
      "  _log_warning(\"'early_stopping_rounds' argument is deprecated and will be removed in a future release of LightGBM. \"\n",
      "/opt/conda/lib/python3.7/site-packages/lightgbm/sklearn.py:736: UserWarning: 'verbose' argument is deprecated and will be removed in a future release of LightGBM. Pass 'log_evaluation()' callback via 'callbacks' argument instead.\n",
      "  _log_warning(\"'verbose' argument is deprecated and will be removed in a future release of LightGBM. \"\n"
     ]
    },
    {
     "name": "stdout",
     "output_type": "stream",
     "text": [
      "[500]\tvalid_0's rmse: 0.0527567\n",
      "[1000]\tvalid_0's rmse: 0.0341603\n",
      "[1500]\tvalid_0's rmse: 0.0284711\n",
      "[2000]\tvalid_0's rmse: 0.0265924\n",
      "[2500]\tvalid_0's rmse: 0.0258964\n",
      "[3000]\tvalid_0's rmse: 0.0255866\n",
      "[3500]\tvalid_0's rmse: 0.0254072\n",
      "[4000]\tvalid_0's rmse: 0.0253041\n",
      "[4500]\tvalid_0's rmse: 0.0252439\n",
      "[5000]\tvalid_0's rmse: 0.025196\n",
      "[5500]\tvalid_0's rmse: 0.025162\n",
      "[6000]\tvalid_0's rmse: 0.0251341\n",
      "[6500]\tvalid_0's rmse: 0.025114\n",
      "[7000]\tvalid_0's rmse: 0.0250979\n",
      "[7500]\tvalid_0's rmse: 0.0250858\n",
      "fit fold=1  23.854[s]\n",
      "Fold 1 RMSLE: 0.0251\n",
      "\n"
     ]
    },
    {
     "name": "stderr",
     "output_type": "stream",
     "text": [
      "/opt/conda/lib/python3.7/site-packages/lightgbm/sklearn.py:726: UserWarning: 'early_stopping_rounds' argument is deprecated and will be removed in a future release of LightGBM. Pass 'early_stopping()' callback via 'callbacks' argument instead.\n",
      "  _log_warning(\"'early_stopping_rounds' argument is deprecated and will be removed in a future release of LightGBM. \"\n",
      "/opt/conda/lib/python3.7/site-packages/lightgbm/sklearn.py:736: UserWarning: 'verbose' argument is deprecated and will be removed in a future release of LightGBM. Pass 'log_evaluation()' callback via 'callbacks' argument instead.\n",
      "  _log_warning(\"'verbose' argument is deprecated and will be removed in a future release of LightGBM. \"\n"
     ]
    },
    {
     "name": "stdout",
     "output_type": "stream",
     "text": [
      "[500]\tvalid_0's rmse: 0.064336\n",
      "[1000]\tvalid_0's rmse: 0.0453972\n",
      "[1500]\tvalid_0's rmse: 0.0402985\n",
      "[2000]\tvalid_0's rmse: 0.0385172\n",
      "[2500]\tvalid_0's rmse: 0.0377917\n",
      "[3000]\tvalid_0's rmse: 0.0374745\n",
      "[3500]\tvalid_0's rmse: 0.0372894\n",
      "[4000]\tvalid_0's rmse: 0.0371633\n",
      "[4500]\tvalid_0's rmse: 0.0370865\n",
      "[5000]\tvalid_0's rmse: 0.03703\n",
      "[5500]\tvalid_0's rmse: 0.0369923\n",
      "[6000]\tvalid_0's rmse: 0.036962\n",
      "[6500]\tvalid_0's rmse: 0.0369364\n",
      "[7000]\tvalid_0's rmse: 0.0369138\n",
      "[7500]\tvalid_0's rmse: 0.0368954\n",
      "fit fold=2  24.390[s]\n",
      "Fold 2 RMSLE: 0.0369\n",
      "\n"
     ]
    },
    {
     "name": "stderr",
     "output_type": "stream",
     "text": [
      "/opt/conda/lib/python3.7/site-packages/lightgbm/sklearn.py:726: UserWarning: 'early_stopping_rounds' argument is deprecated and will be removed in a future release of LightGBM. Pass 'early_stopping()' callback via 'callbacks' argument instead.\n",
      "  _log_warning(\"'early_stopping_rounds' argument is deprecated and will be removed in a future release of LightGBM. \"\n",
      "/opt/conda/lib/python3.7/site-packages/lightgbm/sklearn.py:736: UserWarning: 'verbose' argument is deprecated and will be removed in a future release of LightGBM. Pass 'log_evaluation()' callback via 'callbacks' argument instead.\n",
      "  _log_warning(\"'verbose' argument is deprecated and will be removed in a future release of LightGBM. \"\n"
     ]
    },
    {
     "name": "stdout",
     "output_type": "stream",
     "text": [
      "[500]\tvalid_0's rmse: 0.0595758\n",
      "[1000]\tvalid_0's rmse: 0.0415219\n",
      "[1500]\tvalid_0's rmse: 0.0364658\n",
      "[2000]\tvalid_0's rmse: 0.0350421\n",
      "[2500]\tvalid_0's rmse: 0.0344624\n",
      "[3000]\tvalid_0's rmse: 0.0341818\n",
      "[3500]\tvalid_0's rmse: 0.0340599\n",
      "[4000]\tvalid_0's rmse: 0.0339863\n",
      "[4500]\tvalid_0's rmse: 0.0339335\n",
      "[5000]\tvalid_0's rmse: 0.0339007\n",
      "[5500]\tvalid_0's rmse: 0.0338738\n",
      "fit fold=3  17.103[s]\n",
      "Fold 3 RMSLE: 0.0339\n",
      "\n"
     ]
    },
    {
     "name": "stderr",
     "output_type": "stream",
     "text": [
      "/opt/conda/lib/python3.7/site-packages/lightgbm/sklearn.py:726: UserWarning: 'early_stopping_rounds' argument is deprecated and will be removed in a future release of LightGBM. Pass 'early_stopping()' callback via 'callbacks' argument instead.\n",
      "  _log_warning(\"'early_stopping_rounds' argument is deprecated and will be removed in a future release of LightGBM. \"\n",
      "/opt/conda/lib/python3.7/site-packages/lightgbm/sklearn.py:736: UserWarning: 'verbose' argument is deprecated and will be removed in a future release of LightGBM. Pass 'log_evaluation()' callback via 'callbacks' argument instead.\n",
      "  _log_warning(\"'verbose' argument is deprecated and will be removed in a future release of LightGBM. \"\n"
     ]
    },
    {
     "name": "stdout",
     "output_type": "stream",
     "text": [
      "[500]\tvalid_0's rmse: 0.0571309\n",
      "[1000]\tvalid_0's rmse: 0.0387315\n",
      "[1500]\tvalid_0's rmse: 0.0339092\n",
      "[2000]\tvalid_0's rmse: 0.0323571\n",
      "[2500]\tvalid_0's rmse: 0.031769\n",
      "[3000]\tvalid_0's rmse: 0.0314724\n",
      "[3500]\tvalid_0's rmse: 0.031308\n",
      "[4000]\tvalid_0's rmse: 0.0312065\n",
      "[4500]\tvalid_0's rmse: 0.0311408\n",
      "[5000]\tvalid_0's rmse: 0.0310926\n",
      "[5500]\tvalid_0's rmse: 0.0310599\n",
      "[6000]\tvalid_0's rmse: 0.0310323\n",
      "[6500]\tvalid_0's rmse: 0.0310112\n",
      "[7000]\tvalid_0's rmse: 0.030994\n",
      "[7500]\tvalid_0's rmse: 0.0309825\n",
      "[8000]\tvalid_0's rmse: 0.0309703\n",
      "fit fold=4  23.578[s]\n",
      "Fold 4 RMSLE: 0.0310\n",
      "\n",
      "--------------------------------------------------\n",
      "FINISHED | Whole RMSLE: 0.0312\n"
     ]
    },
    {
     "name": "stderr",
     "output_type": "stream",
     "text": [
      "/opt/conda/lib/python3.7/site-packages/ipykernel_launcher.py:12: DeprecationWarning: `np.float` is a deprecated alias for the builtin `float`. To silence this warning, use `float` by itself. Doing this will not modify any behavior and is safe. If you specifically wanted the numpy scalar type, use `np.float64` here.\n",
      "Deprecated in NumPy 1.20; for more details and guidance: https://numpy.org/devdocs/release/1.20.0-notes.html#deprecations\n",
      "  if sys.path[0] == '':\n",
      "/opt/conda/lib/python3.7/site-packages/lightgbm/sklearn.py:726: UserWarning: 'early_stopping_rounds' argument is deprecated and will be removed in a future release of LightGBM. Pass 'early_stopping()' callback via 'callbacks' argument instead.\n",
      "  _log_warning(\"'early_stopping_rounds' argument is deprecated and will be removed in a future release of LightGBM. \"\n",
      "/opt/conda/lib/python3.7/site-packages/lightgbm/sklearn.py:736: UserWarning: 'verbose' argument is deprecated and will be removed in a future release of LightGBM. Pass 'log_evaluation()' callback via 'callbacks' argument instead.\n",
      "  _log_warning(\"'verbose' argument is deprecated and will be removed in a future release of LightGBM. \"\n"
     ]
    },
    {
     "name": "stdout",
     "output_type": "stream",
     "text": [
      "[500]\tvalid_0's rmse: 0.135657\n",
      "[1000]\tvalid_0's rmse: 0.09626\n",
      "[1500]\tvalid_0's rmse: 0.0817126\n",
      "[2000]\tvalid_0's rmse: 0.0761184\n",
      "[2500]\tvalid_0's rmse: 0.0737332\n",
      "[3000]\tvalid_0's rmse: 0.0725827\n",
      "[3500]\tvalid_0's rmse: 0.0720122\n",
      "[4000]\tvalid_0's rmse: 0.0717067\n",
      "[4500]\tvalid_0's rmse: 0.0715458\n",
      "[5000]\tvalid_0's rmse: 0.0714371\n",
      "[5500]\tvalid_0's rmse: 0.0713539\n",
      "[6000]\tvalid_0's rmse: 0.0713115\n",
      "[6500]\tvalid_0's rmse: 0.0712726\n",
      "[7000]\tvalid_0's rmse: 0.0712451\n",
      "[7500]\tvalid_0's rmse: 0.0712206\n",
      "[8000]\tvalid_0's rmse: 0.0712008\n",
      "[8500]\tvalid_0's rmse: 0.0711882\n",
      "[9000]\tvalid_0's rmse: 0.0711753\n",
      "[9500]\tvalid_0's rmse: 0.0711637\n",
      "[10000]\tvalid_0's rmse: 0.0711545\n",
      "fit fold=0  30.222[s]\n",
      "Fold 0 RMSLE: 0.0712\n",
      "\n"
     ]
    },
    {
     "name": "stderr",
     "output_type": "stream",
     "text": [
      "/opt/conda/lib/python3.7/site-packages/lightgbm/sklearn.py:726: UserWarning: 'early_stopping_rounds' argument is deprecated and will be removed in a future release of LightGBM. Pass 'early_stopping()' callback via 'callbacks' argument instead.\n",
      "  _log_warning(\"'early_stopping_rounds' argument is deprecated and will be removed in a future release of LightGBM. \"\n",
      "/opt/conda/lib/python3.7/site-packages/lightgbm/sklearn.py:736: UserWarning: 'verbose' argument is deprecated and will be removed in a future release of LightGBM. Pass 'log_evaluation()' callback via 'callbacks' argument instead.\n",
      "  _log_warning(\"'verbose' argument is deprecated and will be removed in a future release of LightGBM. \"\n"
     ]
    },
    {
     "name": "stdout",
     "output_type": "stream",
     "text": [
      "[500]\tvalid_0's rmse: 0.133881\n",
      "[1000]\tvalid_0's rmse: 0.0979525\n",
      "[1500]\tvalid_0's rmse: 0.0866018\n",
      "[2000]\tvalid_0's rmse: 0.0824913\n",
      "[2500]\tvalid_0's rmse: 0.0807016\n",
      "[3000]\tvalid_0's rmse: 0.0799241\n",
      "[3500]\tvalid_0's rmse: 0.0795134\n",
      "[4000]\tvalid_0's rmse: 0.0793133\n",
      "[4500]\tvalid_0's rmse: 0.0791941\n",
      "[5000]\tvalid_0's rmse: 0.0791163\n",
      "[5500]\tvalid_0's rmse: 0.0790507\n",
      "[6000]\tvalid_0's rmse: 0.0790084\n",
      "[6500]\tvalid_0's rmse: 0.0789839\n",
      "[7000]\tvalid_0's rmse: 0.0789623\n",
      "[7500]\tvalid_0's rmse: 0.078947\n",
      "[8000]\tvalid_0's rmse: 0.0789363\n",
      "fit fold=1  25.200[s]\n",
      "Fold 1 RMSLE: 0.0789\n",
      "\n"
     ]
    },
    {
     "name": "stderr",
     "output_type": "stream",
     "text": [
      "/opt/conda/lib/python3.7/site-packages/lightgbm/sklearn.py:726: UserWarning: 'early_stopping_rounds' argument is deprecated and will be removed in a future release of LightGBM. Pass 'early_stopping()' callback via 'callbacks' argument instead.\n",
      "  _log_warning(\"'early_stopping_rounds' argument is deprecated and will be removed in a future release of LightGBM. \"\n",
      "/opt/conda/lib/python3.7/site-packages/lightgbm/sklearn.py:736: UserWarning: 'verbose' argument is deprecated and will be removed in a future release of LightGBM. Pass 'log_evaluation()' callback via 'callbacks' argument instead.\n",
      "  _log_warning(\"'verbose' argument is deprecated and will be removed in a future release of LightGBM. \"\n"
     ]
    },
    {
     "name": "stdout",
     "output_type": "stream",
     "text": [
      "[500]\tvalid_0's rmse: 0.141576\n",
      "[1000]\tvalid_0's rmse: 0.103342\n",
      "[1500]\tvalid_0's rmse: 0.090688\n",
      "[2000]\tvalid_0's rmse: 0.0858999\n",
      "[2500]\tvalid_0's rmse: 0.0840091\n",
      "[3000]\tvalid_0's rmse: 0.0832147\n",
      "[3500]\tvalid_0's rmse: 0.0828001\n",
      "[4000]\tvalid_0's rmse: 0.0826047\n",
      "[4500]\tvalid_0's rmse: 0.0824746\n",
      "[5000]\tvalid_0's rmse: 0.0823945\n",
      "[5500]\tvalid_0's rmse: 0.0823302\n",
      "[6000]\tvalid_0's rmse: 0.0822925\n",
      "[6500]\tvalid_0's rmse: 0.082266\n",
      "[7000]\tvalid_0's rmse: 0.0822499\n",
      "[7500]\tvalid_0's rmse: 0.0822353\n",
      "[8000]\tvalid_0's rmse: 0.0822207\n",
      "fit fold=2  26.140[s]\n",
      "Fold 2 RMSLE: 0.0822\n",
      "\n"
     ]
    },
    {
     "name": "stderr",
     "output_type": "stream",
     "text": [
      "/opt/conda/lib/python3.7/site-packages/lightgbm/sklearn.py:726: UserWarning: 'early_stopping_rounds' argument is deprecated and will be removed in a future release of LightGBM. Pass 'early_stopping()' callback via 'callbacks' argument instead.\n",
      "  _log_warning(\"'early_stopping_rounds' argument is deprecated and will be removed in a future release of LightGBM. \"\n",
      "/opt/conda/lib/python3.7/site-packages/lightgbm/sklearn.py:736: UserWarning: 'verbose' argument is deprecated and will be removed in a future release of LightGBM. Pass 'log_evaluation()' callback via 'callbacks' argument instead.\n",
      "  _log_warning(\"'verbose' argument is deprecated and will be removed in a future release of LightGBM. \"\n"
     ]
    },
    {
     "name": "stdout",
     "output_type": "stream",
     "text": [
      "[500]\tvalid_0's rmse: 0.138136\n",
      "[1000]\tvalid_0's rmse: 0.0989811\n",
      "[1500]\tvalid_0's rmse: 0.0853837\n",
      "[2000]\tvalid_0's rmse: 0.0804422\n",
      "[2500]\tvalid_0's rmse: 0.0783934\n",
      "[3000]\tvalid_0's rmse: 0.0773961\n",
      "[3500]\tvalid_0's rmse: 0.0769444\n",
      "[4000]\tvalid_0's rmse: 0.0767117\n",
      "[4500]\tvalid_0's rmse: 0.0765574\n",
      "[5000]\tvalid_0's rmse: 0.076452\n",
      "[5500]\tvalid_0's rmse: 0.0763819\n",
      "[6000]\tvalid_0's rmse: 0.0763485\n",
      "[6500]\tvalid_0's rmse: 0.0763154\n",
      "[7000]\tvalid_0's rmse: 0.0762862\n",
      "[7500]\tvalid_0's rmse: 0.0762655\n",
      "[8000]\tvalid_0's rmse: 0.0762461\n",
      "[8500]\tvalid_0's rmse: 0.0762282\n",
      "[9000]\tvalid_0's rmse: 0.0762155\n",
      "[9500]\tvalid_0's rmse: 0.0762066\n",
      "[10000]\tvalid_0's rmse: 0.0761983\n",
      "fit fold=3  30.448[s]\n",
      "Fold 3 RMSLE: 0.0762\n",
      "\n"
     ]
    },
    {
     "name": "stderr",
     "output_type": "stream",
     "text": [
      "/opt/conda/lib/python3.7/site-packages/lightgbm/sklearn.py:726: UserWarning: 'early_stopping_rounds' argument is deprecated and will be removed in a future release of LightGBM. Pass 'early_stopping()' callback via 'callbacks' argument instead.\n",
      "  _log_warning(\"'early_stopping_rounds' argument is deprecated and will be removed in a future release of LightGBM. \"\n",
      "/opt/conda/lib/python3.7/site-packages/lightgbm/sklearn.py:736: UserWarning: 'verbose' argument is deprecated and will be removed in a future release of LightGBM. Pass 'log_evaluation()' callback via 'callbacks' argument instead.\n",
      "  _log_warning(\"'verbose' argument is deprecated and will be removed in a future release of LightGBM. \"\n"
     ]
    },
    {
     "name": "stdout",
     "output_type": "stream",
     "text": [
      "[500]\tvalid_0's rmse: 0.14156\n",
      "[1000]\tvalid_0's rmse: 0.105176\n",
      "[1500]\tvalid_0's rmse: 0.0938139\n",
      "[2000]\tvalid_0's rmse: 0.0892573\n",
      "[2500]\tvalid_0's rmse: 0.0873742\n",
      "[3000]\tvalid_0's rmse: 0.0865812\n",
      "[3500]\tvalid_0's rmse: 0.0862172\n",
      "[4000]\tvalid_0's rmse: 0.0859853\n",
      "[4500]\tvalid_0's rmse: 0.085858\n",
      "[5000]\tvalid_0's rmse: 0.085793\n",
      "[5500]\tvalid_0's rmse: 0.0857536\n",
      "[6000]\tvalid_0's rmse: 0.0857222\n",
      "[6500]\tvalid_0's rmse: 0.0856984\n",
      "[7000]\tvalid_0's rmse: 0.0856801\n",
      "[7500]\tvalid_0's rmse: 0.085666\n",
      "[8000]\tvalid_0's rmse: 0.085652\n",
      "[8500]\tvalid_0's rmse: 0.085642\n",
      "fit fold=4  27.648[s]\n",
      "Fold 4 RMSLE: 0.0856\n",
      "\n",
      "--------------------------------------------------\n",
      "FINISHED | Whole RMSLE: 0.0790\n"
     ]
    },
    {
     "data": {
      "image/png": "[encoded data removed]",
      "text/plain": [
       "<Figure size 576x432 with 1 Axes>"
      ]
     },
     "metadata": {
      "needs_background": "light"
     },
     "output_type": "display_data"
    },
    {
     "data": {
      "image/png": "[encoded data removed]",
      "text/plain": [
       "<Figure size 576x432 with 1 Axes>"
      ]
     },
     "metadata": {
      "needs_background": "light"
     },
     "output_type": "display_data"
    },
    {
     "data": {
      "image/png": "[encoded data removed]",
      "text/plain": [
       "<Figure size 576x432 with 1 Axes>"
      ]
     },
     "metadata": {
      "needs_background": "light"
     },
     "output_type": "display_data"
    },
    {
     "data": {
      "image/png": "[encoded data removed]",
      "text/plain": [
       "<Figure size 576x432 with 1 Axes>"
      ]
     },
     "metadata": {
      "needs_background": "light"
     },
     "output_type": "display_data"
    },
    {
     "data": {
      "image/png": "[encoded data removed]",
      "text/plain": [
       "<Figure size 576x432 with 1 Axes>"
      ]
     },
     "metadata": {
      "needs_background": "light"
     },
     "output_type": "display_data"
    },
    {
     "data": {
      "image/png": "[encoded data removed]",
      "text/plain": [
       "<Figure size 576x432 with 1 Axes>"
      ]
     },
     "metadata": {
      "needs_background": "light"
     },
     "output_type": "display_data"
    },
    {
     "data": {
      "image/png": "[encoded data removed]",
      "text/plain": [
       "<Figure size 576x432 with 1 Axes>"
      ]
     },
     "metadata": {
      "needs_background": "light"
     },
     "output_type": "display_data"
    },
    {
     "data": {
      "image/png": "[encoded data removed]",
      "text/plain": [
       "<Figure size 576x432 with 1 Axes>"
      ]
     },
     "metadata": {
      "needs_background": "light"
     },
     "output_type": "display_data"
    },
    {
     "data": {
      "image/png": "[encoded data removed]",
      "text/plain": [
       "<Figure size 576x432 with 1 Axes>"
      ]
     },
     "metadata": {
      "needs_background": "light"
     },
     "output_type": "display_data"
    },
    {
     "data": {
      "image/png": "[encoded data removed]",
      "text/plain": [
       "<Figure size 576x432 with 1 Axes>"
      ]
     },
     "metadata": {
      "needs_background": "light"
     },
     "output_type": "display_data"
    }
   ],
   "source": [
    "PREDS=[]\n",
    "for i in range(10):\n",
    "    fold = KFold(n_splits=5, shuffle=True, random_state=71)\n",
    "    ydfi=ydf.iloc[:,i]\n",
    "    y=np.array(ydfi)\n",
    "    cv = list(fold.split(train_feat_df, y))\n",
    "    oof, models = fit_lgbm(train_feat_df.values, y, cv, params=params, verbose=500)\n",
    "    fig, ax = visualize_importance(models, train_feat_df)\n",
    "    ax.set_title(target[i]+' Imortance',fontsize=20)\n",
    "    \n",
    "    pred0 = np.array([model.predict(test_feat_df.values) for model in models])\n",
    "    PREDS += [pred0[4]]"
   ]
  },
  {
   "cell_type": "code",
   "execution_count": 25,
   "id": "79d44758",
   "metadata": {
    "execution": {
     "iopub.execute_input": "2022-05-17T15:06:56.950718Z",
     "iopub.status.busy": "2022-05-17T15:06:56.949785Z",
     "iopub.status.idle": "2022-05-17T15:06:56.954039Z",
     "shell.execute_reply": "2022-05-17T15:06:56.953383Z"
    },
    "papermill": {
     "duration": 0.823814,
     "end_time": "2022-05-17T15:06:56.955708",
     "exception": false,
     "start_time": "2022-05-17T15:06:56.131894",
     "status": "completed"
    },
    "tags": []
   },
   "outputs": [],
   "source": [
    "TName=['No','Yes']"
   ]
  },
  {
   "cell_type": "code",
   "execution_count": 26,
   "id": "81ecce52",
   "metadata": {
    "execution": {
     "iopub.execute_input": "2022-05-17T15:06:58.107199Z",
     "iopub.status.busy": "2022-05-17T15:06:58.106463Z",
     "iopub.status.idle": "2022-05-17T15:06:58.316269Z",
     "shell.execute_reply": "2022-05-17T15:06:58.315274Z"
    },
    "papermill": {
     "duration": 0.796989,
     "end_time": "2022-05-17T15:06:58.318255",
     "exception": false,
     "start_time": "2022-05-17T15:06:57.521266",
     "status": "completed"
    },
    "tags": []
   },
   "outputs": [
    {
     "name": "stdout",
     "output_type": "stream",
     "text": [
      "Spirogyra\n",
      "              precision    recall  f1-score   support\n",
      "\n",
      "          No     0.9861    1.0000    0.9930      7509\n",
      "         Yes     1.0000    0.1520    0.2639       125\n",
      "\n",
      "    accuracy                         0.9861      7634\n",
      "   macro avg     0.9930    0.5760    0.6284      7634\n",
      "weighted avg     0.9863    0.9861    0.9811      7634\n",
      "\n",
      "Volvox\n",
      "              precision    recall  f1-score   support\n",
      "\n",
      "          No     0.8832    1.0000    0.9380      6510\n",
      "         Yes     1.0000    0.2340    0.3792      1124\n",
      "\n",
      "    accuracy                         0.8872      7634\n",
      "   macro avg     0.9416    0.6170    0.6586      7634\n",
      "weighted avg     0.9004    0.8872    0.8557      7634\n",
      "\n",
      "Pithophora\n",
      "              precision    recall  f1-score   support\n",
      "\n",
      "          No     0.9595    1.0000    0.9793      7277\n",
      "         Yes     1.0000    0.1401    0.2457       357\n",
      "\n",
      "    accuracy                         0.9598      7634\n",
      "   macro avg     0.9798    0.5700    0.6125      7634\n",
      "weighted avg     0.9614    0.9598    0.9450      7634\n",
      "\n",
      "Yeast\n",
      "              precision    recall  f1-score   support\n",
      "\n",
      "          No     0.9130    1.0000    0.9545      6709\n",
      "         Yes     1.0000    0.3092    0.4723       925\n",
      "\n",
      "    accuracy                         0.9163      7634\n",
      "   macro avg     0.9565    0.6546    0.7134      7634\n",
      "weighted avg     0.9236    0.9163    0.8961      7634\n",
      "\n",
      "Raizopus\n",
      "              precision    recall  f1-score   support\n",
      "\n",
      "          No     0.9437    1.0000    0.9710      7021\n",
      "         Yes     1.0000    0.3165    0.4808       613\n",
      "\n",
      "    accuracy                         0.9451      7634\n",
      "   macro avg     0.9718    0.6582    0.7259      7634\n",
      "weighted avg     0.9482    0.9451    0.9317      7634\n",
      "\n",
      "Penicillum\n",
      "              precision    recall  f1-score   support\n",
      "\n",
      "          No     0.9669    1.0000    0.9832      7356\n",
      "         Yes     1.0000    0.0935    0.1711       278\n",
      "\n",
      "    accuracy                         0.9670      7634\n",
      "   macro avg     0.9834    0.5468    0.5771      7634\n",
      "weighted avg     0.9681    0.9670    0.9536      7634\n",
      "\n",
      "Aspergillus sp\n",
      "              precision    recall  f1-score   support\n",
      "\n",
      "          No     0.9024    1.0000    0.9487      6649\n",
      "         Yes     1.0000    0.2701    0.4253       985\n",
      "\n",
      "    accuracy                         0.9058      7634\n",
      "   macro avg     0.9512    0.6350    0.6870      7634\n",
      "weighted avg     0.9150    0.9058    0.8812      7634\n",
      "\n",
      "Protozoa\n",
      "              precision    recall  f1-score   support\n",
      "\n",
      "          No     0.8927    1.0000    0.9433      6717\n",
      "         Yes     1.0000    0.1200    0.2142       917\n",
      "\n",
      "    accuracy                         0.8943      7634\n",
      "   macro avg     0.9464    0.5600    0.5788      7634\n",
      "weighted avg     0.9056    0.8943    0.8558      7634\n",
      "\n",
      "Diatom\n",
      "              precision    recall  f1-score   support\n",
      "\n",
      "          No     0.9495    1.0000    0.9741      7186\n",
      "         Yes     1.0000    0.1473    0.2568       448\n",
      "\n",
      "    accuracy                         0.9500      7634\n",
      "   macro avg     0.9748    0.5737    0.6155      7634\n",
      "weighted avg     0.9525    0.9500    0.9320      7634\n",
      "\n",
      "Ulothrix\n",
      "              precision    recall  f1-score   support\n",
      "\n",
      "          No     0.8340    0.9998    0.9094      5772\n",
      "         Yes     0.9986    0.3829    0.5536      1862\n",
      "\n",
      "    accuracy                         0.8494      7634\n",
      "   macro avg     0.9163    0.6914    0.7315      7634\n",
      "weighted avg     0.8741    0.8494    0.8226      7634\n",
      "\n"
     ]
    }
   ],
   "source": [
    "for i in range(10):\n",
    "    PREDi=PREDS[i]\n",
    "    PREDi2=[]\n",
    "    for item in PREDi:\n",
    "        PREDi2+=[int(item)]\n",
    "\n",
    "    ANSi=testY.iloc[:,i]\n",
    "    ANSi2=[]\n",
    "    for item in ANSi:\n",
    "        ANSi2+=[item]\n",
    "    \n",
    "    print(MName[i])\n",
    "    print(classification_report(np.array(ANSi2), np.array(PREDi2), target_names=TName, digits=4))"
   ]
  },
  {
   "cell_type": "code",
   "execution_count": null,
   "id": "0941f4f6",
   "metadata": {
    "papermill": {
     "duration": 0.596092,
     "end_time": "2022-05-17T15:06:59.518309",
     "exception": false,
     "start_time": "2022-05-17T15:06:58.922217",
     "status": "completed"
    },
    "tags": []
   },
   "outputs": [],
   "source": []
  },
  {
   "cell_type": "code",
   "execution_count": null,
   "id": "771422d3",
   "metadata": {
    "papermill": {
     "duration": 0.5632,
     "end_time": "2022-05-17T15:07:00.644937",
     "exception": false,
     "start_time": "2022-05-17T15:07:00.081737",
     "status": "completed"
    },
    "tags": []
   },
   "outputs": [],
   "source": []
  }
 ],
 "metadata": {
  "kernelspec": {
   "display_name": "Python 3",
   "language": "python",
   "name": "python3"
  },
  "language_info": {
   "codemirror_mode": {
    "name": "ipython",
    "version": 3
   },
   "file_extension": ".py",
   "mimetype": "text/x-python",
   "name": "python",
   "nbconvert_exporter": "python",
   "pygments_lexer": "ipython3",
   "version": "3.7.12"
  },
  "papermill": {
   "default_parameters": {},
   "duration": 2492.765817,
   "end_time": "2022-05-17T15:07:04.238984",
   "environment_variables": {},
   "exception": null,
   "input_path": "__notebook__.ipynb",
   "output_path": "__notebook__.ipynb",
   "parameters": {},
   "start_time": "2022-05-17T14:25:31.473167",
   "version": "2.3.4"
  }
 },
 "nbformat": 4,
 "nbformat_minor": 5
}
