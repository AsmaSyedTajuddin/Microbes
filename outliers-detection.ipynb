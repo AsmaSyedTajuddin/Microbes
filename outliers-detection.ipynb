{
 "cells": [
  {
   "cell_type": "markdown",
   "id": "721a8fee",
   "metadata": {
    "papermill": {
     "duration": 0.021979,
     "end_time": "2022-05-23T19:41:11.956160",
     "exception": false,
     "start_time": "2022-05-23T19:41:11.934181",
     "status": "completed"
    },
    "tags": []
   },
   "source": [
    "In this notebook I'll select a few variables from this 'Microbes' dataset that offers different descriptive elements of these micro-organisms in order to present ways de detect outliers.\n",
    "\n",
    "* using Normal Distribution: outliers are all the values lower than 3 standard deviations from the mean and all the values above 3 standard deviations from the mean\n",
    "* using the Interquartile Range: outliers are all the values lower than Q1 – 1.5 IQR and all the values above Q3 + 1.5 IQR , where IQR is the difference between 25th and 75th percentile"
   ]
  },
  {
   "cell_type": "code",
   "execution_count": 1,
   "id": "5b975b29",
   "metadata": {
    "execution": {
     "iopub.execute_input": "2022-05-23T19:41:12.001210Z",
     "iopub.status.busy": "2022-05-23T19:41:12.000777Z",
     "iopub.status.idle": "2022-05-23T19:41:12.022973Z",
     "shell.execute_reply": "2022-05-23T19:41:12.021587Z"
    },
    "papermill": {
     "duration": 0.049163,
     "end_time": "2022-05-23T19:41:12.025899",
     "exception": false,
     "start_time": "2022-05-23T19:41:11.976736",
     "status": "completed"
    },
    "tags": []
   },
   "outputs": [
    {
     "name": "stdout",
     "output_type": "stream",
     "text": [
      "/kaggle/input/microbes-dataset/microbes.csv\n"
     ]
    }
   ],
   "source": [
    "\n",
    "import numpy as np # linear algebra\n",
    "import pandas as pd # data processing, CSV file I/O (e.g. pd.read_csv)\n",
    "\n",
    "\n",
    "import os\n",
    "for dirname, _, filenames in os.walk('/kaggle/input'):\n",
    "    for filename in filenames:\n",
    "        print(os.path.join(dirname, filename))\n"
   ]
  },
  {
   "cell_type": "code",
   "execution_count": 2,
   "id": "b01f83fb",
   "metadata": {
    "execution": {
     "iopub.execute_input": "2022-05-23T19:41:12.067336Z",
     "iopub.status.busy": "2022-05-23T19:41:12.066609Z",
     "iopub.status.idle": "2022-05-23T19:41:12.356256Z",
     "shell.execute_reply": "2022-05-23T19:41:12.355594Z"
    },
    "papermill": {
     "duration": 0.314412,
     "end_time": "2022-05-23T19:41:12.359771",
     "exception": false,
     "start_time": "2022-05-23T19:41:12.045359",
     "status": "completed"
    },
    "tags": []
   },
   "outputs": [
    {
     "data": {
      "text/html": [
       "<div>\n",
       "<style scoped>\n",
       "    .dataframe tbody tr th:only-of-type {\n",
       "        vertical-align: middle;\n",
       "    }\n",
       "\n",
       "    .dataframe tbody tr th {\n",
       "        vertical-align: top;\n",
       "    }\n",
       "\n",
       "    .dataframe thead th {\n",
       "        text-align: right;\n",
       "    }\n",
       "</style>\n",
       "<table border=\"1\" class=\"dataframe\">\n",
       "  <thead>\n",
       "    <tr style=\"text-align: right;\">\n",
       "      <th></th>\n",
       "      <th>Unnamed: 0</th>\n",
       "      <th>Solidity</th>\n",
       "      <th>Eccentricity</th>\n",
       "      <th>EquivDiameter</th>\n",
       "      <th>Extrema</th>\n",
       "      <th>FilledArea</th>\n",
       "      <th>Extent</th>\n",
       "      <th>Orientation</th>\n",
       "      <th>EulerNumber</th>\n",
       "      <th>BoundingBox1</th>\n",
       "      <th>...</th>\n",
       "      <th>ConvexHull4</th>\n",
       "      <th>MajorAxisLength</th>\n",
       "      <th>MinorAxisLength</th>\n",
       "      <th>Perimeter</th>\n",
       "      <th>ConvexArea</th>\n",
       "      <th>Centroid1</th>\n",
       "      <th>Centroid2</th>\n",
       "      <th>Area</th>\n",
       "      <th>raddi</th>\n",
       "      <th>microorganisms</th>\n",
       "    </tr>\n",
       "  </thead>\n",
       "  <tbody>\n",
       "    <tr>\n",
       "      <th>0</th>\n",
       "      <td>0</td>\n",
       "      <td>10.70</td>\n",
       "      <td>15.8</td>\n",
       "      <td>5.43</td>\n",
       "      <td>3.75</td>\n",
       "      <td>0.785</td>\n",
       "      <td>8.14</td>\n",
       "      <td>2.15</td>\n",
       "      <td>22.3</td>\n",
       "      <td>2.97</td>\n",
       "      <td>...</td>\n",
       "      <td>2.97</td>\n",
       "      <td>1.34</td>\n",
       "      <td>1.61</td>\n",
       "      <td>0.683</td>\n",
       "      <td>0.195</td>\n",
       "      <td>3.63</td>\n",
       "      <td>12.10</td>\n",
       "      <td>1.310</td>\n",
       "      <td>7.99</td>\n",
       "      <td>Spirogyra</td>\n",
       "    </tr>\n",
       "    <tr>\n",
       "      <th>1</th>\n",
       "      <td>1</td>\n",
       "      <td>5.60</td>\n",
       "      <td>18.3</td>\n",
       "      <td>4.14</td>\n",
       "      <td>6.16</td>\n",
       "      <td>0.364</td>\n",
       "      <td>3.51</td>\n",
       "      <td>18.60</td>\n",
       "      <td>22.5</td>\n",
       "      <td>5.41</td>\n",
       "      <td>...</td>\n",
       "      <td>5.47</td>\n",
       "      <td>1.52</td>\n",
       "      <td>1.52</td>\n",
       "      <td>1.010</td>\n",
       "      <td>0.215</td>\n",
       "      <td>6.01</td>\n",
       "      <td>20.60</td>\n",
       "      <td>0.765</td>\n",
       "      <td>7.99</td>\n",
       "      <td>Spirogyra</td>\n",
       "    </tr>\n",
       "    <tr>\n",
       "      <th>2</th>\n",
       "      <td>2</td>\n",
       "      <td>8.32</td>\n",
       "      <td>19.8</td>\n",
       "      <td>4.63</td>\n",
       "      <td>6.66</td>\n",
       "      <td>0.415</td>\n",
       "      <td>5.85</td>\n",
       "      <td>21.00</td>\n",
       "      <td>22.4</td>\n",
       "      <td>5.96</td>\n",
       "      <td>...</td>\n",
       "      <td>5.96</td>\n",
       "      <td>1.63</td>\n",
       "      <td>1.38</td>\n",
       "      <td>1.110</td>\n",
       "      <td>0.182</td>\n",
       "      <td>6.55</td>\n",
       "      <td>11.50</td>\n",
       "      <td>0.953</td>\n",
       "      <td>7.99</td>\n",
       "      <td>Spirogyra</td>\n",
       "    </tr>\n",
       "    <tr>\n",
       "      <th>3</th>\n",
       "      <td>3</td>\n",
       "      <td>10.10</td>\n",
       "      <td>17.9</td>\n",
       "      <td>7.29</td>\n",
       "      <td>11.10</td>\n",
       "      <td>1.470</td>\n",
       "      <td>6.30</td>\n",
       "      <td>9.94</td>\n",
       "      <td>21.9</td>\n",
       "      <td>8.81</td>\n",
       "      <td>...</td>\n",
       "      <td>8.88</td>\n",
       "      <td>2.04</td>\n",
       "      <td>2.12</td>\n",
       "      <td>0.715</td>\n",
       "      <td>0.371</td>\n",
       "      <td>10.30</td>\n",
       "      <td>12.00</td>\n",
       "      <td>2.340</td>\n",
       "      <td>7.99</td>\n",
       "      <td>Spirogyra</td>\n",
       "    </tr>\n",
       "    <tr>\n",
       "      <th>4</th>\n",
       "      <td>4</td>\n",
       "      <td>6.27</td>\n",
       "      <td>20.2</td>\n",
       "      <td>20.10</td>\n",
       "      <td>10.70</td>\n",
       "      <td>14.700</td>\n",
       "      <td>3.97</td>\n",
       "      <td>2.58</td>\n",
       "      <td>11.9</td>\n",
       "      <td>10.20</td>\n",
       "      <td>...</td>\n",
       "      <td>10.20</td>\n",
       "      <td>7.78</td>\n",
       "      <td>6.21</td>\n",
       "      <td>6.800</td>\n",
       "      <td>4.440</td>\n",
       "      <td>14.00</td>\n",
       "      <td>9.55</td>\n",
       "      <td>17.600</td>\n",
       "      <td>7.99</td>\n",
       "      <td>Spirogyra</td>\n",
       "    </tr>\n",
       "  </tbody>\n",
       "</table>\n",
       "<p>5 rows × 26 columns</p>\n",
       "</div>"
      ],
      "text/plain": [
       "   Unnamed: 0  Solidity  Eccentricity  EquivDiameter  Extrema  FilledArea  \\\n",
       "0           0     10.70          15.8           5.43     3.75       0.785   \n",
       "1           1      5.60          18.3           4.14     6.16       0.364   \n",
       "2           2      8.32          19.8           4.63     6.66       0.415   \n",
       "3           3     10.10          17.9           7.29    11.10       1.470   \n",
       "4           4      6.27          20.2          20.10    10.70      14.700   \n",
       "\n",
       "   Extent  Orientation  EulerNumber  BoundingBox1  ...  ConvexHull4  \\\n",
       "0    8.14         2.15         22.3          2.97  ...         2.97   \n",
       "1    3.51        18.60         22.5          5.41  ...         5.47   \n",
       "2    5.85        21.00         22.4          5.96  ...         5.96   \n",
       "3    6.30         9.94         21.9          8.81  ...         8.88   \n",
       "4    3.97         2.58         11.9         10.20  ...        10.20   \n",
       "\n",
       "   MajorAxisLength  MinorAxisLength  Perimeter  ConvexArea  Centroid1  \\\n",
       "0             1.34             1.61      0.683       0.195       3.63   \n",
       "1             1.52             1.52      1.010       0.215       6.01   \n",
       "2             1.63             1.38      1.110       0.182       6.55   \n",
       "3             2.04             2.12      0.715       0.371      10.30   \n",
       "4             7.78             6.21      6.800       4.440      14.00   \n",
       "\n",
       "   Centroid2    Area  raddi  microorganisms  \n",
       "0      12.10   1.310   7.99       Spirogyra  \n",
       "1      20.60   0.765   7.99       Spirogyra  \n",
       "2      11.50   0.953   7.99       Spirogyra  \n",
       "3      12.00   2.340   7.99       Spirogyra  \n",
       "4       9.55  17.600   7.99       Spirogyra  \n",
       "\n",
       "[5 rows x 26 columns]"
      ]
     },
     "execution_count": 2,
     "metadata": {},
     "output_type": "execute_result"
    }
   ],
   "source": [
    "# reading file and having a look at the data\n",
    "df = pd.read_csv('/kaggle/input/microbes-dataset/microbes.csv')\n",
    "df.head()"
   ]
  },
  {
   "cell_type": "code",
   "execution_count": 3,
   "id": "1b710c1d",
   "metadata": {
    "execution": {
     "iopub.execute_input": "2022-05-23T19:41:12.402541Z",
     "iopub.status.busy": "2022-05-23T19:41:12.401741Z",
     "iopub.status.idle": "2022-05-23T19:41:12.406923Z",
     "shell.execute_reply": "2022-05-23T19:41:12.405918Z"
    },
    "papermill": {
     "duration": 0.030009,
     "end_time": "2022-05-23T19:41:12.409305",
     "exception": false,
     "start_time": "2022-05-23T19:41:12.379296",
     "status": "completed"
    },
    "tags": []
   },
   "outputs": [],
   "source": [
    "import matplotlib.pyplot as plt\n"
   ]
  },
  {
   "cell_type": "markdown",
   "id": "ebb460b7",
   "metadata": {
    "papermill": {
     "duration": 0.02005,
     "end_time": "2022-05-23T19:41:12.450432",
     "exception": false,
     "start_time": "2022-05-23T19:41:12.430382",
     "status": "completed"
    },
    "tags": []
   },
   "source": [
    "Let's select a variable, 'Eccentricity', very skewed, as we can see from the histogram:"
   ]
  },
  {
   "cell_type": "code",
   "execution_count": 4,
   "id": "ca836a4e",
   "metadata": {
    "execution": {
     "iopub.execute_input": "2022-05-23T19:41:12.493030Z",
     "iopub.status.busy": "2022-05-23T19:41:12.492390Z",
     "iopub.status.idle": "2022-05-23T19:41:12.773255Z",
     "shell.execute_reply": "2022-05-23T19:41:12.772191Z"
    },
    "papermill": {
     "duration": 0.305273,
     "end_time": "2022-05-23T19:41:12.775708",
     "exception": false,
     "start_time": "2022-05-23T19:41:12.470435",
     "status": "completed"
    },
    "tags": []
   },
   "outputs": [
    {
     "data": {
      "text/plain": [
       "<AxesSubplot:>"
      ]
     },
     "execution_count": 4,
     "metadata": {},
     "output_type": "execute_result"
    },
    {
     "data": {
      "image/png": "[encoded data removed]",
      "text/plain": [
       "<Figure size 432x288 with 1 Axes>"
      ]
     },
     "metadata": {
      "needs_background": "light"
     },
     "output_type": "display_data"
    }
   ],
   "source": [
    "df['Eccentricity'].hist()"
   ]
  },
  {
   "cell_type": "code",
   "execution_count": 5,
   "id": "10315f33",
   "metadata": {
    "execution": {
     "iopub.execute_input": "2022-05-23T19:41:12.819399Z",
     "iopub.status.busy": "2022-05-23T19:41:12.818526Z",
     "iopub.status.idle": "2022-05-23T19:41:12.834515Z",
     "shell.execute_reply": "2022-05-23T19:41:12.833186Z"
    },
    "papermill": {
     "duration": 0.040844,
     "end_time": "2022-05-23T19:41:12.837009",
     "exception": false,
     "start_time": "2022-05-23T19:41:12.796165",
     "status": "completed"
    },
    "tags": []
   },
   "outputs": [
    {
     "data": {
      "text/plain": [
       "count    30527.000000\n",
       "mean        19.466921\n",
       "std          3.479828\n",
       "min          0.000000\n",
       "25%         17.300000\n",
       "50%         20.700000\n",
       "75%         22.200000\n",
       "max         23.000000\n",
       "Name: Eccentricity, dtype: float64"
      ]
     },
     "execution_count": 5,
     "metadata": {},
     "output_type": "execute_result"
    }
   ],
   "source": [
    "df['Eccentricity'].describe()"
   ]
  },
  {
   "cell_type": "markdown",
   "id": "d1dfce00",
   "metadata": {
    "papermill": {
     "duration": 0.020308,
     "end_time": "2022-05-23T19:41:12.878202",
     "exception": false,
     "start_time": "2022-05-23T19:41:12.857894",
     "status": "completed"
    },
    "tags": []
   },
   "source": [
    "## I. First detection method, using mean and standard deviation"
   ]
  },
  {
   "cell_type": "code",
   "execution_count": 6,
   "id": "913cef5c",
   "metadata": {
    "execution": {
     "iopub.execute_input": "2022-05-23T19:41:12.922218Z",
     "iopub.status.busy": "2022-05-23T19:41:12.921590Z",
     "iopub.status.idle": "2022-05-23T19:41:12.932152Z",
     "shell.execute_reply": "2022-05-23T19:41:12.930597Z"
    },
    "papermill": {
     "duration": 0.035986,
     "end_time": "2022-05-23T19:41:12.934801",
     "exception": false,
     "start_time": "2022-05-23T19:41:12.898815",
     "status": "completed"
    },
    "tags": []
   },
   "outputs": [
    {
     "name": "stdout",
     "output_type": "stream",
     "text": [
      "The mean is: 19.466921413830377\n",
      "The standard deviation is: 3.4798282487945142\n",
      "The lower limit is: 9.027436667446835\n",
      "The lower limit is: 29.90640616021392\n"
     ]
    }
   ],
   "source": [
    "mean = df['Eccentricity'].mean()\n",
    "std = df['Eccentricity'].std()\n",
    "\n",
    "lower_limit = mean - 3*std\n",
    "higher_limit = mean + 3*std\n",
    "\n",
    "print('The mean is: ' + str(mean))\n",
    "print('The standard deviation is: ' + str(std))\n",
    "print('The lower limit is: ' + str(lower_limit))\n",
    "print('The lower limit is: ' + str(higher_limit))\n"
   ]
  },
  {
   "cell_type": "markdown",
   "id": "db581d99",
   "metadata": {
    "papermill": {
     "duration": 0.020333,
     "end_time": "2022-05-23T19:41:12.976673",
     "exception": false,
     "start_time": "2022-05-23T19:41:12.956340",
     "status": "completed"
    },
    "tags": []
   },
   "source": [
    "So we see the minimum values are below the lower_limit.\n",
    "Let's bring these outliers to their respective limits and represent the variable again:"
   ]
  },
  {
   "cell_type": "code",
   "execution_count": 7,
   "id": "ad46a4b7",
   "metadata": {
    "execution": {
     "iopub.execute_input": "2022-05-23T19:41:13.024345Z",
     "iopub.status.busy": "2022-05-23T19:41:13.023622Z",
     "iopub.status.idle": "2022-05-23T19:41:13.316341Z",
     "shell.execute_reply": "2022-05-23T19:41:13.314761Z"
    },
    "papermill": {
     "duration": 0.319644,
     "end_time": "2022-05-23T19:41:13.319088",
     "exception": false,
     "start_time": "2022-05-23T19:41:12.999444",
     "status": "completed"
    },
    "tags": []
   },
   "outputs": [
    {
     "name": "stdout",
     "output_type": "stream",
     "text": [
      "AxesSubplot(0.125,0.125;0.775x0.755)\n"
     ]
    },
    {
     "data": {
      "image/png": "[encoded data removed]",
      "text/plain": [
       "<Figure size 432x288 with 1 Axes>"
      ]
     },
     "metadata": {
      "needs_background": "light"
     },
     "output_type": "display_data"
    }
   ],
   "source": [
    "df_new = df[(df['Eccentricity'] > lower_limit) & (df['Eccentricity'] < higher_limit)]\n",
    "print(df_new['Eccentricity'].hist())\n"
   ]
  },
  {
   "cell_type": "code",
   "execution_count": 8,
   "id": "7bc7b2c5",
   "metadata": {
    "execution": {
     "iopub.execute_input": "2022-05-23T19:41:13.369047Z",
     "iopub.status.busy": "2022-05-23T19:41:13.368726Z",
     "iopub.status.idle": "2022-05-23T19:41:13.380820Z",
     "shell.execute_reply": "2022-05-23T19:41:13.379340Z"
    },
    "papermill": {
     "duration": 0.03886,
     "end_time": "2022-05-23T19:41:13.383171",
     "exception": false,
     "start_time": "2022-05-23T19:41:13.344311",
     "status": "completed"
    },
    "tags": []
   },
   "outputs": [
    {
     "name": "stdout",
     "output_type": "stream",
     "text": [
      "count    30095.000000\n",
      "mean        19.640205\n",
      "std          3.182073\n",
      "min          9.110000\n",
      "25%         17.500000\n",
      "50%         20.800000\n",
      "75%         22.200000\n",
      "max         23.000000\n",
      "Name: Eccentricity, dtype: float64\n"
     ]
    }
   ],
   "source": [
    "print(df_new['Eccentricity'].describe())"
   ]
  },
  {
   "cell_type": "markdown",
   "id": "df57670a",
   "metadata": {
    "papermill": {
     "duration": 0.024058,
     "end_time": "2022-05-23T19:41:13.430631",
     "exception": false,
     "start_time": "2022-05-23T19:41:13.406573",
     "status": "completed"
    },
    "tags": []
   },
   "source": [
    "We see now min has changed, while max remained the same."
   ]
  },
  {
   "cell_type": "markdown",
   "id": "422eee04",
   "metadata": {
    "papermill": {
     "duration": 0.024954,
     "end_time": "2022-05-23T19:41:13.479393",
     "exception": false,
     "start_time": "2022-05-23T19:41:13.454439",
     "status": "completed"
    },
    "tags": []
   },
   "source": [
    "## II. Second detection method, using IQR"
   ]
  },
  {
   "cell_type": "code",
   "execution_count": 9,
   "id": "f492fac9",
   "metadata": {
    "execution": {
     "iopub.execute_input": "2022-05-23T19:41:13.529633Z",
     "iopub.status.busy": "2022-05-23T19:41:13.528796Z",
     "iopub.status.idle": "2022-05-23T19:41:13.535838Z",
     "shell.execute_reply": "2022-05-23T19:41:13.535133Z"
    },
    "papermill": {
     "duration": 0.034197,
     "end_time": "2022-05-23T19:41:13.538009",
     "exception": false,
     "start_time": "2022-05-23T19:41:13.503812",
     "status": "completed"
    },
    "tags": []
   },
   "outputs": [
    {
     "name": "stdout",
     "output_type": "stream",
     "text": [
      "The Interquartile Range is: 4.899999999999999\n"
     ]
    }
   ],
   "source": [
    "Q1 = np.percentile(df['Eccentricity'],25)\n",
    "Q3 = np.percentile(df['Eccentricity'],75)\n",
    "\n",
    "IQR = Q3 - Q1\n",
    "\n",
    "print('The Interquartile Range is: ' + str(IQR))"
   ]
  },
  {
   "cell_type": "markdown",
   "id": "8173cc26",
   "metadata": {
    "papermill": {
     "duration": 0.027521,
     "end_time": "2022-05-23T19:41:13.591556",
     "exception": false,
     "start_time": "2022-05-23T19:41:13.564035",
     "status": "completed"
    },
    "tags": []
   },
   "source": [
    "Let's calculate the limits, based on IQR, and then remove values that are outside the Interquartile Range:"
   ]
  },
  {
   "cell_type": "code",
   "execution_count": 10,
   "id": "fb950842",
   "metadata": {
    "execution": {
     "iopub.execute_input": "2022-05-23T19:41:13.645571Z",
     "iopub.status.busy": "2022-05-23T19:41:13.645261Z",
     "iopub.status.idle": "2022-05-23T19:41:13.651889Z",
     "shell.execute_reply": "2022-05-23T19:41:13.650336Z"
    },
    "papermill": {
     "duration": 0.038804,
     "end_time": "2022-05-23T19:41:13.654975",
     "exception": false,
     "start_time": "2022-05-23T19:41:13.616171",
     "status": "completed"
    },
    "tags": []
   },
   "outputs": [
    {
     "name": "stdout",
     "output_type": "stream",
     "text": [
      "The lower limit is: 9.950000000000003\n",
      "The lower limit is: 29.549999999999997\n"
     ]
    }
   ],
   "source": [
    "lower_limit_method_2 = Q1 - 1.5*IQR\n",
    "higher_limit_method_2 = Q3 + 1.5*IQR\n",
    "\n",
    "print('The lower limit is: ' + str(lower_limit_method_2))\n",
    "print('The lower limit is: ' + str(higher_limit_method_2))"
   ]
  },
  {
   "cell_type": "code",
   "execution_count": 11,
   "id": "2251dfad",
   "metadata": {
    "execution": {
     "iopub.execute_input": "2022-05-23T19:41:13.708531Z",
     "iopub.status.busy": "2022-05-23T19:41:13.707892Z",
     "iopub.status.idle": "2022-05-23T19:41:13.718741Z",
     "shell.execute_reply": "2022-05-23T19:41:13.717767Z"
    },
    "papermill": {
     "duration": 0.04006,
     "end_time": "2022-05-23T19:41:13.721216",
     "exception": false,
     "start_time": "2022-05-23T19:41:13.681156",
     "status": "completed"
    },
    "tags": []
   },
   "outputs": [],
   "source": [
    "df_new_method_2 = df[(df['Eccentricity'] >lower_limit_method_2) & (df['Eccentricity'] < higher_limit_method_2)]"
   ]
  },
  {
   "cell_type": "markdown",
   "id": "5dba4299",
   "metadata": {
    "papermill": {
     "duration": 0.024057,
     "end_time": "2022-05-23T19:41:13.770004",
     "exception": false,
     "start_time": "2022-05-23T19:41:13.745947",
     "status": "completed"
    },
    "tags": []
   },
   "source": [
    "Let's have a look at the variable after the outlier transformation:"
   ]
  },
  {
   "cell_type": "code",
   "execution_count": 12,
   "id": "13b14288",
   "metadata": {
    "execution": {
     "iopub.execute_input": "2022-05-23T19:41:13.824189Z",
     "iopub.status.busy": "2022-05-23T19:41:13.823503Z",
     "iopub.status.idle": "2022-05-23T19:41:14.003679Z",
     "shell.execute_reply": "2022-05-23T19:41:14.001718Z"
    },
    "papermill": {
     "duration": 0.212043,
     "end_time": "2022-05-23T19:41:14.008429",
     "exception": false,
     "start_time": "2022-05-23T19:41:13.796386",
     "status": "completed"
    },
    "tags": []
   },
   "outputs": [
    {
     "name": "stdout",
     "output_type": "stream",
     "text": [
      "AxesSubplot(0.125,0.125;0.775x0.755)\n",
      "count    30095.000000\n",
      "mean        19.640205\n",
      "std          3.182073\n",
      "min          9.110000\n",
      "25%         17.500000\n",
      "50%         20.800000\n",
      "75%         22.200000\n",
      "max         23.000000\n",
      "Name: Eccentricity, dtype: float64\n"
     ]
    },
    {
     "data": {
      "image/png": "[encoded data removed]",
      "text/plain": [
       "<Figure size 432x288 with 1 Axes>"
      ]
     },
     "metadata": {
      "needs_background": "light"
     },
     "output_type": "display_data"
    }
   ],
   "source": [
    "print(df_new['Eccentricity'].hist())\n",
    "print(df_new['Eccentricity'].describe())"
   ]
  }
 ],
 "metadata": {
  "kernelspec": {
   "display_name": "Python 3",
   "language": "python",
   "name": "python3"
  },
  "language_info": {
   "codemirror_mode": {
    "name": "ipython",
    "version": 3
   },
   "file_extension": ".py",
   "mimetype": "text/x-python",
   "name": "python",
   "nbconvert_exporter": "python",
   "pygments_lexer": "ipython3",
   "version": "3.7.12"
  },
  "papermill": {
   "default_parameters": {},
   "duration": 15.021269,
   "end_time": "2022-05-23T19:41:14.762693",
   "environment_variables": {},
   "exception": null,
   "input_path": "__notebook__.ipynb",
   "output_path": "__notebook__.ipynb",
   "parameters": {},
   "start_time": "2022-05-23T19:40:59.741424",
   "version": "2.3.4"
  }
 },
 "nbformat": 4,
 "nbformat_minor": 5
}
