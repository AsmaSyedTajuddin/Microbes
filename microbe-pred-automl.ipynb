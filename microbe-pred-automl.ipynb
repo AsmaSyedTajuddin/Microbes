{
 "cells": [
  {
   "cell_type": "code",
   "execution_count": 1,
   "id": "e24cde64",
   "metadata": {
    "_cell_guid": "b1076dfc-b9ad-4769-8c92-a6c4dae69d19",
    "_uuid": "8f2839f25d086af736a60e9eeb907d3b93b6e0e5",
    "execution": {
     "iopub.execute_input": "2022-05-17T07:18:19.610843Z",
     "iopub.status.busy": "2022-05-17T07:18:19.607757Z",
     "iopub.status.idle": "2022-05-17T07:18:19.637774Z",
     "shell.execute_reply": "2022-05-17T07:18:19.636362Z"
    },
    "papermill": {
     "duration": 0.062237,
     "end_time": "2022-05-17T07:18:19.641808",
     "exception": false,
     "start_time": "2022-05-17T07:18:19.579571",
     "status": "completed"
    },
    "tags": []
   },
   "outputs": [
    {
     "name": "stdout",
     "output_type": "stream",
     "text": [
      "/kaggle/input/microbes-dataset/microbes.csv\n"
     ]
    }
   ],
   "source": [
    "# This Python 3 environment comes with many helpful analytics libraries installed\n",
    "# It is defined by the kaggle/python Docker image: https://github.com/kaggle/docker-python\n",
    "# For example, here's several helpful packages to load\n",
    "\n",
    "import numpy as np # linear algebra\n",
    "import pandas as pd # data processing, CSV file I/O (e.g. pd.read_csv)\n",
    "\n",
    "# Input data files are available in the read-only \"../input/\" directory\n",
    "# For example, running this (by clicking run or pressing Shift+Enter) will list all files under the input directory\n",
    "\n",
    "import os\n",
    "for dirname, _, filenames in os.walk('/kaggle/input'):\n",
    "    for filename in filenames:\n",
    "        print(os.path.join(dirname, filename))\n",
    "\n",
    "# You can write up to 20GB to the current directory (/kaggle/working/) that gets preserved as output when you create a version using \"Save & Run All\" \n",
    "# You can also write temporary files to /kaggle/temp/, but they won't be saved outside of the current session"
   ]
  },
  {
   "cell_type": "code",
   "execution_count": 2,
   "id": "484c2908",
   "metadata": {
    "execution": {
     "iopub.execute_input": "2022-05-17T07:18:19.672510Z",
     "iopub.status.busy": "2022-05-17T07:18:19.672207Z",
     "iopub.status.idle": "2022-05-17T07:18:57.437955Z",
     "shell.execute_reply": "2022-05-17T07:18:57.437027Z"
    },
    "papermill": {
     "duration": 37.783145,
     "end_time": "2022-05-17T07:18:57.440648",
     "exception": false,
     "start_time": "2022-05-17T07:18:19.657503",
     "status": "completed"
    },
    "tags": []
   },
   "outputs": [
    {
     "name": "stdout",
     "output_type": "stream",
     "text": [
      "Collecting flaml\r\n",
      "  Downloading FLAML-1.0.1-py3-none-any.whl (157 kB)\r\n",
      "\u001b[2K     \u001b[90m━━━━━━━━━━━━━━━━━━━━━━━━━━━━━━━━━━━━━\u001b[0m \u001b[32m157.6/157.6 KB\u001b[0m \u001b[31m369.7 kB/s\u001b[0m eta \u001b[36m0:00:00\u001b[0m\r\n",
      "\u001b[?25hRequirement already satisfied: scipy>=1.4.1 in /opt/conda/lib/python3.7/site-packages (from flaml) (1.7.3)\r\n",
      "Requirement already satisfied: lightgbm>=2.3.1 in /opt/conda/lib/python3.7/site-packages (from flaml) (3.3.1)\r\n",
      "Requirement already satisfied: scikit-learn>=0.24 in /opt/conda/lib/python3.7/site-packages (from flaml) (1.0.2)\r\n",
      "Collecting xgboost<=1.3.3,>=0.90\r\n",
      "  Downloading xgboost-1.3.3-py3-none-manylinux2010_x86_64.whl (157.5 MB)\r\n",
      "\u001b[2K     \u001b[90m━━━━━━━━━━━━━━━━━━━━━━━━━━━━━━━━━━━━━━━\u001b[0m \u001b[32m157.5/157.5 MB\u001b[0m \u001b[31m5.2 MB/s\u001b[0m eta \u001b[36m0:00:00\u001b[0m\r\n",
      "\u001b[?25hRequirement already satisfied: pandas>=1.1.4 in /opt/conda/lib/python3.7/site-packages (from flaml) (1.3.5)\r\n",
      "Requirement already satisfied: NumPy>=1.16.2 in /opt/conda/lib/python3.7/site-packages (from flaml) (1.21.6)\r\n",
      "Requirement already satisfied: wheel in /opt/conda/lib/python3.7/site-packages (from lightgbm>=2.3.1->flaml) (0.37.1)\r\n",
      "Requirement already satisfied: python-dateutil>=2.7.3 in /opt/conda/lib/python3.7/site-packages (from pandas>=1.1.4->flaml) (2.8.2)\r\n",
      "Requirement already satisfied: pytz>=2017.3 in /opt/conda/lib/python3.7/site-packages (from pandas>=1.1.4->flaml) (2021.3)\r\n",
      "Requirement already satisfied: threadpoolctl>=2.0.0 in /opt/conda/lib/python3.7/site-packages (from scikit-learn>=0.24->flaml) (3.1.0)\r\n",
      "Requirement already satisfied: joblib>=0.11 in /opt/conda/lib/python3.7/site-packages (from scikit-learn>=0.24->flaml) (1.0.1)\r\n",
      "Requirement already satisfied: six>=1.5 in /opt/conda/lib/python3.7/site-packages (from python-dateutil>=2.7.3->pandas>=1.1.4->flaml) (1.16.0)\r\n",
      "Installing collected packages: xgboost, flaml\r\n",
      "  Attempting uninstall: xgboost\r\n",
      "    Found existing installation: xgboost 1.6.1\r\n",
      "    Uninstalling xgboost-1.6.1:\r\n",
      "      Successfully uninstalled xgboost-1.6.1\r\n",
      "Successfully installed flaml-1.0.1 xgboost-1.3.3\r\n",
      "\u001b[33mWARNING: Running pip as the 'root' user can result in broken permissions and conflicting behaviour with the system package manager. It is recommended to use a virtual environment instead: https://pip.pypa.io/warnings/venv\u001b[0m\u001b[33m\r\n",
      "\u001b[0m"
     ]
    },
    {
     "data": {
      "text/html": [
       "<style type='text/css'>\n",
       ".datatable table.frame { margin-bottom: 0; }\n",
       ".datatable table.frame thead { border-bottom: none; }\n",
       ".datatable table.frame tr.coltypes td {  color: #FFFFFF;  line-height: 6px;  padding: 0 0.5em;}\n",
       ".datatable .bool    { background: #DDDD99; }\n",
       ".datatable .object  { background: #565656; }\n",
       ".datatable .int     { background: #5D9E5D; }\n",
       ".datatable .float   { background: #4040CC; }\n",
       ".datatable .str     { background: #CC4040; }\n",
       ".datatable .time    { background: #40CC40; }\n",
       ".datatable .row_index {  background: var(--jp-border-color3);  border-right: 1px solid var(--jp-border-color0);  color: var(--jp-ui-font-color3);  font-size: 9px;}\n",
       ".datatable .frame tbody td { text-align: left; }\n",
       ".datatable .frame tr.coltypes .row_index {  background: var(--jp-border-color0);}\n",
       ".datatable th:nth-child(2) { padding-left: 12px; }\n",
       ".datatable .hellipsis {  color: var(--jp-cell-editor-border-color);}\n",
       ".datatable .vellipsis {  background: var(--jp-layout-color0);  color: var(--jp-cell-editor-border-color);}\n",
       ".datatable .na {  color: var(--jp-cell-editor-border-color);  font-size: 80%;}\n",
       ".datatable .sp {  opacity: 0.25;}\n",
       ".datatable .footer { font-size: 9px; }\n",
       ".datatable .frame_dimensions {  background: var(--jp-border-color3);  border-top: 1px solid var(--jp-border-color0);  color: var(--jp-ui-font-color3);  display: inline-block;  opacity: 0.6;  padding: 1px 10px 1px 5px;}\n",
       "</style>\n"
      ],
      "text/plain": [
       "<IPython.core.display.HTML object>"
      ]
     },
     "metadata": {},
     "output_type": "display_data"
    }
   ],
   "source": [
    "!pip install flaml\n",
    "\n",
    "from sklearn.model_selection import train_test_split\n",
    "from flaml import AutoML\n",
    "from sklearn.decomposition import PCA\n",
    "import pandas_profiling\n",
    "import seaborn as sns\n",
    "from sklearn.metrics import classification_report\n",
    "import numpy as np\n",
    "import pandas as pd"
   ]
  },
  {
   "cell_type": "code",
   "execution_count": 3,
   "id": "0c547fe0",
   "metadata": {
    "execution": {
     "iopub.execute_input": "2022-05-17T07:18:57.598778Z",
     "iopub.status.busy": "2022-05-17T07:18:57.597968Z",
     "iopub.status.idle": "2022-05-17T07:18:57.847436Z",
     "shell.execute_reply": "2022-05-17T07:18:57.846411Z"
    },
    "papermill": {
     "duration": 0.329768,
     "end_time": "2022-05-17T07:18:57.850126",
     "exception": false,
     "start_time": "2022-05-17T07:18:57.520358",
     "status": "completed"
    },
    "tags": []
   },
   "outputs": [
    {
     "data": {
      "text/html": [
       "<div>\n",
       "<style scoped>\n",
       "    .dataframe tbody tr th:only-of-type {\n",
       "        vertical-align: middle;\n",
       "    }\n",
       "\n",
       "    .dataframe tbody tr th {\n",
       "        vertical-align: top;\n",
       "    }\n",
       "\n",
       "    .dataframe thead th {\n",
       "        text-align: right;\n",
       "    }\n",
       "</style>\n",
       "<table border=\"1\" class=\"dataframe\">\n",
       "  <thead>\n",
       "    <tr style=\"text-align: right;\">\n",
       "      <th></th>\n",
       "      <th>Solidity</th>\n",
       "      <th>Eccentricity</th>\n",
       "      <th>EquivDiameter</th>\n",
       "      <th>Extrema</th>\n",
       "      <th>FilledArea</th>\n",
       "      <th>Extent</th>\n",
       "      <th>Orientation</th>\n",
       "      <th>EulerNumber</th>\n",
       "      <th>BoundingBox1</th>\n",
       "      <th>BoundingBox2</th>\n",
       "      <th>...</th>\n",
       "      <th>ConvexHull4</th>\n",
       "      <th>MajorAxisLength</th>\n",
       "      <th>MinorAxisLength</th>\n",
       "      <th>Perimeter</th>\n",
       "      <th>ConvexArea</th>\n",
       "      <th>Centroid1</th>\n",
       "      <th>Centroid2</th>\n",
       "      <th>Area</th>\n",
       "      <th>raddi</th>\n",
       "      <th>microorganisms</th>\n",
       "    </tr>\n",
       "  </thead>\n",
       "  <tbody>\n",
       "    <tr>\n",
       "      <th>0</th>\n",
       "      <td>10.70</td>\n",
       "      <td>15.8</td>\n",
       "      <td>5.43</td>\n",
       "      <td>3.75</td>\n",
       "      <td>0.7850</td>\n",
       "      <td>8.14</td>\n",
       "      <td>2.15</td>\n",
       "      <td>22.3</td>\n",
       "      <td>2.97</td>\n",
       "      <td>10.90</td>\n",
       "      <td>...</td>\n",
       "      <td>2.97</td>\n",
       "      <td>1.340</td>\n",
       "      <td>1.610</td>\n",
       "      <td>0.683</td>\n",
       "      <td>0.1950</td>\n",
       "      <td>3.63</td>\n",
       "      <td>12.10</td>\n",
       "      <td>1.310</td>\n",
       "      <td>7.99</td>\n",
       "      <td>Spirogyra</td>\n",
       "    </tr>\n",
       "    <tr>\n",
       "      <th>1</th>\n",
       "      <td>5.60</td>\n",
       "      <td>18.3</td>\n",
       "      <td>4.14</td>\n",
       "      <td>6.16</td>\n",
       "      <td>0.3640</td>\n",
       "      <td>3.51</td>\n",
       "      <td>18.60</td>\n",
       "      <td>22.5</td>\n",
       "      <td>5.41</td>\n",
       "      <td>19.20</td>\n",
       "      <td>...</td>\n",
       "      <td>5.47</td>\n",
       "      <td>1.520</td>\n",
       "      <td>1.520</td>\n",
       "      <td>1.010</td>\n",
       "      <td>0.2150</td>\n",
       "      <td>6.01</td>\n",
       "      <td>20.60</td>\n",
       "      <td>0.765</td>\n",
       "      <td>7.99</td>\n",
       "      <td>Spirogyra</td>\n",
       "    </tr>\n",
       "    <tr>\n",
       "      <th>2</th>\n",
       "      <td>8.32</td>\n",
       "      <td>19.8</td>\n",
       "      <td>4.63</td>\n",
       "      <td>6.66</td>\n",
       "      <td>0.4150</td>\n",
       "      <td>5.85</td>\n",
       "      <td>21.00</td>\n",
       "      <td>22.4</td>\n",
       "      <td>5.96</td>\n",
       "      <td>10.20</td>\n",
       "      <td>...</td>\n",
       "      <td>5.96</td>\n",
       "      <td>1.630</td>\n",
       "      <td>1.380</td>\n",
       "      <td>1.110</td>\n",
       "      <td>0.1820</td>\n",
       "      <td>6.55</td>\n",
       "      <td>11.50</td>\n",
       "      <td>0.953</td>\n",
       "      <td>7.99</td>\n",
       "      <td>Spirogyra</td>\n",
       "    </tr>\n",
       "    <tr>\n",
       "      <th>3</th>\n",
       "      <td>10.10</td>\n",
       "      <td>17.9</td>\n",
       "      <td>7.29</td>\n",
       "      <td>11.10</td>\n",
       "      <td>1.4700</td>\n",
       "      <td>6.30</td>\n",
       "      <td>9.94</td>\n",
       "      <td>21.9</td>\n",
       "      <td>8.81</td>\n",
       "      <td>10.70</td>\n",
       "      <td>...</td>\n",
       "      <td>8.88</td>\n",
       "      <td>2.040</td>\n",
       "      <td>2.120</td>\n",
       "      <td>0.715</td>\n",
       "      <td>0.3710</td>\n",
       "      <td>10.30</td>\n",
       "      <td>12.00</td>\n",
       "      <td>2.340</td>\n",
       "      <td>7.99</td>\n",
       "      <td>Spirogyra</td>\n",
       "    </tr>\n",
       "    <tr>\n",
       "      <th>4</th>\n",
       "      <td>6.27</td>\n",
       "      <td>20.2</td>\n",
       "      <td>20.10</td>\n",
       "      <td>10.70</td>\n",
       "      <td>14.7000</td>\n",
       "      <td>3.97</td>\n",
       "      <td>2.58</td>\n",
       "      <td>11.9</td>\n",
       "      <td>10.20</td>\n",
       "      <td>1.22</td>\n",
       "      <td>...</td>\n",
       "      <td>10.20</td>\n",
       "      <td>7.780</td>\n",
       "      <td>6.210</td>\n",
       "      <td>6.800</td>\n",
       "      <td>4.4400</td>\n",
       "      <td>14.00</td>\n",
       "      <td>9.55</td>\n",
       "      <td>17.600</td>\n",
       "      <td>7.99</td>\n",
       "      <td>Spirogyra</td>\n",
       "    </tr>\n",
       "    <tr>\n",
       "      <th>...</th>\n",
       "      <td>...</td>\n",
       "      <td>...</td>\n",
       "      <td>...</td>\n",
       "      <td>...</td>\n",
       "      <td>...</td>\n",
       "      <td>...</td>\n",
       "      <td>...</td>\n",
       "      <td>...</td>\n",
       "      <td>...</td>\n",
       "      <td>...</td>\n",
       "      <td>...</td>\n",
       "      <td>...</td>\n",
       "      <td>...</td>\n",
       "      <td>...</td>\n",
       "      <td>...</td>\n",
       "      <td>...</td>\n",
       "      <td>...</td>\n",
       "      <td>...</td>\n",
       "      <td>...</td>\n",
       "      <td>...</td>\n",
       "      <td>...</td>\n",
       "    </tr>\n",
       "    <tr>\n",
       "      <th>30522</th>\n",
       "      <td>3.01</td>\n",
       "      <td>22.6</td>\n",
       "      <td>4.90</td>\n",
       "      <td>20.00</td>\n",
       "      <td>0.4340</td>\n",
       "      <td>1.40</td>\n",
       "      <td>19.90</td>\n",
       "      <td>22.1</td>\n",
       "      <td>18.10</td>\n",
       "      <td>9.92</td>\n",
       "      <td>...</td>\n",
       "      <td>18.60</td>\n",
       "      <td>4.350</td>\n",
       "      <td>1.350</td>\n",
       "      <td>1.710</td>\n",
       "      <td>0.5490</td>\n",
       "      <td>19.10</td>\n",
       "      <td>13.20</td>\n",
       "      <td>1.070</td>\n",
       "      <td>7.15</td>\n",
       "      <td>Ulothrix</td>\n",
       "    </tr>\n",
       "    <tr>\n",
       "      <th>30523</th>\n",
       "      <td>5.19</td>\n",
       "      <td>22.6</td>\n",
       "      <td>2.07</td>\n",
       "      <td>19.40</td>\n",
       "      <td>0.0788</td>\n",
       "      <td>1.67</td>\n",
       "      <td>5.09</td>\n",
       "      <td>22.8</td>\n",
       "      <td>19.20</td>\n",
       "      <td>16.20</td>\n",
       "      <td>...</td>\n",
       "      <td>20.00</td>\n",
       "      <td>1.460</td>\n",
       "      <td>0.411</td>\n",
       "      <td>0.458</td>\n",
       "      <td>0.0597</td>\n",
       "      <td>19.80</td>\n",
       "      <td>17.20</td>\n",
       "      <td>0.197</td>\n",
       "      <td>7.15</td>\n",
       "      <td>Ulothrix</td>\n",
       "    </tr>\n",
       "    <tr>\n",
       "      <th>30524</th>\n",
       "      <td>9.21</td>\n",
       "      <td>22.7</td>\n",
       "      <td>2.07</td>\n",
       "      <td>21.00</td>\n",
       "      <td>0.0790</td>\n",
       "      <td>5.81</td>\n",
       "      <td>12.70</td>\n",
       "      <td>22.8</td>\n",
       "      <td>20.10</td>\n",
       "      <td>11.40</td>\n",
       "      <td>...</td>\n",
       "      <td>20.10</td>\n",
       "      <td>1.060</td>\n",
       "      <td>0.257</td>\n",
       "      <td>0.319</td>\n",
       "      <td>0.0341</td>\n",
       "      <td>20.70</td>\n",
       "      <td>11.60</td>\n",
       "      <td>0.198</td>\n",
       "      <td>7.15</td>\n",
       "      <td>Ulothrix</td>\n",
       "    </tr>\n",
       "    <tr>\n",
       "      <th>30525</th>\n",
       "      <td>8.21</td>\n",
       "      <td>22.6</td>\n",
       "      <td>1.87</td>\n",
       "      <td>20.50</td>\n",
       "      <td>0.0641</td>\n",
       "      <td>5.96</td>\n",
       "      <td>11.30</td>\n",
       "      <td>22.8</td>\n",
       "      <td>20.20</td>\n",
       "      <td>20.20</td>\n",
       "      <td>...</td>\n",
       "      <td>20.20</td>\n",
       "      <td>1.010</td>\n",
       "      <td>0.285</td>\n",
       "      <td>0.350</td>\n",
       "      <td>0.0314</td>\n",
       "      <td>20.80</td>\n",
       "      <td>20.40</td>\n",
       "      <td>0.162</td>\n",
       "      <td>7.15</td>\n",
       "      <td>Ulothrix</td>\n",
       "    </tr>\n",
       "    <tr>\n",
       "      <th>30526</th>\n",
       "      <td>6.57</td>\n",
       "      <td>21.0</td>\n",
       "      <td>2.13</td>\n",
       "      <td>21.20</td>\n",
       "      <td>0.0840</td>\n",
       "      <td>3.77</td>\n",
       "      <td>16.50</td>\n",
       "      <td>22.8</td>\n",
       "      <td>20.70</td>\n",
       "      <td>18.00</td>\n",
       "      <td>...</td>\n",
       "      <td>20.80</td>\n",
       "      <td>0.969</td>\n",
       "      <td>0.642</td>\n",
       "      <td>0.385</td>\n",
       "      <td>0.0502</td>\n",
       "      <td>21.00</td>\n",
       "      <td>18.40</td>\n",
       "      <td>0.208</td>\n",
       "      <td>7.15</td>\n",
       "      <td>Ulothrix</td>\n",
       "    </tr>\n",
       "  </tbody>\n",
       "</table>\n",
       "<p>30527 rows × 25 columns</p>\n",
       "</div>"
      ],
      "text/plain": [
       "       Solidity  Eccentricity  EquivDiameter  Extrema  FilledArea  Extent  \\\n",
       "0         10.70          15.8           5.43     3.75      0.7850    8.14   \n",
       "1          5.60          18.3           4.14     6.16      0.3640    3.51   \n",
       "2          8.32          19.8           4.63     6.66      0.4150    5.85   \n",
       "3         10.10          17.9           7.29    11.10      1.4700    6.30   \n",
       "4          6.27          20.2          20.10    10.70     14.7000    3.97   \n",
       "...         ...           ...            ...      ...         ...     ...   \n",
       "30522      3.01          22.6           4.90    20.00      0.4340    1.40   \n",
       "30523      5.19          22.6           2.07    19.40      0.0788    1.67   \n",
       "30524      9.21          22.7           2.07    21.00      0.0790    5.81   \n",
       "30525      8.21          22.6           1.87    20.50      0.0641    5.96   \n",
       "30526      6.57          21.0           2.13    21.20      0.0840    3.77   \n",
       "\n",
       "       Orientation  EulerNumber  BoundingBox1  BoundingBox2  ...  ConvexHull4  \\\n",
       "0             2.15         22.3          2.97         10.90  ...         2.97   \n",
       "1            18.60         22.5          5.41         19.20  ...         5.47   \n",
       "2            21.00         22.4          5.96         10.20  ...         5.96   \n",
       "3             9.94         21.9          8.81         10.70  ...         8.88   \n",
       "4             2.58         11.9         10.20          1.22  ...        10.20   \n",
       "...            ...          ...           ...           ...  ...          ...   \n",
       "30522        19.90         22.1         18.10          9.92  ...        18.60   \n",
       "30523         5.09         22.8         19.20         16.20  ...        20.00   \n",
       "30524        12.70         22.8         20.10         11.40  ...        20.10   \n",
       "30525        11.30         22.8         20.20         20.20  ...        20.20   \n",
       "30526        16.50         22.8         20.70         18.00  ...        20.80   \n",
       "\n",
       "       MajorAxisLength  MinorAxisLength  Perimeter  ConvexArea  Centroid1  \\\n",
       "0                1.340            1.610      0.683      0.1950       3.63   \n",
       "1                1.520            1.520      1.010      0.2150       6.01   \n",
       "2                1.630            1.380      1.110      0.1820       6.55   \n",
       "3                2.040            2.120      0.715      0.3710      10.30   \n",
       "4                7.780            6.210      6.800      4.4400      14.00   \n",
       "...                ...              ...        ...         ...        ...   \n",
       "30522            4.350            1.350      1.710      0.5490      19.10   \n",
       "30523            1.460            0.411      0.458      0.0597      19.80   \n",
       "30524            1.060            0.257      0.319      0.0341      20.70   \n",
       "30525            1.010            0.285      0.350      0.0314      20.80   \n",
       "30526            0.969            0.642      0.385      0.0502      21.00   \n",
       "\n",
       "       Centroid2    Area  raddi  microorganisms  \n",
       "0          12.10   1.310   7.99       Spirogyra  \n",
       "1          20.60   0.765   7.99       Spirogyra  \n",
       "2          11.50   0.953   7.99       Spirogyra  \n",
       "3          12.00   2.340   7.99       Spirogyra  \n",
       "4           9.55  17.600   7.99       Spirogyra  \n",
       "...          ...     ...    ...             ...  \n",
       "30522      13.20   1.070   7.15        Ulothrix  \n",
       "30523      17.20   0.197   7.15        Ulothrix  \n",
       "30524      11.60   0.198   7.15        Ulothrix  \n",
       "30525      20.40   0.162   7.15        Ulothrix  \n",
       "30526      18.40   0.208   7.15        Ulothrix  \n",
       "\n",
       "[30527 rows x 25 columns]"
      ]
     },
     "execution_count": 3,
     "metadata": {},
     "output_type": "execute_result"
    }
   ],
   "source": [
    "MData = pd.read_csv('/kaggle/input/microbes-dataset/microbes.csv', index_col=0)\n",
    "MData"
   ]
  },
  {
   "cell_type": "code",
   "execution_count": 4,
   "id": "79b00399",
   "metadata": {
    "execution": {
     "iopub.execute_input": "2022-05-17T07:18:58.013684Z",
     "iopub.status.busy": "2022-05-17T07:18:58.013324Z",
     "iopub.status.idle": "2022-05-17T07:18:58.023926Z",
     "shell.execute_reply": "2022-05-17T07:18:58.022994Z"
    },
    "papermill": {
     "duration": 0.090675,
     "end_time": "2022-05-17T07:18:58.026070",
     "exception": false,
     "start_time": "2022-05-17T07:18:57.935395",
     "status": "completed"
    },
    "tags": []
   },
   "outputs": [
    {
     "data": {
      "text/plain": [
       "array(['Spirogyra', 'Volvox', 'Pithophora', 'Yeast', 'Raizopus',\n",
       "       'Penicillum', 'Aspergillus sp', 'Protozoa', 'Diatom', 'Ulothrix'],\n",
       "      dtype=object)"
      ]
     },
     "execution_count": 4,
     "metadata": {},
     "output_type": "execute_result"
    }
   ],
   "source": [
    "MData['microorganisms'].unique()"
   ]
  },
  {
   "cell_type": "code",
   "execution_count": 5,
   "id": "d0f7a741",
   "metadata": {
    "execution": {
     "iopub.execute_input": "2022-05-17T07:18:58.180777Z",
     "iopub.status.busy": "2022-05-17T07:18:58.179689Z",
     "iopub.status.idle": "2022-05-17T07:18:58.185324Z",
     "shell.execute_reply": "2022-05-17T07:18:58.184184Z"
    },
    "papermill": {
     "duration": 0.086297,
     "end_time": "2022-05-17T07:18:58.187936",
     "exception": false,
     "start_time": "2022-05-17T07:18:58.101639",
     "status": "completed"
    },
    "tags": []
   },
   "outputs": [],
   "source": [
    "dictForClasses = {k:v for k, v in zip(['Spirogyra', 'Volvox', 'Pithophora', 'Yeast', 'Raizopus',\n",
    "       'Penicillum', 'Aspergillus sp', 'Protozoa', 'Diatom', 'Ulothrix'], list(range(10)))}"
   ]
  },
  {
   "cell_type": "code",
   "execution_count": 6,
   "id": "c83f1999",
   "metadata": {
    "execution": {
     "iopub.execute_input": "2022-05-17T07:18:58.347753Z",
     "iopub.status.busy": "2022-05-17T07:18:58.347387Z",
     "iopub.status.idle": "2022-05-17T07:19:17.638097Z",
     "shell.execute_reply": "2022-05-17T07:19:17.637126Z"
    },
    "papermill": {
     "duration": 19.37369,
     "end_time": "2022-05-17T07:19:17.640699",
     "exception": false,
     "start_time": "2022-05-17T07:18:58.267009",
     "status": "completed"
    },
    "tags": []
   },
   "outputs": [],
   "source": [
    "for i in range(30527):\n",
    "    MData.iloc[i, -1] = dictForClasses[MData.iloc[i, -1]]"
   ]
  },
  {
   "cell_type": "code",
   "execution_count": 7,
   "id": "1abad4a6",
   "metadata": {
    "execution": {
     "iopub.execute_input": "2022-05-17T07:19:17.798520Z",
     "iopub.status.busy": "2022-05-17T07:19:17.798182Z",
     "iopub.status.idle": "2022-05-17T07:19:17.821186Z",
     "shell.execute_reply": "2022-05-17T07:19:17.819983Z"
    },
    "papermill": {
     "duration": 0.104336,
     "end_time": "2022-05-17T07:19:17.824029",
     "exception": false,
     "start_time": "2022-05-17T07:19:17.719693",
     "status": "completed"
    },
    "tags": []
   },
   "outputs": [
    {
     "name": "stdout",
     "output_type": "stream",
     "text": [
      "<class 'pandas.core.frame.DataFrame'>\n",
      "Int64Index: 30527 entries, 0 to 30526\n",
      "Data columns (total 25 columns):\n",
      " #   Column           Non-Null Count  Dtype  \n",
      "---  ------           --------------  -----  \n",
      " 0   Solidity         30527 non-null  float64\n",
      " 1   Eccentricity     30527 non-null  float64\n",
      " 2   EquivDiameter    30527 non-null  float64\n",
      " 3   Extrema          30527 non-null  float64\n",
      " 4   FilledArea       30527 non-null  float64\n",
      " 5   Extent           30527 non-null  float64\n",
      " 6   Orientation      30527 non-null  float64\n",
      " 7   EulerNumber      30527 non-null  float64\n",
      " 8   BoundingBox1     30527 non-null  float64\n",
      " 9   BoundingBox2     30527 non-null  float64\n",
      " 10  BoundingBox3     30527 non-null  float64\n",
      " 11  BoundingBox4     30527 non-null  float64\n",
      " 12  ConvexHull1      30527 non-null  float64\n",
      " 13  ConvexHull2      30527 non-null  float64\n",
      " 14  ConvexHull3      30527 non-null  float64\n",
      " 15  ConvexHull4      30527 non-null  float64\n",
      " 16  MajorAxisLength  30527 non-null  float64\n",
      " 17  MinorAxisLength  30527 non-null  float64\n",
      " 18  Perimeter        30527 non-null  float64\n",
      " 19  ConvexArea       30527 non-null  float64\n",
      " 20  Centroid1        30527 non-null  float64\n",
      " 21  Centroid2        30527 non-null  float64\n",
      " 22  Area             30527 non-null  float64\n",
      " 23  raddi            30527 non-null  float64\n",
      " 24  microorganisms   30527 non-null  object \n",
      "dtypes: float64(24), object(1)\n",
      "memory usage: 6.1+ MB\n"
     ]
    }
   ],
   "source": [
    "MData.info()"
   ]
  },
  {
   "cell_type": "code",
   "execution_count": 8,
   "id": "1942e89c",
   "metadata": {
    "execution": {
     "iopub.execute_input": "2022-05-17T07:19:17.980971Z",
     "iopub.status.busy": "2022-05-17T07:19:17.980341Z",
     "iopub.status.idle": "2022-05-17T07:19:18.265743Z",
     "shell.execute_reply": "2022-05-17T07:19:18.264391Z"
    },
    "papermill": {
     "duration": 0.367073,
     "end_time": "2022-05-17T07:19:18.269456",
     "exception": false,
     "start_time": "2022-05-17T07:19:17.902383",
     "status": "completed"
    },
    "tags": []
   },
   "outputs": [],
   "source": [
    "modelForPCA = PCA(n_components=10).fit_transform(MData.iloc[:, 0:24])"
   ]
  },
  {
   "cell_type": "code",
   "execution_count": 9,
   "id": "4cf8a6a9",
   "metadata": {
    "execution": {
     "iopub.execute_input": "2022-05-17T07:19:18.458944Z",
     "iopub.status.busy": "2022-05-17T07:19:18.458633Z",
     "iopub.status.idle": "2022-05-17T07:19:18.465572Z",
     "shell.execute_reply": "2022-05-17T07:19:18.464906Z"
    },
    "papermill": {
     "duration": 0.086336,
     "end_time": "2022-05-17T07:19:18.467593",
     "exception": false,
     "start_time": "2022-05-17T07:19:18.381257",
     "status": "completed"
    },
    "tags": []
   },
   "outputs": [],
   "source": [
    "X = np.array(modelForPCA)\n",
    "y = np.asarray(MData.iloc[:, 24]).astype('int64')"
   ]
  },
  {
   "cell_type": "code",
   "execution_count": 10,
   "id": "bfab7b44",
   "metadata": {
    "execution": {
     "iopub.execute_input": "2022-05-17T07:19:18.636293Z",
     "iopub.status.busy": "2022-05-17T07:19:18.635757Z",
     "iopub.status.idle": "2022-05-17T07:19:18.641238Z",
     "shell.execute_reply": "2022-05-17T07:19:18.640653Z"
    },
    "papermill": {
     "duration": 0.092151,
     "end_time": "2022-05-17T07:19:18.643313",
     "exception": false,
     "start_time": "2022-05-17T07:19:18.551162",
     "status": "completed"
    },
    "tags": []
   },
   "outputs": [
    {
     "data": {
      "text/plain": [
       "array([[-2.09745388e+01,  1.59603239e+00, -9.91053784e+00, ...,\n",
       "        -2.87740455e-01, -7.08252964e-01,  3.67070098e-01],\n",
       "       [-1.45658752e+01,  1.19409108e+01,  8.73514558e+00, ...,\n",
       "        -1.20892009e+00,  1.71041494e-02,  3.51093625e-01],\n",
       "       [-1.37422741e+01, -5.57507471e-01,  8.24498800e+00, ...,\n",
       "        -8.32251960e-01, -2.20291635e-01,  9.72167910e-01],\n",
       "       ...,\n",
       "       [ 2.37173161e+01,  2.07359440e-01,  2.06157881e+00, ...,\n",
       "         1.53960717e+00,  3.46630861e-01,  9.57946310e-01],\n",
       "       [ 2.39974267e+01,  1.25150374e+01,  2.35956808e+00, ...,\n",
       "         1.31225190e+00,  3.81555901e-01,  1.71767737e+00],\n",
       "       [ 2.51675860e+01,  9.13631241e+00,  7.47669893e+00, ...,\n",
       "         5.79546863e-01,  2.29249182e-01,  6.42199981e-01]])"
      ]
     },
     "execution_count": 10,
     "metadata": {},
     "output_type": "execute_result"
    }
   ],
   "source": [
    "X"
   ]
  },
  {
   "cell_type": "code",
   "execution_count": 11,
   "id": "cfabb105",
   "metadata": {
    "execution": {
     "iopub.execute_input": "2022-05-17T07:19:18.809574Z",
     "iopub.status.busy": "2022-05-17T07:19:18.809233Z",
     "iopub.status.idle": "2022-05-17T07:19:18.814943Z",
     "shell.execute_reply": "2022-05-17T07:19:18.814266Z"
    },
    "papermill": {
     "duration": 0.092473,
     "end_time": "2022-05-17T07:19:18.816902",
     "exception": false,
     "start_time": "2022-05-17T07:19:18.724429",
     "status": "completed"
    },
    "tags": []
   },
   "outputs": [
    {
     "data": {
      "text/plain": [
       "array([0, 0, 0, ..., 9, 9, 9])"
      ]
     },
     "execution_count": 11,
     "metadata": {},
     "output_type": "execute_result"
    }
   ],
   "source": [
    "y"
   ]
  },
  {
   "cell_type": "code",
   "execution_count": 12,
   "id": "5c6282f7",
   "metadata": {
    "execution": {
     "iopub.execute_input": "2022-05-17T07:19:19.015922Z",
     "iopub.status.busy": "2022-05-17T07:19:19.015578Z",
     "iopub.status.idle": "2022-05-17T07:19:33.098368Z",
     "shell.execute_reply": "2022-05-17T07:19:33.097271Z"
    },
    "papermill": {
     "duration": 14.19126,
     "end_time": "2022-05-17T07:19:33.100554",
     "exception": false,
     "start_time": "2022-05-17T07:19:18.909294",
     "status": "completed"
    },
    "tags": []
   },
   "outputs": [
    {
     "name": "stderr",
     "output_type": "stream",
     "text": [
      "[flaml.automl: 05-17 07:19:19] {2105} INFO - task = classification\n",
      "[flaml.automl: 05-17 07:19:19] {2107} INFO - Data split method: stratified\n",
      "[flaml.automl: 05-17 07:19:19] {2111} INFO - Evaluation method: holdout\n",
      "[flaml.automl: 05-17 07:19:19] {2188} INFO - Minimizing error metric: 1-accuracy\n",
      "[flaml.automl: 05-17 07:19:19] {2281} INFO - List of ML learners in AutoML Run: ['lgbm', 'rf', 'catboost', 'xgboost', 'extra_tree', 'xgb_limitdepth', 'lrl1']\n",
      "[flaml.automl: 05-17 07:19:19] {2567} INFO - iteration 0, current learner lgbm\n",
      "[flaml.automl: 05-17 07:19:19] {2698} INFO - Estimated sufficient time budget=3432s. Estimated necessary time budget=84s.\n",
      "[flaml.automl: 05-17 07:19:19] {2750} INFO -  at 0.8s,\testimator lgbm's best error=0.6177,\tbest estimator lgbm's best error=0.6177\n",
      "[flaml.automl: 05-17 07:19:19] {2567} INFO - iteration 1, current learner lgbm\n",
      "[flaml.automl: 05-17 07:19:19] {2750} INFO -  at 0.9s,\testimator lgbm's best error=0.6177,\tbest estimator lgbm's best error=0.6177\n",
      "[flaml.automl: 05-17 07:19:19] {2567} INFO - iteration 2, current learner lgbm\n",
      "[flaml.automl: 05-17 07:19:20] {2750} INFO -  at 1.0s,\testimator lgbm's best error=0.5359,\tbest estimator lgbm's best error=0.5359\n",
      "[flaml.automl: 05-17 07:19:20] {2567} INFO - iteration 3, current learner lgbm\n",
      "[flaml.automl: 05-17 07:19:20] {2750} INFO -  at 1.2s,\testimator lgbm's best error=0.5041,\tbest estimator lgbm's best error=0.5041\n",
      "[flaml.automl: 05-17 07:19:20] {2567} INFO - iteration 4, current learner lgbm\n",
      "[flaml.automl: 05-17 07:19:20] {2750} INFO -  at 1.4s,\testimator lgbm's best error=0.5041,\tbest estimator lgbm's best error=0.5041\n",
      "[flaml.automl: 05-17 07:19:20] {2567} INFO - iteration 5, current learner lgbm\n",
      "[flaml.automl: 05-17 07:19:20] {2750} INFO -  at 1.6s,\testimator lgbm's best error=0.4676,\tbest estimator lgbm's best error=0.4676\n",
      "[flaml.automl: 05-17 07:19:20] {2567} INFO - iteration 6, current learner lgbm\n",
      "[flaml.automl: 05-17 07:19:20] {2750} INFO -  at 1.8s,\testimator lgbm's best error=0.4676,\tbest estimator lgbm's best error=0.4676\n",
      "[flaml.automl: 05-17 07:19:20] {2567} INFO - iteration 7, current learner lgbm\n",
      "[flaml.automl: 05-17 07:19:20] {2750} INFO -  at 1.9s,\testimator lgbm's best error=0.4676,\tbest estimator lgbm's best error=0.4676\n",
      "[flaml.automl: 05-17 07:19:20] {2567} INFO - iteration 8, current learner lgbm\n",
      "[flaml.automl: 05-17 07:19:21] {2750} INFO -  at 2.5s,\testimator lgbm's best error=0.4158,\tbest estimator lgbm's best error=0.4158\n",
      "[flaml.automl: 05-17 07:19:21] {2567} INFO - iteration 9, current learner xgboost\n",
      "[flaml.automl: 05-17 07:19:21] {2750} INFO -  at 2.7s,\testimator xgboost's best error=0.5707,\tbest estimator lgbm's best error=0.4158\n",
      "[flaml.automl: 05-17 07:19:21] {2567} INFO - iteration 10, current learner xgboost\n",
      "[flaml.automl: 05-17 07:19:21] {2750} INFO -  at 2.8s,\testimator xgboost's best error=0.5707,\tbest estimator lgbm's best error=0.4158\n",
      "[flaml.automl: 05-17 07:19:21] {2567} INFO - iteration 11, current learner xgboost\n",
      "[flaml.automl: 05-17 07:19:21] {2750} INFO -  at 3.0s,\testimator xgboost's best error=0.5376,\tbest estimator lgbm's best error=0.4158\n",
      "[flaml.automl: 05-17 07:19:21] {2567} INFO - iteration 12, current learner extra_tree\n",
      "[flaml.automl: 05-17 07:19:22] {2750} INFO -  at 3.0s,\testimator extra_tree's best error=0.7560,\tbest estimator lgbm's best error=0.4158\n",
      "[flaml.automl: 05-17 07:19:22] {2567} INFO - iteration 13, current learner extra_tree\n",
      "[flaml.automl: 05-17 07:19:22] {2750} INFO -  at 3.1s,\testimator extra_tree's best error=0.6881,\tbest estimator lgbm's best error=0.4158\n",
      "[flaml.automl: 05-17 07:19:22] {2567} INFO - iteration 14, current learner extra_tree\n",
      "[flaml.automl: 05-17 07:19:22] {2750} INFO -  at 3.1s,\testimator extra_tree's best error=0.6881,\tbest estimator lgbm's best error=0.4158\n",
      "[flaml.automl: 05-17 07:19:22] {2567} INFO - iteration 15, current learner lgbm\n",
      "[flaml.automl: 05-17 07:19:22] {2750} INFO -  at 3.3s,\testimator lgbm's best error=0.4158,\tbest estimator lgbm's best error=0.4158\n",
      "[flaml.automl: 05-17 07:19:22] {2567} INFO - iteration 16, current learner extra_tree\n",
      "[flaml.automl: 05-17 07:19:22] {2750} INFO -  at 3.4s,\testimator extra_tree's best error=0.6881,\tbest estimator lgbm's best error=0.4158\n",
      "[flaml.automl: 05-17 07:19:22] {2567} INFO - iteration 17, current learner rf\n",
      "[flaml.automl: 05-17 07:19:22] {2750} INFO -  at 3.6s,\testimator rf's best error=0.6799,\tbest estimator lgbm's best error=0.4158\n",
      "[flaml.automl: 05-17 07:19:22] {2567} INFO - iteration 18, current learner lgbm\n",
      "[flaml.automl: 05-17 07:19:26] {2750} INFO -  at 7.5s,\testimator lgbm's best error=0.0204,\tbest estimator lgbm's best error=0.0204\n",
      "[flaml.automl: 05-17 07:19:26] {2567} INFO - iteration 19, current learner rf\n",
      "[flaml.automl: 05-17 07:19:26] {2750} INFO -  at 7.6s,\testimator rf's best error=0.5859,\tbest estimator lgbm's best error=0.0204\n",
      "[flaml.automl: 05-17 07:19:26] {2567} INFO - iteration 20, current learner rf\n",
      "[flaml.automl: 05-17 07:19:26] {2750} INFO -  at 7.7s,\testimator rf's best error=0.5859,\tbest estimator lgbm's best error=0.0204\n",
      "[flaml.automl: 05-17 07:19:26] {2567} INFO - iteration 21, current learner xgboost\n",
      "[flaml.automl: 05-17 07:19:26] {2750} INFO -  at 7.9s,\testimator xgboost's best error=0.5276,\tbest estimator lgbm's best error=0.0204\n",
      "[flaml.automl: 05-17 07:19:26] {2567} INFO - iteration 22, current learner rf\n",
      "[flaml.automl: 05-17 07:19:27] {2750} INFO -  at 8.2s,\testimator rf's best error=0.5859,\tbest estimator lgbm's best error=0.0204\n",
      "[flaml.automl: 05-17 07:19:27] {2567} INFO - iteration 23, current learner rf\n",
      "[flaml.automl: 05-17 07:19:27] {2750} INFO -  at 8.3s,\testimator rf's best error=0.5672,\tbest estimator lgbm's best error=0.0204\n",
      "[flaml.automl: 05-17 07:19:27] {2567} INFO - iteration 24, current learner extra_tree\n",
      "[flaml.automl: 05-17 07:19:27] {2750} INFO -  at 8.4s,\testimator extra_tree's best error=0.6529,\tbest estimator lgbm's best error=0.0204\n",
      "[flaml.automl: 05-17 07:19:27] {2567} INFO - iteration 25, current learner catboost\n",
      "[flaml.automl: 05-17 07:19:28] {2750} INFO -  at 9.8s,\testimator catboost's best error=0.4110,\tbest estimator lgbm's best error=0.0204\n",
      "[flaml.automl: 05-17 07:19:28] {2567} INFO - iteration 26, current learner extra_tree\n",
      "[flaml.automl: 05-17 07:19:28] {2750} INFO -  at 9.9s,\testimator extra_tree's best error=0.6529,\tbest estimator lgbm's best error=0.0204\n",
      "[flaml.automl: 05-17 07:19:28] {2567} INFO - iteration 27, current learner extra_tree\n",
      "[flaml.automl: 05-17 07:19:29] {2750} INFO -  at 10.0s,\testimator extra_tree's best error=0.6059,\tbest estimator lgbm's best error=0.0204\n",
      "[flaml.automl: 05-17 07:19:29] {2567} INFO - iteration 28, current learner xgb_limitdepth\n",
      "[flaml.automl: 05-17 07:19:29] {2750} INFO -  at 10.3s,\testimator xgb_limitdepth's best error=0.3936,\tbest estimator lgbm's best error=0.0204\n",
      "[flaml.automl: 05-17 07:19:33] {2976} INFO - retrain lgbm for 3.8s\n",
      "[flaml.automl: 05-17 07:19:33] {2981} INFO - retrained model: LGBMClassifier(colsample_bytree=0.6649148062238498,\n",
      "               learning_rate=0.17402065726724145, max_bin=255,\n",
      "               min_child_samples=3, n_estimators=154, num_leaves=18,\n",
      "               reg_alpha=0.0009765625, reg_lambda=0.006761362450996487,\n",
      "               verbose=-1)\n",
      "[flaml.automl: 05-17 07:19:33] {2310} INFO - fit succeeded\n",
      "[flaml.automl: 05-17 07:19:33] {2312} INFO - Time taken to find the best model: 7.493636608123779\n",
      "[flaml.automl: 05-17 07:19:33] {2326} WARNING - Time taken to find the best model is 75% of the provided time budget and not all estimators' hyperparameter search converged. Consider increasing the time budget.\n"
     ]
    }
   ],
   "source": [
    "X_train, X_test, y_train, y_test = train_test_split(X, y, random_state=0)\n",
    "\n",
    "model = AutoML()\n",
    "\n",
    "model.fit(X_train, y_train, task='classification', time_budget=10, metric='accuracy')"
   ]
  },
  {
   "cell_type": "code",
   "execution_count": 13,
   "id": "7eedc1a1",
   "metadata": {
    "execution": {
     "iopub.execute_input": "2022-05-17T07:19:33.298158Z",
     "iopub.status.busy": "2022-05-17T07:19:33.297814Z",
     "iopub.status.idle": "2022-05-17T07:19:33.305071Z",
     "shell.execute_reply": "2022-05-17T07:19:33.303857Z"
    },
    "papermill": {
     "duration": 0.110535,
     "end_time": "2022-05-17T07:19:33.307103",
     "exception": false,
     "start_time": "2022-05-17T07:19:33.196568",
     "status": "completed"
    },
    "tags": []
   },
   "outputs": [
    {
     "name": "stdout",
     "output_type": "stream",
     "text": [
      "Best ML Model: lgbm\n",
      "Best hyperparmeter config: {'n_estimators': 154, 'num_leaves': 18, 'min_child_samples': 3, 'learning_rate': 0.17402065726724145, 'log_max_bin': 8, 'colsample_bytree': 0.6649148062238498, 'reg_alpha': 0.0009765625, 'reg_lambda': 0.006761362450996487}\n",
      "Best Accuracy on validation data: 0.979556\n",
      "Training duration of best run: 3.785859 s\n"
     ]
    }
   ],
   "source": [
    "print('Best ML Model:', model.best_estimator)\n",
    "print('Best hyperparmeter config:', model.best_config)\n",
    "print('Best Accuracy on validation data: %f'%(1 - model.best_loss))\n",
    "print('Training duration of best run: %f s'%(model.best_config_train_time))"
   ]
  },
  {
   "cell_type": "code",
   "execution_count": 14,
   "id": "0a150917",
   "metadata": {
    "execution": {
     "iopub.execute_input": "2022-05-17T07:19:33.500231Z",
     "iopub.status.busy": "2022-05-17T07:19:33.499888Z",
     "iopub.status.idle": "2022-05-17T07:19:34.524225Z",
     "shell.execute_reply": "2022-05-17T07:19:34.523032Z"
    },
    "papermill": {
     "duration": 1.124124,
     "end_time": "2022-05-17T07:19:34.526806",
     "exception": false,
     "start_time": "2022-05-17T07:19:33.402682",
     "status": "completed"
    },
    "tags": []
   },
   "outputs": [],
   "source": [
    "y_pred = model.predict(X_test)"
   ]
  },
  {
   "cell_type": "code",
   "execution_count": 15,
   "id": "5940fe12",
   "metadata": {
    "execution": {
     "iopub.execute_input": "2022-05-17T07:19:34.720044Z",
     "iopub.status.busy": "2022-05-17T07:19:34.719468Z",
     "iopub.status.idle": "2022-05-17T07:19:34.746139Z",
     "shell.execute_reply": "2022-05-17T07:19:34.744665Z"
    },
    "papermill": {
     "duration": 0.125566,
     "end_time": "2022-05-17T07:19:34.748455",
     "exception": false,
     "start_time": "2022-05-17T07:19:34.622889",
     "status": "completed"
    },
    "tags": []
   },
   "outputs": [
    {
     "name": "stdout",
     "output_type": "stream",
     "text": [
      "                precision    recall  f1-score   support\n",
      "\n",
      "     Spirogyra       0.83      1.00      0.91       120\n",
      "        Volvox       1.00      0.97      0.99      1080\n",
      "    Pithophora       0.94      0.99      0.96       328\n",
      "         Yeast       1.00      0.98      0.99       920\n",
      "      Raizopus       1.00      1.00      1.00       603\n",
      "    Penicillum       1.00      1.00      1.00       280\n",
      "Aspergillus sp       0.94      0.98      0.96       927\n",
      "      Protozoa       1.00      0.99      1.00      1010\n",
      "        Diatom       1.00      0.99      1.00       453\n",
      "      Ulothrix       0.98      0.97      0.98      1911\n",
      "\n",
      "      accuracy                           0.98      7632\n",
      "     macro avg       0.97      0.99      0.98      7632\n",
      "  weighted avg       0.98      0.98      0.98      7632\n",
      "\n"
     ]
    }
   ],
   "source": [
    "print(classification_report(y_pred, y_test, target_names=dictForClasses.keys()))"
   ]
  },
  {
   "cell_type": "code",
   "execution_count": null,
   "id": "068563df",
   "metadata": {
    "papermill": {
     "duration": 0.095082,
     "end_time": "2022-05-17T07:19:34.940263",
     "exception": false,
     "start_time": "2022-05-17T07:19:34.845181",
     "status": "completed"
    },
    "tags": []
   },
   "outputs": [],
   "source": []
  }
 ],
 "metadata": {
  "kernelspec": {
   "display_name": "Python 3",
   "language": "python",
   "name": "python3"
  },
  "language_info": {
   "codemirror_mode": {
    "name": "ipython",
    "version": 3
   },
   "file_extension": ".py",
   "mimetype": "text/x-python",
   "name": "python",
   "nbconvert_exporter": "python",
   "pygments_lexer": "ipython3",
   "version": "3.7.12"
  },
  "papermill": {
   "default_parameters": {},
   "duration": 87.743451,
   "end_time": "2022-05-17T07:19:37.550247",
   "environment_variables": {},
   "exception": null,
   "input_path": "__notebook__.ipynb",
   "output_path": "__notebook__.ipynb",
   "parameters": {},
   "start_time": "2022-05-17T07:18:09.806796",
   "version": "2.3.4"
  }
 },
 "nbformat": 4,
 "nbformat_minor": 5
}
