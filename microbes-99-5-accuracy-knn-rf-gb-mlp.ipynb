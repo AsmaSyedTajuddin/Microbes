{
 "cells": [
  {
   "cell_type": "code",
   "execution_count": 1,
   "id": "2aa4c3b5",
   "metadata": {
    "execution": {
     "iopub.execute_input": "2022-05-27T18:10:38.989904Z",
     "iopub.status.busy": "2022-05-27T18:10:38.989348Z",
     "iopub.status.idle": "2022-05-27T18:10:39.000622Z",
     "shell.execute_reply": "2022-05-27T18:10:38.999955Z"
    },
    "papermill": {
     "duration": 0.055526,
     "end_time": "2022-05-27T18:10:39.003232",
     "exception": false,
     "start_time": "2022-05-27T18:10:38.947706",
     "status": "completed"
    },
    "tags": []
   },
   "outputs": [],
   "source": [
    "# This Python 3 environment comes with many helpful analytics libraries installed\n",
    "# It is defined by the kaggle/python Docker image: https://github.com/kaggle/docker-python\n",
    "# For example, here's several helpful packages to load\n",
    "\n",
    "import numpy as np # linear algebra\n",
    "import pandas as pd # data processing, CSV file I/O (e.g. pd.read_csv)\n",
    "\n",
    "# Input data files are available in the read-only \"../input/\" directory\n",
    "# For example, running this (by clicking run or pressing Shift+Enter) will list all files under the input directory\n",
    "\n",
    "import os\n",
    "\n",
    "# You can write up to 20GB to the current directory (/kaggle/working/) that gets preserved as output when you create a version using \"Save & Run All\" \n",
    "# You can also write temporary files to /kaggle/temp/, but they won't be saved outside of the current session"
   ]
  },
  {
   "cell_type": "code",
   "execution_count": 2,
   "id": "c3de5e8d",
   "metadata": {
    "execution": {
     "iopub.execute_input": "2022-05-27T18:10:39.081257Z",
     "iopub.status.busy": "2022-05-27T18:10:39.080786Z",
     "iopub.status.idle": "2022-05-27T18:10:40.868722Z",
     "shell.execute_reply": "2022-05-27T18:10:40.867611Z"
    },
    "papermill": {
     "duration": 1.830017,
     "end_time": "2022-05-27T18:10:40.871654",
     "exception": false,
     "start_time": "2022-05-27T18:10:39.041637",
     "status": "completed"
    },
    "tags": []
   },
   "outputs": [],
   "source": [
    "import pandas as pd \n",
    "import numpy as np \n",
    "import seaborn as sns\n",
    "import matplotlib.pyplot as plt\n",
    "from scipy import stats\n",
    "\n",
    "# redistribute the unbalanced data with over sampling\n",
    "from imblearn.over_sampling import SMOTE\n",
    "\n",
    "from sklearn.metrics import confusion_matrix\n",
    "\n",
    "# display progress of loops\n",
    "from tqdm import tqdm\n",
    "\n",
    "from sklearn.preprocessing import StandardScaler\n",
    "from sklearn.model_selection import train_test_split, GridSearchCV\n",
    "from sklearn.neighbors import KNeighborsClassifier\n",
    "from sklearn.ensemble import RandomForestClassifier, GradientBoostingClassifier\n",
    "from sklearn.neural_network import MLPClassifier\n",
    "from sklearn.model_selection import cross_val_score"
   ]
  },
  {
   "cell_type": "code",
   "execution_count": 3,
   "id": "4c22dfbc",
   "metadata": {
    "execution": {
     "iopub.execute_input": "2022-05-27T18:10:40.953700Z",
     "iopub.status.busy": "2022-05-27T18:10:40.953385Z",
     "iopub.status.idle": "2022-05-27T18:10:41.181537Z",
     "shell.execute_reply": "2022-05-27T18:10:41.180629Z"
    },
    "papermill": {
     "duration": 0.26984,
     "end_time": "2022-05-27T18:10:41.183861",
     "exception": false,
     "start_time": "2022-05-27T18:10:40.914021",
     "status": "completed"
    },
    "tags": []
   },
   "outputs": [],
   "source": [
    "df = pd.read_csv('../input/microbes-dataset/microbes.csv')"
   ]
  },
  {
   "cell_type": "markdown",
   "id": "45a1340c",
   "metadata": {
    "papermill": {
     "duration": 0.038714,
     "end_time": "2022-05-27T18:10:41.262964",
     "exception": false,
     "start_time": "2022-05-27T18:10:41.224250",
     "status": "completed"
    },
    "tags": []
   },
   "source": [
    "# ***1. EDA***"
   ]
  },
  {
   "cell_type": "code",
   "execution_count": 4,
   "id": "c7f09f22",
   "metadata": {
    "execution": {
     "iopub.execute_input": "2022-05-27T18:10:41.344447Z",
     "iopub.status.busy": "2022-05-27T18:10:41.344138Z",
     "iopub.status.idle": "2022-05-27T18:10:41.389526Z",
     "shell.execute_reply": "2022-05-27T18:10:41.388531Z"
    },
    "papermill": {
     "duration": 0.088773,
     "end_time": "2022-05-27T18:10:41.392059",
     "exception": false,
     "start_time": "2022-05-27T18:10:41.303286",
     "status": "completed"
    },
    "tags": []
   },
   "outputs": [
    {
     "data": {
      "text/html": [
       "<div>\n",
       "<style scoped>\n",
       "    .dataframe tbody tr th:only-of-type {\n",
       "        vertical-align: middle;\n",
       "    }\n",
       "\n",
       "    .dataframe tbody tr th {\n",
       "        vertical-align: top;\n",
       "    }\n",
       "\n",
       "    .dataframe thead th {\n",
       "        text-align: right;\n",
       "    }\n",
       "</style>\n",
       "<table border=\"1\" class=\"dataframe\">\n",
       "  <thead>\n",
       "    <tr style=\"text-align: right;\">\n",
       "      <th></th>\n",
       "      <th>Unnamed: 0</th>\n",
       "      <th>Solidity</th>\n",
       "      <th>Eccentricity</th>\n",
       "      <th>EquivDiameter</th>\n",
       "      <th>Extrema</th>\n",
       "      <th>FilledArea</th>\n",
       "      <th>Extent</th>\n",
       "      <th>Orientation</th>\n",
       "      <th>EulerNumber</th>\n",
       "      <th>BoundingBox1</th>\n",
       "      <th>...</th>\n",
       "      <th>ConvexHull4</th>\n",
       "      <th>MajorAxisLength</th>\n",
       "      <th>MinorAxisLength</th>\n",
       "      <th>Perimeter</th>\n",
       "      <th>ConvexArea</th>\n",
       "      <th>Centroid1</th>\n",
       "      <th>Centroid2</th>\n",
       "      <th>Area</th>\n",
       "      <th>raddi</th>\n",
       "      <th>microorganisms</th>\n",
       "    </tr>\n",
       "  </thead>\n",
       "  <tbody>\n",
       "    <tr>\n",
       "      <th>0</th>\n",
       "      <td>0</td>\n",
       "      <td>10.70</td>\n",
       "      <td>15.8</td>\n",
       "      <td>5.43</td>\n",
       "      <td>3.75</td>\n",
       "      <td>0.785</td>\n",
       "      <td>8.14</td>\n",
       "      <td>2.15</td>\n",
       "      <td>22.3</td>\n",
       "      <td>2.97</td>\n",
       "      <td>...</td>\n",
       "      <td>2.97</td>\n",
       "      <td>1.34</td>\n",
       "      <td>1.61</td>\n",
       "      <td>0.683</td>\n",
       "      <td>0.195</td>\n",
       "      <td>3.63</td>\n",
       "      <td>12.10</td>\n",
       "      <td>1.310</td>\n",
       "      <td>7.99</td>\n",
       "      <td>Spirogyra</td>\n",
       "    </tr>\n",
       "    <tr>\n",
       "      <th>1</th>\n",
       "      <td>1</td>\n",
       "      <td>5.60</td>\n",
       "      <td>18.3</td>\n",
       "      <td>4.14</td>\n",
       "      <td>6.16</td>\n",
       "      <td>0.364</td>\n",
       "      <td>3.51</td>\n",
       "      <td>18.60</td>\n",
       "      <td>22.5</td>\n",
       "      <td>5.41</td>\n",
       "      <td>...</td>\n",
       "      <td>5.47</td>\n",
       "      <td>1.52</td>\n",
       "      <td>1.52</td>\n",
       "      <td>1.010</td>\n",
       "      <td>0.215</td>\n",
       "      <td>6.01</td>\n",
       "      <td>20.60</td>\n",
       "      <td>0.765</td>\n",
       "      <td>7.99</td>\n",
       "      <td>Spirogyra</td>\n",
       "    </tr>\n",
       "    <tr>\n",
       "      <th>2</th>\n",
       "      <td>2</td>\n",
       "      <td>8.32</td>\n",
       "      <td>19.8</td>\n",
       "      <td>4.63</td>\n",
       "      <td>6.66</td>\n",
       "      <td>0.415</td>\n",
       "      <td>5.85</td>\n",
       "      <td>21.00</td>\n",
       "      <td>22.4</td>\n",
       "      <td>5.96</td>\n",
       "      <td>...</td>\n",
       "      <td>5.96</td>\n",
       "      <td>1.63</td>\n",
       "      <td>1.38</td>\n",
       "      <td>1.110</td>\n",
       "      <td>0.182</td>\n",
       "      <td>6.55</td>\n",
       "      <td>11.50</td>\n",
       "      <td>0.953</td>\n",
       "      <td>7.99</td>\n",
       "      <td>Spirogyra</td>\n",
       "    </tr>\n",
       "    <tr>\n",
       "      <th>3</th>\n",
       "      <td>3</td>\n",
       "      <td>10.10</td>\n",
       "      <td>17.9</td>\n",
       "      <td>7.29</td>\n",
       "      <td>11.10</td>\n",
       "      <td>1.470</td>\n",
       "      <td>6.30</td>\n",
       "      <td>9.94</td>\n",
       "      <td>21.9</td>\n",
       "      <td>8.81</td>\n",
       "      <td>...</td>\n",
       "      <td>8.88</td>\n",
       "      <td>2.04</td>\n",
       "      <td>2.12</td>\n",
       "      <td>0.715</td>\n",
       "      <td>0.371</td>\n",
       "      <td>10.30</td>\n",
       "      <td>12.00</td>\n",
       "      <td>2.340</td>\n",
       "      <td>7.99</td>\n",
       "      <td>Spirogyra</td>\n",
       "    </tr>\n",
       "    <tr>\n",
       "      <th>4</th>\n",
       "      <td>4</td>\n",
       "      <td>6.27</td>\n",
       "      <td>20.2</td>\n",
       "      <td>20.10</td>\n",
       "      <td>10.70</td>\n",
       "      <td>14.700</td>\n",
       "      <td>3.97</td>\n",
       "      <td>2.58</td>\n",
       "      <td>11.9</td>\n",
       "      <td>10.20</td>\n",
       "      <td>...</td>\n",
       "      <td>10.20</td>\n",
       "      <td>7.78</td>\n",
       "      <td>6.21</td>\n",
       "      <td>6.800</td>\n",
       "      <td>4.440</td>\n",
       "      <td>14.00</td>\n",
       "      <td>9.55</td>\n",
       "      <td>17.600</td>\n",
       "      <td>7.99</td>\n",
       "      <td>Spirogyra</td>\n",
       "    </tr>\n",
       "  </tbody>\n",
       "</table>\n",
       "<p>5 rows × 26 columns</p>\n",
       "</div>"
      ],
      "text/plain": [
       "   Unnamed: 0  Solidity  Eccentricity  EquivDiameter  Extrema  FilledArea  \\\n",
       "0           0     10.70          15.8           5.43     3.75       0.785   \n",
       "1           1      5.60          18.3           4.14     6.16       0.364   \n",
       "2           2      8.32          19.8           4.63     6.66       0.415   \n",
       "3           3     10.10          17.9           7.29    11.10       1.470   \n",
       "4           4      6.27          20.2          20.10    10.70      14.700   \n",
       "\n",
       "   Extent  Orientation  EulerNumber  BoundingBox1  ...  ConvexHull4  \\\n",
       "0    8.14         2.15         22.3          2.97  ...         2.97   \n",
       "1    3.51        18.60         22.5          5.41  ...         5.47   \n",
       "2    5.85        21.00         22.4          5.96  ...         5.96   \n",
       "3    6.30         9.94         21.9          8.81  ...         8.88   \n",
       "4    3.97         2.58         11.9         10.20  ...        10.20   \n",
       "\n",
       "   MajorAxisLength  MinorAxisLength  Perimeter  ConvexArea  Centroid1  \\\n",
       "0             1.34             1.61      0.683       0.195       3.63   \n",
       "1             1.52             1.52      1.010       0.215       6.01   \n",
       "2             1.63             1.38      1.110       0.182       6.55   \n",
       "3             2.04             2.12      0.715       0.371      10.30   \n",
       "4             7.78             6.21      6.800       4.440      14.00   \n",
       "\n",
       "   Centroid2    Area  raddi  microorganisms  \n",
       "0      12.10   1.310   7.99       Spirogyra  \n",
       "1      20.60   0.765   7.99       Spirogyra  \n",
       "2      11.50   0.953   7.99       Spirogyra  \n",
       "3      12.00   2.340   7.99       Spirogyra  \n",
       "4       9.55  17.600   7.99       Spirogyra  \n",
       "\n",
       "[5 rows x 26 columns]"
      ]
     },
     "execution_count": 4,
     "metadata": {},
     "output_type": "execute_result"
    }
   ],
   "source": [
    "df.head()"
   ]
  },
  {
   "cell_type": "code",
   "execution_count": 5,
   "id": "67c7ae98",
   "metadata": {
    "execution": {
     "iopub.execute_input": "2022-05-27T18:10:41.476380Z",
     "iopub.status.busy": "2022-05-27T18:10:41.476105Z",
     "iopub.status.idle": "2022-05-27T18:10:41.509193Z",
     "shell.execute_reply": "2022-05-27T18:10:41.508490Z"
    },
    "papermill": {
     "duration": 0.078066,
     "end_time": "2022-05-27T18:10:41.511537",
     "exception": false,
     "start_time": "2022-05-27T18:10:41.433471",
     "status": "completed"
    },
    "tags": []
   },
   "outputs": [
    {
     "data": {
      "text/html": [
       "<div>\n",
       "<style scoped>\n",
       "    .dataframe tbody tr th:only-of-type {\n",
       "        vertical-align: middle;\n",
       "    }\n",
       "\n",
       "    .dataframe tbody tr th {\n",
       "        vertical-align: top;\n",
       "    }\n",
       "\n",
       "    .dataframe thead th {\n",
       "        text-align: right;\n",
       "    }\n",
       "</style>\n",
       "<table border=\"1\" class=\"dataframe\">\n",
       "  <thead>\n",
       "    <tr style=\"text-align: right;\">\n",
       "      <th></th>\n",
       "      <th>Unnamed: 0</th>\n",
       "      <th>Solidity</th>\n",
       "      <th>Eccentricity</th>\n",
       "      <th>EquivDiameter</th>\n",
       "      <th>Extrema</th>\n",
       "      <th>FilledArea</th>\n",
       "      <th>Extent</th>\n",
       "      <th>Orientation</th>\n",
       "      <th>EulerNumber</th>\n",
       "      <th>BoundingBox1</th>\n",
       "      <th>...</th>\n",
       "      <th>ConvexHull4</th>\n",
       "      <th>MajorAxisLength</th>\n",
       "      <th>MinorAxisLength</th>\n",
       "      <th>Perimeter</th>\n",
       "      <th>ConvexArea</th>\n",
       "      <th>Centroid1</th>\n",
       "      <th>Centroid2</th>\n",
       "      <th>Area</th>\n",
       "      <th>raddi</th>\n",
       "      <th>microorganisms</th>\n",
       "    </tr>\n",
       "  </thead>\n",
       "  <tbody>\n",
       "    <tr>\n",
       "      <th>30522</th>\n",
       "      <td>30522</td>\n",
       "      <td>3.01</td>\n",
       "      <td>22.6</td>\n",
       "      <td>4.90</td>\n",
       "      <td>20.0</td>\n",
       "      <td>0.4340</td>\n",
       "      <td>1.40</td>\n",
       "      <td>19.90</td>\n",
       "      <td>22.1</td>\n",
       "      <td>18.1</td>\n",
       "      <td>...</td>\n",
       "      <td>18.6</td>\n",
       "      <td>4.350</td>\n",
       "      <td>1.350</td>\n",
       "      <td>1.710</td>\n",
       "      <td>0.5490</td>\n",
       "      <td>19.1</td>\n",
       "      <td>13.2</td>\n",
       "      <td>1.070</td>\n",
       "      <td>7.15</td>\n",
       "      <td>Ulothrix</td>\n",
       "    </tr>\n",
       "    <tr>\n",
       "      <th>30523</th>\n",
       "      <td>30523</td>\n",
       "      <td>5.19</td>\n",
       "      <td>22.6</td>\n",
       "      <td>2.07</td>\n",
       "      <td>19.4</td>\n",
       "      <td>0.0788</td>\n",
       "      <td>1.67</td>\n",
       "      <td>5.09</td>\n",
       "      <td>22.8</td>\n",
       "      <td>19.2</td>\n",
       "      <td>...</td>\n",
       "      <td>20.0</td>\n",
       "      <td>1.460</td>\n",
       "      <td>0.411</td>\n",
       "      <td>0.458</td>\n",
       "      <td>0.0597</td>\n",
       "      <td>19.8</td>\n",
       "      <td>17.2</td>\n",
       "      <td>0.197</td>\n",
       "      <td>7.15</td>\n",
       "      <td>Ulothrix</td>\n",
       "    </tr>\n",
       "    <tr>\n",
       "      <th>30524</th>\n",
       "      <td>30524</td>\n",
       "      <td>9.21</td>\n",
       "      <td>22.7</td>\n",
       "      <td>2.07</td>\n",
       "      <td>21.0</td>\n",
       "      <td>0.0790</td>\n",
       "      <td>5.81</td>\n",
       "      <td>12.70</td>\n",
       "      <td>22.8</td>\n",
       "      <td>20.1</td>\n",
       "      <td>...</td>\n",
       "      <td>20.1</td>\n",
       "      <td>1.060</td>\n",
       "      <td>0.257</td>\n",
       "      <td>0.319</td>\n",
       "      <td>0.0341</td>\n",
       "      <td>20.7</td>\n",
       "      <td>11.6</td>\n",
       "      <td>0.198</td>\n",
       "      <td>7.15</td>\n",
       "      <td>Ulothrix</td>\n",
       "    </tr>\n",
       "    <tr>\n",
       "      <th>30525</th>\n",
       "      <td>30525</td>\n",
       "      <td>8.21</td>\n",
       "      <td>22.6</td>\n",
       "      <td>1.87</td>\n",
       "      <td>20.5</td>\n",
       "      <td>0.0641</td>\n",
       "      <td>5.96</td>\n",
       "      <td>11.30</td>\n",
       "      <td>22.8</td>\n",
       "      <td>20.2</td>\n",
       "      <td>...</td>\n",
       "      <td>20.2</td>\n",
       "      <td>1.010</td>\n",
       "      <td>0.285</td>\n",
       "      <td>0.350</td>\n",
       "      <td>0.0314</td>\n",
       "      <td>20.8</td>\n",
       "      <td>20.4</td>\n",
       "      <td>0.162</td>\n",
       "      <td>7.15</td>\n",
       "      <td>Ulothrix</td>\n",
       "    </tr>\n",
       "    <tr>\n",
       "      <th>30526</th>\n",
       "      <td>30526</td>\n",
       "      <td>6.57</td>\n",
       "      <td>21.0</td>\n",
       "      <td>2.13</td>\n",
       "      <td>21.2</td>\n",
       "      <td>0.0840</td>\n",
       "      <td>3.77</td>\n",
       "      <td>16.50</td>\n",
       "      <td>22.8</td>\n",
       "      <td>20.7</td>\n",
       "      <td>...</td>\n",
       "      <td>20.8</td>\n",
       "      <td>0.969</td>\n",
       "      <td>0.642</td>\n",
       "      <td>0.385</td>\n",
       "      <td>0.0502</td>\n",
       "      <td>21.0</td>\n",
       "      <td>18.4</td>\n",
       "      <td>0.208</td>\n",
       "      <td>7.15</td>\n",
       "      <td>Ulothrix</td>\n",
       "    </tr>\n",
       "  </tbody>\n",
       "</table>\n",
       "<p>5 rows × 26 columns</p>\n",
       "</div>"
      ],
      "text/plain": [
       "       Unnamed: 0  Solidity  Eccentricity  EquivDiameter  Extrema  FilledArea  \\\n",
       "30522       30522      3.01          22.6           4.90     20.0      0.4340   \n",
       "30523       30523      5.19          22.6           2.07     19.4      0.0788   \n",
       "30524       30524      9.21          22.7           2.07     21.0      0.0790   \n",
       "30525       30525      8.21          22.6           1.87     20.5      0.0641   \n",
       "30526       30526      6.57          21.0           2.13     21.2      0.0840   \n",
       "\n",
       "       Extent  Orientation  EulerNumber  BoundingBox1  ...  ConvexHull4  \\\n",
       "30522    1.40        19.90         22.1          18.1  ...         18.6   \n",
       "30523    1.67         5.09         22.8          19.2  ...         20.0   \n",
       "30524    5.81        12.70         22.8          20.1  ...         20.1   \n",
       "30525    5.96        11.30         22.8          20.2  ...         20.2   \n",
       "30526    3.77        16.50         22.8          20.7  ...         20.8   \n",
       "\n",
       "       MajorAxisLength  MinorAxisLength  Perimeter  ConvexArea  Centroid1  \\\n",
       "30522            4.350            1.350      1.710      0.5490       19.1   \n",
       "30523            1.460            0.411      0.458      0.0597       19.8   \n",
       "30524            1.060            0.257      0.319      0.0341       20.7   \n",
       "30525            1.010            0.285      0.350      0.0314       20.8   \n",
       "30526            0.969            0.642      0.385      0.0502       21.0   \n",
       "\n",
       "       Centroid2   Area  raddi  microorganisms  \n",
       "30522       13.2  1.070   7.15        Ulothrix  \n",
       "30523       17.2  0.197   7.15        Ulothrix  \n",
       "30524       11.6  0.198   7.15        Ulothrix  \n",
       "30525       20.4  0.162   7.15        Ulothrix  \n",
       "30526       18.4  0.208   7.15        Ulothrix  \n",
       "\n",
       "[5 rows x 26 columns]"
      ]
     },
     "execution_count": 5,
     "metadata": {},
     "output_type": "execute_result"
    }
   ],
   "source": [
    "df.tail()"
   ]
  },
  {
   "cell_type": "code",
   "execution_count": 6,
   "id": "2d8950b5",
   "metadata": {
    "execution": {
     "iopub.execute_input": "2022-05-27T18:10:41.594829Z",
     "iopub.status.busy": "2022-05-27T18:10:41.594278Z",
     "iopub.status.idle": "2022-05-27T18:10:41.626614Z",
     "shell.execute_reply": "2022-05-27T18:10:41.625478Z"
    },
    "papermill": {
     "duration": 0.07685,
     "end_time": "2022-05-27T18:10:41.629048",
     "exception": false,
     "start_time": "2022-05-27T18:10:41.552198",
     "status": "completed"
    },
    "tags": []
   },
   "outputs": [
    {
     "name": "stdout",
     "output_type": "stream",
     "text": [
      "<class 'pandas.core.frame.DataFrame'>\n",
      "RangeIndex: 30527 entries, 0 to 30526\n",
      "Data columns (total 26 columns):\n",
      " #   Column           Non-Null Count  Dtype  \n",
      "---  ------           --------------  -----  \n",
      " 0   Unnamed: 0       30527 non-null  int64  \n",
      " 1   Solidity         30527 non-null  float64\n",
      " 2   Eccentricity     30527 non-null  float64\n",
      " 3   EquivDiameter    30527 non-null  float64\n",
      " 4   Extrema          30527 non-null  float64\n",
      " 5   FilledArea       30527 non-null  float64\n",
      " 6   Extent           30527 non-null  float64\n",
      " 7   Orientation      30527 non-null  float64\n",
      " 8   EulerNumber      30527 non-null  float64\n",
      " 9   BoundingBox1     30527 non-null  float64\n",
      " 10  BoundingBox2     30527 non-null  float64\n",
      " 11  BoundingBox3     30527 non-null  float64\n",
      " 12  BoundingBox4     30527 non-null  float64\n",
      " 13  ConvexHull1      30527 non-null  float64\n",
      " 14  ConvexHull2      30527 non-null  float64\n",
      " 15  ConvexHull3      30527 non-null  float64\n",
      " 16  ConvexHull4      30527 non-null  float64\n",
      " 17  MajorAxisLength  30527 non-null  float64\n",
      " 18  MinorAxisLength  30527 non-null  float64\n",
      " 19  Perimeter        30527 non-null  float64\n",
      " 20  ConvexArea       30527 non-null  float64\n",
      " 21  Centroid1        30527 non-null  float64\n",
      " 22  Centroid2        30527 non-null  float64\n",
      " 23  Area             30527 non-null  float64\n",
      " 24  raddi            30527 non-null  float64\n",
      " 25  microorganisms   30527 non-null  object \n",
      "dtypes: float64(24), int64(1), object(1)\n",
      "memory usage: 6.1+ MB\n"
     ]
    }
   ],
   "source": [
    "df.info()"
   ]
  },
  {
   "cell_type": "code",
   "execution_count": 7,
   "id": "c3272340",
   "metadata": {
    "execution": {
     "iopub.execute_input": "2022-05-27T18:10:41.712536Z",
     "iopub.status.busy": "2022-05-27T18:10:41.711996Z",
     "iopub.status.idle": "2022-05-27T18:10:41.722468Z",
     "shell.execute_reply": "2022-05-27T18:10:41.721425Z"
    },
    "papermill": {
     "duration": 0.054768,
     "end_time": "2022-05-27T18:10:41.724875",
     "exception": false,
     "start_time": "2022-05-27T18:10:41.670107",
     "status": "completed"
    },
    "tags": []
   },
   "outputs": [],
   "source": [
    "df = df.drop(['Unnamed: 0'], axis=1)"
   ]
  },
  {
   "cell_type": "code",
   "execution_count": 8,
   "id": "bc8cbd47",
   "metadata": {
    "execution": {
     "iopub.execute_input": "2022-05-27T18:10:41.807374Z",
     "iopub.status.busy": "2022-05-27T18:10:41.807100Z",
     "iopub.status.idle": "2022-05-27T18:10:41.879331Z",
     "shell.execute_reply": "2022-05-27T18:10:41.878428Z"
    },
    "papermill": {
     "duration": 0.115455,
     "end_time": "2022-05-27T18:10:41.881491",
     "exception": false,
     "start_time": "2022-05-27T18:10:41.766036",
     "status": "completed"
    },
    "tags": []
   },
   "outputs": [
    {
     "data": {
      "text/html": [
       "<div>\n",
       "<style scoped>\n",
       "    .dataframe tbody tr th:only-of-type {\n",
       "        vertical-align: middle;\n",
       "    }\n",
       "\n",
       "    .dataframe tbody tr th {\n",
       "        vertical-align: top;\n",
       "    }\n",
       "\n",
       "    .dataframe thead th {\n",
       "        text-align: right;\n",
       "    }\n",
       "</style>\n",
       "<table border=\"1\" class=\"dataframe\">\n",
       "  <thead>\n",
       "    <tr style=\"text-align: right;\">\n",
       "      <th></th>\n",
       "      <th>Solidity</th>\n",
       "      <th>Eccentricity</th>\n",
       "      <th>EquivDiameter</th>\n",
       "      <th>Extrema</th>\n",
       "      <th>FilledArea</th>\n",
       "      <th>Extent</th>\n",
       "      <th>Orientation</th>\n",
       "      <th>EulerNumber</th>\n",
       "      <th>BoundingBox1</th>\n",
       "      <th>BoundingBox2</th>\n",
       "      <th>BoundingBox3</th>\n",
       "      <th>BoundingBox4</th>\n",
       "      <th>ConvexHull1</th>\n",
       "    </tr>\n",
       "  </thead>\n",
       "  <tbody>\n",
       "    <tr>\n",
       "      <th>count</th>\n",
       "      <td>30527.000000</td>\n",
       "      <td>30527.000000</td>\n",
       "      <td>30527.000000</td>\n",
       "      <td>30527.000000</td>\n",
       "      <td>30527.000000</td>\n",
       "      <td>30527.000000</td>\n",
       "      <td>30527.000000</td>\n",
       "      <td>30527.000000</td>\n",
       "      <td>30527.000000</td>\n",
       "      <td>30527.000000</td>\n",
       "      <td>30527.000000</td>\n",
       "      <td>30527.000000</td>\n",
       "      <td>30527.000000</td>\n",
       "    </tr>\n",
       "    <tr>\n",
       "      <th>mean</th>\n",
       "      <td>9.677744</td>\n",
       "      <td>19.466921</td>\n",
       "      <td>3.633348</td>\n",
       "      <td>11.871832</td>\n",
       "      <td>0.420022</td>\n",
       "      <td>5.840625</td>\n",
       "      <td>11.751004</td>\n",
       "      <td>22.380901</td>\n",
       "      <td>10.919027</td>\n",
       "      <td>10.399429</td>\n",
       "      <td>2.085481</td>\n",
       "      <td>2.640499</td>\n",
       "      <td>11.113760</td>\n",
       "    </tr>\n",
       "    <tr>\n",
       "      <th>std</th>\n",
       "      <td>4.063437</td>\n",
       "      <td>3.479828</td>\n",
       "      <td>2.210851</td>\n",
       "      <td>6.045135</td>\n",
       "      <td>0.875091</td>\n",
       "      <td>3.250999</td>\n",
       "      <td>6.575319</td>\n",
       "      <td>0.962906</td>\n",
       "      <td>6.093280</td>\n",
       "      <td>5.797144</td>\n",
       "      <td>2.166312</td>\n",
       "      <td>2.488448</td>\n",
       "      <td>6.033357</td>\n",
       "    </tr>\n",
       "    <tr>\n",
       "      <th>min</th>\n",
       "      <td>0.000000</td>\n",
       "      <td>0.000000</td>\n",
       "      <td>0.000000</td>\n",
       "      <td>0.000000</td>\n",
       "      <td>0.000000</td>\n",
       "      <td>0.000000</td>\n",
       "      <td>0.000000</td>\n",
       "      <td>0.000000</td>\n",
       "      <td>0.000000</td>\n",
       "      <td>0.000000</td>\n",
       "      <td>0.000000</td>\n",
       "      <td>0.000000</td>\n",
       "      <td>0.000000</td>\n",
       "    </tr>\n",
       "    <tr>\n",
       "      <th>25%</th>\n",
       "      <td>6.570000</td>\n",
       "      <td>17.300000</td>\n",
       "      <td>2.180000</td>\n",
       "      <td>6.790000</td>\n",
       "      <td>0.093700</td>\n",
       "      <td>3.280000</td>\n",
       "      <td>6.005000</td>\n",
       "      <td>22.300000</td>\n",
       "      <td>5.690000</td>\n",
       "      <td>5.730000</td>\n",
       "      <td>0.849000</td>\n",
       "      <td>1.150000</td>\n",
       "      <td>5.980000</td>\n",
       "    </tr>\n",
       "    <tr>\n",
       "      <th>50%</th>\n",
       "      <td>9.350000</td>\n",
       "      <td>20.700000</td>\n",
       "      <td>3.380000</td>\n",
       "      <td>12.000000</td>\n",
       "      <td>0.229000</td>\n",
       "      <td>5.260000</td>\n",
       "      <td>12.100000</td>\n",
       "      <td>22.600000</td>\n",
       "      <td>10.900000</td>\n",
       "      <td>10.000000</td>\n",
       "      <td>1.500000</td>\n",
       "      <td>1.940000</td>\n",
       "      <td>11.100000</td>\n",
       "    </tr>\n",
       "    <tr>\n",
       "      <th>75%</th>\n",
       "      <td>12.600000</td>\n",
       "      <td>22.200000</td>\n",
       "      <td>4.580000</td>\n",
       "      <td>17.200000</td>\n",
       "      <td>0.434500</td>\n",
       "      <td>7.850000</td>\n",
       "      <td>17.200000</td>\n",
       "      <td>22.900000</td>\n",
       "      <td>15.800000</td>\n",
       "      <td>14.900000</td>\n",
       "      <td>2.660000</td>\n",
       "      <td>3.380000</td>\n",
       "      <td>16.000000</td>\n",
       "    </tr>\n",
       "    <tr>\n",
       "      <th>max</th>\n",
       "      <td>23.000000</td>\n",
       "      <td>23.000000</td>\n",
       "      <td>23.000000</td>\n",
       "      <td>23.000000</td>\n",
       "      <td>23.000000</td>\n",
       "      <td>23.000000</td>\n",
       "      <td>23.000000</td>\n",
       "      <td>23.000000</td>\n",
       "      <td>23.000000</td>\n",
       "      <td>23.000000</td>\n",
       "      <td>23.000000</td>\n",
       "      <td>23.000000</td>\n",
       "      <td>23.000000</td>\n",
       "    </tr>\n",
       "  </tbody>\n",
       "</table>\n",
       "</div>"
      ],
      "text/plain": [
       "           Solidity  Eccentricity  EquivDiameter       Extrema    FilledArea  \\\n",
       "count  30527.000000  30527.000000   30527.000000  30527.000000  30527.000000   \n",
       "mean       9.677744     19.466921       3.633348     11.871832      0.420022   \n",
       "std        4.063437      3.479828       2.210851      6.045135      0.875091   \n",
       "min        0.000000      0.000000       0.000000      0.000000      0.000000   \n",
       "25%        6.570000     17.300000       2.180000      6.790000      0.093700   \n",
       "50%        9.350000     20.700000       3.380000     12.000000      0.229000   \n",
       "75%       12.600000     22.200000       4.580000     17.200000      0.434500   \n",
       "max       23.000000     23.000000      23.000000     23.000000     23.000000   \n",
       "\n",
       "             Extent   Orientation   EulerNumber  BoundingBox1  BoundingBox2  \\\n",
       "count  30527.000000  30527.000000  30527.000000  30527.000000  30527.000000   \n",
       "mean       5.840625     11.751004     22.380901     10.919027     10.399429   \n",
       "std        3.250999      6.575319      0.962906      6.093280      5.797144   \n",
       "min        0.000000      0.000000      0.000000      0.000000      0.000000   \n",
       "25%        3.280000      6.005000     22.300000      5.690000      5.730000   \n",
       "50%        5.260000     12.100000     22.600000     10.900000     10.000000   \n",
       "75%        7.850000     17.200000     22.900000     15.800000     14.900000   \n",
       "max       23.000000     23.000000     23.000000     23.000000     23.000000   \n",
       "\n",
       "       BoundingBox3  BoundingBox4   ConvexHull1  \n",
       "count  30527.000000  30527.000000  30527.000000  \n",
       "mean       2.085481      2.640499     11.113760  \n",
       "std        2.166312      2.488448      6.033357  \n",
       "min        0.000000      0.000000      0.000000  \n",
       "25%        0.849000      1.150000      5.980000  \n",
       "50%        1.500000      1.940000     11.100000  \n",
       "75%        2.660000      3.380000     16.000000  \n",
       "max       23.000000     23.000000     23.000000  "
      ]
     },
     "execution_count": 8,
     "metadata": {},
     "output_type": "execute_result"
    }
   ],
   "source": [
    "df.iloc[:,:13].describe()"
   ]
  },
  {
   "cell_type": "code",
   "execution_count": 9,
   "id": "78ec8c14",
   "metadata": {
    "execution": {
     "iopub.execute_input": "2022-05-27T18:10:41.964284Z",
     "iopub.status.busy": "2022-05-27T18:10:41.964009Z",
     "iopub.status.idle": "2022-05-27T18:10:42.027519Z",
     "shell.execute_reply": "2022-05-27T18:10:42.026495Z"
    },
    "papermill": {
     "duration": 0.107648,
     "end_time": "2022-05-27T18:10:42.030021",
     "exception": false,
     "start_time": "2022-05-27T18:10:41.922373",
     "status": "completed"
    },
    "tags": []
   },
   "outputs": [
    {
     "data": {
      "text/html": [
       "<div>\n",
       "<style scoped>\n",
       "    .dataframe tbody tr th:only-of-type {\n",
       "        vertical-align: middle;\n",
       "    }\n",
       "\n",
       "    .dataframe tbody tr th {\n",
       "        vertical-align: top;\n",
       "    }\n",
       "\n",
       "    .dataframe thead th {\n",
       "        text-align: right;\n",
       "    }\n",
       "</style>\n",
       "<table border=\"1\" class=\"dataframe\">\n",
       "  <thead>\n",
       "    <tr style=\"text-align: right;\">\n",
       "      <th></th>\n",
       "      <th>ConvexHull2</th>\n",
       "      <th>ConvexHull3</th>\n",
       "      <th>ConvexHull4</th>\n",
       "      <th>MajorAxisLength</th>\n",
       "      <th>MinorAxisLength</th>\n",
       "      <th>Perimeter</th>\n",
       "      <th>ConvexArea</th>\n",
       "      <th>Centroid1</th>\n",
       "      <th>Centroid2</th>\n",
       "      <th>Area</th>\n",
       "      <th>raddi</th>\n",
       "    </tr>\n",
       "  </thead>\n",
       "  <tbody>\n",
       "    <tr>\n",
       "      <th>count</th>\n",
       "      <td>30527.000000</td>\n",
       "      <td>30527.000000</td>\n",
       "      <td>30527.000000</td>\n",
       "      <td>30527.000000</td>\n",
       "      <td>30527.000000</td>\n",
       "      <td>30527.000000</td>\n",
       "      <td>30527.000000</td>\n",
       "      <td>30527.000000</td>\n",
       "      <td>30527.000000</td>\n",
       "      <td>30527.00000</td>\n",
       "      <td>30527.000000</td>\n",
       "    </tr>\n",
       "    <tr>\n",
       "      <th>mean</th>\n",
       "      <td>11.113760</td>\n",
       "      <td>11.046482</td>\n",
       "      <td>11.021988</td>\n",
       "      <td>1.605159</td>\n",
       "      <td>1.014179</td>\n",
       "      <td>0.829416</td>\n",
       "      <td>0.254596</td>\n",
       "      <td>11.752783</td>\n",
       "      <td>11.554286</td>\n",
       "      <td>0.80278</td>\n",
       "      <td>5.214598</td>\n",
       "    </tr>\n",
       "    <tr>\n",
       "      <th>std</th>\n",
       "      <td>6.033357</td>\n",
       "      <td>6.089508</td>\n",
       "      <td>6.089467</td>\n",
       "      <td>1.662537</td>\n",
       "      <td>1.224326</td>\n",
       "      <td>1.152165</td>\n",
       "      <td>0.971035</td>\n",
       "      <td>6.029756</td>\n",
       "      <td>5.700637</td>\n",
       "      <td>1.17043</td>\n",
       "      <td>2.805199</td>\n",
       "    </tr>\n",
       "    <tr>\n",
       "      <th>min</th>\n",
       "      <td>0.000000</td>\n",
       "      <td>0.000000</td>\n",
       "      <td>0.000000</td>\n",
       "      <td>0.000000</td>\n",
       "      <td>0.000000</td>\n",
       "      <td>0.000000</td>\n",
       "      <td>0.000000</td>\n",
       "      <td>0.000000</td>\n",
       "      <td>0.000000</td>\n",
       "      <td>0.00000</td>\n",
       "      <td>0.000000</td>\n",
       "    </tr>\n",
       "    <tr>\n",
       "      <th>25%</th>\n",
       "      <td>5.980000</td>\n",
       "      <td>5.790000</td>\n",
       "      <td>5.755000</td>\n",
       "      <td>0.635000</td>\n",
       "      <td>0.421000</td>\n",
       "      <td>0.253000</td>\n",
       "      <td>0.034700</td>\n",
       "      <td>6.570000</td>\n",
       "      <td>7.110000</td>\n",
       "      <td>0.21800</td>\n",
       "      <td>3.080000</td>\n",
       "    </tr>\n",
       "    <tr>\n",
       "      <th>50%</th>\n",
       "      <td>11.100000</td>\n",
       "      <td>11.000000</td>\n",
       "      <td>11.000000</td>\n",
       "      <td>1.160000</td>\n",
       "      <td>0.745000</td>\n",
       "      <td>0.518000</td>\n",
       "      <td>0.085700</td>\n",
       "      <td>12.100000</td>\n",
       "      <td>11.200000</td>\n",
       "      <td>0.51400</td>\n",
       "      <td>5.320000</td>\n",
       "    </tr>\n",
       "    <tr>\n",
       "      <th>75%</th>\n",
       "      <td>16.000000</td>\n",
       "      <td>15.900000</td>\n",
       "      <td>15.900000</td>\n",
       "      <td>2.070000</td>\n",
       "      <td>1.220000</td>\n",
       "      <td>0.968000</td>\n",
       "      <td>0.200000</td>\n",
       "      <td>16.900000</td>\n",
       "      <td>16.200000</td>\n",
       "      <td>0.93400</td>\n",
       "      <td>7.050000</td>\n",
       "    </tr>\n",
       "    <tr>\n",
       "      <th>max</th>\n",
       "      <td>23.000000</td>\n",
       "      <td>23.000000</td>\n",
       "      <td>23.000000</td>\n",
       "      <td>23.000000</td>\n",
       "      <td>23.000000</td>\n",
       "      <td>23.000000</td>\n",
       "      <td>23.000000</td>\n",
       "      <td>23.000000</td>\n",
       "      <td>23.000000</td>\n",
       "      <td>23.00000</td>\n",
       "      <td>23.000000</td>\n",
       "    </tr>\n",
       "  </tbody>\n",
       "</table>\n",
       "</div>"
      ],
      "text/plain": [
       "        ConvexHull2   ConvexHull3   ConvexHull4  MajorAxisLength  \\\n",
       "count  30527.000000  30527.000000  30527.000000     30527.000000   \n",
       "mean      11.113760     11.046482     11.021988         1.605159   \n",
       "std        6.033357      6.089508      6.089467         1.662537   \n",
       "min        0.000000      0.000000      0.000000         0.000000   \n",
       "25%        5.980000      5.790000      5.755000         0.635000   \n",
       "50%       11.100000     11.000000     11.000000         1.160000   \n",
       "75%       16.000000     15.900000     15.900000         2.070000   \n",
       "max       23.000000     23.000000     23.000000        23.000000   \n",
       "\n",
       "       MinorAxisLength     Perimeter    ConvexArea     Centroid1  \\\n",
       "count     30527.000000  30527.000000  30527.000000  30527.000000   \n",
       "mean          1.014179      0.829416      0.254596     11.752783   \n",
       "std           1.224326      1.152165      0.971035      6.029756   \n",
       "min           0.000000      0.000000      0.000000      0.000000   \n",
       "25%           0.421000      0.253000      0.034700      6.570000   \n",
       "50%           0.745000      0.518000      0.085700     12.100000   \n",
       "75%           1.220000      0.968000      0.200000     16.900000   \n",
       "max          23.000000     23.000000     23.000000     23.000000   \n",
       "\n",
       "          Centroid2         Area         raddi  \n",
       "count  30527.000000  30527.00000  30527.000000  \n",
       "mean      11.554286      0.80278      5.214598  \n",
       "std        5.700637      1.17043      2.805199  \n",
       "min        0.000000      0.00000      0.000000  \n",
       "25%        7.110000      0.21800      3.080000  \n",
       "50%       11.200000      0.51400      5.320000  \n",
       "75%       16.200000      0.93400      7.050000  \n",
       "max       23.000000     23.00000     23.000000  "
      ]
     },
     "execution_count": 9,
     "metadata": {},
     "output_type": "execute_result"
    }
   ],
   "source": [
    "df.iloc[:,13:].describe()"
   ]
  },
  {
   "cell_type": "markdown",
   "id": "976d529a",
   "metadata": {
    "papermill": {
     "duration": 0.044121,
     "end_time": "2022-05-27T18:10:42.117329",
     "exception": false,
     "start_time": "2022-05-27T18:10:42.073208",
     "status": "completed"
    },
    "tags": []
   },
   "source": [
    "# ***2. Data Visualization***"
   ]
  },
  {
   "cell_type": "code",
   "execution_count": 10,
   "id": "9a5e7e81",
   "metadata": {
    "execution": {
     "iopub.execute_input": "2022-05-27T18:10:42.202830Z",
     "iopub.status.busy": "2022-05-27T18:10:42.202285Z",
     "iopub.status.idle": "2022-05-27T18:10:46.291829Z",
     "shell.execute_reply": "2022-05-27T18:10:46.290797Z"
    },
    "papermill": {
     "duration": 4.135636,
     "end_time": "2022-05-27T18:10:46.294289",
     "exception": false,
     "start_time": "2022-05-27T18:10:42.158653",
     "status": "completed"
    },
    "scrolled": true,
    "tags": []
   },
   "outputs": [
    {
     "data": {
      "image/png": "[encoded data removed]",
      "text/plain": [
       "<Figure size 432x288 with 1 Axes>"
      ]
     },
     "metadata": {
      "needs_background": "light"
     },
     "output_type": "display_data"
    },
    {
     "data": {
      "image/png": "[encoded data removed]",
      "text/plain": [
       "<Figure size 432x288 with 1 Axes>"
      ]
     },
     "metadata": {
      "needs_background": "light"
     },
     "output_type": "display_data"
    },
    {
     "data": {
      "image/png": "[encoded data removed]",
      "text/plain": [
       "<Figure size 432x288 with 1 Axes>"
      ]
     },
     "metadata": {
      "needs_background": "light"
     },
     "output_type": "display_data"
    },
    {
     "data": {
      "image/png": "[encoded data removed]",
      "text/plain": [
       "<Figure size 432x288 with 1 Axes>"
      ]
     },
     "metadata": {
      "needs_background": "light"
     },
     "output_type": "display_data"
    },
    {
     "data": {
      "image/png": "[encoded data removed]",
      "text/plain": [
       "<Figure size 432x288 with 1 Axes>"
      ]
     },
     "metadata": {
      "needs_background": "light"
     },
     "output_type": "display_data"
    },
    {
     "data": {
      "image/png": "[encoded data removed]",
      "text/plain": [
       "<Figure size 432x288 with 1 Axes>"
      ]
     },
     "metadata": {
      "needs_background": "light"
     },
     "output_type": "display_data"
    },
    {
     "data": {
      "image/png": "[encoded data removed]",
      "text/plain": [
       "<Figure size 432x288 with 1 Axes>"
      ]
     },
     "metadata": {
      "needs_background": "light"
     },
     "output_type": "display_data"
    },
    {
     "data": {
      "image/png": "[encoded data removed]",
      "text/plain": [
       "<Figure size 432x288 with 1 Axes>"
      ]
     },
     "metadata": {
      "needs_background": "light"
     },
     "output_type": "display_data"
    },
    {
     "data": {
      "image/png": "[encoded data removed]",
      "text/plain": [
       "<Figure size 432x288 with 1 Axes>"
      ]
     },
     "metadata": {
      "needs_background": "light"
     },
     "output_type": "display_data"
    },
    {
     "data": {
      "image/png": "[encoded data removed]",
      "text/plain": [
       "<Figure size 432x288 with 1 Axes>"
      ]
     },
     "metadata": {
      "needs_background": "light"
     },
     "output_type": "display_data"
    },
    {
     "data": {
      "image/png": "[encoded data removed]",
      "text/plain": [
       "<Figure size 432x288 with 1 Axes>"
      ]
     },
     "metadata": {
      "needs_background": "light"
     },
     "output_type": "display_data"
    },
    {
     "data": {
      "image/png": "[encoded data removed]",
      "text/plain": [
       "<Figure size 432x288 with 1 Axes>"
      ]
     },
     "metadata": {
      "needs_background": "light"
     },
     "output_type": "display_data"
    },
    {
     "data": {
      "image/png": "[encoded data removed]",
      "text/plain": [
       "<Figure size 432x288 with 1 Axes>"
      ]
     },
     "metadata": {
      "needs_background": "light"
     },
     "output_type": "display_data"
    },
    {
     "data": {
      "image/png": "[encoded data removed]",
      "text/plain": [
       "<Figure size 432x288 with 1 Axes>"
      ]
     },
     "metadata": {
      "needs_background": "light"
     },
     "output_type": "display_data"
    },
    {
     "data": {
      "image/png": "[encoded data removed]",
      "text/plain": [
       "<Figure size 432x288 with 1 Axes>"
      ]
     },
     "metadata": {
      "needs_background": "light"
     },
     "output_type": "display_data"
    },
    {
     "data": {
      "image/png": "[encoded data removed]",
      "text/plain": [
       "<Figure size 432x288 with 1 Axes>"
      ]
     },
     "metadata": {
      "needs_background": "light"
     },
     "output_type": "display_data"
    },
    {
     "data": {
      "image/png": "[encoded data removed]",
      "text/plain": [
       "<Figure size 432x288 with 1 Axes>"
      ]
     },
     "metadata": {
      "needs_background": "light"
     },
     "output_type": "display_data"
    },
    {
     "data": {
      "image/png": "[encoded data removed]",
      "text/plain": [
       "<Figure size 432x288 with 1 Axes>"
      ]
     },
     "metadata": {
      "needs_background": "light"
     },
     "output_type": "display_data"
    },
    {
     "data": {
      "image/png": "[encoded data removed]",
      "text/plain": [
       "<Figure size 432x288 with 1 Axes>"
      ]
     },
     "metadata": {
      "needs_background": "light"
     },
     "output_type": "display_data"
    },
    {
     "data": {
      "image/png": "[encoded data removed]",
      "text/plain": [
       "<Figure size 432x288 with 1 Axes>"
      ]
     },
     "metadata": {
      "needs_background": "light"
     },
     "output_type": "display_data"
    },
    {
     "data": {
      "image/png": "[encoded data removed]",
      "text/plain": [
       "<Figure size 432x288 with 1 Axes>"
      ]
     },
     "metadata": {
      "needs_background": "light"
     },
     "output_type": "display_data"
    },
    {
     "data": {
      "image/png": "[encoded data removed]",
      "text/plain": [
       "<Figure size 432x288 with 1 Axes>"
      ]
     },
     "metadata": {
      "needs_background": "light"
     },
     "output_type": "display_data"
    },
    {
     "data": {
      "image/png": "[encoded data removed]",
      "text/plain": [
       "<Figure size 432x288 with 1 Axes>"
      ]
     },
     "metadata": {
      "needs_background": "light"
     },
     "output_type": "display_data"
    },
    {
     "data": {
      "image/png": "[encoded data removed]",
      "text/plain": [
       "<Figure size 432x288 with 1 Axes>"
      ]
     },
     "metadata": {
      "needs_background": "light"
     },
     "output_type": "display_data"
    }
   ],
   "source": [
    "for col in df.columns[:-1]:\n",
    "    plt.hist(df[col])\n",
    "    plt.title(col)\n",
    "    plt.show()"
   ]
  },
  {
   "cell_type": "code",
   "execution_count": 11,
   "id": "7be1fe0c",
   "metadata": {
    "execution": {
     "iopub.execute_input": "2022-05-27T18:10:46.418972Z",
     "iopub.status.busy": "2022-05-27T18:10:46.418330Z",
     "iopub.status.idle": "2022-05-27T18:10:46.430945Z",
     "shell.execute_reply": "2022-05-27T18:10:46.429760Z"
    },
    "papermill": {
     "duration": 0.077899,
     "end_time": "2022-05-27T18:10:46.433416",
     "exception": false,
     "start_time": "2022-05-27T18:10:46.355517",
     "status": "completed"
    },
    "tags": []
   },
   "outputs": [],
   "source": [
    "labels = df['microorganisms'].unique()\n",
    "label_counts = df.groupby(['microorganisms']).size()\n",
    "labels.sort()"
   ]
  },
  {
   "cell_type": "code",
   "execution_count": 12,
   "id": "79b6bd2c",
   "metadata": {
    "execution": {
     "iopub.execute_input": "2022-05-27T18:10:46.555564Z",
     "iopub.status.busy": "2022-05-27T18:10:46.555009Z",
     "iopub.status.idle": "2022-05-27T18:10:46.771293Z",
     "shell.execute_reply": "2022-05-27T18:10:46.770662Z"
    },
    "papermill": {
     "duration": 0.279677,
     "end_time": "2022-05-27T18:10:46.773539",
     "exception": false,
     "start_time": "2022-05-27T18:10:46.493862",
     "status": "completed"
    },
    "tags": []
   },
   "outputs": [
    {
     "data": {
      "image/png": "[encoded data removed]",
      "text/plain": [
       "<Figure size 432x288 with 1 Axes>"
      ]
     },
     "metadata": {
      "needs_background": "light"
     },
     "output_type": "display_data"
    }
   ],
   "source": [
    "plt.bar(labels, label_counts)\n",
    "plt.xticks(rotation=45)\n",
    "plt.show()"
   ]
  },
  {
   "cell_type": "markdown",
   "id": "5719f232",
   "metadata": {
    "papermill": {
     "duration": 0.060254,
     "end_time": "2022-05-27T18:10:46.895827",
     "exception": false,
     "start_time": "2022-05-27T18:10:46.835573",
     "status": "completed"
    },
    "tags": []
   },
   "source": [
    "## Analyzing the data distribution\n",
    "* The dataset is imbalanced, which means some labels will hold more weight than others when predicting labels\n",
    "* Two solutions are:\n",
    " * undersample - remove data points from the oversaturated labels\n",
    " * oversample - duplicate existing data points from the smaller distributions\n",
    "* For our purposes, we want to avoid undersampling because that will lead to information loss\n",
    "    * instead, we will use a method called SMOTE, which is a variation of oversampling ( More on this later )"
   ]
  },
  {
   "cell_type": "markdown",
   "id": "084ec994",
   "metadata": {
    "papermill": {
     "duration": 0.061375,
     "end_time": "2022-05-27T18:10:47.017761",
     "exception": false,
     "start_time": "2022-05-27T18:10:46.956386",
     "status": "completed"
    },
    "tags": []
   },
   "source": [
    "# ***3. Data Preprocessing***"
   ]
  },
  {
   "cell_type": "markdown",
   "id": "3f86a128",
   "metadata": {
    "papermill": {
     "duration": 0.062538,
     "end_time": "2022-05-27T18:10:47.142231",
     "exception": false,
     "start_time": "2022-05-27T18:10:47.079693",
     "status": "completed"
    },
    "tags": []
   },
   "source": [
    "## Outlier Detection and Removal\n",
    "* Since SMOTE duplicates random samples of our data, we must first remove any outliers before they influence our model predictions.\n",
    "* Credit to ***Elena Ignat*** for the outlier detection idea.\n",
    "    * Elena's Notebook: https://www.kaggle.com/code/elenasm/outliers-detection\n",
    "* For columns with normal distributions:\n",
    "    * Calculate the outlier threshold to be anything greater than 3 std dev within each column and remove them\n",
    "        * Link: https://stackoverflow.com/questions/23199796/detect-and-exclude-outliers-in-a-pandas-dataframe \n",
    "* Problem: Not all of the columns follow a normal distribution\n",
    "    * We need to first convert all the features into normal distributions using Sklearn.Preprocessing.StandardScaler\n",
    "        * Link: https://stackoverflow.com/questions/60785109/normalization-vs-scaling-for-not-normal-distribution-in-scikit-learn"
   ]
  },
  {
   "cell_type": "markdown",
   "id": "b0ace85e",
   "metadata": {
    "papermill": {
     "duration": 0.060481,
     "end_time": "2022-05-27T18:10:47.263686",
     "exception": false,
     "start_time": "2022-05-27T18:10:47.203205",
     "status": "completed"
    },
    "tags": []
   },
   "source": [
    "## Normalize the Data"
   ]
  },
  {
   "cell_type": "code",
   "execution_count": 13,
   "id": "3e759918",
   "metadata": {
    "execution": {
     "iopub.execute_input": "2022-05-27T18:10:47.387746Z",
     "iopub.status.busy": "2022-05-27T18:10:47.387080Z",
     "iopub.status.idle": "2022-05-27T18:10:47.508405Z",
     "shell.execute_reply": "2022-05-27T18:10:47.507597Z"
    },
    "papermill": {
     "duration": 0.185489,
     "end_time": "2022-05-27T18:10:47.510637",
     "exception": false,
     "start_time": "2022-05-27T18:10:47.325148",
     "status": "completed"
    },
    "tags": []
   },
   "outputs": [
    {
     "data": {
      "text/html": [
       "<div>\n",
       "<style scoped>\n",
       "    .dataframe tbody tr th:only-of-type {\n",
       "        vertical-align: middle;\n",
       "    }\n",
       "\n",
       "    .dataframe tbody tr th {\n",
       "        vertical-align: top;\n",
       "    }\n",
       "\n",
       "    .dataframe thead th {\n",
       "        text-align: right;\n",
       "    }\n",
       "</style>\n",
       "<table border=\"1\" class=\"dataframe\">\n",
       "  <thead>\n",
       "    <tr style=\"text-align: right;\">\n",
       "      <th></th>\n",
       "      <th>Solidity</th>\n",
       "      <th>Eccentricity</th>\n",
       "      <th>EquivDiameter</th>\n",
       "      <th>Extrema</th>\n",
       "      <th>FilledArea</th>\n",
       "      <th>Extent</th>\n",
       "      <th>Orientation</th>\n",
       "      <th>EulerNumber</th>\n",
       "      <th>BoundingBox1</th>\n",
       "      <th>BoundingBox2</th>\n",
       "      <th>...</th>\n",
       "      <th>ConvexHull4</th>\n",
       "      <th>MajorAxisLength</th>\n",
       "      <th>MinorAxisLength</th>\n",
       "      <th>Perimeter</th>\n",
       "      <th>ConvexArea</th>\n",
       "      <th>Centroid1</th>\n",
       "      <th>Centroid2</th>\n",
       "      <th>Area</th>\n",
       "      <th>raddi</th>\n",
       "      <th>microorganisms</th>\n",
       "    </tr>\n",
       "  </thead>\n",
       "  <tbody>\n",
       "    <tr>\n",
       "      <th>0</th>\n",
       "      <td>0.251578</td>\n",
       "      <td>-1.053782</td>\n",
       "      <td>0.812665</td>\n",
       "      <td>-1.343554</td>\n",
       "      <td>0.417081</td>\n",
       "      <td>0.707294</td>\n",
       "      <td>-1.460182</td>\n",
       "      <td>-0.084019</td>\n",
       "      <td>-1.304578</td>\n",
       "      <td>0.086349</td>\n",
       "      <td>...</td>\n",
       "      <td>-1.322303</td>\n",
       "      <td>-0.159493</td>\n",
       "      <td>0.48666</td>\n",
       "      <td>-0.127081</td>\n",
       "      <td>-0.061375</td>\n",
       "      <td>-1.347138</td>\n",
       "      <td>0.09573</td>\n",
       "      <td>0.433369</td>\n",
       "      <td>0.989394</td>\n",
       "      <td>Spirogyra</td>\n",
       "    </tr>\n",
       "    <tr>\n",
       "      <th>1</th>\n",
       "      <td>-1.003537</td>\n",
       "      <td>-0.335344</td>\n",
       "      <td>0.22917</td>\n",
       "      <td>-0.94488</td>\n",
       "      <td>-0.06402</td>\n",
       "      <td>-0.716907</td>\n",
       "      <td>1.041639</td>\n",
       "      <td>0.123689</td>\n",
       "      <td>-0.90413</td>\n",
       "      <td>1.518112</td>\n",
       "      <td>...</td>\n",
       "      <td>-0.911751</td>\n",
       "      <td>-0.051223</td>\n",
       "      <td>0.413149</td>\n",
       "      <td>0.156737</td>\n",
       "      <td>-0.040778</td>\n",
       "      <td>-0.952423</td>\n",
       "      <td>1.586816</td>\n",
       "      <td>-0.032279</td>\n",
       "      <td>0.989394</td>\n",
       "      <td>Spirogyra</td>\n",
       "    </tr>\n",
       "    <tr>\n",
       "      <th>2</th>\n",
       "      <td>-0.334142</td>\n",
       "      <td>0.095719</td>\n",
       "      <td>0.450808</td>\n",
       "      <td>-0.862167</td>\n",
       "      <td>-0.005739</td>\n",
       "      <td>0.002884</td>\n",
       "      <td>1.406646</td>\n",
       "      <td>0.019835</td>\n",
       "      <td>-0.813865</td>\n",
       "      <td>-0.034402</td>\n",
       "      <td>...</td>\n",
       "      <td>-0.831283</td>\n",
       "      <td>0.014942</td>\n",
       "      <td>0.298798</td>\n",
       "      <td>0.243532</td>\n",
       "      <td>-0.074763</td>\n",
       "      <td>-0.862865</td>\n",
       "      <td>-0.009523</td>\n",
       "      <td>0.128348</td>\n",
       "      <td>0.989394</td>\n",
       "      <td>Spirogyra</td>\n",
       "    </tr>\n",
       "    <tr>\n",
       "      <th>3</th>\n",
       "      <td>0.103918</td>\n",
       "      <td>-0.450294</td>\n",
       "      <td>1.653984</td>\n",
       "      <td>-0.12768</td>\n",
       "      <td>1.19987</td>\n",
       "      <td>0.141305</td>\n",
       "      <td>-0.275429</td>\n",
       "      <td>-0.499435</td>\n",
       "      <td>-0.346129</td>\n",
       "      <td>0.051849</td>\n",
       "      <td>...</td>\n",
       "      <td>-0.351759</td>\n",
       "      <td>0.261557</td>\n",
       "      <td>0.903223</td>\n",
       "      <td>-0.099307</td>\n",
       "      <td>0.119878</td>\n",
       "      <td>-0.24094</td>\n",
       "      <td>0.078188</td>\n",
       "      <td>1.313402</td>\n",
       "      <td>0.989394</td>\n",
       "      <td>Spirogyra</td>\n",
       "    </tr>\n",
       "    <tr>\n",
       "      <th>4</th>\n",
       "      <td>-0.838649</td>\n",
       "      <td>0.210669</td>\n",
       "      <td>7.448229</td>\n",
       "      <td>-0.19385</td>\n",
       "      <td>16.318547</td>\n",
       "      <td>-0.57541</td>\n",
       "      <td>-1.394785</td>\n",
       "      <td>-10.884831</td>\n",
       "      <td>-0.118005</td>\n",
       "      <td>-1.583466</td>\n",
       "      <td>...</td>\n",
       "      <td>-0.134987</td>\n",
       "      <td>3.714168</td>\n",
       "      <td>4.243891</td>\n",
       "      <td>5.182143</td>\n",
       "      <td>4.310322</td>\n",
       "      <td>0.372694</td>\n",
       "      <td>-0.351596</td>\n",
       "      <td>14.351559</td>\n",
       "      <td>0.989394</td>\n",
       "      <td>Spirogyra</td>\n",
       "    </tr>\n",
       "  </tbody>\n",
       "</table>\n",
       "<p>5 rows × 25 columns</p>\n",
       "</div>"
      ],
      "text/plain": [
       "   Solidity Eccentricity EquivDiameter   Extrema FilledArea    Extent  \\\n",
       "0  0.251578    -1.053782      0.812665 -1.343554   0.417081  0.707294   \n",
       "1 -1.003537    -0.335344       0.22917  -0.94488   -0.06402 -0.716907   \n",
       "2 -0.334142     0.095719      0.450808 -0.862167  -0.005739  0.002884   \n",
       "3  0.103918    -0.450294      1.653984  -0.12768    1.19987  0.141305   \n",
       "4 -0.838649     0.210669      7.448229  -0.19385  16.318547  -0.57541   \n",
       "\n",
       "  Orientation EulerNumber BoundingBox1 BoundingBox2  ... ConvexHull4  \\\n",
       "0   -1.460182   -0.084019    -1.304578     0.086349  ...   -1.322303   \n",
       "1    1.041639    0.123689     -0.90413     1.518112  ...   -0.911751   \n",
       "2    1.406646    0.019835    -0.813865    -0.034402  ...   -0.831283   \n",
       "3   -0.275429   -0.499435    -0.346129     0.051849  ...   -0.351759   \n",
       "4   -1.394785  -10.884831    -0.118005    -1.583466  ...   -0.134987   \n",
       "\n",
       "  MajorAxisLength MinorAxisLength Perimeter ConvexArea Centroid1 Centroid2  \\\n",
       "0       -0.159493         0.48666 -0.127081  -0.061375 -1.347138   0.09573   \n",
       "1       -0.051223        0.413149  0.156737  -0.040778 -0.952423  1.586816   \n",
       "2        0.014942        0.298798  0.243532  -0.074763 -0.862865 -0.009523   \n",
       "3        0.261557        0.903223 -0.099307   0.119878  -0.24094  0.078188   \n",
       "4        3.714168        4.243891  5.182143   4.310322  0.372694 -0.351596   \n",
       "\n",
       "        Area     raddi microorganisms  \n",
       "0   0.433369  0.989394      Spirogyra  \n",
       "1  -0.032279  0.989394      Spirogyra  \n",
       "2   0.128348  0.989394      Spirogyra  \n",
       "3   1.313402  0.989394      Spirogyra  \n",
       "4  14.351559  0.989394      Spirogyra  \n",
       "\n",
       "[5 rows x 25 columns]"
      ]
     },
     "execution_count": 13,
     "metadata": {},
     "output_type": "execute_result"
    }
   ],
   "source": [
    "scaler = StandardScaler()\n",
    "sc_df = scaler.fit_transform(df.iloc[:,:-1])\n",
    "temp_y = df['microorganisms'].to_numpy()\n",
    "sc_df = pd.DataFrame(np.hstack((sc_df, temp_y.reshape(-1, 1))), columns=df.columns)\n",
    "sc_df.head()"
   ]
  },
  {
   "cell_type": "code",
   "execution_count": 14,
   "id": "a7b72730",
   "metadata": {
    "execution": {
     "iopub.execute_input": "2022-05-27T18:10:47.637209Z",
     "iopub.status.busy": "2022-05-27T18:10:47.636241Z",
     "iopub.status.idle": "2022-05-27T18:10:47.676290Z",
     "shell.execute_reply": "2022-05-27T18:10:47.675568Z"
    },
    "papermill": {
     "duration": 0.106003,
     "end_time": "2022-05-27T18:10:47.678834",
     "exception": false,
     "start_time": "2022-05-27T18:10:47.572831",
     "status": "completed"
    },
    "tags": []
   },
   "outputs": [],
   "source": [
    "sc_df = sc_df[(np.abs(stats.zscore(df.iloc[:,:-1])) < 3).all(axis=1)]"
   ]
  },
  {
   "cell_type": "code",
   "execution_count": 15,
   "id": "d44581bb",
   "metadata": {
    "execution": {
     "iopub.execute_input": "2022-05-27T18:10:47.806183Z",
     "iopub.status.busy": "2022-05-27T18:10:47.805583Z",
     "iopub.status.idle": "2022-05-27T18:10:47.854517Z",
     "shell.execute_reply": "2022-05-27T18:10:47.853513Z"
    },
    "papermill": {
     "duration": 0.114894,
     "end_time": "2022-05-27T18:10:47.856555",
     "exception": false,
     "start_time": "2022-05-27T18:10:47.741661",
     "status": "completed"
    },
    "tags": []
   },
   "outputs": [
    {
     "name": "stdout",
     "output_type": "stream",
     "text": [
      "<class 'pandas.core.frame.DataFrame'>\n",
      "Int64Index: 28772 entries, 0 to 30526\n",
      "Data columns (total 25 columns):\n",
      " #   Column           Non-Null Count  Dtype \n",
      "---  ------           --------------  ----- \n",
      " 0   Solidity         28772 non-null  object\n",
      " 1   Eccentricity     28772 non-null  object\n",
      " 2   EquivDiameter    28772 non-null  object\n",
      " 3   Extrema          28772 non-null  object\n",
      " 4   FilledArea       28772 non-null  object\n",
      " 5   Extent           28772 non-null  object\n",
      " 6   Orientation      28772 non-null  object\n",
      " 7   EulerNumber      28772 non-null  object\n",
      " 8   BoundingBox1     28772 non-null  object\n",
      " 9   BoundingBox2     28772 non-null  object\n",
      " 10  BoundingBox3     28772 non-null  object\n",
      " 11  BoundingBox4     28772 non-null  object\n",
      " 12  ConvexHull1      28772 non-null  object\n",
      " 13  ConvexHull2      28772 non-null  object\n",
      " 14  ConvexHull3      28772 non-null  object\n",
      " 15  ConvexHull4      28772 non-null  object\n",
      " 16  MajorAxisLength  28772 non-null  object\n",
      " 17  MinorAxisLength  28772 non-null  object\n",
      " 18  Perimeter        28772 non-null  object\n",
      " 19  ConvexArea       28772 non-null  object\n",
      " 20  Centroid1        28772 non-null  object\n",
      " 21  Centroid2        28772 non-null  object\n",
      " 22  Area             28772 non-null  object\n",
      " 23  raddi            28772 non-null  object\n",
      " 24  microorganisms   28772 non-null  object\n",
      "dtypes: object(25)\n",
      "memory usage: 5.7+ MB\n"
     ]
    }
   ],
   "source": [
    "sc_df.info()"
   ]
  },
  {
   "cell_type": "markdown",
   "id": "4667625c",
   "metadata": {
    "papermill": {
     "duration": 0.062532,
     "end_time": "2022-05-27T18:10:47.981814",
     "exception": false,
     "start_time": "2022-05-27T18:10:47.919282",
     "status": "completed"
    },
    "tags": []
   },
   "source": [
    "## Oversampling with SMOTE (Synthetic Minority Oversampling Technique)\n",
    "* More on this here: https://www.analyticsvidhya.com/blog/2021/06/5-techniques-to-handle-imbalanced-data-for-a-classification-problem/"
   ]
  },
  {
   "cell_type": "code",
   "execution_count": 16,
   "id": "0b177fc0",
   "metadata": {
    "execution": {
     "iopub.execute_input": "2022-05-27T18:10:48.110690Z",
     "iopub.status.busy": "2022-05-27T18:10:48.110039Z",
     "iopub.status.idle": "2022-05-27T18:10:50.092334Z",
     "shell.execute_reply": "2022-05-27T18:10:50.091242Z"
    },
    "papermill": {
     "duration": 2.050149,
     "end_time": "2022-05-27T18:10:50.094914",
     "exception": false,
     "start_time": "2022-05-27T18:10:48.044765",
     "status": "completed"
    },
    "tags": []
   },
   "outputs": [],
   "source": [
    "X = sc_df.drop(['microorganisms'], axis=1).to_numpy()\n",
    "y = sc_df['microorganisms'].to_numpy()\n",
    "sm = SMOTE(random_state=42)\n",
    "X_train_transformed, y_train_transformed = sm.fit_resample(X, y)"
   ]
  },
  {
   "cell_type": "code",
   "execution_count": 17,
   "id": "e356b4d3",
   "metadata": {
    "execution": {
     "iopub.execute_input": "2022-05-27T18:10:50.222015Z",
     "iopub.status.busy": "2022-05-27T18:10:50.221735Z",
     "iopub.status.idle": "2022-05-27T18:10:50.345095Z",
     "shell.execute_reply": "2022-05-27T18:10:50.344157Z"
    },
    "papermill": {
     "duration": 0.189839,
     "end_time": "2022-05-27T18:10:50.347653",
     "exception": false,
     "start_time": "2022-05-27T18:10:50.157814",
     "status": "completed"
    },
    "tags": []
   },
   "outputs": [],
   "source": [
    "X_train, X_test, y_train, y_test = train_test_split(X, y, \n",
    "                                                    test_size=0.3, \n",
    "                                                    random_state=42, \n",
    "                                                    shuffle=True)"
   ]
  },
  {
   "cell_type": "markdown",
   "id": "c754400d",
   "metadata": {
    "papermill": {
     "duration": 0.0752,
     "end_time": "2022-05-27T18:10:50.503382",
     "exception": false,
     "start_time": "2022-05-27T18:10:50.428182",
     "status": "completed"
    },
    "tags": []
   },
   "source": [
    "# ***4. Baseline Models***"
   ]
  },
  {
   "cell_type": "code",
   "execution_count": 18,
   "id": "9ca1bc69",
   "metadata": {
    "execution": {
     "iopub.execute_input": "2022-05-27T18:10:50.639148Z",
     "iopub.status.busy": "2022-05-27T18:10:50.638258Z",
     "iopub.status.idle": "2022-05-27T18:10:50.644216Z",
     "shell.execute_reply": "2022-05-27T18:10:50.643219Z"
    },
    "papermill": {
     "duration": 0.075793,
     "end_time": "2022-05-27T18:10:50.646838",
     "exception": false,
     "start_time": "2022-05-27T18:10:50.571045",
     "status": "completed"
    },
    "tags": []
   },
   "outputs": [],
   "source": [
    "# format scoring output\n",
    "def score_format(model):\n",
    "    print(f'Accuracy: {round(model * 100, 2)} %')"
   ]
  },
  {
   "cell_type": "markdown",
   "id": "691d18b5",
   "metadata": {
    "papermill": {
     "duration": 0.062583,
     "end_time": "2022-05-27T18:10:50.774940",
     "exception": false,
     "start_time": "2022-05-27T18:10:50.712357",
     "status": "completed"
    },
    "tags": []
   },
   "source": [
    "## K-Nearest Neighbors"
   ]
  },
  {
   "cell_type": "code",
   "execution_count": 19,
   "id": "590922ff",
   "metadata": {
    "execution": {
     "iopub.execute_input": "2022-05-27T18:10:50.904449Z",
     "iopub.status.busy": "2022-05-27T18:10:50.903578Z",
     "iopub.status.idle": "2022-05-27T18:10:55.133418Z",
     "shell.execute_reply": "2022-05-27T18:10:55.132376Z"
    },
    "papermill": {
     "duration": 4.297042,
     "end_time": "2022-05-27T18:10:55.135825",
     "exception": false,
     "start_time": "2022-05-27T18:10:50.838783",
     "status": "completed"
    },
    "tags": []
   },
   "outputs": [
    {
     "name": "stdout",
     "output_type": "stream",
     "text": [
      "Accuracy: 92.04 %\n"
     ]
    }
   ],
   "source": [
    "knn = KNeighborsClassifier()\n",
    "knn.fit(X_train, y_train)\n",
    "score_format(knn.score(X_test, y_test))"
   ]
  },
  {
   "cell_type": "markdown",
   "id": "e4c4bf24",
   "metadata": {
    "papermill": {
     "duration": 0.063454,
     "end_time": "2022-05-27T18:10:55.265832",
     "exception": false,
     "start_time": "2022-05-27T18:10:55.202378",
     "status": "completed"
    },
    "tags": []
   },
   "source": [
    "## Random Forest"
   ]
  },
  {
   "cell_type": "code",
   "execution_count": 20,
   "id": "ae5b9ce6",
   "metadata": {
    "execution": {
     "iopub.execute_input": "2022-05-27T18:10:55.404422Z",
     "iopub.status.busy": "2022-05-27T18:10:55.403859Z",
     "iopub.status.idle": "2022-05-27T18:11:00.228325Z",
     "shell.execute_reply": "2022-05-27T18:11:00.227627Z"
    },
    "papermill": {
     "duration": 4.897706,
     "end_time": "2022-05-27T18:11:00.230823",
     "exception": false,
     "start_time": "2022-05-27T18:10:55.333117",
     "status": "completed"
    },
    "tags": []
   },
   "outputs": [
    {
     "name": "stdout",
     "output_type": "stream",
     "text": [
      "Accuracy: 98.39 %\n"
     ]
    }
   ],
   "source": [
    "rf = RandomForestClassifier()\n",
    "rf.fit(X_train, y_train)\n",
    "score_format(rf.score(X_test, y_test))"
   ]
  },
  {
   "cell_type": "markdown",
   "id": "7bc1df4b",
   "metadata": {
    "papermill": {
     "duration": 0.062417,
     "end_time": "2022-05-27T18:11:00.361454",
     "exception": false,
     "start_time": "2022-05-27T18:11:00.299037",
     "status": "completed"
    },
    "tags": []
   },
   "source": [
    "## Gradient Boosting"
   ]
  },
  {
   "cell_type": "code",
   "execution_count": 21,
   "id": "6b4dd1fa",
   "metadata": {
    "execution": {
     "iopub.execute_input": "2022-05-27T18:11:00.492855Z",
     "iopub.status.busy": "2022-05-27T18:11:00.492550Z",
     "iopub.status.idle": "2022-05-27T18:12:34.161237Z",
     "shell.execute_reply": "2022-05-27T18:12:34.160272Z"
    },
    "papermill": {
     "duration": 93.80341,
     "end_time": "2022-05-27T18:12:34.231098",
     "exception": false,
     "start_time": "2022-05-27T18:11:00.427688",
     "status": "completed"
    },
    "tags": []
   },
   "outputs": [
    {
     "name": "stdout",
     "output_type": "stream",
     "text": [
      "Accuracy: 87.07 %\n"
     ]
    }
   ],
   "source": [
    "gb = GradientBoostingClassifier()\n",
    "gb.fit(X_train, y_train)\n",
    "score_format(gb.score(X_test, y_test))"
   ]
  },
  {
   "cell_type": "markdown",
   "id": "7b012e1c",
   "metadata": {
    "papermill": {
     "duration": 0.063281,
     "end_time": "2022-05-27T18:12:34.359177",
     "exception": false,
     "start_time": "2022-05-27T18:12:34.295896",
     "status": "completed"
    },
    "tags": []
   },
   "source": [
    "## Multi-Layer Perceptron"
   ]
  },
  {
   "cell_type": "code",
   "execution_count": 22,
   "id": "830112de",
   "metadata": {
    "execution": {
     "iopub.execute_input": "2022-05-27T18:12:34.488838Z",
     "iopub.status.busy": "2022-05-27T18:12:34.488443Z",
     "iopub.status.idle": "2022-05-27T18:15:32.949114Z",
     "shell.execute_reply": "2022-05-27T18:15:32.947895Z"
    },
    "papermill": {
     "duration": 178.619266,
     "end_time": "2022-05-27T18:15:33.041510",
     "exception": false,
     "start_time": "2022-05-27T18:12:34.422244",
     "status": "completed"
    },
    "scrolled": true,
    "tags": []
   },
   "outputs": [
    {
     "name": "stdout",
     "output_type": "stream",
     "text": [
      "Accuracy: 84.07 %\n"
     ]
    }
   ],
   "source": [
    "mlp = MLPClassifier(max_iter = 1000)\n",
    "mlp.fit(X_train, y_train)\n",
    "score_format(mlp.score(X_test, y_test))"
   ]
  },
  {
   "cell_type": "markdown",
   "id": "9c0de9f7",
   "metadata": {
    "papermill": {
     "duration": 0.062905,
     "end_time": "2022-05-27T18:15:33.167648",
     "exception": false,
     "start_time": "2022-05-27T18:15:33.104743",
     "status": "completed"
    },
    "tags": []
   },
   "source": [
    "# ***5. Cross Validation*** "
   ]
  },
  {
   "cell_type": "markdown",
   "id": "7da17246",
   "metadata": {
    "papermill": {
     "duration": 0.062628,
     "end_time": "2022-05-27T18:15:33.293140",
     "exception": false,
     "start_time": "2022-05-27T18:15:33.230512",
     "status": "completed"
    },
    "tags": []
   },
   "source": [
    "## Overfit?\n",
    "* Since we're using SMOTE, we'll be duplicating underrepresented data and this may affect our accuracy\n",
    "    * Model accuracies suffer from overfitting when models pay too much attention to certain data points during training and cannot predict effectively on unseen points\n",
    "* Cross validation will allow us to determine how well each model generalizes on unseen data\n",
    "    * Cross validation will treat the entire dataset as a training AND test set by splitting into K equal parts, and alternating training/test sets among those K-splits"
   ]
  },
  {
   "cell_type": "code",
   "execution_count": 23,
   "id": "c9411ec3",
   "metadata": {
    "execution": {
     "iopub.execute_input": "2022-05-27T18:15:33.423012Z",
     "iopub.status.busy": "2022-05-27T18:15:33.422260Z",
     "iopub.status.idle": "2022-05-27T18:15:33.427592Z",
     "shell.execute_reply": "2022-05-27T18:15:33.426770Z"
    },
    "papermill": {
     "duration": 0.072198,
     "end_time": "2022-05-27T18:15:33.429665",
     "exception": false,
     "start_time": "2022-05-27T18:15:33.357467",
     "status": "completed"
    },
    "tags": []
   },
   "outputs": [],
   "source": [
    "models = [knn, rf, gb, mlp]"
   ]
  },
  {
   "cell_type": "code",
   "execution_count": 24,
   "id": "d2ae7634",
   "metadata": {
    "execution": {
     "iopub.execute_input": "2022-05-27T18:15:33.560080Z",
     "iopub.status.busy": "2022-05-27T18:15:33.559392Z",
     "iopub.status.idle": "2022-05-27T18:32:26.791305Z",
     "shell.execute_reply": "2022-05-27T18:32:26.788779Z"
    },
    "papermill": {
     "duration": 1013.36808,
     "end_time": "2022-05-27T18:32:26.862027",
     "exception": false,
     "start_time": "2022-05-27T18:15:33.493947",
     "status": "completed"
    },
    "scrolled": true,
    "tags": []
   },
   "outputs": [
    {
     "name": "stdout",
     "output_type": "stream",
     "text": [
      "CV accuracy: 0.934 +/- 0.014\n",
      "CV accuracy: 0.995 +/- 0.006\n",
      "CV accuracy: 0.814 +/- 0.030\n",
      "CV accuracy: 0.813 +/- 0.036\n"
     ]
    }
   ],
   "source": [
    "for model in models:\n",
    "    scores = cross_val_score(estimator=model,\n",
    "                         X=X,\n",
    "                         y=y,\n",
    "                         cv=10,\n",
    "                         n_jobs=-1)\n",
    "    print(f'CV accuracy: {np.mean(scores):.3f} +/- {np.std(scores):.3f}')"
   ]
  },
  {
   "cell_type": "markdown",
   "id": "262ae258",
   "metadata": {
    "papermill": {
     "duration": 0.068422,
     "end_time": "2022-05-27T18:32:26.997746",
     "exception": false,
     "start_time": "2022-05-27T18:32:26.929324",
     "status": "completed"
    },
    "tags": []
   },
   "source": [
    "## CV Scores\n",
    "* KNN: \n",
    "    * CV accuracy: 0.934 +/- 0.014\n",
    "* Random Forest: \n",
    "    * CV accuracy: 0.995 +/- 0.006\n",
    "* Gradient Boosting: \n",
    "    * CV accuracy: 0.814 +/- 0.030\n",
    "* MLP: \n",
    "    * CV accuracy: 0.811 +/- 0.026"
   ]
  },
  {
   "cell_type": "markdown",
   "id": "15d35087",
   "metadata": {
    "papermill": {
     "duration": 0.065418,
     "end_time": "2022-05-27T18:32:27.129235",
     "exception": false,
     "start_time": "2022-05-27T18:32:27.063817",
     "status": "completed"
    },
    "tags": []
   },
   "source": [
    "## What's next?\n",
    "* Random Forest is the best predictor with the highest accuracy and the lowest score std dev, while Gradient Boosting and MLP are the worst... Done, right?\n",
    "* The validation shows that the random forest model generalized very well.\n",
    "    * *However*, the above models are baseline models, so we'll need to optimize them to improve performance."
   ]
  },
  {
   "cell_type": "markdown",
   "id": "67d867a9",
   "metadata": {
    "papermill": {
     "duration": 0.073433,
     "end_time": "2022-05-27T18:32:27.273964",
     "exception": false,
     "start_time": "2022-05-27T18:32:27.200531",
     "status": "completed"
    },
    "tags": []
   },
   "source": [
    "# ***6. Hyperparameter Tuning*** "
   ]
  },
  {
   "cell_type": "markdown",
   "id": "964078b2",
   "metadata": {
    "papermill": {
     "duration": 0.06501,
     "end_time": "2022-05-27T18:32:27.407033",
     "exception": false,
     "start_time": "2022-05-27T18:32:27.342023",
     "status": "completed"
    },
    "tags": []
   },
   "source": [
    "## GridSearchCV\n",
    "* Hyperparameters are nontrainable configurations that determines how models learn from data.\n",
    "    * i.e., learning rate in perceptrons, limiting the depth in decision trees, choosing optimizers, etc.\n",
    "* You may have some intuitive sense for why certain settings are appropriate for training; however, experimenting every combination is cumbersome.\n",
    "* Thankfully, Grid Search will find the best estimator within your parameters and cross validate your results as well\n",
    "* Docs: https://scikit-learn.org/stable/modules/generated/sklearn.model_selection.GridSearchCV.html"
   ]
  },
  {
   "cell_type": "code",
   "execution_count": 25,
   "id": "33997c87",
   "metadata": {
    "execution": {
     "iopub.execute_input": "2022-05-27T18:32:27.539687Z",
     "iopub.status.busy": "2022-05-27T18:32:27.539335Z",
     "iopub.status.idle": "2022-05-27T21:23:54.018650Z",
     "shell.execute_reply": "2022-05-27T21:23:54.016900Z"
    },
    "papermill": {
     "duration": 10286.71833,
     "end_time": "2022-05-27T21:23:54.190739",
     "exception": false,
     "start_time": "2022-05-27T18:32:27.472409",
     "status": "completed"
    },
    "scrolled": true,
    "tags": []
   },
   "outputs": [
    {
     "name": "stderr",
     "output_type": "stream",
     "text": [
      "100%|██████████| 4/4 [2:51:26<00:00, 2571.61s/it]\n"
     ]
    }
   ],
   "source": [
    "ints_ = [5,7,9, None]\n",
    "param_grid = [{'n_neighbors': ints_[:-1], \n",
    "               'weights': ['uniform', 'distance']\n",
    "              },\n",
    "              {'criterion': ['gini', 'entropy'],\n",
    "               'max_depth': ints_\n",
    "              },\n",
    "              {'max_depth': ints_[:-1]},\n",
    "              {'hidden_layer_sizes': [(100,), (250,)], \n",
    "               'activation': ['logistic', 'tanh', 'relu'],\n",
    "               'max_iter': [10000]\n",
    "              }]\n",
    "\n",
    "tuned_models = []\n",
    "for i in tqdm(range(len(models))):    \n",
    "    gs = GridSearchCV(models[i], \n",
    "                      param_grid[i], \n",
    "                      n_jobs = -1,\n",
    "                      refit = True,\n",
    "                      cv = 10,\n",
    "                      return_train_score = True)\n",
    "    best_model = gs.fit(X, y)\n",
    "    tuned_models.append(best_model)"
   ]
  },
  {
   "cell_type": "code",
   "execution_count": 26,
   "id": "aed64f18",
   "metadata": {
    "execution": {
     "iopub.execute_input": "2022-05-27T21:23:54.333711Z",
     "iopub.status.busy": "2022-05-27T21:23:54.332988Z",
     "iopub.status.idle": "2022-05-27T21:23:54.353338Z",
     "shell.execute_reply": "2022-05-27T21:23:54.352518Z"
    },
    "papermill": {
     "duration": 0.094749,
     "end_time": "2022-05-27T21:23:54.355553",
     "exception": false,
     "start_time": "2022-05-27T21:23:54.260804",
     "status": "completed"
    },
    "tags": []
   },
   "outputs": [
    {
     "data": {
      "text/plain": [
       "[GridSearchCV(cv=10, estimator=KNeighborsClassifier(), n_jobs=-1,\n",
       "              param_grid={'n_neighbors': [5, 7, 9],\n",
       "                          'weights': ['uniform', 'distance']},\n",
       "              return_train_score=True),\n",
       " GridSearchCV(cv=10, estimator=RandomForestClassifier(), n_jobs=-1,\n",
       "              param_grid={'criterion': ['gini', 'entropy'],\n",
       "                          'max_depth': [5, 7, 9, None]},\n",
       "              return_train_score=True),\n",
       " GridSearchCV(cv=10, estimator=GradientBoostingClassifier(), n_jobs=-1,\n",
       "              param_grid={'max_depth': [5, 7, 9]}, return_train_score=True),\n",
       " GridSearchCV(cv=10, estimator=MLPClassifier(max_iter=1000), n_jobs=-1,\n",
       "              param_grid={'activation': ['logistic', 'tanh', 'relu'],\n",
       "                          'hidden_layer_sizes': [(100,), (250,)],\n",
       "                          'max_iter': [10000]},\n",
       "              return_train_score=True)]"
      ]
     },
     "execution_count": 26,
     "metadata": {},
     "output_type": "execute_result"
    }
   ],
   "source": [
    "tuned_models"
   ]
  },
  {
   "cell_type": "code",
   "execution_count": 27,
   "id": "1f3828bd",
   "metadata": {
    "execution": {
     "iopub.execute_input": "2022-05-27T21:23:54.501075Z",
     "iopub.status.busy": "2022-05-27T21:23:54.500445Z",
     "iopub.status.idle": "2022-05-27T21:23:54.511547Z",
     "shell.execute_reply": "2022-05-27T21:23:54.510487Z"
    },
    "papermill": {
     "duration": 0.088291,
     "end_time": "2022-05-27T21:23:54.514082",
     "exception": false,
     "start_time": "2022-05-27T21:23:54.425791",
     "status": "completed"
    },
    "tags": []
   },
   "outputs": [
    {
     "name": "stdout",
     "output_type": "stream",
     "text": [
      "Best Params: KNeighborsClassifier(weights='distance')\n",
      "Best Score: 0.995\n",
      "\n",
      "\n",
      "Best Params: RandomForestClassifier()\n",
      "Best Score: 0.995\n",
      "\n",
      "\n",
      "Best Params: GradientBoostingClassifier(max_depth=9)\n",
      "Best Score: 0.995\n",
      "\n",
      "\n",
      "Best Params: MLPClassifier(activation='logistic', hidden_layer_sizes=(250,), max_iter=10000)\n",
      "Best Score: 0.991\n",
      "\n",
      "\n"
     ]
    }
   ],
   "source": [
    "for model in tuned_models:\n",
    "    print(f'Best Params: {model.best_estimator_}')\n",
    "    print(f'Best Score: {model.best_score_:.3f}')\n",
    "    print()\n",
    "    print()"
   ]
  }
 ],
 "metadata": {
  "kernelspec": {
   "display_name": "Python 3",
   "language": "python",
   "name": "python3"
  },
  "language_info": {
   "codemirror_mode": {
    "name": "ipython",
    "version": 3
   },
   "file_extension": ".py",
   "mimetype": "text/x-python",
   "name": "python",
   "nbconvert_exporter": "python",
   "pygments_lexer": "ipython3",
   "version": "3.7.12"
  },
  "papermill": {
   "default_parameters": {},
   "duration": 11608.895646,
   "end_time": "2022-05-27T21:23:57.235811",
   "environment_variables": {},
   "exception": null,
   "input_path": "__notebook__.ipynb",
   "output_path": "__notebook__.ipynb",
   "parameters": {},
   "start_time": "2022-05-27T18:10:28.340165",
   "version": "2.3.4"
  }
 },
 "nbformat": 4,
 "nbformat_minor": 5
}
