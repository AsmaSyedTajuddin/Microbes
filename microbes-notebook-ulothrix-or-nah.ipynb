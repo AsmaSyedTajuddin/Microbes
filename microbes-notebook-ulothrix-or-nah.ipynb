{
 "cells": [
  {
   "cell_type": "code",
   "execution_count": 1,
   "id": "67712da4",
   "metadata": {
    "_cell_guid": "b1076dfc-b9ad-4769-8c92-a6c4dae69d19",
    "_uuid": "8f2839f25d086af736a60e9eeb907d3b93b6e0e5",
    "execution": {
     "iopub.execute_input": "2022-06-02T08:28:10.151983Z",
     "iopub.status.busy": "2022-06-02T08:28:10.151655Z",
     "iopub.status.idle": "2022-06-02T08:28:10.164643Z",
     "shell.execute_reply": "2022-06-02T08:28:10.163457Z"
    },
    "papermill": {
     "duration": 0.089093,
     "end_time": "2022-06-02T08:28:10.166800",
     "exception": false,
     "start_time": "2022-06-02T08:28:10.077707",
     "status": "completed"
    },
    "tags": []
   },
   "outputs": [
    {
     "name": "stdout",
     "output_type": "stream",
     "text": [
      "/kaggle/input/microbes-dataset/microbes.csv\n"
     ]
    }
   ],
   "source": [
    "import os\n",
    "for dirname, _, filenames in os.walk('/kaggle/input'):\n",
    "    for filename in filenames:\n",
    "        print(os.path.join(dirname, filename))"
   ]
  },
  {
   "cell_type": "markdown",
   "id": "40235d7a",
   "metadata": {
    "papermill": {
     "duration": 0.068507,
     "end_time": "2022-06-02T08:28:10.306313",
     "exception": false,
     "start_time": "2022-06-02T08:28:10.237806",
     "status": "completed"
    },
    "tags": []
   },
   "source": [
    "#### This note book is still progress. Always view the latest version."
   ]
  },
  {
   "cell_type": "markdown",
   "id": "5878422c",
   "metadata": {
    "papermill": {
     "duration": 0.068351,
     "end_time": "2022-06-02T08:28:10.445155",
     "exception": false,
     "start_time": "2022-06-02T08:28:10.376804",
     "status": "completed"
    },
    "tags": []
   },
   "source": [
    "# Objective: To identify Ulothrix from other microorganisms"
   ]
  },
  {
   "cell_type": "markdown",
   "id": "1f7ac65f",
   "metadata": {
    "papermill": {
     "duration": 0.080121,
     "end_time": "2022-06-02T08:28:10.594701",
     "exception": false,
     "start_time": "2022-06-02T08:28:10.514580",
     "status": "completed"
    },
    "tags": []
   },
   "source": [
    "# Section 1: EDA"
   ]
  },
  {
   "cell_type": "markdown",
   "id": "897e9ff1",
   "metadata": {
    "papermill": {
     "duration": 0.068286,
     "end_time": "2022-06-02T08:28:10.731866",
     "exception": false,
     "start_time": "2022-06-02T08:28:10.663580",
     "status": "completed"
    },
    "tags": []
   },
   "source": [
    "> **This section prepares the data and checks some of its properties such as datatypes of each feature and its cardinality. Also, this section checks the correlation of each feature to the target and checks if the target is balance.**"
   ]
  },
  {
   "cell_type": "markdown",
   "id": "2f2784d6",
   "metadata": {
    "papermill": {
     "duration": 0.069838,
     "end_time": "2022-06-02T08:28:10.869700",
     "exception": false,
     "start_time": "2022-06-02T08:28:10.799862",
     "status": "completed"
    },
    "tags": []
   },
   "source": [
    "# Importing Libraries needed"
   ]
  },
  {
   "cell_type": "code",
   "execution_count": 2,
   "id": "cae3564f",
   "metadata": {
    "execution": {
     "iopub.execute_input": "2022-06-02T08:28:11.008223Z",
     "iopub.status.busy": "2022-06-02T08:28:11.007917Z",
     "iopub.status.idle": "2022-06-02T08:28:12.334279Z",
     "shell.execute_reply": "2022-06-02T08:28:12.333227Z"
    },
    "papermill": {
     "duration": 1.399363,
     "end_time": "2022-06-02T08:28:12.337315",
     "exception": false,
     "start_time": "2022-06-02T08:28:10.937952",
     "status": "completed"
    },
    "tags": []
   },
   "outputs": [],
   "source": [
    "import numpy as np\n",
    "import pandas as pd\n",
    "pd.set_option('display.max_rows', None)\n",
    "pd.set_option('display.max_columns', None)\n",
    "\n",
    "import matplotlib.pyplot as plt\n",
    "%matplotlib inline\n",
    "import seaborn as sns\n",
    "\n",
    "from sklearn.preprocessing import LabelEncoder\n",
    "\n",
    "import warnings\n",
    "warnings.filterwarnings('ignore')"
   ]
  },
  {
   "cell_type": "markdown",
   "id": "6e1ee81b",
   "metadata": {
    "papermill": {
     "duration": 0.068732,
     "end_time": "2022-06-02T08:28:12.477354",
     "exception": false,
     "start_time": "2022-06-02T08:28:12.408622",
     "status": "completed"
    },
    "tags": []
   },
   "source": [
    "The initial libraries imported are splitted into groups. The first group is for loading and manipulating data, second group is for visualization, third is for dealing with categorical features, and the last is for ignoring warnings."
   ]
  },
  {
   "cell_type": "markdown",
   "id": "005f64ef",
   "metadata": {
    "papermill": {
     "duration": 0.068789,
     "end_time": "2022-06-02T08:28:12.614812",
     "exception": false,
     "start_time": "2022-06-02T08:28:12.546023",
     "status": "completed"
    },
    "tags": []
   },
   "source": [
    "# Dataset"
   ]
  },
  {
   "cell_type": "code",
   "execution_count": 3,
   "id": "958552f4",
   "metadata": {
    "execution": {
     "iopub.execute_input": "2022-06-02T08:28:12.754339Z",
     "iopub.status.busy": "2022-06-02T08:28:12.754045Z",
     "iopub.status.idle": "2022-06-02T08:28:12.990634Z",
     "shell.execute_reply": "2022-06-02T08:28:12.989425Z"
    },
    "papermill": {
     "duration": 0.3106,
     "end_time": "2022-06-02T08:28:12.994227",
     "exception": false,
     "start_time": "2022-06-02T08:28:12.683627",
     "status": "completed"
    },
    "tags": []
   },
   "outputs": [
    {
     "name": "stdout",
     "output_type": "stream",
     "text": [
      "Dataset shape: (30527, 26)\n",
      "\n",
      "Dataset head:\n"
     ]
    },
    {
     "data": {
      "text/html": [
       "<div>\n",
       "<style scoped>\n",
       "    .dataframe tbody tr th:only-of-type {\n",
       "        vertical-align: middle;\n",
       "    }\n",
       "\n",
       "    .dataframe tbody tr th {\n",
       "        vertical-align: top;\n",
       "    }\n",
       "\n",
       "    .dataframe thead th {\n",
       "        text-align: right;\n",
       "    }\n",
       "</style>\n",
       "<table border=\"1\" class=\"dataframe\">\n",
       "  <thead>\n",
       "    <tr style=\"text-align: right;\">\n",
       "      <th></th>\n",
       "      <th>Unnamed: 0</th>\n",
       "      <th>Solidity</th>\n",
       "      <th>Eccentricity</th>\n",
       "      <th>EquivDiameter</th>\n",
       "      <th>Extrema</th>\n",
       "      <th>FilledArea</th>\n",
       "      <th>Extent</th>\n",
       "      <th>Orientation</th>\n",
       "      <th>EulerNumber</th>\n",
       "      <th>BoundingBox1</th>\n",
       "      <th>BoundingBox2</th>\n",
       "      <th>BoundingBox3</th>\n",
       "      <th>BoundingBox4</th>\n",
       "      <th>ConvexHull1</th>\n",
       "      <th>ConvexHull2</th>\n",
       "      <th>ConvexHull3</th>\n",
       "      <th>ConvexHull4</th>\n",
       "      <th>MajorAxisLength</th>\n",
       "      <th>MinorAxisLength</th>\n",
       "      <th>Perimeter</th>\n",
       "      <th>ConvexArea</th>\n",
       "      <th>Centroid1</th>\n",
       "      <th>Centroid2</th>\n",
       "      <th>Area</th>\n",
       "      <th>raddi</th>\n",
       "      <th>microorganisms</th>\n",
       "    </tr>\n",
       "  </thead>\n",
       "  <tbody>\n",
       "    <tr>\n",
       "      <th>0</th>\n",
       "      <td>0</td>\n",
       "      <td>10.70</td>\n",
       "      <td>15.8</td>\n",
       "      <td>5.43</td>\n",
       "      <td>3.75</td>\n",
       "      <td>0.785</td>\n",
       "      <td>8.14</td>\n",
       "      <td>2.15</td>\n",
       "      <td>22.3</td>\n",
       "      <td>2.97</td>\n",
       "      <td>10.90</td>\n",
       "      <td>1.75</td>\n",
       "      <td>2.97</td>\n",
       "      <td>3.12</td>\n",
       "      <td>3.12</td>\n",
       "      <td>2.97</td>\n",
       "      <td>2.97</td>\n",
       "      <td>1.34</td>\n",
       "      <td>1.61</td>\n",
       "      <td>0.683</td>\n",
       "      <td>0.195</td>\n",
       "      <td>3.63</td>\n",
       "      <td>12.10</td>\n",
       "      <td>1.310</td>\n",
       "      <td>7.99</td>\n",
       "      <td>Spirogyra</td>\n",
       "    </tr>\n",
       "    <tr>\n",
       "      <th>1</th>\n",
       "      <td>1</td>\n",
       "      <td>5.60</td>\n",
       "      <td>18.3</td>\n",
       "      <td>4.14</td>\n",
       "      <td>6.16</td>\n",
       "      <td>0.364</td>\n",
       "      <td>3.51</td>\n",
       "      <td>18.60</td>\n",
       "      <td>22.5</td>\n",
       "      <td>5.41</td>\n",
       "      <td>19.20</td>\n",
       "      <td>1.77</td>\n",
       "      <td>3.95</td>\n",
       "      <td>6.08</td>\n",
       "      <td>6.08</td>\n",
       "      <td>5.49</td>\n",
       "      <td>5.47</td>\n",
       "      <td>1.52</td>\n",
       "      <td>1.52</td>\n",
       "      <td>1.010</td>\n",
       "      <td>0.215</td>\n",
       "      <td>6.01</td>\n",
       "      <td>20.60</td>\n",
       "      <td>0.765</td>\n",
       "      <td>7.99</td>\n",
       "      <td>Spirogyra</td>\n",
       "    </tr>\n",
       "    <tr>\n",
       "      <th>2</th>\n",
       "      <td>2</td>\n",
       "      <td>8.32</td>\n",
       "      <td>19.8</td>\n",
       "      <td>4.63</td>\n",
       "      <td>6.66</td>\n",
       "      <td>0.415</td>\n",
       "      <td>5.85</td>\n",
       "      <td>21.00</td>\n",
       "      <td>22.4</td>\n",
       "      <td>5.96</td>\n",
       "      <td>10.20</td>\n",
       "      <td>1.51</td>\n",
       "      <td>3.49</td>\n",
       "      <td>5.95</td>\n",
       "      <td>5.95</td>\n",
       "      <td>5.99</td>\n",
       "      <td>5.96</td>\n",
       "      <td>1.63</td>\n",
       "      <td>1.38</td>\n",
       "      <td>1.110</td>\n",
       "      <td>0.182</td>\n",
       "      <td>6.55</td>\n",
       "      <td>11.50</td>\n",
       "      <td>0.953</td>\n",
       "      <td>7.99</td>\n",
       "      <td>Spirogyra</td>\n",
       "    </tr>\n",
       "    <tr>\n",
       "      <th>3</th>\n",
       "      <td>3</td>\n",
       "      <td>10.10</td>\n",
       "      <td>17.9</td>\n",
       "      <td>7.29</td>\n",
       "      <td>11.10</td>\n",
       "      <td>1.470</td>\n",
       "      <td>6.30</td>\n",
       "      <td>9.94</td>\n",
       "      <td>21.9</td>\n",
       "      <td>8.81</td>\n",
       "      <td>10.70</td>\n",
       "      <td>3.34</td>\n",
       "      <td>3.63</td>\n",
       "      <td>8.93</td>\n",
       "      <td>8.93</td>\n",
       "      <td>8.90</td>\n",
       "      <td>8.88</td>\n",
       "      <td>2.04</td>\n",
       "      <td>2.12</td>\n",
       "      <td>0.715</td>\n",
       "      <td>0.371</td>\n",
       "      <td>10.30</td>\n",
       "      <td>12.00</td>\n",
       "      <td>2.340</td>\n",
       "      <td>7.99</td>\n",
       "      <td>Spirogyra</td>\n",
       "    </tr>\n",
       "    <tr>\n",
       "      <th>4</th>\n",
       "      <td>4</td>\n",
       "      <td>6.27</td>\n",
       "      <td>20.2</td>\n",
       "      <td>20.10</td>\n",
       "      <td>10.70</td>\n",
       "      <td>14.700</td>\n",
       "      <td>3.97</td>\n",
       "      <td>2.58</td>\n",
       "      <td>11.9</td>\n",
       "      <td>10.20</td>\n",
       "      <td>1.22</td>\n",
       "      <td>8.40</td>\n",
       "      <td>17.10</td>\n",
       "      <td>10.20</td>\n",
       "      <td>10.20</td>\n",
       "      <td>10.20</td>\n",
       "      <td>10.20</td>\n",
       "      <td>7.78</td>\n",
       "      <td>6.21</td>\n",
       "      <td>6.800</td>\n",
       "      <td>4.440</td>\n",
       "      <td>14.00</td>\n",
       "      <td>9.55</td>\n",
       "      <td>17.600</td>\n",
       "      <td>7.99</td>\n",
       "      <td>Spirogyra</td>\n",
       "    </tr>\n",
       "  </tbody>\n",
       "</table>\n",
       "</div>"
      ],
      "text/plain": [
       "   Unnamed: 0  Solidity  Eccentricity  EquivDiameter  Extrema  FilledArea  \\\n",
       "0           0     10.70          15.8           5.43     3.75       0.785   \n",
       "1           1      5.60          18.3           4.14     6.16       0.364   \n",
       "2           2      8.32          19.8           4.63     6.66       0.415   \n",
       "3           3     10.10          17.9           7.29    11.10       1.470   \n",
       "4           4      6.27          20.2          20.10    10.70      14.700   \n",
       "\n",
       "   Extent  Orientation  EulerNumber  BoundingBox1  BoundingBox2  BoundingBox3  \\\n",
       "0    8.14         2.15         22.3          2.97         10.90          1.75   \n",
       "1    3.51        18.60         22.5          5.41         19.20          1.77   \n",
       "2    5.85        21.00         22.4          5.96         10.20          1.51   \n",
       "3    6.30         9.94         21.9          8.81         10.70          3.34   \n",
       "4    3.97         2.58         11.9         10.20          1.22          8.40   \n",
       "\n",
       "   BoundingBox4  ConvexHull1  ConvexHull2  ConvexHull3  ConvexHull4  \\\n",
       "0          2.97         3.12         3.12         2.97         2.97   \n",
       "1          3.95         6.08         6.08         5.49         5.47   \n",
       "2          3.49         5.95         5.95         5.99         5.96   \n",
       "3          3.63         8.93         8.93         8.90         8.88   \n",
       "4         17.10        10.20        10.20        10.20        10.20   \n",
       "\n",
       "   MajorAxisLength  MinorAxisLength  Perimeter  ConvexArea  Centroid1  \\\n",
       "0             1.34             1.61      0.683       0.195       3.63   \n",
       "1             1.52             1.52      1.010       0.215       6.01   \n",
       "2             1.63             1.38      1.110       0.182       6.55   \n",
       "3             2.04             2.12      0.715       0.371      10.30   \n",
       "4             7.78             6.21      6.800       4.440      14.00   \n",
       "\n",
       "   Centroid2    Area  raddi microorganisms  \n",
       "0      12.10   1.310   7.99      Spirogyra  \n",
       "1      20.60   0.765   7.99      Spirogyra  \n",
       "2      11.50   0.953   7.99      Spirogyra  \n",
       "3      12.00   2.340   7.99      Spirogyra  \n",
       "4       9.55  17.600   7.99      Spirogyra  "
      ]
     },
     "execution_count": 3,
     "metadata": {},
     "output_type": "execute_result"
    }
   ],
   "source": [
    "data = pd.read_csv('../input/microbes-dataset/microbes.csv')\n",
    "print(f'Dataset shape: {data.shape}')\n",
    "print()\n",
    "print('Dataset head:')\n",
    "data.head()"
   ]
  },
  {
   "cell_type": "markdown",
   "id": "7990950f",
   "metadata": {
    "papermill": {
     "duration": 0.071942,
     "end_time": "2022-06-02T08:28:13.137396",
     "exception": false,
     "start_time": "2022-06-02T08:28:13.065454",
     "status": "completed"
    },
    "tags": []
   },
   "source": [
    "Dataset currently has 26 features but there is one that is not needed which is the `Unnamed: 0`. So dataset actually has 25 columns. Remove `Unnamed: 0`."
   ]
  },
  {
   "cell_type": "code",
   "execution_count": 4,
   "id": "5c70594b",
   "metadata": {
    "execution": {
     "iopub.execute_input": "2022-06-02T08:28:13.279641Z",
     "iopub.status.busy": "2022-06-02T08:28:13.279369Z",
     "iopub.status.idle": "2022-06-02T08:28:13.293973Z",
     "shell.execute_reply": "2022-06-02T08:28:13.292898Z"
    },
    "papermill": {
     "duration": 0.088231,
     "end_time": "2022-06-02T08:28:13.295911",
     "exception": false,
     "start_time": "2022-06-02T08:28:13.207680",
     "status": "completed"
    },
    "tags": []
   },
   "outputs": [],
   "source": [
    "data = data.drop(['Unnamed: 0'], axis = 1)"
   ]
  },
  {
   "cell_type": "markdown",
   "id": "07c6f1fb",
   "metadata": {
    "papermill": {
     "duration": 0.071153,
     "end_time": "2022-06-02T08:28:13.437259",
     "exception": false,
     "start_time": "2022-06-02T08:28:13.366106",
     "status": "completed"
    },
    "tags": []
   },
   "source": [
    "*Feature Descriptions:*\n",
    "\n",
    "1. Solidity - It is the ratio of area of an object to the area of a convex hull of the object. Computed as Area/ConvexArea.\n",
    "2. Eccentricity - The eccentricity is the ratio of length of major to minor axis of an object.\n",
    "3. EquivDiameter - Diameter of a circle with the same area as the region.\n",
    "4. Extrema - Extrema points in the region. The format of the vector is: top-left top-right right-top right-bottom bottom-right\n",
    "5. FilledArea - Number of on pixels in FilledImage, returned as a scalar.\n",
    "6. Extent - Ratio of the pixel area of a region with respect to the bounding box area of an object.\n",
    "7. Orientation - The overall direction of the shape. The value ranges from -90 degrees to 90 degrees.\n",
    "8. EulerNumber - Number of objects in the region minus the number of holes in those objects.\n",
    "9. BoundingBox1 - Position and size of the smallest box (rectangle) which bounds the object.\n",
    "10. BoundingBox2 - *no information for now*\n",
    "11. BoundingBox3 - *no information for now*\n",
    "12. BoundingBox4 - *no information for now*\n",
    "13. ConvexHull1 - From ScienceDirect - 'In a Euclidean plane, given a finite set of points Q, it is sometimes interesting to determine its convex hull, namely the minimum convex polygon so that any point of Q is either inside this polygon or at its border.' It is important for shape analysis\n",
    "14. ConvexHull2 - *no information for now*\n",
    "15. ConvexHull3 - *no information for now*\n",
    "16. ConvexHull4 - *no information for now*\n",
    "17. MajorAxisLength - *no information for now*\n",
    "18. MinorAxisLength - *no information for now*\n",
    "19. Perimeter - *no information for now*\n",
    "20. ConvexArea - *no information for now*\n",
    "21. Centroid1 - *no information for now*\n",
    "22. Centroid2 - *no information for now*\n",
    "23. Area - *no information for now*\n",
    "24. raddi - *no information for now*\n",
    "25. microorganisms - *no information for now*"
   ]
  },
  {
   "cell_type": "markdown",
   "id": "fe2bd753",
   "metadata": {
    "papermill": {
     "duration": 0.070956,
     "end_time": "2022-06-02T08:28:13.577860",
     "exception": false,
     "start_time": "2022-06-02T08:28:13.506904",
     "status": "completed"
    },
    "tags": []
   },
   "source": [
    "# Missing Values"
   ]
  },
  {
   "cell_type": "code",
   "execution_count": 5,
   "id": "58586071",
   "metadata": {
    "execution": {
     "iopub.execute_input": "2022-06-02T08:28:13.721608Z",
     "iopub.status.busy": "2022-06-02T08:28:13.721327Z",
     "iopub.status.idle": "2022-06-02T08:28:13.749396Z",
     "shell.execute_reply": "2022-06-02T08:28:13.748293Z"
    },
    "papermill": {
     "duration": 0.103309,
     "end_time": "2022-06-02T08:28:13.751841",
     "exception": false,
     "start_time": "2022-06-02T08:28:13.648532",
     "status": "completed"
    },
    "tags": []
   },
   "outputs": [
    {
     "name": "stdout",
     "output_type": "stream",
     "text": [
      "NUMBER OF MISSING VALUES FOR EACH FEATURE:\n"
     ]
    },
    {
     "data": {
      "text/html": [
       "<div>\n",
       "<style scoped>\n",
       "    .dataframe tbody tr th:only-of-type {\n",
       "        vertical-align: middle;\n",
       "    }\n",
       "\n",
       "    .dataframe tbody tr th {\n",
       "        vertical-align: top;\n",
       "    }\n",
       "\n",
       "    .dataframe thead th {\n",
       "        text-align: right;\n",
       "    }\n",
       "</style>\n",
       "<table border=\"1\" class=\"dataframe\">\n",
       "  <thead>\n",
       "    <tr style=\"text-align: right;\">\n",
       "      <th></th>\n",
       "      <th>count_missing</th>\n",
       "      <th>perc_missing</th>\n",
       "    </tr>\n",
       "  </thead>\n",
       "  <tbody>\n",
       "    <tr>\n",
       "      <th>Solidity</th>\n",
       "      <td>0</td>\n",
       "      <td>0.0</td>\n",
       "    </tr>\n",
       "    <tr>\n",
       "      <th>ConvexHull2</th>\n",
       "      <td>0</td>\n",
       "      <td>0.0</td>\n",
       "    </tr>\n",
       "    <tr>\n",
       "      <th>raddi</th>\n",
       "      <td>0</td>\n",
       "      <td>0.0</td>\n",
       "    </tr>\n",
       "    <tr>\n",
       "      <th>Area</th>\n",
       "      <td>0</td>\n",
       "      <td>0.0</td>\n",
       "    </tr>\n",
       "    <tr>\n",
       "      <th>Centroid2</th>\n",
       "      <td>0</td>\n",
       "      <td>0.0</td>\n",
       "    </tr>\n",
       "    <tr>\n",
       "      <th>Centroid1</th>\n",
       "      <td>0</td>\n",
       "      <td>0.0</td>\n",
       "    </tr>\n",
       "    <tr>\n",
       "      <th>ConvexArea</th>\n",
       "      <td>0</td>\n",
       "      <td>0.0</td>\n",
       "    </tr>\n",
       "    <tr>\n",
       "      <th>Perimeter</th>\n",
       "      <td>0</td>\n",
       "      <td>0.0</td>\n",
       "    </tr>\n",
       "    <tr>\n",
       "      <th>MinorAxisLength</th>\n",
       "      <td>0</td>\n",
       "      <td>0.0</td>\n",
       "    </tr>\n",
       "    <tr>\n",
       "      <th>MajorAxisLength</th>\n",
       "      <td>0</td>\n",
       "      <td>0.0</td>\n",
       "    </tr>\n",
       "    <tr>\n",
       "      <th>ConvexHull4</th>\n",
       "      <td>0</td>\n",
       "      <td>0.0</td>\n",
       "    </tr>\n",
       "    <tr>\n",
       "      <th>ConvexHull3</th>\n",
       "      <td>0</td>\n",
       "      <td>0.0</td>\n",
       "    </tr>\n",
       "    <tr>\n",
       "      <th>ConvexHull1</th>\n",
       "      <td>0</td>\n",
       "      <td>0.0</td>\n",
       "    </tr>\n",
       "    <tr>\n",
       "      <th>Eccentricity</th>\n",
       "      <td>0</td>\n",
       "      <td>0.0</td>\n",
       "    </tr>\n",
       "    <tr>\n",
       "      <th>BoundingBox4</th>\n",
       "      <td>0</td>\n",
       "      <td>0.0</td>\n",
       "    </tr>\n",
       "    <tr>\n",
       "      <th>BoundingBox3</th>\n",
       "      <td>0</td>\n",
       "      <td>0.0</td>\n",
       "    </tr>\n",
       "    <tr>\n",
       "      <th>BoundingBox2</th>\n",
       "      <td>0</td>\n",
       "      <td>0.0</td>\n",
       "    </tr>\n",
       "    <tr>\n",
       "      <th>BoundingBox1</th>\n",
       "      <td>0</td>\n",
       "      <td>0.0</td>\n",
       "    </tr>\n",
       "    <tr>\n",
       "      <th>EulerNumber</th>\n",
       "      <td>0</td>\n",
       "      <td>0.0</td>\n",
       "    </tr>\n",
       "    <tr>\n",
       "      <th>Orientation</th>\n",
       "      <td>0</td>\n",
       "      <td>0.0</td>\n",
       "    </tr>\n",
       "    <tr>\n",
       "      <th>Extent</th>\n",
       "      <td>0</td>\n",
       "      <td>0.0</td>\n",
       "    </tr>\n",
       "    <tr>\n",
       "      <th>FilledArea</th>\n",
       "      <td>0</td>\n",
       "      <td>0.0</td>\n",
       "    </tr>\n",
       "    <tr>\n",
       "      <th>Extrema</th>\n",
       "      <td>0</td>\n",
       "      <td>0.0</td>\n",
       "    </tr>\n",
       "    <tr>\n",
       "      <th>EquivDiameter</th>\n",
       "      <td>0</td>\n",
       "      <td>0.0</td>\n",
       "    </tr>\n",
       "    <tr>\n",
       "      <th>microorganisms</th>\n",
       "      <td>0</td>\n",
       "      <td>0.0</td>\n",
       "    </tr>\n",
       "  </tbody>\n",
       "</table>\n",
       "</div>"
      ],
      "text/plain": [
       "                 count_missing  perc_missing\n",
       "Solidity                     0           0.0\n",
       "ConvexHull2                  0           0.0\n",
       "raddi                        0           0.0\n",
       "Area                         0           0.0\n",
       "Centroid2                    0           0.0\n",
       "Centroid1                    0           0.0\n",
       "ConvexArea                   0           0.0\n",
       "Perimeter                    0           0.0\n",
       "MinorAxisLength              0           0.0\n",
       "MajorAxisLength              0           0.0\n",
       "ConvexHull4                  0           0.0\n",
       "ConvexHull3                  0           0.0\n",
       "ConvexHull1                  0           0.0\n",
       "Eccentricity                 0           0.0\n",
       "BoundingBox4                 0           0.0\n",
       "BoundingBox3                 0           0.0\n",
       "BoundingBox2                 0           0.0\n",
       "BoundingBox1                 0           0.0\n",
       "EulerNumber                  0           0.0\n",
       "Orientation                  0           0.0\n",
       "Extent                       0           0.0\n",
       "FilledArea                   0           0.0\n",
       "Extrema                      0           0.0\n",
       "EquivDiameter                0           0.0\n",
       "microorganisms               0           0.0"
      ]
     },
     "execution_count": 5,
     "metadata": {},
     "output_type": "execute_result"
    }
   ],
   "source": [
    "print('NUMBER OF MISSING VALUES FOR EACH FEATURE:')\n",
    "mask = data.isnull()\n",
    "total = mask.sum()\n",
    "percent = 100*mask.mean()\n",
    "\n",
    "missing_data = pd.concat([total, percent], axis=1,join='outer',\n",
    "                         keys=['count_missing', 'perc_missing'])\n",
    "missing_data.sort_values(by='perc_missing', ascending=False, inplace=True)\n",
    "missing_data"
   ]
  },
  {
   "cell_type": "markdown",
   "id": "5106c074",
   "metadata": {
    "papermill": {
     "duration": 0.070762,
     "end_time": "2022-06-02T08:28:13.896145",
     "exception": false,
     "start_time": "2022-06-02T08:28:13.825383",
     "status": "completed"
    },
    "tags": []
   },
   "source": [
    "No missing values for this dataset"
   ]
  },
  {
   "cell_type": "markdown",
   "id": "35d8030b",
   "metadata": {
    "papermill": {
     "duration": 0.077086,
     "end_time": "2022-06-02T08:28:14.046682",
     "exception": false,
     "start_time": "2022-06-02T08:28:13.969596",
     "status": "completed"
    },
    "tags": []
   },
   "source": [
    "# Duplicates"
   ]
  },
  {
   "cell_type": "code",
   "execution_count": 6,
   "id": "9d3339cc",
   "metadata": {
    "execution": {
     "iopub.execute_input": "2022-06-02T08:28:14.193568Z",
     "iopub.status.busy": "2022-06-02T08:28:14.192537Z",
     "iopub.status.idle": "2022-06-02T08:28:14.247474Z",
     "shell.execute_reply": "2022-06-02T08:28:14.246194Z"
    },
    "papermill": {
     "duration": 0.131947,
     "end_time": "2022-06-02T08:28:14.250190",
     "exception": false,
     "start_time": "2022-06-02T08:28:14.118243",
     "status": "completed"
    },
    "tags": []
   },
   "outputs": [
    {
     "name": "stdout",
     "output_type": "stream",
     "text": [
      "Duplicates in the dataset: 25653\n",
      "Percentage of duplicates: 84.03380613882793%\n"
     ]
    }
   ],
   "source": [
    "print(f'Duplicates in the dataset: {data.duplicated().sum()}')\n",
    "print(f'Percentage of duplicates: {data.duplicated().sum()/len(data)*100}%')"
   ]
  },
  {
   "cell_type": "markdown",
   "id": "fa94f437",
   "metadata": {
    "papermill": {
     "duration": 0.072382,
     "end_time": "2022-06-02T08:28:14.397822",
     "exception": false,
     "start_time": "2022-06-02T08:28:14.325440",
     "status": "completed"
    },
    "tags": []
   },
   "source": [
    "There are so many duplicates, they need to be removed. I also expect that the shape of the dataset will be greatly reduced."
   ]
  },
  {
   "cell_type": "code",
   "execution_count": 7,
   "id": "e5bb0d92",
   "metadata": {
    "execution": {
     "iopub.execute_input": "2022-06-02T08:28:14.542097Z",
     "iopub.status.busy": "2022-06-02T08:28:14.541654Z",
     "iopub.status.idle": "2022-06-02T08:28:14.585313Z",
     "shell.execute_reply": "2022-06-02T08:28:14.584174Z"
    },
    "papermill": {
     "duration": 0.117958,
     "end_time": "2022-06-02T08:28:14.587534",
     "exception": false,
     "start_time": "2022-06-02T08:28:14.469576",
     "status": "completed"
    },
    "tags": []
   },
   "outputs": [
    {
     "name": "stdout",
     "output_type": "stream",
     "text": [
      "Duplicates in the dataset: 0\n",
      "Percentage of duplicates: 0.0%\n",
      "Dataset shape: (4874, 25)\n"
     ]
    }
   ],
   "source": [
    "data = data.drop_duplicates()\n",
    "print(f'Duplicates in the dataset: {data.duplicated().sum()}')\n",
    "print(f'Percentage of duplicates: {data.duplicated().sum()/len(data)}%')\n",
    "print(f'Dataset shape: {data.shape}')"
   ]
  },
  {
   "cell_type": "markdown",
   "id": "0753d635",
   "metadata": {
    "papermill": {
     "duration": 0.071374,
     "end_time": "2022-06-02T08:28:14.748208",
     "exception": false,
     "start_time": "2022-06-02T08:28:14.676834",
     "status": "completed"
    },
    "tags": []
   },
   "source": [
    "# Cardinality"
   ]
  },
  {
   "cell_type": "code",
   "execution_count": 8,
   "id": "5df77af9",
   "metadata": {
    "execution": {
     "iopub.execute_input": "2022-06-02T08:28:14.894518Z",
     "iopub.status.busy": "2022-06-02T08:28:14.894266Z",
     "iopub.status.idle": "2022-06-02T08:28:14.908113Z",
     "shell.execute_reply": "2022-06-02T08:28:14.907213Z"
    },
    "papermill": {
     "duration": 0.090586,
     "end_time": "2022-06-02T08:28:14.910086",
     "exception": false,
     "start_time": "2022-06-02T08:28:14.819500",
     "status": "completed"
    },
    "tags": []
   },
   "outputs": [
    {
     "data": {
      "text/plain": [
       "Solidity            883\n",
       "Eccentricity        247\n",
       "EquivDiameter       953\n",
       "Extrema             750\n",
       "FilledArea         1601\n",
       "Extent             1001\n",
       "Orientation        1075\n",
       "EulerNumber          81\n",
       "BoundingBox1        781\n",
       "BoundingBox2        637\n",
       "BoundingBox3        518\n",
       "BoundingBox4        505\n",
       "ConvexHull1         775\n",
       "ConvexHull2         775\n",
       "ConvexHull3         793\n",
       "ConvexHull4         860\n",
       "MajorAxisLength    1298\n",
       "MinorAxisLength    1286\n",
       "Perimeter          1414\n",
       "ConvexArea         1796\n",
       "Centroid1           976\n",
       "Centroid2           958\n",
       "Area               1525\n",
       "raddi               410\n",
       "microorganisms       10\n",
       "dtype: int64"
      ]
     },
     "execution_count": 8,
     "metadata": {},
     "output_type": "execute_result"
    }
   ],
   "source": [
    "data.nunique()"
   ]
  },
  {
   "cell_type": "markdown",
   "id": "efea060e",
   "metadata": {
    "papermill": {
     "duration": 0.072105,
     "end_time": "2022-06-02T08:28:15.053737",
     "exception": false,
     "start_time": "2022-06-02T08:28:14.981632",
     "status": "completed"
    },
    "tags": []
   },
   "source": [
    "Almost all features are continuous except for the microorganism which is categorical because it has 10 values. And upon checking from the head, the microorganisms has a dtype of object."
   ]
  },
  {
   "cell_type": "markdown",
   "id": "68694612",
   "metadata": {
    "papermill": {
     "duration": 0.071576,
     "end_time": "2022-06-02T08:28:15.197631",
     "exception": false,
     "start_time": "2022-06-02T08:28:15.126055",
     "status": "completed"
    },
    "tags": []
   },
   "source": [
    "# Data Types"
   ]
  },
  {
   "cell_type": "code",
   "execution_count": 9,
   "id": "60950ff9",
   "metadata": {
    "execution": {
     "iopub.execute_input": "2022-06-02T08:28:15.344865Z",
     "iopub.status.busy": "2022-06-02T08:28:15.344600Z",
     "iopub.status.idle": "2022-06-02T08:28:15.351904Z",
     "shell.execute_reply": "2022-06-02T08:28:15.351372Z"
    },
    "papermill": {
     "duration": 0.083539,
     "end_time": "2022-06-02T08:28:15.353697",
     "exception": false,
     "start_time": "2022-06-02T08:28:15.270158",
     "status": "completed"
    },
    "tags": []
   },
   "outputs": [
    {
     "data": {
      "text/plain": [
       "Solidity           float64\n",
       "Eccentricity       float64\n",
       "EquivDiameter      float64\n",
       "Extrema            float64\n",
       "FilledArea         float64\n",
       "Extent             float64\n",
       "Orientation        float64\n",
       "EulerNumber        float64\n",
       "BoundingBox1       float64\n",
       "BoundingBox2       float64\n",
       "BoundingBox3       float64\n",
       "BoundingBox4       float64\n",
       "ConvexHull1        float64\n",
       "ConvexHull2        float64\n",
       "ConvexHull3        float64\n",
       "ConvexHull4        float64\n",
       "MajorAxisLength    float64\n",
       "MinorAxisLength    float64\n",
       "Perimeter          float64\n",
       "ConvexArea         float64\n",
       "Centroid1          float64\n",
       "Centroid2          float64\n",
       "Area               float64\n",
       "raddi              float64\n",
       "microorganisms      object\n",
       "dtype: object"
      ]
     },
     "execution_count": 9,
     "metadata": {},
     "output_type": "execute_result"
    }
   ],
   "source": [
    "data.dtypes"
   ]
  },
  {
   "cell_type": "markdown",
   "id": "c75b2f89",
   "metadata": {
    "papermill": {
     "duration": 0.072283,
     "end_time": "2022-06-02T08:28:15.499047",
     "exception": false,
     "start_time": "2022-06-02T08:28:15.426764",
     "status": "completed"
    },
    "tags": []
   },
   "source": [
    "The microorgranisms feature really has an object dtype. The others have continuous values."
   ]
  },
  {
   "cell_type": "markdown",
   "id": "2f654f20",
   "metadata": {
    "papermill": {
     "duration": 0.07169,
     "end_time": "2022-06-02T08:28:15.642590",
     "exception": false,
     "start_time": "2022-06-02T08:28:15.570900",
     "status": "completed"
    },
    "tags": []
   },
   "source": [
    "# Target Distribution"
   ]
  },
  {
   "cell_type": "code",
   "execution_count": 10,
   "id": "5632911a",
   "metadata": {
    "execution": {
     "iopub.execute_input": "2022-06-02T08:28:15.788612Z",
     "iopub.status.busy": "2022-06-02T08:28:15.787656Z",
     "iopub.status.idle": "2022-06-02T08:28:16.049910Z",
     "shell.execute_reply": "2022-06-02T08:28:16.048920Z"
    },
    "papermill": {
     "duration": 0.34015,
     "end_time": "2022-06-02T08:28:16.054644",
     "exception": false,
     "start_time": "2022-06-02T08:28:15.714494",
     "status": "completed"
    },
    "tags": []
   },
   "outputs": [
    {
     "data": {
      "text/plain": [
       "Text(0.5, 1.0, 'Target distribution')"
      ]
     },
     "execution_count": 10,
     "metadata": {},
     "output_type": "execute_result"
    },
    {
     "data": {
      "image/png": "[encoded data removed]",
      "text/plain": [
       "<Figure size 576x576 with 1 Axes>"
      ]
     },
     "metadata": {},
     "output_type": "display_data"
    }
   ],
   "source": [
    "# Figure size\n",
    "plt.figure(figsize=(8,8))\n",
    "\n",
    "# Pie plot\n",
    "data['microorganisms'].value_counts().plot.pie(autopct='%1.1f%%', textprops={'fontsize':12}).set_title(\"Target distribution\")"
   ]
  },
  {
   "cell_type": "code",
   "execution_count": 11,
   "id": "32e377fe",
   "metadata": {
    "execution": {
     "iopub.execute_input": "2022-06-02T08:28:16.228784Z",
     "iopub.status.busy": "2022-06-02T08:28:16.228224Z",
     "iopub.status.idle": "2022-06-02T08:28:16.236845Z",
     "shell.execute_reply": "2022-06-02T08:28:16.235822Z"
    },
    "papermill": {
     "duration": 0.087074,
     "end_time": "2022-06-02T08:28:16.239096",
     "exception": false,
     "start_time": "2022-06-02T08:28:16.152022",
     "status": "completed"
    },
    "tags": []
   },
   "outputs": [
    {
     "data": {
      "text/plain": [
       "Ulothrix          1631\n",
       "Aspergillus sp     864\n",
       "Volvox             540\n",
       "Yeast              540\n",
       "Pithophora         324\n",
       "Diatom             270\n",
       "Protozoa           216\n",
       "Spirogyra          179\n",
       "Raizopus           175\n",
       "Penicillum         135\n",
       "Name: microorganisms, dtype: int64"
      ]
     },
     "execution_count": 11,
     "metadata": {},
     "output_type": "execute_result"
    }
   ],
   "source": [
    "data['microorganisms'].value_counts()"
   ]
  },
  {
   "cell_type": "markdown",
   "id": "29d71bfa",
   "metadata": {
    "papermill": {
     "duration": 0.078595,
     "end_time": "2022-06-02T08:28:16.392656",
     "exception": false,
     "start_time": "2022-06-02T08:28:16.314061",
     "status": "completed"
    },
    "tags": []
   },
   "source": [
    "The targets are not evenly distributed. The strategy that I will be using to this unbalanced dataset is undersampling and oversampling.\n",
    "\n",
    "Since my target is to identify if a microorganism is Ulothrix or not, my strategy is to get a sample from other microorganisms equal to the number of the lowest one which is Spirogyra. So what will happen is I will get 135 samples from other microorganism except Ulothrix, then combine all of them. That part of the dataset is the 'Not Ulothrix' part and will contain 135x9=1215 rows. The 'Ulothrix' part contains 1631 rows so the 'Not Ulothrix' part will be oversampled to balanced the number of rows."
   ]
  },
  {
   "cell_type": "markdown",
   "id": "afd9813a",
   "metadata": {
    "papermill": {
     "duration": 0.075608,
     "end_time": "2022-06-02T08:28:16.546183",
     "exception": false,
     "start_time": "2022-06-02T08:28:16.470575",
     "status": "completed"
    },
    "tags": []
   },
   "source": [
    "Applying undersampling"
   ]
  },
  {
   "cell_type": "code",
   "execution_count": 12,
   "id": "44cedf0c",
   "metadata": {
    "execution": {
     "iopub.execute_input": "2022-06-02T08:28:16.697417Z",
     "iopub.status.busy": "2022-06-02T08:28:16.697134Z",
     "iopub.status.idle": "2022-06-02T08:28:16.701830Z",
     "shell.execute_reply": "2022-06-02T08:28:16.700901Z"
    },
    "papermill": {
     "duration": 0.082794,
     "end_time": "2022-06-02T08:28:16.703852",
     "exception": false,
     "start_time": "2022-06-02T08:28:16.621058",
     "status": "completed"
    },
    "tags": []
   },
   "outputs": [],
   "source": [
    "def not_ulothrix_undersampling(microCount, k=135):\n",
    "  if len(microCount) < k:\n",
    "    return microCount\n",
    "  return microCount.sample(k)"
   ]
  },
  {
   "cell_type": "markdown",
   "id": "37a5d660",
   "metadata": {
    "papermill": {
     "duration": 0.076121,
     "end_time": "2022-06-02T08:28:16.854780",
     "exception": false,
     "start_time": "2022-06-02T08:28:16.778659",
     "status": "completed"
    },
    "tags": []
   },
   "source": [
    "Dataframe of Not Ulothrix"
   ]
  },
  {
   "cell_type": "code",
   "execution_count": 13,
   "id": "7e073ab3",
   "metadata": {
    "execution": {
     "iopub.execute_input": "2022-06-02T08:28:17.008207Z",
     "iopub.status.busy": "2022-06-02T08:28:17.007912Z",
     "iopub.status.idle": "2022-06-02T08:28:17.030891Z",
     "shell.execute_reply": "2022-06-02T08:28:17.030069Z"
    },
    "papermill": {
     "duration": 0.102839,
     "end_time": "2022-06-02T08:28:17.032914",
     "exception": false,
     "start_time": "2022-06-02T08:28:16.930075",
     "status": "completed"
    },
    "tags": []
   },
   "outputs": [
    {
     "data": {
      "text/plain": [
       "Aspergillus sp    135\n",
       "Diatom            135\n",
       "Penicillum        135\n",
       "Pithophora        135\n",
       "Protozoa          135\n",
       "Raizopus          135\n",
       "Spirogyra         135\n",
       "Volvox            135\n",
       "Yeast             135\n",
       "Name: microorganisms, dtype: int64"
      ]
     },
     "execution_count": 13,
     "metadata": {},
     "output_type": "execute_result"
    }
   ],
   "source": [
    "data_not_ulothrix = data.loc[data['microorganisms'] != 'Ulothrix']\n",
    "data_not_ulothrix = data_not_ulothrix.groupby('microorganisms').apply(not_ulothrix_undersampling).reset_index(drop=True)\n",
    "data_not_ulothrix ['microorganisms'].value_counts()"
   ]
  },
  {
   "cell_type": "markdown",
   "id": "2ac5bcea",
   "metadata": {
    "papermill": {
     "duration": 0.075918,
     "end_time": "2022-06-02T08:28:17.183757",
     "exception": false,
     "start_time": "2022-06-02T08:28:17.107839",
     "status": "completed"
    },
    "tags": []
   },
   "source": [
    "Dataframe of Ulothrix"
   ]
  },
  {
   "cell_type": "code",
   "execution_count": 14,
   "id": "9f521121",
   "metadata": {
    "execution": {
     "iopub.execute_input": "2022-06-02T08:28:17.338242Z",
     "iopub.status.busy": "2022-06-02T08:28:17.337755Z",
     "iopub.status.idle": "2022-06-02T08:28:17.347837Z",
     "shell.execute_reply": "2022-06-02T08:28:17.347188Z"
    },
    "papermill": {
     "duration": 0.090877,
     "end_time": "2022-06-02T08:28:17.349801",
     "exception": false,
     "start_time": "2022-06-02T08:28:17.258924",
     "status": "completed"
    },
    "tags": []
   },
   "outputs": [
    {
     "data": {
      "text/plain": [
       "Ulothrix    1631\n",
       "Name: microorganisms, dtype: int64"
      ]
     },
     "execution_count": 14,
     "metadata": {},
     "output_type": "execute_result"
    }
   ],
   "source": [
    "data_ulothrix = data.loc[data['microorganisms'] == 'Ulothrix']\n",
    "data_ulothrix['microorganisms'].value_counts()"
   ]
  },
  {
   "cell_type": "markdown",
   "id": "689f3504",
   "metadata": {
    "papermill": {
     "duration": 0.076196,
     "end_time": "2022-06-02T08:28:17.502149",
     "exception": false,
     "start_time": "2022-06-02T08:28:17.425953",
     "status": "completed"
    },
    "tags": []
   },
   "source": [
    "Combining both Dataframes and encoding Not Ulothrix"
   ]
  },
  {
   "cell_type": "code",
   "execution_count": 15,
   "id": "986babfe",
   "metadata": {
    "execution": {
     "iopub.execute_input": "2022-06-02T08:28:17.656444Z",
     "iopub.status.busy": "2022-06-02T08:28:17.655877Z",
     "iopub.status.idle": "2022-06-02T08:28:17.667797Z",
     "shell.execute_reply": "2022-06-02T08:28:17.667195Z"
    },
    "papermill": {
     "duration": 0.091285,
     "end_time": "2022-06-02T08:28:17.669678",
     "exception": false,
     "start_time": "2022-06-02T08:28:17.578393",
     "status": "completed"
    },
    "tags": []
   },
   "outputs": [
    {
     "data": {
      "text/plain": [
       "Ulothrix        1631\n",
       "Not Ulothrix    1215\n",
       "Name: microorganisms, dtype: int64"
      ]
     },
     "execution_count": 15,
     "metadata": {},
     "output_type": "execute_result"
    }
   ],
   "source": [
    "data = pd.concat([data_not_ulothrix, data_ulothrix], axis=0).reset_index(drop=True)\n",
    "data.loc[data['microorganisms'] != 'Ulothrix', 'microorganisms'] = 'Not Ulothrix'\n",
    "data['microorganisms'].value_counts()"
   ]
  },
  {
   "cell_type": "markdown",
   "id": "ed85e084",
   "metadata": {
    "papermill": {
     "duration": 0.082414,
     "end_time": "2022-06-02T08:28:17.835047",
     "exception": false,
     "start_time": "2022-06-02T08:28:17.752633",
     "status": "completed"
    },
    "tags": []
   },
   "source": [
    "Applying Oversampling"
   ]
  },
  {
   "cell_type": "code",
   "execution_count": 16,
   "id": "0d069f3a",
   "metadata": {
    "execution": {
     "iopub.execute_input": "2022-06-02T08:28:17.994076Z",
     "iopub.status.busy": "2022-06-02T08:28:17.993534Z",
     "iopub.status.idle": "2022-06-02T08:28:18.534001Z",
     "shell.execute_reply": "2022-06-02T08:28:18.532980Z"
    },
    "papermill": {
     "duration": 0.620836,
     "end_time": "2022-06-02T08:28:18.536344",
     "exception": false,
     "start_time": "2022-06-02T08:28:17.915508",
     "status": "completed"
    },
    "tags": []
   },
   "outputs": [
    {
     "data": {
      "text/plain": [
       "(3262, 25)"
      ]
     },
     "execution_count": 16,
     "metadata": {},
     "output_type": "execute_result"
    }
   ],
   "source": [
    "from sklearn.datasets import make_classification\n",
    "from imblearn.over_sampling import RandomOverSampler\n",
    "# define dataset\n",
    "y = data.microorganisms\n",
    "X = data.drop(['microorganisms'], axis=1)\n",
    "# define oversampling strategy\n",
    "oversample = RandomOverSampler(sampling_strategy='minority')\n",
    "# fit and apply the transform\n",
    "X_over, y_over = oversample.fit_resample(X, y)\n",
    "# summarize class distribution\n",
    "X_over['microorganisms'] = y_over\n",
    "data = X_over\n",
    "data.shape"
   ]
  },
  {
   "cell_type": "markdown",
   "id": "b5456492",
   "metadata": {
    "papermill": {
     "duration": 0.077655,
     "end_time": "2022-06-02T08:28:18.692893",
     "exception": false,
     "start_time": "2022-06-02T08:28:18.615238",
     "status": "completed"
    },
    "tags": []
   },
   "source": [
    "Plotting Target Distribution again"
   ]
  },
  {
   "cell_type": "code",
   "execution_count": 17,
   "id": "3e0683c6",
   "metadata": {
    "execution": {
     "iopub.execute_input": "2022-06-02T08:28:18.851063Z",
     "iopub.status.busy": "2022-06-02T08:28:18.850792Z",
     "iopub.status.idle": "2022-06-02T08:28:18.978219Z",
     "shell.execute_reply": "2022-06-02T08:28:18.977232Z"
    },
    "papermill": {
     "duration": 0.210916,
     "end_time": "2022-06-02T08:28:18.981323",
     "exception": false,
     "start_time": "2022-06-02T08:28:18.770407",
     "status": "completed"
    },
    "tags": []
   },
   "outputs": [
    {
     "data": {
      "text/plain": [
       "Text(0.5, 1.0, 'Target distribution')"
      ]
     },
     "execution_count": 17,
     "metadata": {},
     "output_type": "execute_result"
    },
    {
     "data": {
      "image/png": "[encoded data removed]",
      "text/plain": [
       "<Figure size 576x576 with 1 Axes>"
      ]
     },
     "metadata": {},
     "output_type": "display_data"
    }
   ],
   "source": [
    "# Figure size\n",
    "plt.figure(figsize=(8,8))\n",
    "\n",
    "# Pie plot\n",
    "data['microorganisms'].value_counts().plot.pie(autopct='%1.1f%%', textprops={'fontsize':12}).set_title(\"Target distribution\")"
   ]
  },
  {
   "cell_type": "markdown",
   "id": "97275f5e",
   "metadata": {
    "papermill": {
     "duration": 0.077185,
     "end_time": "2022-06-02T08:28:19.162546",
     "exception": false,
     "start_time": "2022-06-02T08:28:19.085361",
     "status": "completed"
    },
    "tags": []
   },
   "source": [
    "Now that the dataset is reduced, the shape should be smaller."
   ]
  },
  {
   "cell_type": "code",
   "execution_count": 18,
   "id": "3507966d",
   "metadata": {
    "execution": {
     "iopub.execute_input": "2022-06-02T08:28:19.322085Z",
     "iopub.status.busy": "2022-06-02T08:28:19.320976Z",
     "iopub.status.idle": "2022-06-02T08:28:19.363394Z",
     "shell.execute_reply": "2022-06-02T08:28:19.362233Z"
    },
    "papermill": {
     "duration": 0.125344,
     "end_time": "2022-06-02T08:28:19.365594",
     "exception": false,
     "start_time": "2022-06-02T08:28:19.240250",
     "status": "completed"
    },
    "tags": []
   },
   "outputs": [
    {
     "name": "stdout",
     "output_type": "stream",
     "text": [
      "Dataset shape: (3262, 25)\n",
      "\n",
      "Dataset head:\n"
     ]
    },
    {
     "data": {
      "text/html": [
       "<div>\n",
       "<style scoped>\n",
       "    .dataframe tbody tr th:only-of-type {\n",
       "        vertical-align: middle;\n",
       "    }\n",
       "\n",
       "    .dataframe tbody tr th {\n",
       "        vertical-align: top;\n",
       "    }\n",
       "\n",
       "    .dataframe thead th {\n",
       "        text-align: right;\n",
       "    }\n",
       "</style>\n",
       "<table border=\"1\" class=\"dataframe\">\n",
       "  <thead>\n",
       "    <tr style=\"text-align: right;\">\n",
       "      <th></th>\n",
       "      <th>Solidity</th>\n",
       "      <th>Eccentricity</th>\n",
       "      <th>EquivDiameter</th>\n",
       "      <th>Extrema</th>\n",
       "      <th>FilledArea</th>\n",
       "      <th>Extent</th>\n",
       "      <th>Orientation</th>\n",
       "      <th>EulerNumber</th>\n",
       "      <th>BoundingBox1</th>\n",
       "      <th>BoundingBox2</th>\n",
       "      <th>BoundingBox3</th>\n",
       "      <th>BoundingBox4</th>\n",
       "      <th>ConvexHull1</th>\n",
       "      <th>ConvexHull2</th>\n",
       "      <th>ConvexHull3</th>\n",
       "      <th>ConvexHull4</th>\n",
       "      <th>MajorAxisLength</th>\n",
       "      <th>MinorAxisLength</th>\n",
       "      <th>Perimeter</th>\n",
       "      <th>ConvexArea</th>\n",
       "      <th>Centroid1</th>\n",
       "      <th>Centroid2</th>\n",
       "      <th>Area</th>\n",
       "      <th>raddi</th>\n",
       "      <th>microorganisms</th>\n",
       "    </tr>\n",
       "  </thead>\n",
       "  <tbody>\n",
       "    <tr>\n",
       "      <th>0</th>\n",
       "      <td>6.06</td>\n",
       "      <td>13.2</td>\n",
       "      <td>7.42</td>\n",
       "      <td>10.20</td>\n",
       "      <td>1.0500</td>\n",
       "      <td>3.85</td>\n",
       "      <td>5.05</td>\n",
       "      <td>21.7</td>\n",
       "      <td>8.43</td>\n",
       "      <td>2.96</td>\n",
       "      <td>4.060</td>\n",
       "      <td>5.010</td>\n",
       "      <td>9.48</td>\n",
       "      <td>9.48</td>\n",
       "      <td>9.10</td>\n",
       "      <td>8.46</td>\n",
       "      <td>2.330</td>\n",
       "      <td>3.150</td>\n",
       "      <td>2.650</td>\n",
       "      <td>0.63100</td>\n",
       "      <td>10.10</td>\n",
       "      <td>4.95</td>\n",
       "      <td>2.4200</td>\n",
       "      <td>10.30</td>\n",
       "      <td>Not Ulothrix</td>\n",
       "    </tr>\n",
       "    <tr>\n",
       "      <th>1</th>\n",
       "      <td>8.43</td>\n",
       "      <td>22.5</td>\n",
       "      <td>2.25</td>\n",
       "      <td>3.16</td>\n",
       "      <td>0.0918</td>\n",
       "      <td>3.13</td>\n",
       "      <td>16.10</td>\n",
       "      <td>22.9</td>\n",
       "      <td>1.77</td>\n",
       "      <td>12.50</td>\n",
       "      <td>1.680</td>\n",
       "      <td>1.400</td>\n",
       "      <td>2.07</td>\n",
       "      <td>2.07</td>\n",
       "      <td>1.77</td>\n",
       "      <td>1.78</td>\n",
       "      <td>1.170</td>\n",
       "      <td>0.393</td>\n",
       "      <td>0.414</td>\n",
       "      <td>0.04390</td>\n",
       "      <td>2.32</td>\n",
       "      <td>13.00</td>\n",
       "      <td>0.2330</td>\n",
       "      <td>3.50</td>\n",
       "      <td>Not Ulothrix</td>\n",
       "    </tr>\n",
       "    <tr>\n",
       "      <th>2</th>\n",
       "      <td>9.85</td>\n",
       "      <td>22.6</td>\n",
       "      <td>4.58</td>\n",
       "      <td>10.20</td>\n",
       "      <td>0.3660</td>\n",
       "      <td>4.32</td>\n",
       "      <td>14.30</td>\n",
       "      <td>22.6</td>\n",
       "      <td>7.95</td>\n",
       "      <td>8.99</td>\n",
       "      <td>3.420</td>\n",
       "      <td>2.030</td>\n",
       "      <td>8.06</td>\n",
       "      <td>8.06</td>\n",
       "      <td>8.01</td>\n",
       "      <td>8.00</td>\n",
       "      <td>2.070</td>\n",
       "      <td>0.637</td>\n",
       "      <td>1.080</td>\n",
       "      <td>0.15100</td>\n",
       "      <td>9.38</td>\n",
       "      <td>9.81</td>\n",
       "      <td>0.9340</td>\n",
       "      <td>4.30</td>\n",
       "      <td>Not Ulothrix</td>\n",
       "    </tr>\n",
       "    <tr>\n",
       "      <th>3</th>\n",
       "      <td>11.00</td>\n",
       "      <td>20.3</td>\n",
       "      <td>1.19</td>\n",
       "      <td>20.80</td>\n",
       "      <td>0.0263</td>\n",
       "      <td>6.84</td>\n",
       "      <td>4.91</td>\n",
       "      <td>23.0</td>\n",
       "      <td>20.90</td>\n",
       "      <td>17.90</td>\n",
       "      <td>0.446</td>\n",
       "      <td>0.691</td>\n",
       "      <td>20.70</td>\n",
       "      <td>20.70</td>\n",
       "      <td>20.90</td>\n",
       "      <td>20.90</td>\n",
       "      <td>0.353</td>\n",
       "      <td>0.266</td>\n",
       "      <td>0.159</td>\n",
       "      <td>0.00985</td>\n",
       "      <td>20.90</td>\n",
       "      <td>18.00</td>\n",
       "      <td>0.0677</td>\n",
       "      <td>1.65</td>\n",
       "      <td>Not Ulothrix</td>\n",
       "    </tr>\n",
       "    <tr>\n",
       "      <th>4</th>\n",
       "      <td>16.60</td>\n",
       "      <td>15.6</td>\n",
       "      <td>3.36</td>\n",
       "      <td>20.00</td>\n",
       "      <td>0.2160</td>\n",
       "      <td>12.00</td>\n",
       "      <td>2.03</td>\n",
       "      <td>22.6</td>\n",
       "      <td>19.90</td>\n",
       "      <td>10.00</td>\n",
       "      <td>0.906</td>\n",
       "      <td>1.500</td>\n",
       "      <td>19.90</td>\n",
       "      <td>19.90</td>\n",
       "      <td>19.90</td>\n",
       "      <td>19.90</td>\n",
       "      <td>0.625</td>\n",
       "      <td>0.760</td>\n",
       "      <td>0.277</td>\n",
       "      <td>0.04900</td>\n",
       "      <td>20.10</td>\n",
       "      <td>10.60</td>\n",
       "      <td>0.5070</td>\n",
       "      <td>4.18</td>\n",
       "      <td>Not Ulothrix</td>\n",
       "    </tr>\n",
       "  </tbody>\n",
       "</table>\n",
       "</div>"
      ],
      "text/plain": [
       "   Solidity  Eccentricity  EquivDiameter  Extrema  FilledArea  Extent  \\\n",
       "0      6.06          13.2           7.42    10.20      1.0500    3.85   \n",
       "1      8.43          22.5           2.25     3.16      0.0918    3.13   \n",
       "2      9.85          22.6           4.58    10.20      0.3660    4.32   \n",
       "3     11.00          20.3           1.19    20.80      0.0263    6.84   \n",
       "4     16.60          15.6           3.36    20.00      0.2160   12.00   \n",
       "\n",
       "   Orientation  EulerNumber  BoundingBox1  BoundingBox2  BoundingBox3  \\\n",
       "0         5.05         21.7          8.43          2.96         4.060   \n",
       "1        16.10         22.9          1.77         12.50         1.680   \n",
       "2        14.30         22.6          7.95          8.99         3.420   \n",
       "3         4.91         23.0         20.90         17.90         0.446   \n",
       "4         2.03         22.6         19.90         10.00         0.906   \n",
       "\n",
       "   BoundingBox4  ConvexHull1  ConvexHull2  ConvexHull3  ConvexHull4  \\\n",
       "0         5.010         9.48         9.48         9.10         8.46   \n",
       "1         1.400         2.07         2.07         1.77         1.78   \n",
       "2         2.030         8.06         8.06         8.01         8.00   \n",
       "3         0.691        20.70        20.70        20.90        20.90   \n",
       "4         1.500        19.90        19.90        19.90        19.90   \n",
       "\n",
       "   MajorAxisLength  MinorAxisLength  Perimeter  ConvexArea  Centroid1  \\\n",
       "0            2.330            3.150      2.650     0.63100      10.10   \n",
       "1            1.170            0.393      0.414     0.04390       2.32   \n",
       "2            2.070            0.637      1.080     0.15100       9.38   \n",
       "3            0.353            0.266      0.159     0.00985      20.90   \n",
       "4            0.625            0.760      0.277     0.04900      20.10   \n",
       "\n",
       "   Centroid2    Area  raddi microorganisms  \n",
       "0       4.95  2.4200  10.30   Not Ulothrix  \n",
       "1      13.00  0.2330   3.50   Not Ulothrix  \n",
       "2       9.81  0.9340   4.30   Not Ulothrix  \n",
       "3      18.00  0.0677   1.65   Not Ulothrix  \n",
       "4      10.60  0.5070   4.18   Not Ulothrix  "
      ]
     },
     "execution_count": 18,
     "metadata": {},
     "output_type": "execute_result"
    }
   ],
   "source": [
    "print(f'Dataset shape: {data.shape}')\n",
    "print()\n",
    "print('Dataset head:')\n",
    "data.head()"
   ]
  },
  {
   "cell_type": "markdown",
   "id": "767f01bc",
   "metadata": {
    "papermill": {
     "duration": 0.093971,
     "end_time": "2022-06-02T08:28:19.553582",
     "exception": false,
     "start_time": "2022-06-02T08:28:19.459611",
     "status": "completed"
    },
    "tags": []
   },
   "source": [
    "# Correlations"
   ]
  },
  {
   "cell_type": "markdown",
   "id": "20f9733f",
   "metadata": {
    "papermill": {
     "duration": 0.093937,
     "end_time": "2022-06-02T08:28:19.734966",
     "exception": false,
     "start_time": "2022-06-02T08:28:19.641029",
     "status": "completed"
    },
    "tags": []
   },
   "source": [
    "Encoding microorganisms feature first so that it can easily be included in correlation maps. 0 will be the value for 'Not Ulothrix' and 1 is for 'Ulothrix'"
   ]
  },
  {
   "cell_type": "code",
   "execution_count": 19,
   "id": "2377af6d",
   "metadata": {
    "execution": {
     "iopub.execute_input": "2022-06-02T08:28:19.914408Z",
     "iopub.status.busy": "2022-06-02T08:28:19.913974Z",
     "iopub.status.idle": "2022-06-02T08:28:19.921280Z",
     "shell.execute_reply": "2022-06-02T08:28:19.920474Z"
    },
    "papermill": {
     "duration": 0.107807,
     "end_time": "2022-06-02T08:28:19.923397",
     "exception": false,
     "start_time": "2022-06-02T08:28:19.815590",
     "status": "completed"
    },
    "tags": []
   },
   "outputs": [],
   "source": [
    "encoder = LabelEncoder()\n",
    "data['microorganisms'] = encoder.fit_transform(data['microorganisms'])"
   ]
  },
  {
   "cell_type": "markdown",
   "id": "256e871d",
   "metadata": {
    "papermill": {
     "duration": 0.082759,
     "end_time": "2022-06-02T08:28:20.090222",
     "exception": false,
     "start_time": "2022-06-02T08:28:20.007463",
     "status": "completed"
    },
    "tags": []
   },
   "source": [
    "Variable for features to remove."
   ]
  },
  {
   "cell_type": "code",
   "execution_count": 20,
   "id": "1797b866",
   "metadata": {
    "execution": {
     "iopub.execute_input": "2022-06-02T08:28:20.257389Z",
     "iopub.status.busy": "2022-06-02T08:28:20.256647Z",
     "iopub.status.idle": "2022-06-02T08:28:20.261299Z",
     "shell.execute_reply": "2022-06-02T08:28:20.260316Z"
    },
    "papermill": {
     "duration": 0.091069,
     "end_time": "2022-06-02T08:28:20.263704",
     "exception": false,
     "start_time": "2022-06-02T08:28:20.172635",
     "status": "completed"
    },
    "tags": []
   },
   "outputs": [],
   "source": [
    "to_remove = []"
   ]
  },
  {
   "cell_type": "markdown",
   "id": "c7318615",
   "metadata": {
    "papermill": {
     "duration": 0.090625,
     "end_time": "2022-06-02T08:28:20.438906",
     "exception": false,
     "start_time": "2022-06-02T08:28:20.348281",
     "status": "completed"
    },
    "tags": []
   },
   "source": [
    "# Bounding Box"
   ]
  },
  {
   "cell_type": "code",
   "execution_count": 21,
   "id": "77003c4e",
   "metadata": {
    "execution": {
     "iopub.execute_input": "2022-06-02T08:28:20.610330Z",
     "iopub.status.busy": "2022-06-02T08:28:20.609706Z",
     "iopub.status.idle": "2022-06-02T08:28:20.943861Z",
     "shell.execute_reply": "2022-06-02T08:28:20.942967Z"
    },
    "papermill": {
     "duration": 0.421673,
     "end_time": "2022-06-02T08:28:20.946103",
     "exception": false,
     "start_time": "2022-06-02T08:28:20.524430",
     "status": "completed"
    },
    "tags": []
   },
   "outputs": [
    {
     "data": {
      "image/png": "[encoded data removed]",
      "text/plain": [
       "<Figure size 720x360 with 2 Axes>"
      ]
     },
     "metadata": {
      "needs_background": "light"
     },
     "output_type": "display_data"
    }
   ],
   "source": [
    "plt.figure(figsize=(10, 5))\n",
    "sns.heatmap(data[['BoundingBox1','BoundingBox2','BoundingBox3','BoundingBox4', 'microorganisms']].corr(), annot=True, cmap=\"YlGnBu\")\n",
    "plt.show()"
   ]
  },
  {
   "cell_type": "markdown",
   "id": "cedb44ce",
   "metadata": {
    "papermill": {
     "duration": 0.084545,
     "end_time": "2022-06-02T08:28:21.118081",
     "exception": false,
     "start_time": "2022-06-02T08:28:21.033536",
     "status": "completed"
    },
    "tags": []
   },
   "source": [
    "Bounding Box does not have much correlation to microorganisms. Consider removing these features."
   ]
  },
  {
   "cell_type": "code",
   "execution_count": 22,
   "id": "a86ac98c",
   "metadata": {
    "execution": {
     "iopub.execute_input": "2022-06-02T08:28:21.279791Z",
     "iopub.status.busy": "2022-06-02T08:28:21.279498Z",
     "iopub.status.idle": "2022-06-02T08:28:21.283574Z",
     "shell.execute_reply": "2022-06-02T08:28:21.282716Z"
    },
    "papermill": {
     "duration": 0.087187,
     "end_time": "2022-06-02T08:28:21.285520",
     "exception": false,
     "start_time": "2022-06-02T08:28:21.198333",
     "status": "completed"
    },
    "tags": []
   },
   "outputs": [],
   "source": [
    "for bb in ['BoundingBox1','BoundingBox2','BoundingBox3','BoundingBox4']:\n",
    "  to_remove.append(bb)"
   ]
  },
  {
   "cell_type": "markdown",
   "id": "bde35b0d",
   "metadata": {
    "papermill": {
     "duration": 0.080688,
     "end_time": "2022-06-02T08:28:21.446273",
     "exception": false,
     "start_time": "2022-06-02T08:28:21.365585",
     "status": "completed"
    },
    "tags": []
   },
   "source": [
    "# Convex Hull"
   ]
  },
  {
   "cell_type": "code",
   "execution_count": 23,
   "id": "bb5063a5",
   "metadata": {
    "execution": {
     "iopub.execute_input": "2022-06-02T08:28:21.610316Z",
     "iopub.status.busy": "2022-06-02T08:28:21.609757Z",
     "iopub.status.idle": "2022-06-02T08:28:21.919610Z",
     "shell.execute_reply": "2022-06-02T08:28:21.918693Z"
    },
    "papermill": {
     "duration": 0.393747,
     "end_time": "2022-06-02T08:28:21.921764",
     "exception": false,
     "start_time": "2022-06-02T08:28:21.528017",
     "status": "completed"
    },
    "tags": []
   },
   "outputs": [
    {
     "data": {
      "image/png": "[encoded data removed]",
      "text/plain": [
       "<Figure size 720x360 with 2 Axes>"
      ]
     },
     "metadata": {
      "needs_background": "light"
     },
     "output_type": "display_data"
    }
   ],
   "source": [
    "plt.figure(figsize=(10, 5))\n",
    "sns.heatmap(data[['ConvexHull1','ConvexHull2','ConvexHull3','ConvexHull4', 'microorganisms']].corr(), annot=True, cmap=\"YlGnBu\")\n",
    "plt.show()"
   ]
  },
  {
   "cell_type": "markdown",
   "id": "dfb8d4e1",
   "metadata": {
    "papermill": {
     "duration": 0.082349,
     "end_time": "2022-06-02T08:28:22.089298",
     "exception": false,
     "start_time": "2022-06-02T08:28:22.006949",
     "status": "completed"
    },
    "tags": []
   },
   "source": [
    "Convex Hull does not have much correlation to microorganisms. Consider removing these features."
   ]
  },
  {
   "cell_type": "code",
   "execution_count": 24,
   "id": "8a041485",
   "metadata": {
    "execution": {
     "iopub.execute_input": "2022-06-02T08:28:22.253326Z",
     "iopub.status.busy": "2022-06-02T08:28:22.252946Z",
     "iopub.status.idle": "2022-06-02T08:28:22.257522Z",
     "shell.execute_reply": "2022-06-02T08:28:22.256594Z"
    },
    "papermill": {
     "duration": 0.088856,
     "end_time": "2022-06-02T08:28:22.259504",
     "exception": false,
     "start_time": "2022-06-02T08:28:22.170648",
     "status": "completed"
    },
    "tags": []
   },
   "outputs": [],
   "source": [
    "for ch in ['ConvexHull1','ConvexHull2','ConvexHull3','ConvexHull4']:\n",
    "  to_remove.append(ch)"
   ]
  },
  {
   "cell_type": "markdown",
   "id": "6521c247",
   "metadata": {
    "papermill": {
     "duration": 0.08138,
     "end_time": "2022-06-02T08:28:22.423175",
     "exception": false,
     "start_time": "2022-06-02T08:28:22.341795",
     "status": "completed"
    },
    "tags": []
   },
   "source": [
    "# Others"
   ]
  },
  {
   "cell_type": "code",
   "execution_count": 25,
   "id": "f97aac10",
   "metadata": {
    "execution": {
     "iopub.execute_input": "2022-06-02T08:28:22.589898Z",
     "iopub.status.busy": "2022-06-02T08:28:22.588817Z",
     "iopub.status.idle": "2022-06-02T08:28:28.741143Z",
     "shell.execute_reply": "2022-06-02T08:28:28.740025Z"
    },
    "papermill": {
     "duration": 6.239303,
     "end_time": "2022-06-02T08:28:28.745168",
     "exception": false,
     "start_time": "2022-06-02T08:28:22.505865",
     "status": "completed"
    },
    "tags": []
   },
   "outputs": [
    {
     "data": {
      "image/png": "[encoded data removed]",
      "text/plain": [
       "<Figure size 1800x10800 with 16 Axes>"
      ]
     },
     "metadata": {
      "needs_background": "light"
     },
     "output_type": "display_data"
    }
   ],
   "source": [
    "feats=list(data.drop(['BoundingBox1','BoundingBox2','BoundingBox3','BoundingBox4','ConvexHull1','ConvexHull2','ConvexHull3','ConvexHull4','microorganisms'], axis=1).columns)\n",
    "\n",
    "# Plot features\n",
    "fig=plt.figure(figsize=(25,150))\n",
    "for i, var_name in enumerate(feats):\n",
    "    ax=fig.add_subplot(len(feats),2,2*i+1)\n",
    "    sns.histplot(data=data, x=var_name, axes=ax, bins=30, kde=False, hue='microorganisms')\n",
    "    ax.set_title(var_name)\n",
    "\n",
    "fig.tight_layout()  # Improves appearance a bit\n",
    "plt.show()"
   ]
  },
  {
   "cell_type": "markdown",
   "id": "3c954f41",
   "metadata": {
    "papermill": {
     "duration": 0.086747,
     "end_time": "2022-06-02T08:28:28.918990",
     "exception": false,
     "start_time": "2022-06-02T08:28:28.832243",
     "status": "completed"
    },
    "tags": []
   },
   "source": [
    "The following features does not show clear distinctions between Ulothrix and Not Ulothrix.\n",
    "\n",
    "- Extrema\n",
    "- FilledArea\n",
    "- Orientation\n",
    "- EulerNumber\n",
    "- MajorAxisLength\n",
    "- MinorAxisLength\n",
    "- Perimeter\n",
    "- ConvexArea\n",
    "- Centroid1\n",
    "- Centroid2\n",
    "- Area\n",
    "\n",
    "Consider removing these features"
   ]
  },
  {
   "cell_type": "code",
   "execution_count": 26,
   "id": "8690215a",
   "metadata": {
    "execution": {
     "iopub.execute_input": "2022-06-02T08:28:29.095678Z",
     "iopub.status.busy": "2022-06-02T08:28:29.095204Z",
     "iopub.status.idle": "2022-06-02T08:28:29.099509Z",
     "shell.execute_reply": "2022-06-02T08:28:29.098653Z"
    },
    "papermill": {
     "duration": 0.096239,
     "end_time": "2022-06-02T08:28:29.102076",
     "exception": false,
     "start_time": "2022-06-02T08:28:29.005837",
     "status": "completed"
    },
    "tags": []
   },
   "outputs": [],
   "source": [
    "for others in ['Extrema', 'FilledArea', 'Orientation', 'EulerNumber', 'MajorAxisLength', 'MinorAxisLength', 'Perimeter', 'ConvexArea', 'Centroid1', 'Centroid2', 'Area']:\n",
    "  to_remove.append(others)"
   ]
  },
  {
   "cell_type": "markdown",
   "id": "a779c8b8",
   "metadata": {
    "papermill": {
     "duration": 0.088876,
     "end_time": "2022-06-02T08:28:29.281978",
     "exception": false,
     "start_time": "2022-06-02T08:28:29.193102",
     "status": "completed"
    },
    "tags": []
   },
   "source": [
    "# Exporting the new dataset"
   ]
  },
  {
   "cell_type": "code",
   "execution_count": 27,
   "id": "2df6cd42",
   "metadata": {
    "execution": {
     "iopub.execute_input": "2022-06-02T08:28:29.461221Z",
     "iopub.status.busy": "2022-06-02T08:28:29.460729Z",
     "iopub.status.idle": "2022-06-02T08:28:29.486197Z",
     "shell.execute_reply": "2022-06-02T08:28:29.485423Z"
    },
    "papermill": {
     "duration": 0.118044,
     "end_time": "2022-06-02T08:28:29.488595",
     "exception": false,
     "start_time": "2022-06-02T08:28:29.370551",
     "status": "completed"
    },
    "tags": []
   },
   "outputs": [],
   "source": [
    "to_export = data.drop(to_remove, axis=1) #removal of features\n",
    "to_export.to_csv('new_microbes.csv', index=False) # exporting"
   ]
  },
  {
   "cell_type": "markdown",
   "id": "540ea050",
   "metadata": {
    "papermill": {
     "duration": 0.086897,
     "end_time": "2022-06-02T08:28:29.662983",
     "exception": false,
     "start_time": "2022-06-02T08:28:29.576086",
     "status": "completed"
    },
    "tags": []
   },
   "source": [
    "# Section 2: Modeling"
   ]
  },
  {
   "cell_type": "markdown",
   "id": "c4373f07",
   "metadata": {
    "papermill": {
     "duration": 0.088008,
     "end_time": "2022-06-02T08:28:29.839207",
     "exception": false,
     "start_time": "2022-06-02T08:28:29.751199",
     "status": "completed"
    },
    "tags": []
   },
   "source": [
    "> **This section covers the creation of models and hyperparameter tuning.**"
   ]
  },
  {
   "cell_type": "markdown",
   "id": "f139157d",
   "metadata": {
    "papermill": {
     "duration": 0.08889,
     "end_time": "2022-06-02T08:28:30.015536",
     "exception": false,
     "start_time": "2022-06-02T08:28:29.926646",
     "status": "completed"
    },
    "tags": []
   },
   "source": [
    "# Importing new dataset"
   ]
  },
  {
   "cell_type": "code",
   "execution_count": 28,
   "id": "38936409",
   "metadata": {
    "execution": {
     "iopub.execute_input": "2022-06-02T08:28:30.195320Z",
     "iopub.status.busy": "2022-06-02T08:28:30.194809Z",
     "iopub.status.idle": "2022-06-02T08:28:30.212404Z",
     "shell.execute_reply": "2022-06-02T08:28:30.211520Z"
    },
    "papermill": {
     "duration": 0.111929,
     "end_time": "2022-06-02T08:28:30.214554",
     "exception": false,
     "start_time": "2022-06-02T08:28:30.102625",
     "status": "completed"
    },
    "tags": []
   },
   "outputs": [
    {
     "data": {
      "text/html": [
       "<div>\n",
       "<style scoped>\n",
       "    .dataframe tbody tr th:only-of-type {\n",
       "        vertical-align: middle;\n",
       "    }\n",
       "\n",
       "    .dataframe tbody tr th {\n",
       "        vertical-align: top;\n",
       "    }\n",
       "\n",
       "    .dataframe thead th {\n",
       "        text-align: right;\n",
       "    }\n",
       "</style>\n",
       "<table border=\"1\" class=\"dataframe\">\n",
       "  <thead>\n",
       "    <tr style=\"text-align: right;\">\n",
       "      <th></th>\n",
       "      <th>Solidity</th>\n",
       "      <th>Eccentricity</th>\n",
       "      <th>EquivDiameter</th>\n",
       "      <th>Extent</th>\n",
       "      <th>raddi</th>\n",
       "      <th>microorganisms</th>\n",
       "    </tr>\n",
       "  </thead>\n",
       "  <tbody>\n",
       "    <tr>\n",
       "      <th>0</th>\n",
       "      <td>6.06</td>\n",
       "      <td>13.2</td>\n",
       "      <td>7.42</td>\n",
       "      <td>3.85</td>\n",
       "      <td>10.30</td>\n",
       "      <td>0</td>\n",
       "    </tr>\n",
       "    <tr>\n",
       "      <th>1</th>\n",
       "      <td>8.43</td>\n",
       "      <td>22.5</td>\n",
       "      <td>2.25</td>\n",
       "      <td>3.13</td>\n",
       "      <td>3.50</td>\n",
       "      <td>0</td>\n",
       "    </tr>\n",
       "    <tr>\n",
       "      <th>2</th>\n",
       "      <td>9.85</td>\n",
       "      <td>22.6</td>\n",
       "      <td>4.58</td>\n",
       "      <td>4.32</td>\n",
       "      <td>4.30</td>\n",
       "      <td>0</td>\n",
       "    </tr>\n",
       "    <tr>\n",
       "      <th>3</th>\n",
       "      <td>11.00</td>\n",
       "      <td>20.3</td>\n",
       "      <td>1.19</td>\n",
       "      <td>6.84</td>\n",
       "      <td>1.65</td>\n",
       "      <td>0</td>\n",
       "    </tr>\n",
       "    <tr>\n",
       "      <th>4</th>\n",
       "      <td>16.60</td>\n",
       "      <td>15.6</td>\n",
       "      <td>3.36</td>\n",
       "      <td>12.00</td>\n",
       "      <td>4.18</td>\n",
       "      <td>0</td>\n",
       "    </tr>\n",
       "  </tbody>\n",
       "</table>\n",
       "</div>"
      ],
      "text/plain": [
       "   Solidity  Eccentricity  EquivDiameter  Extent  raddi  microorganisms\n",
       "0      6.06          13.2           7.42    3.85  10.30               0\n",
       "1      8.43          22.5           2.25    3.13   3.50               0\n",
       "2      9.85          22.6           4.58    4.32   4.30               0\n",
       "3     11.00          20.3           1.19    6.84   1.65               0\n",
       "4     16.60          15.6           3.36   12.00   4.18               0"
      ]
     },
     "execution_count": 28,
     "metadata": {},
     "output_type": "execute_result"
    }
   ],
   "source": [
    "new_data = pd.read_csv('new_microbes.csv')\n",
    "new_data.head()"
   ]
  },
  {
   "cell_type": "markdown",
   "id": "950ec516",
   "metadata": {
    "papermill": {
     "duration": 0.101094,
     "end_time": "2022-06-02T08:28:30.403569",
     "exception": false,
     "start_time": "2022-06-02T08:28:30.302475",
     "status": "completed"
    },
    "tags": []
   },
   "source": [
    "# Importing Libraries"
   ]
  },
  {
   "cell_type": "code",
   "execution_count": 29,
   "id": "f8035538",
   "metadata": {
    "execution": {
     "iopub.execute_input": "2022-06-02T08:28:30.585836Z",
     "iopub.status.busy": "2022-06-02T08:28:30.585397Z",
     "iopub.status.idle": "2022-06-02T08:28:30.713844Z",
     "shell.execute_reply": "2022-06-02T08:28:30.712869Z"
    },
    "papermill": {
     "duration": 0.21978,
     "end_time": "2022-06-02T08:28:30.716369",
     "exception": false,
     "start_time": "2022-06-02T08:28:30.496589",
     "status": "completed"
    },
    "tags": []
   },
   "outputs": [],
   "source": [
    "from sklearn.model_selection import train_test_split\n",
    "from sklearn.ensemble import RandomForestClassifier\n",
    "from sklearn.ensemble import StackingClassifier\n",
    "from sklearn.linear_model import LogisticRegression\n",
    "from xgboost.sklearn import XGBClassifier\n",
    "from sklearn.model_selection import RandomizedSearchCV"
   ]
  },
  {
   "cell_type": "markdown",
   "id": "138a7fcf",
   "metadata": {
    "papermill": {
     "duration": 0.0887,
     "end_time": "2022-06-02T08:28:30.896055",
     "exception": false,
     "start_time": "2022-06-02T08:28:30.807355",
     "status": "completed"
    },
    "tags": []
   },
   "source": [
    "The task is have an accuracy of at least 80% by constructing an ensemble model using 2 base classifiers and 1 stacked model."
   ]
  },
  {
   "cell_type": "markdown",
   "id": "d422f40d",
   "metadata": {
    "papermill": {
     "duration": 0.091516,
     "end_time": "2022-06-02T08:28:31.076926",
     "exception": false,
     "start_time": "2022-06-02T08:28:30.985410",
     "status": "completed"
    },
    "tags": []
   },
   "source": [
    "# Splitting the dataset"
   ]
  },
  {
   "cell_type": "code",
   "execution_count": 30,
   "id": "93a9a031",
   "metadata": {
    "execution": {
     "iopub.execute_input": "2022-06-02T08:28:31.254861Z",
     "iopub.status.busy": "2022-06-02T08:28:31.254598Z",
     "iopub.status.idle": "2022-06-02T08:28:31.263084Z",
     "shell.execute_reply": "2022-06-02T08:28:31.262161Z"
    },
    "papermill": {
     "duration": 0.099809,
     "end_time": "2022-06-02T08:28:31.265063",
     "exception": false,
     "start_time": "2022-06-02T08:28:31.165254",
     "status": "completed"
    },
    "tags": []
   },
   "outputs": [],
   "source": [
    "target = 'microorganisms'\n",
    "y = new_data[target]\n",
    "X = new_data.drop([target], axis=1)\n",
    "X_train, X_test, y_train, y_test = train_test_split(X, y, test_size=0.10, random_state=42)"
   ]
  },
  {
   "cell_type": "markdown",
   "id": "97495cd0",
   "metadata": {
    "papermill": {
     "duration": 0.087409,
     "end_time": "2022-06-02T08:28:31.440370",
     "exception": false,
     "start_time": "2022-06-02T08:28:31.352961",
     "status": "completed"
    },
    "tags": []
   },
   "source": [
    "# RandomForestClassifier"
   ]
  },
  {
   "cell_type": "markdown",
   "id": "29b54d32",
   "metadata": {
    "papermill": {
     "duration": 0.088091,
     "end_time": "2022-06-02T08:28:31.616909",
     "exception": false,
     "start_time": "2022-06-02T08:28:31.528818",
     "status": "completed"
    },
    "tags": []
   },
   "source": [
    "**Hyperparameter Tuning for RandomForestClassifier**"
   ]
  },
  {
   "cell_type": "code",
   "execution_count": 31,
   "id": "f0fc9a70",
   "metadata": {
    "execution": {
     "iopub.execute_input": "2022-06-02T08:28:31.795643Z",
     "iopub.status.busy": "2022-06-02T08:28:31.794930Z",
     "iopub.status.idle": "2022-06-02T08:32:11.732280Z",
     "shell.execute_reply": "2022-06-02T08:32:11.731409Z"
    },
    "papermill": {
     "duration": 220.119465,
     "end_time": "2022-06-02T08:32:11.823869",
     "exception": false,
     "start_time": "2022-06-02T08:28:31.704404",
     "status": "completed"
    },
    "tags": []
   },
   "outputs": [
    {
     "name": "stdout",
     "output_type": "stream",
     "text": [
      "Tuned Decision RFParameters: {'n_estimators': 1000, 'max_features': 'sqrt', 'max_depth': 250, 'criterion': 'entropy'}\n",
      "Best score is 0.8173764906303237\n"
     ]
    }
   ],
   "source": [
    "rf_params = {'criterion': ['entropy'],\n",
    "             'max_depth': (250, 500, 750, 1000),\n",
    "             'n_estimators': (250, 500, 750, 1000),\n",
    "             'max_features': ['sqrt']\n",
    "}\n",
    "\n",
    "rf_base = RandomForestClassifier(**rf_params)\n",
    "rf_cv = RandomizedSearchCV(rf_base, rf_params, cv = 5)\n",
    "rf_cv.fit(X_train, y_train)\n",
    "\n",
    "print(\"Tuned Decision RFParameters: {}\".format(rf_cv.best_params_))\n",
    "print(\"Best score is {}\".format(rf_cv.best_score_))"
   ]
  },
  {
   "cell_type": "markdown",
   "id": "f8fc054c",
   "metadata": {
    "papermill": {
     "duration": 0.090089,
     "end_time": "2022-06-02T08:32:12.003315",
     "exception": false,
     "start_time": "2022-06-02T08:32:11.913226",
     "status": "completed"
    },
    "tags": []
   },
   "source": [
    "**Random Forest Classifier modeling**"
   ]
  },
  {
   "cell_type": "code",
   "execution_count": 32,
   "id": "681b54c7",
   "metadata": {
    "execution": {
     "iopub.execute_input": "2022-06-02T08:32:12.184962Z",
     "iopub.status.busy": "2022-06-02T08:32:12.184671Z",
     "iopub.status.idle": "2022-06-02T08:32:17.515950Z",
     "shell.execute_reply": "2022-06-02T08:32:17.515225Z"
    },
    "papermill": {
     "duration": 5.423868,
     "end_time": "2022-06-02T08:32:17.518629",
     "exception": false,
     "start_time": "2022-06-02T08:32:12.094761",
     "status": "completed"
    },
    "tags": []
   },
   "outputs": [
    {
     "name": "stdout",
     "output_type": "stream",
     "text": [
      "Model performance:\n",
      "0.7828746177370031\n"
     ]
    }
   ],
   "source": [
    "rf_params = {'criterion': 'entropy',\n",
    "             'max_depth': 500,\n",
    "             'n_estimators': 750,\n",
    "             'max_features': 'sqrt'\n",
    "}\n",
    "rf = RandomForestClassifier(**rf_params) # Define classifier\n",
    "rf.fit(X_train, y_train) # Train model\n",
    "print('Model performance:')\n",
    "print(rf.score(X_test, y_test))"
   ]
  },
  {
   "cell_type": "markdown",
   "id": "1d53353a",
   "metadata": {
    "papermill": {
     "duration": 0.092472,
     "end_time": "2022-06-02T08:32:17.703925",
     "exception": false,
     "start_time": "2022-06-02T08:32:17.611453",
     "status": "completed"
    },
    "tags": []
   },
   "source": [
    "# XGBoost"
   ]
  },
  {
   "cell_type": "markdown",
   "id": "bb4113ca",
   "metadata": {
    "papermill": {
     "duration": 0.091992,
     "end_time": "2022-06-02T08:32:17.884778",
     "exception": false,
     "start_time": "2022-06-02T08:32:17.792786",
     "status": "completed"
    },
    "tags": []
   },
   "source": [
    "**Hyperparameter tuning for XGBoost**"
   ]
  },
  {
   "cell_type": "code",
   "execution_count": 33,
   "id": "53187793",
   "metadata": {
    "execution": {
     "iopub.execute_input": "2022-06-02T08:32:18.065991Z",
     "iopub.status.busy": "2022-06-02T08:32:18.065496Z",
     "iopub.status.idle": "2022-06-02T08:34:01.903860Z",
     "shell.execute_reply": "2022-06-02T08:34:01.903134Z"
    },
    "papermill": {
     "duration": 104.016484,
     "end_time": "2022-06-02T08:34:01.991731",
     "exception": false,
     "start_time": "2022-06-02T08:32:17.975247",
     "status": "completed"
    },
    "tags": []
   },
   "outputs": [
    {
     "name": "stdout",
     "output_type": "stream",
     "text": [
      "Tuned Decision XGB Parameters: {'objective': 'binary:logistic', 'n_estimators': 1000, 'max_depth': 2, 'learning_rate': 0.25}\n",
      "Best score is 0.8773424190800683\n"
     ]
    }
   ],
   "source": [
    "xgb_params = {'objective': ['binary:logistic'],\n",
    "              'max_depth': (1, 2),\n",
    "              'learning_rate': (0.25, 0.5, 0.75, 0.8, 1),\n",
    "              'n_estimators': (500, 1000)\n",
    "}\n",
    "\n",
    "xgb_base = XGBClassifier(**xgb_params)\n",
    "xgb_cv = RandomizedSearchCV(xgb_base, xgb_params, cv = 5)\n",
    "xgb_cv.fit(X_train, y_train)\n",
    "\n",
    "print(\"Tuned Decision XGB Parameters: {}\".format(xgb_cv.best_params_))\n",
    "print(\"Best score is {}\".format(xgb_cv.best_score_))"
   ]
  },
  {
   "cell_type": "markdown",
   "id": "efb6b2ce",
   "metadata": {
    "papermill": {
     "duration": 0.090319,
     "end_time": "2022-06-02T08:34:02.171651",
     "exception": false,
     "start_time": "2022-06-02T08:34:02.081332",
     "status": "completed"
    },
    "tags": []
   },
   "source": [
    "**XGBoost modeling**"
   ]
  },
  {
   "cell_type": "code",
   "execution_count": 34,
   "id": "7d217223",
   "metadata": {
    "execution": {
     "iopub.execute_input": "2022-06-02T08:34:02.351871Z",
     "iopub.status.busy": "2022-06-02T08:34:02.351568Z",
     "iopub.status.idle": "2022-06-02T08:34:04.949803Z",
     "shell.execute_reply": "2022-06-02T08:34:04.948519Z"
    },
    "papermill": {
     "duration": 2.692646,
     "end_time": "2022-06-02T08:34:04.953554",
     "exception": false,
     "start_time": "2022-06-02T08:34:02.260908",
     "status": "completed"
    },
    "tags": []
   },
   "outputs": [
    {
     "name": "stdout",
     "output_type": "stream",
     "text": [
      "Model performance:\n",
      "0.8899082568807339\n"
     ]
    }
   ],
   "source": [
    "xgb_params = {'objective': 'binary:logistic',\n",
    "              'max_depth': 2,\n",
    "              'learning_rate': 0.8,\n",
    "              'n_estimators': 1000\n",
    "}\n",
    "\n",
    "xgb = XGBClassifier(**xgb_params)\n",
    "xgb.fit(X_train, y_train) # Train model\n",
    "print('Model performance:')\n",
    "print(xgb.score(X_test, y_test))"
   ]
  },
  {
   "cell_type": "markdown",
   "id": "6d6d3397",
   "metadata": {
    "papermill": {
     "duration": 0.089227,
     "end_time": "2022-06-02T08:34:05.135249",
     "exception": false,
     "start_time": "2022-06-02T08:34:05.046022",
     "status": "completed"
    },
    "tags": []
   },
   "source": [
    "# Stacked Model"
   ]
  },
  {
   "cell_type": "code",
   "execution_count": 35,
   "id": "6a001953",
   "metadata": {
    "execution": {
     "iopub.execute_input": "2022-06-02T08:34:05.318448Z",
     "iopub.status.busy": "2022-06-02T08:34:05.318159Z",
     "iopub.status.idle": "2022-06-02T08:34:49.974599Z",
     "shell.execute_reply": "2022-06-02T08:34:49.973973Z"
    },
    "papermill": {
     "duration": 44.84458,
     "end_time": "2022-06-02T08:34:50.070652",
     "exception": false,
     "start_time": "2022-06-02T08:34:05.226072",
     "status": "completed"
    },
    "tags": []
   },
   "outputs": [
    {
     "name": "stdout",
     "output_type": "stream",
     "text": [
      "Model performance:\n",
      "0.8899082568807339\n"
     ]
    }
   ],
   "source": [
    "estimator_list = [\n",
    "    ('rf',rf),\n",
    "    ('xgb',xgb)\n",
    "    ]\n",
    "\n",
    "# Build stack model\n",
    "stack_model = StackingClassifier(\n",
    "    estimators=estimator_list, final_estimator=LogisticRegression()\n",
    ")\n",
    "\n",
    "# Train stacked model\n",
    "stack_model.fit(X_train, y_train)\n",
    "\n",
    "print('Model performance:')\n",
    "print(stack_model.score(X_test, y_test))"
   ]
  },
  {
   "cell_type": "markdown",
   "id": "5878fdb9",
   "metadata": {
    "papermill": {
     "duration": 0.089007,
     "end_time": "2022-06-02T08:34:50.252028",
     "exception": false,
     "start_time": "2022-06-02T08:34:50.163021",
     "status": "completed"
    },
    "tags": []
   },
   "source": [
    "# Model Evaluation"
   ]
  },
  {
   "cell_type": "markdown",
   "id": "17470570",
   "metadata": {
    "papermill": {
     "duration": 0.08919,
     "end_time": "2022-06-02T08:34:50.432543",
     "exception": false,
     "start_time": "2022-06-02T08:34:50.343353",
     "status": "completed"
    },
    "tags": []
   },
   "source": [
    "I will use a confusion matrix. Confusion Matrix helps us to evaluate the performance of our classification model."
   ]
  },
  {
   "cell_type": "code",
   "execution_count": 36,
   "id": "f533b123",
   "metadata": {
    "execution": {
     "iopub.execute_input": "2022-06-02T08:34:50.612635Z",
     "iopub.status.busy": "2022-06-02T08:34:50.612362Z",
     "iopub.status.idle": "2022-06-02T08:34:50.772689Z",
     "shell.execute_reply": "2022-06-02T08:34:50.772018Z"
    },
    "papermill": {
     "duration": 0.252915,
     "end_time": "2022-06-02T08:34:50.775257",
     "exception": false,
     "start_time": "2022-06-02T08:34:50.522342",
     "status": "completed"
    },
    "tags": []
   },
   "outputs": [
    {
     "name": "stdout",
     "output_type": "stream",
     "text": [
      "[[155  27]\n",
      " [  9 136]]\n"
     ]
    }
   ],
   "source": [
    "from sklearn import metrics\n",
    "y_pred = stack_model.predict(X_test)\n",
    "cf_matrix = metrics.confusion_matrix(y_test, y_pred)\n",
    "print(cf_matrix)"
   ]
  },
  {
   "cell_type": "code",
   "execution_count": 37,
   "id": "497fe04e",
   "metadata": {
    "execution": {
     "iopub.execute_input": "2022-06-02T08:34:50.957614Z",
     "iopub.status.busy": "2022-06-02T08:34:50.957366Z",
     "iopub.status.idle": "2022-06-02T08:34:51.176830Z",
     "shell.execute_reply": "2022-06-02T08:34:51.175868Z"
    },
    "papermill": {
     "duration": 0.312166,
     "end_time": "2022-06-02T08:34:51.179032",
     "exception": false,
     "start_time": "2022-06-02T08:34:50.866866",
     "status": "completed"
    },
    "tags": []
   },
   "outputs": [
    {
     "data": {
      "text/plain": [
       "<AxesSubplot:>"
      ]
     },
     "execution_count": 37,
     "metadata": {},
     "output_type": "execute_result"
    },
    {
     "data": {
      "image/png": "[encoded data removed]",
      "text/plain": [
       "<Figure size 432x288 with 2 Axes>"
      ]
     },
     "metadata": {
      "needs_background": "light"
     },
     "output_type": "display_data"
    }
   ],
   "source": [
    "sns.heatmap(cf_matrix, annot=True)"
   ]
  },
  {
   "cell_type": "markdown",
   "id": "f30843e2",
   "metadata": {
    "papermill": {
     "duration": 0.090977,
     "end_time": "2022-06-02T08:34:51.361586",
     "exception": false,
     "start_time": "2022-06-02T08:34:51.270609",
     "status": "completed"
    },
    "tags": []
   },
   "source": [
    "# Export the Model"
   ]
  },
  {
   "cell_type": "markdown",
   "id": "f7356e91",
   "metadata": {
    "papermill": {
     "duration": 0.090794,
     "end_time": "2022-06-02T08:34:51.543881",
     "exception": false,
     "start_time": "2022-06-02T08:34:51.453087",
     "status": "completed"
    },
    "tags": []
   },
   "source": [
    "The code below is commented because it may not be important to others."
   ]
  },
  {
   "cell_type": "code",
   "execution_count": 38,
   "id": "d86b5455",
   "metadata": {
    "execution": {
     "iopub.execute_input": "2022-06-02T08:34:51.728848Z",
     "iopub.status.busy": "2022-06-02T08:34:51.728027Z",
     "iopub.status.idle": "2022-06-02T08:34:51.733875Z",
     "shell.execute_reply": "2022-06-02T08:34:51.732970Z"
    },
    "papermill": {
     "duration": 0.100966,
     "end_time": "2022-06-02T08:34:51.735836",
     "exception": false,
     "start_time": "2022-06-02T08:34:51.634870",
     "status": "completed"
    },
    "tags": []
   },
   "outputs": [
    {
     "data": {
      "text/plain": [
       "'\\nimport pickle\\nfile_name = \\'stacked_model.pkl\\'\\npickle.dump(stack_model, open(file_name, \\'wb\\'))\\nprint(\"Stacked Model Saved as \" + file_name)\\n'"
      ]
     },
     "execution_count": 38,
     "metadata": {},
     "output_type": "execute_result"
    }
   ],
   "source": [
    "'''\n",
    "import pickle\n",
    "file_name = 'stacked_model.pkl'\n",
    "pickle.dump(stack_model, open(file_name, 'wb'))\n",
    "print(\"Stacked Model Saved as \" + file_name)\n",
    "'''"
   ]
  }
 ],
 "metadata": {
  "kernelspec": {
   "display_name": "Python 3",
   "language": "python",
   "name": "python3"
  },
  "language_info": {
   "codemirror_mode": {
    "name": "ipython",
    "version": 3
   },
   "file_extension": ".py",
   "mimetype": "text/x-python",
   "name": "python",
   "nbconvert_exporter": "python",
   "pygments_lexer": "ipython3",
   "version": "3.7.12"
  },
  "papermill": {
   "default_parameters": {},
   "duration": 413.233885,
   "end_time": "2022-06-02T08:34:52.854597",
   "environment_variables": {},
   "exception": null,
   "input_path": "__notebook__.ipynb",
   "output_path": "__notebook__.ipynb",
   "parameters": {},
   "start_time": "2022-06-02T08:27:59.620712",
   "version": "2.3.4"
  }
 },
 "nbformat": 4,
 "nbformat_minor": 5
}
